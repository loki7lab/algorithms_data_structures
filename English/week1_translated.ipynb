{
    "cells": [
        {
            "cell_type": "markdown",
            "id": "50e6cc67",
            "metadata": {},
            "source": [
                "**Table of contents**<a id='toc0_'></a>\n",
                "- [101 Introduction: The Age of Data] (#toc1_)\n",
                "- [102 Computational approaches to problem solving] (#toc2_)\n",
                "- [103 Turing machine model of computation](#toc3_)\n",
                "  - [Basic Concepts of Turing Machines [Operation]](#toc3_1_)\n",
                "  - [Basic definition of a Turing machine](#toc3_2_)\n",
                "  - [Understanding Turing machines using course examples](#toc3_3_)\n",
                "  - [**Indecidability of the Turing machine shutdown problem [there is no Turing machine that can determine whether any Turing machine can shutdown on all inputs]**](#toc3_4_)\n",
                "- [104 Algorithms and computational complexity] (#toc4_)\n",
                "  - [Three broad categories of problems that can be solved computationally:] (#toc4_1_)\n",
                "    - [a. WHAT [is] the question] (#toc4_1_1_)\n",
                "    - [b. WHY [why] questions] (#toc4_1_2_)\n",
                "    - [c. HOW [how to] questions] (#toc4_1_3_)\n",
                "  - [Algorithm example](#toc4_2_)\n",
                "  - [**computational complexity** and **algorithms**](#toc4_3_)\n",
                "    - [Classification of the difficulty of the problem: computational complexity] (#toc4_3_1_)\n",
                "    - [Judging the efficiency of different solutions to the same problem: algorithms](#toc4_3_2_)\n",
                "  - [Non-computable issues] (#toc4_4_)\n",
                "- [105 Pushing the limits of computing] (#toc5_)\n",
                "- [106 What is abstraction and realization] (#toc6_)\n",
                "  - [抽象Abstraction](#toc6_1_)\n",
                "    - [What is abstraction [how it works] (#toc6_1_1_)\n",
                "    - [what is realized [know how it is done (understand the principle), how to fix it, how to implement it internally] (#toc6_1_2_)\n",
                "    - [Process abstraction and programming](#toc6_1_3_)\n",
                "    - [Basic mechanisms for implementing algorithms in programming languages](#toc6_1_4_)\n",
                "- [107 Why study data structures and algorithms](#toc7_)\n",
                "  - [Abstract Data Type [ADT]](#toc7_1_)\n",
                "    - [Why study and learn about algorithms?] (#toc7_1_1_)\n",
                "- [108 Convert from C to python](#toc8_)\n",
                "- [109 Supplement to Analyzing Data Structures and Algorithms in Python: Fundamentals of Python](#toc9_)\n",
                "  - [9.1. Data] (#toc9_1_)\n",
                "    - [9.1.1 Built-in atomic data types] (#toc9_1_1_)\n",
                "    - [9.1.2 Built-in collection data types] (#toc9_1_2_)\n",
                "      - [9.1.2.1 List section] (#toc9_1_2_1_)\n",
                "      - [9.1.2.2 Collective parts] (#toc9_1_2_2_)\n",
                "      - [Dictionary section](#toc9_1_2_3_)\n",
                "    - [Iteration] (#toc9_1_3_)\n",
                "    - [hashed](#toc9_1_4_)\n",
                "  - [I/O](#toc9_2_)\n",
                "    - [Input] (#toc9_2_1_)\n",
                "    - [Format string ---- output](#toc9_2_2_)\n",
                "      - [separated by ``sep``](#toc9_2_2_1_)\n",
                "      - [Format string](#toc9_2_2_2_2_)\n",
                "  - [Control structure] (#toc9_3_)\n",
                "  - [Exception handling](#toc9_4_)\n",
                "  - [9.5 Functions] (#toc9_5_)\n",
                "  - [9.6 Python Object-Oriented Programming: Defining Classes](#toc9_6_)\n",
                "    - [9.6.1 Example: fraction class **[State & Behavior]/[Properties & Methods]**](#toc9_6_1_)\n",
                "      - [9.6.1.1 Provide the class name and a full set of method definitions](#toc9_6_1_1_)\n",
                "      - [9.6.1.2 Rewrite default implementation](#toc9_6_1_2_)\n",
                "      - [deep equal is equal in value](#toc9_6_1_3_)\n",
                "    - [9.6.2 Inheritance: Logic gates and circuits](#toc9_6_2_)\n",
                "\n",
                "<!-- vscode-jupyter-toc-config\n",
                "\tnumbering=false\n",
                "\tanchor=true\n",
                "\tflat=false\n",
                "\tminLevel=1\n",
                "\tmaxLevel=6\n",
                "\t/vscode-jupyter-toc-config -->\n",
                "<!-- THIS CELL WILL BE REPLACED ON TOC UPDATE. DO NOT WRITE YOUR TEXT IN THIS CELL -->"
            ]
        },
        {
            "cell_type": "markdown",
            "id": "1887758f",
            "metadata": {},
            "source": [
                "# <a id='toc1_'></a> [101 quotes: Data Age](#toc0_)"
            ]
        },
        {
            "cell_type": "markdown",
            "id": "1a653198",
            "metadata": {},
            "source": [
                "* :: What is the focus of data structures and algorithms: how to organize data, process it efficiently and finally be able to solve problems\n",
                "\n",
                "* :: Data is being generated in all areas: science, technology, industry, business is now data-enabled\n",
                "\n",
                "* :: Dataism: the whole world is data and its algorithms. A Brief History of the Future understands the activity of life as a stream of data transmitted and processed by algorithms, as does human intelligence and the sense of freedom."
            ]
        },
        {
            "cell_type": "markdown",
            "id": "cd11eeb1",
            "metadata": {},
            "source": [
                "# <a id='toc2_'></a>[102 Computational approach to problem solving](#toc0_)"
            ]
        },
        {
            "cell_type": "markdown",
            "id": "6390de3f",
            "metadata": {},
            "source": [
                "The focus is on identifying problems versus solving them:\n",
                "\n",
                "$\\implies$ to solve the problem by calculations\n",
                "\n",
                "\n",
                "* :: Q: What is the question?\n",
                "\n",
                "  A:** The unknown is the problem. **\n",
                "  \n",
                "* The issues can be categorized as follows:\n",
                "\n",
                "  1. **What**: Judgement-oriented and classification\n",
                "\n",
                "  2. **Why**: Cause-oriented and proof-oriented\n",
                "\n",
                "  3. **How**: Process-oriented and construction\n",
                "\n",
                "\n",
                "* :: Solutions to problems\n",
                "\n",
                "   - It doesn't have to be the right way to call it a method. For example, feelings/experience, divination/seeking God, etc.\n",
                "\n",
                "   - Rather, it's from the unknown to the known. It's the process.\n",
                "\n",
                "\n",
                "* :: Solutions obtained through the process\n",
                "\n",
                "   - Tools [limited capacity calculable]"
            ]
        },
        {
            "cell_type": "markdown",
            "id": "63bce6fc",
            "metadata": {},
            "source": [
                "**Math: the ultimate problem-solving tool**\n",
                "* :: The gradual formulation of solved problems into mathematical propositions and models over a long period of development\n",
                "* :: Attempts at mathematical (modeling/tooling) solutions to problems that have not yet been solved\n",
                "* :: Attempt to solve a portion of an unsolvable problem by using mathematical transformations to formulate and clarify the problem\n",
                "\n",
                "\n",
                "$\\implies$**Why math**?\n",
                "\n",
                "Mathematics has a clear system of symbolic representation and a tightly defined system of reasoning, but it is not a panacea. For example, when faced with a problem that cannot be explicitly formulated, or a problem that has an explicit formulation but remains unsolvable\n",
                "\n",
                "$\\implies$\n",
                "Is it possible to solve problems by mechanical means without relying purely on human thought? (Solving clearly formulated problems through calculations)\n",
                "\n",
                "$\\implies$ **In order to address the testability of the math itself**:\n",
                "\n",
                "The great mathematician Hilbert proposed the [Hilbert Plan](https://en.wikipedia.org/wiki/Hilbert%27s_program)\n",
                "\n",
                "** \"Is it possible to find a workable method based on the infinite view to determine the truth or falsity of any mathematical proposition \"**\n",
                "\n",
                "If you can find it, you can use mechanical means to solve the problem.\n",
                "\n",
                "$\\implies$ **Extracts the abstract notion of \"computation\" based on the canonical approach of the infinite viewpoint** [emphasis added].\n",
                "\n",
                "Explanation of \"**An energetic approach based on an infinite viewpoint**\"\n",
                "\n",
                "There is poverty:\n",
                "\n",
                "a. Consists of a limited number of explicitly limited instructions;\n",
                "\n",
                "b. Instruction execution terminates after a finite step;\n",
                "\n",
                "c. The instruction always yields a unique result each time it is executed;\n",
                "\n",
                "d. In principle, it can be done by a person using pen and paper alone, without relying on other aids (e.g., without occult means, relying exclusively on mechanical methods);\n",
                "\n",
                "It works:\n",
                "\n",
                "Every instruction can be mechanically and precisely executed without intelligence or inspiration\n",
                "\n",
                "\n",
                "\n",
                "* :: There is no feasible way to determine the truth of all mathematical propositions. But canonical computability becomes the basis of the theory of computation"
            ]
        },
        {
            "cell_type": "markdown",
            "id": "a81ba791",
            "metadata": {},
            "source": [
                "A mathematical model about computation to solve problems:\n",
                "* :: Modeling of recursive functions\n",
                "* :: Lambda algorithmic model\n",
                "* :: POST machine model\n",
                "* :: Turing machine model\n",
                "\n",
                "It is shown that these computational models based on the infinite view of the energetic approach are all equivalent"
            ]
        },
        {
            "cell_type": "markdown",
            "id": "709e78cb",
            "metadata": {},
            "source": [
                "$\\implies$ Although Hilbert's plan eventually proved to be unattainable, i.e., there is no \"workable method\" for determining the truth or falsity of all mathematical propositions [Gödel's incompleteness].\n",
                "\n",
                "$\\implies$ But the notion of \"computability\" underlies the theory of computation."
            ]
        },
        {
            "cell_type": "markdown",
            "id": "8b45bf26",
            "metadata": {},
            "source": [
                "# <a id='toc3_'></a>[103 Turing machine model of computation](#toc0_)\n",
                "\n",
                "* Simpler than addition, subtraction, multiplication and division ~ a Turing machine is not a machine, but a model of the mind\n",
                "* :: A Turing machine gives a theoretical model of a computer\n",
                "* :: Turing machines are discrete, exhaustive, constructive problem-solving ideas\n",
                "* :: Any problem that can be solved by an algorithmic approach can certainly be solved by a Turing machine; any problem that cannot be solved by a Turing machine cannot be solved by an algorithm"
            ]
        },
        {
            "cell_type": "markdown",
            "id": "fbed7b38",
            "metadata": {},
            "source": [
                "## <a id='toc3_1_'></a>[Basic concepts of Turing machines [operations]](#toc0_)"
            ]
        },
        {
            "cell_type": "markdown",
            "id": "6d4cbc6e",
            "metadata": {},
            "source": [
                "* :: To write or erase a symbol on a piece of paper;\n",
                "* :: Shifting attention from one position on the paper to another\n",
                "* :: At each stage, what to do next depends:\n",
                "\n",
                "      (a) A symbol at a location on the paper that the person is currently focusing on\n",
                "      (b) the current state of the person's thinking\n",
                "Ref: [Markov chain] / [Reinforcement learning]"
            ]
        },
        {
            "cell_type": "markdown",
            "id": "ead475a0",
            "metadata": {},
            "source": [
                "## <a id='toc3_2_'></a> [Basic definition of a Turing machine](#toc0_)"
            ]
        },
        {
            "cell_type": "markdown",
            "id": "f2fdf867",
            "metadata": {},
            "source": [
                "Mathematically, one can define a Turing machine as consisting of the following components\n",
                "\n",
                "* :: An infinitely long grid [paper tape] with 1 symbol per grid [memory storage section]\n",
                "\n",
                "* :: A [read/write head] that moves from side to side on the paper tape and can read and erase characters from the grid\n",
                "\n",
                "* :: A [state register] that records 1 state out of a finite number of states\n",
                "\n",
                "* :: A finite set of control [rules] (quintuples).\n",
                "  \n",
                "  ==> **in **\n",
                "  1. What was the state of affairs at the time;\n",
                "  \n",
                "  2. When reading a character\n",
                "\n",
                "\n",
                "  ==> **What to do**\n",
                "  \n",
                "  3. What characters to rewrite;\n",
                "\n",
                "  4. How the read/write head is to be moved;\n",
                "\n",
                "  5. Status to be changed"
            ]
        },
        {
            "cell_type": "markdown",
            "id": "46bb981e",
            "metadata": {},
            "source": [
                "Emphasis added: the rule is a **quintuple**:\n",
                "\n",
                "1. Current status\n",
                "2. Current read-in character\n",
                "3. Rewriting characters\n",
                "4. Altered states\n",
                "5. Direction of read/write head movement"
            ]
        },
        {
            "cell_type": "markdown",
            "id": "8da1ff1f",
            "metadata": {},
            "source": [
                "## <a id='toc3_3_'></a> [Understanding Turing Machines Using Course Examples](#toc0_)\n",
                "\n",
                "Determine the {$a^mb^m$|m>=0} pattern string Turing machine, with each state as\n",
                "\n",
                "* s0 initial state, when the read/write head stops at the first character\n",
                "* s1 read/write header is moving right\n",
                "* s2 read/write header moved to the rightmost side of the string\n",
                "* s3 read/write header is moving back to the left.\n",
                "\n",
                "Rule Thoughts:\n",
                "* :: Read and write heads move back and forth, eliminating a and b one by one.\n",
                "* :: Accept if last remaining blank B (blank character is noted as character B), otherwise reject\n",
                "\n",
                "Further reading of the rules:\n",
                "\n",
                "* <s0,a,B,s1,R> is the quintuple and the order matches the quintuple above. Note that the read/write head ** moves in the direction of R or L or N (downtime) **, not s1 or s3\n",
                "* In the state of **s1**, encountering a does not eliminate it either, but moves it to the right. Getting the rule <s1,a,a,s1,R>\n",
                "* :: In the end case, a transition from state s1 to s2, i.e., <s1,B,B,s2,L>\n",
                "\n",
                "$\\implies$ encounters the same character, but in a different state, the action taken may be different\n",
                "\n",
                "* :: Reaching a state of denial:\n",
                "    - <s0,b,b,sN,R>b more or before a\n",
                "    - <s2,a,a,sN,R>a more, or before b\n",
                "    - <s2,B,B,sN,R>s2 is end state, not yet read b\n",
                "  \n",
                "\n",
                "Supplemental Rule Interpretation:\n",
                "\n",
                "* The initial state S0 is where the read/write head stops at the first character. A rule must start with it. Need to return to this state\n",
                "* :: Although s1 and s3 are on the move, they are not represented by R or L. Emphasize the representation of [what state they are in] (even if they are on the move)\n",
                "* :: State to be changed: state R (right), right shift; state L, left shift; [in a quintuple, if bit 4 is state s0 or s1, bit 5 is R; if bit 4 is state s2 or s3, bit 5 is L]\n",
                "* :: sY: acceptance; sN: rejection\n",
                "* The rule is that it will read the last b or the first a, so it needs to be read one place further out ** to find the space **\n",
                "* :: Try to write your own rules"
            ]
        },
        {
            "cell_type": "markdown",
            "id": "e1792007",
            "metadata": {},
            "source": [
                "## <a id='toc3_4_'></a>[**Non-decidability of the Turing machine stopping problem [there is no Turing machine that can determine whether any Turing machine can stop on all inputs]**](#toc0_)\n",
                "\n",
                "The corresponding Turing machine simulator software can be used"
            ]
        },
        {
            "cell_type": "markdown",
            "id": "e457131c",
            "metadata": {},
            "source": [
                "# <a id='toc4_'></a>[104 Algorithms and computational complexity](#toc0_)"
            ]
        },
        {
            "cell_type": "markdown",
            "id": "1fabf9aa",
            "metadata": {},
            "source": [
                "## <a id='toc4_1_'></a> [Three broad classes of problems that can be solved computationally:](#toc0_)\n",
                "* :: What [judgment and classification]\n",
                "* :: why [cause and prove]\n",
                "* :: how [process and construction]\n",
                "\n",
                "\n",
                "$\\implies$ A problem is computable if it can be solved by a computational model of the \"finite energy method\".\n",
                "\n",
                "$\\implies$ Computable only cares about solving the problem with limited resources (time space), regardless of how much resources are consumed."
            ]
        },
        {
            "cell_type": "markdown",
            "id": "9feaa94f",
            "metadata": {},
            "source": [
                "### <a id='toc4_1_1_'></a> [a. WHAT [is] the question](#toc0_)\n",
                "For example, a decision tree"
            ]
        },
        {
            "cell_type": "markdown",
            "id": "eac116d1",
            "metadata": {},
            "source": [
                "### <a id='toc4_1_2_'></a> [b. WHY [why] question](#toc0_)\n",
                "can be solved by a finite sequence of formulas"
            ]
        },
        {
            "cell_type": "markdown",
            "id": "a09331f0",
            "metadata": {},
            "source": [
                "### <a id='toc4_1_3_'></a> [c. HOW [how to] question](#toc0_)\n",
                "It can be solved by an algorithmic process. Requires study of algorithms and corresponding data structures\n",
                "\n",
                "$\\implies$ is also a major component of this course"
            ]
        },
        {
            "cell_type": "markdown",
            "id": "25cba27d",
            "metadata": {},
            "source": [
                "## <a id='toc4_2_'></a>[Algorithm example](#toc0_)\n",
                "Euclid's algorithm for finding the greatest common divisor by tumbling and division\n",
                "* :: Each step is clear and mechanical\n",
                "* :: Will stop in a limited number of steps\n",
                "*\n",
                "$\\implies$ there is an infinite number of ways to accomplish this.\n",
                "\n",
                "Pros:\n",
                "* :: Very efficient when dealing with large numbers\n",
                "\n",
                "Gabriel Ramey proved in 1844 that tumbling and dividing requires no more than five times the number of digits of the smaller number, and pioneered the theory of computational complexity"
            ]
        },
        {
            "cell_type": "markdown",
            "id": "90e604ea",
            "metadata": {},
            "source": [
                "## <a id='toc4_3_'></a>[**Computational complexity** and **Algorithm**](#toc0_)\n",
                "\n",
                "(c) The concept of \"computability\" in the context of an \"energy approach based on an infinite viewpoint\":\n",
                "\n",
                "* :: Concerned only with whether the problem can be solved within limited resources (time/space)\n",
                "* :: Doesn't care exactly how many computational steps or storage space it takes"
            ]
        },
        {
            "cell_type": "markdown",
            "id": "b9df1b0f",
            "metadata": {},
            "source": [
                "Here's a pretty interesting bit of understanding:\n",
                "\n",
                "* :: When you attempt to use a computer to solve a problem, you are really thinking about how to express that problem as state (which variables store which data) and how to move through the state (how to compute some variables based on others).\n",
                "* :: The so-called space complexity is the maximum amount of state that must be stored to support your computation\n",
                "* :: Time complexity is the number of steps it takes to get from an initial state to a final state\n",
                "\n",
                "Author: Wang Meng\n",
                "链接：https://www.zhihu.com/question/23995189/answer/35429905\n",
                "Source: Knowledge"
            ]
        },
        {
            "cell_type": "markdown",
            "id": "79e98349",
            "metadata": {},
            "source": [
                "### <a id='toc4_3_1_'></a>[Categorize problem difficulty: computational complexity](#toc0_)\n",
                "\n",
                "The resources at the disposal of human beings are quite limited, and solutions to problems need to be considered in terms of their feasibility.\n",
                "\n",
                "The level of difficulty varies from question to question:\n",
                "* :: Some issues are very simple\n",
                "* :: Some questions were answered in a barely satisfactory manner\n",
                "* :: Some problems eat up resources explosively, leading to solutions that are available but not very feasible, e.g., Hamiltonian circuits, cargo problems, etc.\n",
                "\n",
                "$\\implies$ defining some metrics to categorize the difficulty of a problem (number of execution steps required/size of storage space) is the scope of research in computational complexity theory\n",
                "\n",
                "Computational complexity** is not concerned with the specific solution to a problem** but with the nature of the problem\n",
                "\n",
                "---- **Categorized by level of difficulty**"
            ]
        },
        {
            "cell_type": "markdown",
            "id": "2fd84474",
            "metadata": {},
            "source": [
                "### <a id='toc4_3_2_'></a>[Determining the efficiency of different solutions to the same problem: algorithm](#toc0_)\n",
                "There will be different solutions to the same problem, and the efficiency of the solution will vary widely\n",
                "\n",
                "For example, the sorting problem\n",
                "* :: Colossal sort\n",
                "* :: bogo sorting\n",
                "\n",
                "Algorithms aim to investigate different solutions to the problem under different realistic resource constraints, working to find the most efficient solution"
            ]
        },
        {
            "cell_type": "markdown",
            "id": "4c0ef01f",
            "metadata": {},
            "source": [
                "All of the above are computable problems, now onto another big category:\n",
                "\n",
                "## <a id='toc4_4_'></a> [non-computable problem](#toc0_)\n",
                "\n",
                "Non-computable problems are problems that are well defined but cannot be solved\n",
                "\n",
                "==> It's not that a solution has not been found yet, it's that it's been shown that no solution exists given that there is an exhaustive canon.\n",
                "\n",
                "Example:"
            ]
        },
        {
            "cell_type": "markdown",
            "id": "1b32c7c6",
            "metadata": {},
            "source": [
                "* :: Stopping problems: determining whether any program is capable of stopping under any input situation.\n",
                "\n",
                "* :: Uncountable numbers: Almost all irrational numbers have no algorithmic way of determining what any of their digits are. There are very few computable numbers, such as pi$\\pi$ and the base $e$ of a natural logarithm."
            ]
        },
        {
            "cell_type": "markdown",
            "id": "05b66cee",
            "metadata": {},
            "source": [
                "It seems that there are boundaries and limits to the computational approach to problem solving?\n",
                "\n",
                "Moving on to the next stage:"
            ]
        },
        {
            "cell_type": "markdown",
            "id": "2a8b92ba",
            "metadata": {},
            "source": [
                "# <a id='toc5_'></a>[105 Pushing the limits of computation](#toc0_)"
            ]
        },
        {
            "cell_type": "markdown",
            "id": "2acd0c52",
            "metadata": {},
            "source": [
                "* :: Hyperscale distributed computing\n",
                "* :: DNA computing\n",
                "* :: New computing technologies\n",
                "* :: Intelligent crowdsourcing project\n",
                "\n",
                "Among them, wisdom crowdsourcing and astrological divination are not using the concept of algorithms to solve problems, while DNA computing and hyperscale distributed computing are using the concept of algorithms"
            ]
        },
        {
            "cell_type": "markdown",
            "id": "3cf8fb88",
            "metadata": {},
            "source": [
                "# <a id='toc6_'></a>[106 What is abstraction and realization](#toc0_)"
            ]
        },
        {
            "cell_type": "markdown",
            "id": "d9b33bd0",
            "metadata": {},
            "source": [
                "Computer science focuses on the study of [problems, problem solving processes, and solutions to problems]"
            ]
        },
        {
            "cell_type": "markdown",
            "id": "20294bb2",
            "metadata": {},
            "source": [
                "## <a id='toc6_1_'></a>[抽象Abstraction](#toc0_)"
            ]
        },
        {
            "cell_type": "markdown",
            "id": "1d858438",
            "metadata": {},
            "source": [
                "* :: The concept of \"abstraction\" has been introduced to better deal with machine correlation or independence\n",
                "* :: Discard what is unimportant and leave only the essential information behind\n",
                "* :: To view problems and solutions at different levels, either \"Logical\" or \"Physical\".\n",
                "\n",
                "Logic or physics?\n",
                "\n",
                "* :: They are relative concepts, not absolute. For example, programming is the implementation of algorithms"
            ]
        },
        {
            "cell_type": "markdown",
            "id": "6eb33ea6",
            "metadata": {},
            "source": [
                "### <a id='toc6_1_1_'></a>[What is abstraction [how it works]](#toc0_)\n",
                "\n",
                "* :: In the abstract, drivers see the [logical] level, or functional level\n",
                "* :: Drivers can perform a wide variety of operations to achieve the purpose of transportation.\n",
                "* :: These operating mechanisms are referred to as \"interfaces\"."
            ]
        },
        {
            "cell_type": "markdown",
            "id": "6400f10e",
            "metadata": {},
            "source": [
                "### <a id='toc6_1_2_'></a>[What is the implementation [know how to do it (understand the principle), how to fix it, how to implement it internally](#toc0_)"
            ]
        },
        {
            "cell_type": "markdown",
            "id": "748d0eda",
            "metadata": {},
            "source": [
                "Looking at the same car from an auto mechanic's point of view, in addition to understanding how the car drives, you need to be clear about how each function is accomplished\n",
                "\n",
                "These internal structures form the \"physical\" level of the automobile. The process is called \"Implementation\"."
            ]
        },
        {
            "cell_type": "markdown",
            "id": "5ebf3a31",
            "metadata": {},
            "source": [
                "### <a id='toc6_1_3_'></a> [Process abstraction and programming](#toc0_)\n",
                "* :: Programming is the process of implementing abstract algorithms into computer-executable code through a programming language\n",
                "* :: Functional black boxes are called \"Procedural Abstraction\", e.g., calling a library function to get a result directly\n",
                "* **Algorithms + Data Structures = Programs** [Focus]"
            ]
        },
        {
            "cell_type": "markdown",
            "id": "82ff7948",
            "metadata": {},
            "source": [
                "### <a id='toc6_1_4_'></a>[Basic mechanisms for implementing algorithms in programming languages](#toc0_)"
            ]
        },
        {
            "cell_type": "markdown",
            "id": "95dcf0e4",
            "metadata": {},
            "source": [
                "Programming languages need to provide mechanisms for implementing algorithms to realize the \"process\" [run] and \"data\" [storage]. Specifically expressed as \"control structures\" and \"data types\"."
            ]
        },
        {
            "cell_type": "markdown",
            "id": "e65ff9c0",
            "metadata": {},
            "source": [
                "Control structures include: sequential processing, branch selection, and loop iteration."
            ]
        },
        {
            "cell_type": "markdown",
            "id": "6653bd0e",
            "metadata": {},
            "source": [
                "Data types include:\n",
                "Integers, characters, etc. You can also use your own design."
            ]
        },
        {
            "cell_type": "markdown",
            "id": "8c2113ea",
            "metadata": {},
            "source": [
                "# <a id='toc7_'></a>[107 Why study data structures and algorithms](#toc0_)"
            ]
        },
        {
            "cell_type": "markdown",
            "id": "037f9346",
            "metadata": {},
            "source": [
                "* :: In order to control the complexity of the problem and the problem-solving process, abstraction is utilized to maintain a \"holistic\" sense of the problem and to avoid getting bogged down in too much detail\n",
                "\n",
                "* :: This requires that the real-world problem be modeled in such a way that the data to be processed by the algorithms are also consistent with the problem itself and do not have too many details that are irrelevant to the problem"
            ]
        },
        {
            "cell_type": "markdown",
            "id": "aa846730",
            "metadata": {},
            "source": [
                "## <a id='toc7_1_'></a>[Abstract Data Type [ADT]](#toc0_)\n",
                "\n",
                "* :: Because process abstraction inspires data abstraction\n",
                "\n",
                "* :: Only functions, descriptions and interfaces to realize the calls are available, and the user does not have to worry about the specific implementation\n",
                "\n",
                "* :: Also established a kind of \"Encapsulation\" of the data, encapsulation technology will be possible to deal with the details of the implementation of the hidden can effectively control the complexity of the algorithm. Because the same ADT can be realized using different data structures. In other words, the data structure is a concrete implementation of the ADT.\n",
                "\n",
                "* :: The use of control structures and basic data types of a programming language to implement the logical interfaces provided by ADT belongs to the physical level of ADT."
            ]
        },
        {
            "cell_type": "markdown",
            "id": "f29f0091",
            "metadata": {},
            "source": [
                "Thus ADT realizes the separation of the physical and logical hierarchies\n",
                "\n",
                "Complex data models can be defined to solve problems without immediately considering how the model is implemented."
            ]
        },
        {
            "cell_type": "markdown",
            "id": "d70392ef",
            "metadata": {},
            "source": [
                "==> The benefits are:\n",
                "\n",
                "❖ There can be multiple implementations of abstract data types\n",
                "\n",
                "❖ Implementation-independent data models allow the underlying development programmers to focus on implementing and optimizing the data processing without changing the interfaces for using the data allowing the users to focus on problem solving with the data interfaces without having to think about how to implement those interfaces specifically\n",
                "\n",
                "❖ Reduce the complexity of the problem solving process by separating the logical from the physical implementation, with layers of abstraction [Importance of algorithmic implementation]."
            ]
        },
        {
            "cell_type": "markdown",
            "id": "3c941f4b",
            "metadata": {},
            "source": [
                "### <a id='toc7_1_1_'></a> [Why study and learn algorithms?] (#toc0_)\n",
                "\n",
                "First, learn the different solutions\n",
                "\n",
                "Second, the algorithms under consideration are usually quite different and need to be able to correctly judge the characteristics of the algorithms themselves\n",
                "\n",
                "Learn to differentiate between computable and non-computable problems and the resources consumed, and learn to use trade-offs when encountering difficult problems.\n"
            ]
        },
        {
            "cell_type": "markdown",
            "id": "872301d8",
            "metadata": {},
            "source": [
                "# <a id='toc8_'></a>[108 Convert from C to python](#toc0_)"
            ]
        },
        {
            "cell_type": "markdown",
            "id": "aad200cc",
            "metadata": {},
            "source": [
                "从hello world开始\n",
                "\n",
                "1. python doesn't really have a main entry function.\n",
                "2. python is an interpreted scripting language and does not need to be compiled/linked as a whole."
            ]
        },
        {
            "cell_type": "code",
            "execution_count": null,
            "id": "659ba44f",
            "metadata": {},
            "outputs": [],
            "source": [
                "print('hello world!')"
            ]
        },
        {
            "cell_type": "markdown",
            "id": "4156e0a4",
            "metadata": {},
            "source": [
                "Help Goss's classmates get home."
            ]
        },
        {
            "cell_type": "code",
            "execution_count": null,
            "id": "5397e8c4",
            "metadata": {},
            "outputs": [],
            "source": [
                "sum(list(range(101)))"
            ]
        },
        {
            "cell_type": "markdown",
            "id": "50b47bc3",
            "metadata": {},
            "source": [
                "check a prime number"
            ]
        },
        {
            "cell_type": "code",
            "execution_count": null,
            "id": "e58e1ec6",
            "metadata": {},
            "outputs": [],
            "source": [
                "from math import sqrt\n",
                "\n",
                "n = int(input(\"Please input number:\"))\n",
                "\n",
                "for i in range(2,int(sqrt(n))):\n",
                "    if n % i == 0:\n",
                "        print(f\"{n} is NOT a prime number.\")\n",
                "        break\n",
                "else:\n",
                "    \n",
                "    print(f\"{n} is a prime number.\")"
            ]
        },
        {
            "cell_type": "markdown",
            "id": "620a1e86",
            "metadata": {},
            "source": [
                "python is a strongly typed language, you can't mix different types of data and look at them together"
            ]
        },
        {
            "cell_type": "markdown",
            "id": "fe9a3b57",
            "metadata": {},
            "source": [
                "Print a plain triangle"
            ]
        },
        {
            "cell_type": "code",
            "execution_count": null,
            "id": "4fa6b271",
            "metadata": {
                "collapsed": true
            },
            "outputs": [],
            "source": [
                "\n",
                "for i in range(8):\n",
                "    print(\"*\"*i)\n",
                "# 注意最后一行有多少个\n",
                "\n",
                "print(list(range(8)))"
            ]
        },
        {
            "cell_type": "code",
            "execution_count": null,
            "id": "f342e367",
            "metadata": {},
            "outputs": [],
            "source": [
                "print('\\n'.join('*' * i for i in range(int(input(\"enter the number:\")))))"
            ]
        },
        {
            "cell_type": "markdown",
            "id": "b8c90e13",
            "metadata": {},
            "source": [
                "AV87882118 on B can learn python basics and learn python accents"
            ]
        },
        {
            "cell_type": "code",
            "execution_count": null,
            "id": "84992e17",
            "metadata": {},
            "outputs": [],
            "source": [
                "help(map)"
            ]
        },
        {
            "cell_type": "code",
            "execution_count": null,
            "id": "7b7cb2ab",
            "metadata": {},
            "outputs": [],
            "source": [
                "numbers = list(map(int, input(\"Enter numbers separated by space: \").split()))#10 6 3"
            ]
        },
        {
            "cell_type": "markdown",
            "id": "a5cff926",
            "metadata": {},
            "source": [
                "# <a id='toc9_'></a>[109 Supplement to Analyzing Data Structures and Algorithms in Python: Python Basics](#toc0_)"
            ]
        },
        {
            "cell_type": "markdown",
            "id": "4b0ddac4",
            "metadata": {},
            "source": [
                "## <a id='toc9_1_'></a> [9.1. data](#toc0_)"
            ]
        },
        {
            "cell_type": "markdown",
            "id": "42c1318a",
            "metadata": {},
            "source": [
                "* :: python supports the object-oriented programming paradigm. This means that Python considers data to be a key point in the problem-solving process.\n",
                "\n",
                "* :: A class is a description of what data consists of (state) and what data can do (behavior). Because the user of a class can only see the state and behavior of data items, classes are similar to abstract data types.\n",
                "\n",
                "* :: In the object-oriented programming paradigm, data items are called objects. An object is an instance of a class.\n",
                "\n",
                "### <a id='toc9_1_1_'></a>[9.1.1 Built-in atomic data types](#toc0_)\n",
                "The built-in atomic data types are:\n",
                "* :: Numeric classes int, float\n",
                "* :: Boolean bool\n",
                "\n",
                "Name:\n",
                "* python identifiers begin with a letter or an underscore, are case-sensitive, and can be of any length\n",
                "* :: When a name first appears on the left side of an assignment statement, the corresponding python variable is created\n",
                "* :: Assignment statements associate names with values\n",
                "\n",
                "$\\implies$ Note that variables store references to data, not the data itself!\n",
                "\n",
                "\n",
                "* python computes the expression on the right side of the assignment operation and then assigns the **reference** of the resulting data object to the variable name on the left side\n",
                "* :: If the type of the data changes, then the type of the variable changes as well\n",
                "\n",
                "The $\\implies$ assignment statement changes the reference to the variable, reflecting the dynamic nature of python.\n",
                "$\\implies$ The same variable can point to many different types of data"
            ]
        },
        {
            "cell_type": "markdown",
            "id": "afdd5fbd",
            "metadata": {},
            "source": [
                "### <a id='toc9_1_2_'></a>[9.1.2 Built-in collection datatypes](#toc0_)\n",
                "\n",
                "The python built-in collection datatypes are:\n",
                "* :: Ordered collections: lists, strings, tuples\n",
                "* :: Unordered sets: set, dictionary\n"
            ]
        },
        {
            "cell_type": "code",
            "execution_count": null,
            "id": "13e66d67",
            "metadata": {},
            "outputs": [],
            "source": [
                "from graphviz import Digraph\n",
                "from IPython.display import display\n",
                "\n",
                "# 创建流程图对象\n",
                "dot = Digraph(comment='Python集合类')\n",
                "dot.attr(rankdir='TB', nodesep='0.3', fontname='SimHei')  # 指定中文字体（如 SimHei）\n",
                "dot.attr('node', shape='box', style='solid', fontname='SimHei')  # 统一节点字体\n",
                "\n",
                "# 定义节点\n",
                "dot.node('root', 'Python集合类')\n",
                "dot.node('ordered', '有序集合')\n",
                "dot.node('unordered', '无序集合')\n",
                "\n",
                "# 有序集合子类\n",
                "dot.node('list', 'list')\n",
                "dot.node('tuple', 'tuple')\n",
                "dot.node('str', 'str')\n",
                "dot.node('dict_new', 'dict (Python 3.7+)')\n",
                "dot.node('ordered_dict', 'OrderedDict')\n",
                "\n",
                "# 无序集合子类\n",
                "dot.node('set', 'set')\n",
                "dot.node('frozenset', 'frozenset')\n",
                "dot.node('dict_old', 'dict (Python 3.6-)')\n",
                "\n",
                "# 连接节点\n",
                "dot.edges([\n",
                "    ('root', 'ordered'), ('root', 'unordered'),\n",
                "    ('ordered', 'list'), ('ordered', 'tuple'), \n",
                "    ('ordered', 'str'), ('ordered', 'dict_new'),\n",
                "    ('ordered', 'ordered_dict'),\n",
                "    ('unordered', 'set'), ('unordered', 'frozenset'),\n",
                "    ('unordered', 'dict_old')\n",
                "])\n",
                "\n",
                "# 直接在 Notebook 中渲染并显示\n",
                "display(dot)"
            ]
        },
        {
            "cell_type": "markdown",
            "id": "df243ae5",
            "metadata": {},
            "source": [
                "The operations available in python, [Sequence Types](https://docs.python.org/3/library/stdtypes.html) or **Sequence**, can be used\n",
                "\n",
                "|Operation name|Operation symbol|\n",
                "|:---:|:---:|\n",
                "|index|[ ]|\n",
                "|Links|+|\n",
                "|Repeat|*|\n",
                "|members|in|\n",
                "|length|len|\n",
                "|Slices|[:]|\n",
                "\n",
                "A sequence is a collection of elements representing a series of sequential elements, each with a unique positional index (starting at 0), which can be accessed, sliced, or iterated over by index. Among them:\n",
                "* :: Variable sequences: lists\n",
                "* :: Immutable sequences: strings; tuples; ranges (ranges)\n",
                "\n",
                "There are other containers than sequences:\n",
                "* Set of sets\n",
                "* :: Dictionary\n",
                "\n",
                "The inter-container transformations are as follows:"
            ]
        },
        {
            "cell_type": "code",
            "execution_count": null,
            "id": "f72431d9",
            "metadata": {},
            "outputs": [],
            "source": [
                "# 列表 → 集合（去重）\n",
                "lst = [1, 2, 2, 3, 3]\n",
                "set_from_list = set(lst)\n",
                "print(set_from_list)  # 输出 {1, 2, 3}\n",
                "\n",
                "# 字符串 → 集合（每个字符为一个元素）\n",
                "s = \"hello\"\n",
                "set_from_str = set(s)\n",
                "print(set_from_str)   # 输出 {'h', 'e', 'l', 'o'}（去重且无序）\n",
                "\n",
                "# 元组 → 集合\n",
                "t = (10, 20, 30, 20)\n",
                "set_from_tuple = set(t)\n",
                "print(set_from_tuple)  # 输出 {10, 20, 30}\n",
                "\n",
                "\n",
                "invalid_list = [[1, 2], [3, 4]]#集合的元素必须是可哈希的，这是错误示范\n",
                "set(invalid_list)  # 报错 TypeError: unhashable type: 'list'"
            ]
        },
        {
            "cell_type": "code",
            "execution_count": null,
            "id": "835e2303",
            "metadata": {},
            "outputs": [],
            "source": [
                "#处理顺序丢失\n",
                "lst = [3, 2, 2, 1, 3]\n",
                "unique_lst = []\n",
                "for x in lst:\n",
                "    if x not in unique_lst:\n",
                "        unique_lst.append(x)\n",
                "print(unique_lst)  # 输出 [3, 2, 1]"
            ]
        },
        {
            "cell_type": "code",
            "execution_count": null,
            "id": "edfb7142",
            "metadata": {},
            "outputs": [],
            "source": [
                "#性能优化\n",
                "#集合的成员检查（in）时间复杂度为 O(1)，远快于序列的 O(n)。\n",
                "'''\n",
                "big_list = [/* 大量数据 */]\n",
                "big_set = set(big_list)\n",
                "if target in big_set:  # 比直接检查列表快得多\n",
                "    # 执行操作\n",
                "\n",
                "'''"
            ]
        },
        {
            "cell_type": "code",
            "execution_count": null,
            "id": "17a46752",
            "metadata": {},
            "outputs": [],
            "source": [
                "# 集合 → 列表\n",
                "my_set = {3, 1, 2}\n",
                "list_from_set = list(my_set)\n",
                "print(list_from_set)  # 输出可能是 [1, 2, 3]，但顺序不确定\n",
                "\n",
                "# 集合 → 元组\n",
                "tuple_from_set = tuple(my_set)\n",
                "print(tuple_from_set)  # 输出可能是 (2, 1, 3)\n",
                "\n",
                "# 集合 → 字符串（元素必须是字符）\n",
                "char_set = {'a', 'b', 'c'}\n",
                "str_from_set = \"\".join(char_set)\n",
                "print(str_from_set)  # 输出可能是 \"acb\"（顺序不确定）"
            ]
        },
        {
            "cell_type": "markdown",
            "id": "04cdacf2",
            "metadata": {},
            "source": [
                "#### <a id='toc9_1_2_1_'></a>[9.1.2.1 List section](#toc0_)\n",
                "* A list is an ordered collection of zero or more **references** to python data objects that are heterogeneous. Lists are heterogeneous in that the data objects they point to do not need to be of the same class, and the collection can be assigned to a variable\n",
                "* :: The result returned by the duplicate operation in a list is a duplicate of just a reference to the object data in the sequence, not a new one.\n",
                "* When python computes a list, that list returns itself. However, in order to remember the list for subsequent processing, its reference needs to be assigned to another variable. This can be the same name as the original variable"
            ]
        },
        {
            "cell_type": "code",
            "execution_count": null,
            "id": "3dcc9344",
            "metadata": {},
            "outputs": [],
            "source": [
                "list(range(10))"
            ]
        },
        {
            "cell_type": "markdown",
            "id": "16440dd7",
            "metadata": {},
            "source": [
                "#### <a id='toc9_1_2_2_'></a>[9.1.2.2 Collection section](#toc0_)\n",
                "* A set is a heterogeneous, unordered collection of zero or more unmodifiable python data objects.\n",
                "* :: Do not allow duplicate elements, write a series of values enclosed in parentheses and separated by commas\n",
                "* :: The empty set is denoted by ``set()``."
            ]
        },
        {
            "cell_type": "markdown",
            "id": "4e06a1da",
            "metadata": {},
            "source": [
                "Supplement:\n",
                "\n",
                "<h3 style=\"font-weight: bold; text-transform: uppercase; margin: 1em 0;\">\n",
                "  Operations and methods\n",
                "</h3>\n",
                "\n",
                "\n",
                "Operators are essentially syntactic sugar for methods\n",
                "\n",
                "Many operators underlying call special methods on objects. For example:\n",
                "\n",
                "* ``a + b → a.__add__(b)``\n",
                "* ```x in list → list.__contains__(x)```\n",
                "\n",
                "\n",
                "|Name|Definition|Examples|Cautions|\n",
                "|:---:|:---:|:---:|:---:|\n",
                "|Operations |Operations are a concise syntax for mathematical or logical manipulation of data by means of specific symbols (operators) |```a + b```| can be overloaded with operators, e.g., by defining their own addition behavior via the __add__ method |\n",
                "|Methods|Methods are functionality provided by an object: they are functions defined in the class to which the object belongs, and need to be called through the object | ```list.append()``` or ```\"hello\".upper()``` |Methods are usually associated with a specific datatype, and perform a specific action | |Methods are usually associated with a specific datatype, and perform a specific operation | |Methods are not defined in the class to which the object belongs, but are defined in the class to which the object belongs.\n",
                "\n"
            ]
        },
        {
            "cell_type": "markdown",
            "id": "5cf0a557",
            "metadata": {},
            "source": [
                "Advanced Edition:\n",
                "| **Traits** | **Operations** | **Methods** |\n",
                "|------------------------|--------------------------------|----------------------------------|\n",
                "| **Syntactic Forms** | Symbols (e.g. `+`, `>`, `in`) | Function calls (e.g. `obj.method()`) |\n",
                "| **Calls** | directly with operators (e.g. `a + b`) | through objects (e.g. `s.upper()`) |\n",
                "| **Extensibility** | Requires overloading operators (e.g. `__add__`) | Define new methods directly |\n",
                "| **Operate objects** | Mostly binary (e.g. `a OP b`) | Usually operates on the current object (e.g. `self`) |\n",
                "| **Priority rules** | With fixed priority (e.g. `*` before `+`) | No priority, executed in code order |\n",
                "| **Typical Use Cases** | Mathematical Computing, Rapid Logical Judgment | Object-Only Behavior, Complex Data Processing |\n",
                "| **Underlying implementation** | Corresponds to special methods (e.g. `+` → `__add__`) | Functions defined in classes |\n",
                "| **Modifies data or not** | Usually returns new value | May modify object (e.g. `list.append()`) or return new value |\n",
                "| **Code simplicity** | more concise (e.g. `a + b`) | more explicit (e.g. `sorted(list)`) |"
            ]
        },
        {
            "cell_type": "markdown",
            "id": "b0d8973c",
            "metadata": {},
            "source": [
                "Now start the list of operations and methods for set"
            ]
        },
        {
            "cell_type": "markdown",
            "id": "ca041470",
            "metadata": {},
            "source": [
                "| Operation Names | Symbols/Expressions | Descriptions | Examples\n",
                "|:------------------:|:-------------:|:--------------------------------------:|:---------------------:|\n",
                "| Concatenate | `\\|` | Returns the set of all elements of two sets (the unduplicated version) | `set1 \\| set2` |\n",
                "| intersection | `&` | return elements common to both sets | `set1 & set2` |\n",
                "| Difference sets | `-` | Returns the elements that are in the first set but not in the second set | `set1 - set2` |\n",
                "| symmetric difference sets | `^` | return elements that exist in only one of the sets | `set1 ^ set2` |\n",
                "| equals | `==` | Determines if two sets have exactly the same elements | `set1 == set2` |\n",
                "| not equal to | `! =` | Determines if the elements of two sets are different | `set1 ! = set2` |\n",
                "| subset check | `<=` | Determine if the left-hand set is a subset of the right-hand set | `set1 <= set2` |\n",
                "| true subset check | `<` | Determine if the left-hand set is a true subset of the right-hand set | `set1 < set2` |\n",
                "| superset check | `>=` | Determine if the left set is a superset of the right set | `set1 >= set2` |\n",
                "| true superset checking | `>` | Determine if the left-hand set is a true superset of the right-hand set | `set1 > set2` |\n",
                "| member checking | `in` | determine if element exists in set | `'a' in set1` |\n",
                "| Non-Member Checks | `not in` | Determines if an element does not exist in the set | `'a' not in set1` |\n",
                "| Enhanced Concatenation Assignment | `\\|=` | Updates the left-hand side set to be concatenated with the right-hand side set | `set1 \\|= set2` |\n",
                "| Enhance intersection assignment | `&=` | Update left-hand set to intersection with right-hand set | `set1 &= set2` |\n",
                "| Enhanced Difference Set Assignment | `-=` | Update the left-hand side set to the difference set with the right-hand side set | `set1 -= set2` |\n",
                "| Enhanced symmetric difference set assignment | `^=` | Update the left-hand set to a symmetric difference set with the right-hand set | `set1 ^= set2` |"
            ]
        },
        {
            "cell_type": "code",
            "execution_count": null,
            "id": "7a0da751",
            "metadata": {},
            "outputs": [],
            "source": [
                "list1 = [1, 2, 3]\n",
                "list2 = [3, 4, 5]\n",
                "result = set(list1) | set(list2)\n",
                "print(result)"
            ]
        },
        {
            "cell_type": "markdown",
            "id": "0a1370e6",
            "metadata": {},
            "source": [
                "The following are enhancement operators. It will destroy the original set on the left, but it is faster than the non-enhanced one"
            ]
        },
        {
            "cell_type": "code",
            "execution_count": null,
            "id": "2061e439",
            "metadata": {},
            "outputs": [],
            "source": [
                "# 初始化集合\n",
                "set1 = {1, 2, 3}\n",
                "set2 = {3, 4, 5}\n",
                "\n",
                "# 执行增强并集赋值操作\n",
                "set1 |= set2\n",
                "\n",
                "# 输出结果\n",
                "print(\"set1 被修改为:\", set1)  # 输出: {1, 2, 3, 4, 5}\n",
                "print(\"set2 保持不变:\", set2)  # 输出: {3, 4, 5}"
            ]
        },
        {
            "cell_type": "markdown",
            "id": "2f5d0a6e",
            "metadata": {},
            "source": [
                "The following is the method operation of set\n",
                "\n",
                "| Method Name | Description | Examples | Method Name | Description | Examples | Examples\n",
                "|---------------------------------|----------------------------------------------------------------------|----------------------------------------------------------------------|\n",
                "| ``add(element)`` | Add an element to the collection.                                               | `s = {1, 2}; s.add(3)` |\n",
                "| `clear()` | Clear all elements in the collection.                                               | `s = {1, 2}; s.clear()` |\n",
                "| `copy()` | Returns a shallow copy of the collection.                                                   | `s = {1, 2}; s_copy = s.copy()` |\n",
                "| `difference(*others)` | Returns the difference between the current set and one or more sets (the new set).                        | `s = {1, 2, 3}; s1 = {2, 4}; result = s.difference(s1)` |\n",
                "| ``difference_update(*others)`` | Modify the set in place, preserving the difference set between the current set and the others.                          | `s = {1, 2, 3}; s.difference_update({2})` |\n",
                "| `discard(element)` | Removes the element from the collection if it exists; does not report an error if it does not.                      | `s = {1, 2, 3}; s.discard(2)` |\n",
                "| `intersection(*others)` | Returns the intersection of the current set with one or more sets (the new set).                        | `s = {1, 2}; s1 = {2, 3}; result = s.intersection(s1)` |\n",
                "| `intersection_update(*others)` | Modify the set in place, preserving the intersection of the current set with the other sets.                          | `s = {1, 2, 3}; s.intersection_update({2, 4})` |\n",
                "| `isdisjoint(other)` | Check if the current set does not intersect with `other`.                                | `s = {1, 2}; s1 = {3}; result = s.isdisjoint(s1)` |\n",
                "| `issubset(other)` | Check if the current set is a subset of `other`.                                 | `s = {1, 2}; s1 = {1, 2, 3}; result = s.issubset(s1)` |\n",
                "| `issuperset(other)` | Check if the current set is a superset of `other`.                                 | `s = {1, 2, 3}; s1 = {1, 2}; result = s.issuperset(s1)` |\n",
                "| `pop()` | Removes and returns any element of the collection (empty collection reports `KeyError`).              | `s = {1, 2}; val = s.pop()` |\n",
                "| `remove(element)` | Remove the specified element from the collection (report `KeyError` if it doesn't exist).                      | `s = {1, 2, 3}; s.remove(3)` |\n",
                "| `symmetric_difference(other)` | Returns the symmetric difference between the current set and `other` (the new set).                        | `s = {1, 2}; s1 = {2, 3}; result = s.symmetric_difference(s1)` |\n",
                "| `symmetric_difference_update(other)` | Modify the set in place, preserving the symmetric difference set between the current set and `other`.               | `s = {1, 2}; s.symmetric_difference_update({2, 3})` |\n",
                "| `union(*others)` | Returns the union of the current set with one or more sets (the new set).                       | `s = {1}; s1 = {2}; s2 = {3}; result = s.union(s1, s2)` |\n",
                "| `update(*others)` | Updates a collection with the concatenation of the current collection with other iterable objects (in-place modification).                | `s = {1}; s.update([2, 3], {4})` |"
            ]
        },
        {
            "cell_type": "markdown",
            "id": "161d2352",
            "metadata": {},
            "source": [
                "#### <a id='toc9_1_2_3_'></a>[dictionary section](#toc0_)\n",
                "* :: Unordered structure, consisting of pairs of related elements, each of which consists of a key and a value, usually written in the form ``key: value''\n",
                "* :: A series of comma-separated key-value pair expressions contained in parentheses\n",
                "* :: Corresponding values can be accessed by key, and new values can be added by new keys\n",
                "* :: Key placement is determined by hashing\n",
                "* :: Dictionaries can be converted to lists using the list function"
            ]
        },
        {
            "cell_type": "markdown",
            "id": "e601c25b",
            "metadata": {},
            "source": [
                "Python Dictionary (dict) supported operations\n",
                "\n",
                "| Operator Name | Description | Examples |\n",
                "|----------------|---------------------------|--------------------------------|\n",
                "| create dictionary | create dictionary with braces or `dict()` | `d = {'a': 1, 'b': 2}` |\n",
                "| access element | get corresponding value by key | `d['a']` → 1 |\n",
                "| Check if key exists | Use `in` to determine if key is in dictionary | `'a' in d` → True |\n",
                "| Assigning elements | Assigning or modifying values to a dictionary by key | `d['c'] = 3` → `{'a':1, 'b':2, 'c':3}` |\n",
                "| Delete key-value pairs | Delete key-value pairs for a specified key with `del` | `del d['a']` → `{'b':2}` |\n",
                "| Iterate over keys | Iterate over all keys by default when traversing the dictionary directly | `for key in d: print(key)` |\n",
                "| get length | get number of key-value pairs with `len()` | `len(d)` → 2 |\n",
                "| Dictionary Merge (Python 3.9+) | Merge dictionaries with `\\|`, `\\|=` update dictionary | `d1 = {'a':1}`, `d2 = {'b':2}`, `d1 \\| d2` → `{'a':1, 'b':2}` |"
            ]
        },
        {
            "cell_type": "code",
            "execution_count": null,
            "id": "e44967d4",
            "metadata": {},
            "outputs": [],
            "source": [
                "d1 = {'a': 1, 'b': 2}\n",
                "d2 = {'b': 20, 'c': 3}\n",
                "\n",
                "# 合并字典（右侧字典的键会覆盖左侧同名键）\n",
                "merged = d1 | d2\n",
                "print(merged)  # 输出: {'a': 1, 'b': 20, 'c': 3}\n",
                "print(d1)"
            ]
        },
        {
            "cell_type": "code",
            "execution_count": null,
            "id": "0066ad62",
            "metadata": {},
            "outputs": [],
            "source": [
                "d1 = {'a': 1, 'b': 2}\n",
                "d2 = {'b': 20, 'c': 3}\n",
                "\n",
                "# 将 d2 的键值对合并到 d1 中（d1 会被修改）\n",
                "d1 |= d2\n",
                "print(d1)  # 输出: {'a': 1, 'b': 20, 'c': 3}"
            ]
        },
        {
            "cell_type": "markdown",
            "id": "dd890afa",
            "metadata": {},
            "source": [
                " Python Dictionary (dict) Methods\n",
                "\n",
                "| Method Name | Description | Examples | Method Name | Description | Examples | Examples\n",
                "|-----------------|--------------------------------------------------------------------|---------------------------------------------------------------------|\n",
                "| `keys()` | Returns a view of all the keys of the dictionary (iterable) | `d = {'a':1, 'b':2}`, `d.keys() → ['a', 'b']` |\n",
                "| `values()` | Returns a view of all values of the dictionary (iterative) | `d.values() → [1, 2]` |\n",
                "| `items()` | Returns a view of all key-value pairs of the dictionary (traversable, each pair is a tuple) | `d.items() → [('a', 1), ('b', 2)]` |\n",
                "| `get(key, default)` | Securely gets the value of the key, returns the default value if the key does not exist (no error) | `d.get('a') → 1`, `d.get('c', 0) → 0` |\n",
                "| `update(dict)` | Merge key-value pairs from another dictionary into the current dictionary (overwrite duplicate keys) | `d.update({'b':20, 'c':3})` → `d = {'a':1, 'b':20, 'c':3}` |\n",
                "| `pop(key)` | Delete the specified key and return its value, if the key does not exist, provide the default value or an error will be reported | `d.pop('a') → 1`, `d.pop('c', 0) → 0` |\n",
                "| ``popitem()`` | Delete and return the last inserted key-value pair (Python 3.7+ ordered) | ``d.popitem() → ('b', 2)`` (delete the last key-value pair) |\n",
                "| `clear()` | Clear the dictionary of all key-value pairs | `d.clear()` → `{}` |\n",
                "| `copy()` | returns a shallow copy of the dictionary | `d2 = d.copy()` → independent copies |\n",
                "| `fromkeys(seq, value)` | Class method: create a new dictionary with the elements of the sequence as keys, and optionally unify the default values (static method) | `dict.fromkeys(['a', 'b'], 0)` → `{'a':0, 'b':0}` |\n",
                "| `setdefault(key, default)` | Returns the value of the key if it exists, inserts the key if it doesn't and sets the default value, returns the default value | `d.setdefault('c', 3)` → `3` (after insertion `d = {'a':1, 'b':2, 'c':3}`) |"
            ]
        },
        {
            "cell_type": "code",
            "execution_count": null,
            "id": "78aa5d05",
            "metadata": {},
            "outputs": [],
            "source": [
                "phoneext = {'david':1410,'brad':1137}\n",
                "print(phoneext.values())\n",
                "print(list(phoneext.items()))"
            ]
        },
        {
            "cell_type": "markdown",
            "id": "e2a14196",
            "metadata": {},
            "source": [
                "### <a id='toc9_1_3_'></a>[iteration](#toc0_)\n",
                "* :: Iterable: an abstraction (a protocol or capability) that indicates that an object can be traversed. In Python, the criterion for determining whether an object is iterable is whether it can generate an iterator by ``iter(obj)```.\n",
                "* :: Iterable Object : An iterable object is an object that specifically implements the iterable protocol, but is implemented in two ways:\n",
                "    * :: Approach 1: Implement the ```__iter__()``` method, which returns an iterator (e.g., list, dictionary, etc.).\n",
                "    * :: Approach 2: If you don't implement ```__iter__()``` but do implement the ```__getitem__(index)`` method and access the element by subscript (e.g., the classic sequence type string, tuple, etc.), Python will try to iterate by index\n",
                "    * :: Does not require itself to have ```__next__()`` (an iterator)\n",
                "    \n",
                "    Iterable objects such as lists, tuples, strings. The dictionary iteration defaults to traversing the key (for key in dict); the file object is also an iterable object (line-by-line traversal)\n",
                "\n",
                "\n",
                "* :: Iterator: a tool that actually performs the traversal operation, maintains the traversal state, must implement ``__next__()`` and ``__iter__()``. It is \"disposable\" and cannot be reset after traversal (iterators need to be regenerated).\n",
                "* :: Iterable objects do not need to be traversed directly themselves, but rely on iterators to do so\n"
            ]
        },
        {
            "cell_type": "code",
            "execution_count": null,
            "id": "ea1fbfa5",
            "metadata": {},
            "outputs": [],
            "source": [
                "from collections.abc import Iterable, Iterator\n",
                "\n",
                "# 可迭代对象 vs 迭代器\n",
                "my_list = [1, 2, 3]\n",
                "print(isinstance(my_list, Iterable))  # True（是可迭代对象）\n",
                "print(isinstance(my_list, Iterator))  # False（不是迭代器）\n",
                "\n",
                "my_iterator = iter(my_list)\n",
                "print(isinstance(my_iterator, Iterator))  # True（是迭代器）"
            ]
        },
        {
            "cell_type": "code",
            "execution_count": null,
            "id": "34b1ea3b",
            "metadata": {},
            "outputs": [],
            "source": [
                "#迭代器的样子\n",
                "# 创建一个可迭代对象（列表）\n",
                "my_list = [10, 20, 30]\n",
                "\n",
                "# 生成迭代器\n",
                "my_iterator = iter(my_list)\n",
                "\n",
                "# 查看迭代器的类型\n",
                "print(type(my_iterator))  # 输出 <class 'list_iterator'>\n",
                "\n",
                "# 手动遍历迭代器\n",
                "print(next(my_iterator))  # 输出 10\n",
                "print(next(my_iterator))  # 输出 20\n",
                "print(next(my_iterator))  # 输出 30\n",
                "#print(next(my_iterator))  # 抛出 StopIteration 异常"
            ]
        },
        {
            "cell_type": "code",
            "execution_count": null,
            "id": "8ede428f",
            "metadata": {},
            "outputs": [],
            "source": [
                "#自定义迭代器\n",
                "class EvenNumbers:\n",
                "    def __init__(self, max_num):\n",
                "        self.max = max_num\n",
                "        self.current = 0\n",
                "\n",
                "    def __iter__(self):\n",
                "        # 返回迭代器自身（因为自身已实现 __next__）\n",
                "        return self\n",
                "\n",
                "    def __next__(self):\n",
                "        # 生成下一个偶数\n",
                "        if self.current > self.max:\n",
                "            raise StopIteration\n",
                "        value = self.current\n",
                "        self.current += 2\n",
                "        return value\n",
                "\n",
                "# 使用自定义迭代器\n",
                "even_iter = EvenNumbers(6)\n",
                "print(next(even_iter))  # 输出 0\n",
                "print(next(even_iter))  # 输出 2\n",
                "print(next(even_iter))  # 输出 4\n",
                "print(next(even_iter))  # 输出 6\n",
                "#print(next(even_iter))  # 抛出 StopIteration"
            ]
        },
        {
            "cell_type": "code",
            "execution_count": null,
            "id": "20064ce3",
            "metadata": {},
            "outputs": [],
            "source": [
                "my_iter = iter([1, 2, 3])\n",
                "list(my_iter)  # [1, 2, 3]\n",
                "list(my_iter)  # []（已耗尽）"
            ]
        },
        {
            "cell_type": "markdown",
            "id": "5d5c592c",
            "metadata": {},
            "source": [
                "### <a id='toc9_1_4_'></a> [hashed](#toc0_)\n",
                "\n",
                "In Python, hashing is the process of converting data of arbitrary size (e.g., strings, numbers, objects, etc.) into a fixed-length unique identifier (a hash). This identifier is usually an integer, computed by the hash function.\n",
                "\n",
                "* :: A hash function is a tool for performing hashing, such as Python's built-in hash() function. It takes an input (which must be a hashable object) and returns an integer (the hash value)"
            ]
        },
        {
            "cell_type": "code",
            "execution_count": null,
            "id": "ab9f8ec0",
            "metadata": {},
            "outputs": [],
            "source": [
                "print(hash(\"hello\"))  # 输出类似 -6488723163717124685（结果因环境而异）"
            ]
        },
        {
            "cell_type": "markdown",
            "id": "7b1cc60c",
            "metadata": {},
            "source": [
                "* :: Hashable objects: In Python, only immutable objects (e.g., integers, strings, tuples) are hashable, while mutable objects (e.g., lists, dictionaries, collections) are not."
            ]
        },
        {
            "cell_type": "code",
            "execution_count": null,
            "id": "4f5edba4",
            "metadata": {},
            "outputs": [],
            "source": [
                "hash(42)            # 合法\n",
                "hash(\"python\")      # 合法\n",
                "hash((1, 2, 3))     # 合法\n",
                "hash([1, 2, 3])     # 报错！列表不可哈希"
            ]
        },
        {
            "cell_type": "markdown",
            "id": "58ebcb26",
            "metadata": {},
            "source": [
                "* :: Hash Tables: Python's dictionaries (dict) and sets (set) are implemented using hash tables at the bottom. Hash values are used to quickly locate key-value pairs, making the average time complexity of lookup, insertion, and deletion operations O(1)\n",
                "* :: Note that you don't look up the key directly, because the index requirement is an integer, and it's almost a direct traversal\n",
                "* :: After the hash function is processed, it also needs to be mapped to a memory location: the hash value is further processed (e.g., by modulo operations) and corresponds directly to an index location in the hash table (array)"
            ]
        },
        {
            "cell_type": "markdown",
            "id": "397f3b34",
            "metadata": {},
            "source": [
                "Hash conflict resolution\n",
                "\n",
                "When the same hash value is computed for different keys (hash conflict), the hash table is resolved by the following method:\n",
                "\n",
                "* :: Open addressing method: if the target slot is occupied, search for the next empty slot by rule (e.g., linear probing)\n",
                "* :: Chain-address method: each slot stores a chained table, and conflicting key-value pairs are appended to the chained table (this method is used in Python dictionaries)"
            ]
        },
        {
            "cell_type": "markdown",
            "id": "5811da40",
            "metadata": {},
            "source": [
                "Characteristics of hashing\n",
                "\n",
                "* :: Uniqueness: ideally, different hashes for different inputs (but in practice there may be conflicts).\n",
                "* :: Irreversibility: it is not possible to backtrack from the hash value to the original data.\n",
                "* Fixed length: the length of the hash is fixed regardless of the size of the input (e.g. Python's hash() returns an integer)."
            ]
        },
        {
            "cell_type": "markdown",
            "id": "a9aaa921",
            "metadata": {},
            "source": [
                "The significance of the hash function: any type of key is converted to an integer index, to achieve the leap from \"compare keys one by one\" to \"directly locate the memory\", to reduce the time complexity from O(n) to O(1).\n",
                "\n",
                "Limitations of direct key lookup: can't efficiently handle large data volumes, complex key types, and memory waste.\n",
                "\n",
                "$\\implies$ The essence of hashing: balancing speed, memory and flexibility through mathematical mapping (hash functions) and memory structure optimization (hash tables).\n"
            ]
        },
        {
            "cell_type": "markdown",
            "id": "b1d4081b",
            "metadata": {},
            "source": [
                "* :: Application of hashing"
            ]
        },
        {
            "cell_type": "code",
            "execution_count": null,
            "id": "9bdcdcc5",
            "metadata": {},
            "outputs": [],
            "source": [
                "#字典通过哈希值直接定位键值对，避免遍历所有元素\n",
                "data = {\"name\": \"Alice\", \"age\": 30}  # 键(\"name\", \"age\")被哈希化存储"
            ]
        },
        {
            "cell_type": "code",
            "execution_count": null,
            "id": "7aad69b0",
            "metadata": {},
            "outputs": [],
            "source": [
                "#数据唯一性校验\n",
                "#检查文件或数据是否被篡改（常用加密哈希函数如 SHA-256，通过 hashlib 模块实现）\n",
                "import hashlib\n",
                "sha = hashlib.sha256(b\"hello\").hexdigest()\n",
                "print(sha)  # 输出固定长度的加密哈希值"
            ]
        },
        {
            "cell_type": "code",
            "execution_count": null,
            "id": "ea4d4ca7",
            "metadata": {},
            "outputs": [],
            "source": [
                "#去重\n",
                "#集合（set）使用哈希值确保元素唯一性。\n",
                "unique = {1, 2, 2, 3}  # 存储为 {1, 2, 3}"
            ]
        },
        {
            "cell_type": "markdown",
            "id": "2bd6f2a0",
            "metadata": {},
            "source": [
                "## <a id='toc9_2_'></a>[input/output](#toc0_)\n",
                "\n",
                "### <a id='toc9_2_1_'></a>[input](#toc0_)\n",
                "* :: The value returned by the ```input`` function is a string; if you need to convert this string to another type, you need to explicitly provide a type conversion"
            ]
        },
        {
            "cell_type": "code",
            "execution_count": null,
            "id": "aad976fc",
            "metadata": {},
            "outputs": [],
            "source": [
                "sradius = input(\"please enter the radius of the circle.\")\n",
                "radius = float(sradius)\n",
                "diameter = 2* radius"
            ]
        },
        {
            "cell_type": "markdown",
            "id": "c54406ae",
            "metadata": {},
            "source": [
                "### <a id='toc9_2_2_'></a>[Format string ---- output](#toc0_)\n",
                "\n",
                "\n",
                "#### <a id='toc9_2_2_1_'></a> [use ```sep`` for separation](#toc0_)"
            ]
        },
        {
            "cell_type": "code",
            "execution_count": null,
            "id": "b1a874ee",
            "metadata": {},
            "outputs": [],
            "source": [
                "print(\"hello \",\" world\",sep = \"***\")\n",
                "print(\"hello \",\" world\",end = \"***\")"
            ]
        },
        {
            "cell_type": "markdown",
            "id": "fa43541f",
            "metadata": {},
            "source": [
                "#### <a id='toc9_2_2_2_2_'></a> [formatted string](#toc0_)\n",
                "\n",
                "* :: A formatted string is a template containing words or spaces that remain unchanged and placeholders for variables that are inserted afterwards\n",
                "* :: ```%`` is a string operator and is known as a formatting operator\n",
                "* :: To the left of the expression is the template (also called the formatting string)\n",
                "* To the right of the expression is a series of values used to format the string.\n",
                "* The number of values on the right-hand side of the expression needs to match the number of ```%``` values in the format string. These values will be swapped into the formatting string sequentially from left to right\n",
                "* :: Formatted strings may contain one or more conversion statements"
            ]
        },
        {
            "cell_type": "markdown",
            "id": "c2fca791",
            "metadata": {},
            "source": [
                "The following are commonly used formatted string type declarations in Python and their examples:\n",
                "\n",
                "| Characters | Output Format | Usage Examples | Example Results |\n",
                "|------|-------------------------|-----------------------------------|---------------------------|\n",
                "| ``%s`` | string | ``'%s`` % 'hello'` | `'hello'` |\n",
                "| ``%r`` | ``repr()`` string | ``'%r`` % 'hello`` | `\"'hello'\"` |\n",
                "| ``%c`` | single character (ASCII value conversion) | ``'%c'' % 65`` | ``A`` |\n",
                "| ``%d`` | decimal integer | ``'%d'' % 42`` | ``42`` |\n",
                "| `%i` | decimal integer (same as `%d`) | `'%i' % 42` | `'42'` |\n",
                "| ``%o`` | octal number | ``'%o'' % 8`` | ``10`` |\n",
                "| ``%x`` | Hexadecimal (lowercase) | ``'%x'' % 255`` | ``ff`` |\n",
                "| ``%X`` | Hexadecimal (uppercase) | ``'%X'' % 255`` | ``FF`` |\n",
                "| `%e` | scientific notation (lowercase `e`) | `'%e' % 1000` | `'1.000000e+03'` |\n",
                "| ``%E`` | scientific notation (uppercase `E`) | ``'%E'' % 1000`` | ``1.000000E+03`` |\n",
                "| ``%f`` | Floating point decimal | ``'%.2f'' % 3.1415926`` | ``3.14'`` |\n",
                "| `%F` | Floating point decimal (same as `%f`) | `'%F' % 3.14` | `'3.140000'` |\n",
                "| ``%g`` | Automatic selection of ``%f`` or ``%e`` | ``'%g'' % 0.00001234`` | ``1.234e-05`` |\n",
                "| ``%G`` | Automatic selection of ``%F`` or ``%E`` | ``'%G'' % 0.00001234`` | ``1.234E-05`` |\n",
                "| `%%` | output `%` character itself | `'%d%%' % 100` | `'100%'` |\n",
                "\n",
                "Description:\n",
                "1. **Floating-point precision control**: the number of decimal places may be specified by `%.nf` (e.g. `%.3f` retains 3 decimal places).\n",
                "2. **Scientific notation alignment**: `%e` and `%E` are retained to 6 decimal places by default.\n",
                "3. **Automatic mode**: `%g`/`%G` will automatically switch to scientific notation for larger or smaller values (thresholds are typically 1e-4 or 1e+6)."
            ]
        },
        {
            "cell_type": "markdown",
            "id": "95c69992",
            "metadata": {},
            "source": [
                "The following are commonly used string formatting modifiers in Python and their examples:\n",
                "\n",
                "| Characters | Functions | Usage Examples | Example Results\n",
                "|------|-------------------------------|----------------------------|--------------------|\n",
                "| `-` | **left-justified** (default right-justified) | `\"%-10s\" % \"test\"` | `'test '` |\n",
                "| `+` | **Display numeric symbols** (positive numbers also display `+`) | `\"%+d\" % 5` | `'+5'` |\n",
                "| ``0`` | **fill with zeros** (default right-justified) | ``\"%05d\" % 3`` | ``'00003`` |\n",
                "| ` ` | **Positive numbers are preceded by a space** (negative numbers remain with `-`) | `\"% d\" % 5` | `' 5'` |\n",
                "| `#` | **Display type prefix** (e.g. `0x`, `0o`) | `\"%#x\" % 255` | `'0xff'` |\n",
                "| `>` | force right alignment (default behavior, can be omitted) | `\"%>5d\" % 3` | `' 3'` |\n",
                "| `<` | forced left alignment (same as `-`) | `\"%<5d\" % 3` | `'3 '` |\n",
                "| `,` | **Thousand separator** (`format` method only) | `\"{:,}\".format(1000)` | `'1,000'` |\n",
                "| `.n` | **Precision control** (with `f`/`e` etc.) | `\"%.2f\" % 3.1415` | `'3.14'` |\n",
                "\n",
                "Description:\n",
                "1. **Combined use**: Modifiers may be combined (e.g. `\"%+-10d\" % 5` → `'+5 '`), but with attention to precedence (e.g. `-` overrides `0` when both `-` and `0` are used).\n",
                "2. **Type of application**:\n",
                "   - `#`: valid for octal (`%#o`→`0o12`), hexadecimal (`%#x`→`0xff`).\n",
                "   - `,`: only for new-style formatting (`format()` method), e.g. `\"{:,d}\".format(1000)`.\n",
                "   - `.n`: to be used with types such as floating point (`f`), scientific notation (`e`).\n",
                "3. **Value alignment**: `0` padding is not valid for strings (e.g. `\"%05s\" % \"a\"` → `' a'`)."
            ]
        },
        {
            "cell_type": "markdown",
            "id": "e1bb3820",
            "metadata": {},
            "source": [
                "The following is the new-style formatting content. New-style formatting refers primarily to the ```str.format()``` method and the ``f-strings`` introduced in Python 3.6. These methods are more flexible and powerful than the old style. For example, support for positional arguments, keyword arguments, object property access, dictionary key access, and so on.\n",
                "* :: The ``format()`` method is more useful when format strings need to be constructed dynamically, and supports more complex formatting specifications such as alignment, padding, numeric formatting, etc.\n",
                "* :: ```f-strings``'' is more concise when you need to insert variables directly, but needs to be used in version 3.6 and beyond"
            ]
        },
        {
            "cell_type": "code",
            "execution_count": null,
            "id": "847819a3",
            "metadata": {},
            "outputs": [],
            "source": [
                "#str.format() 方法\n",
                "#占位符：用 {} 表示，可包含位置索引或关键字参数\n",
                "name = \"Alice\"\n",
                "age = 30\n",
                "print(\"Name: {}, Age: {}\".format(name, age))  # → `Name: Alice, Age: 30`"
            ]
        },
        {
            "cell_type": "code",
            "execution_count": null,
            "id": "f9af684b",
            "metadata": {},
            "outputs": [],
            "source": [
                "#位置索引\n",
                "print(\"{1} before {0}\".format(\"A\", \"B\"))  # → `B before A`"
            ]
        },
        {
            "cell_type": "code",
            "execution_count": null,
            "id": "f91d5499",
            "metadata": {},
            "outputs": [],
            "source": [
                "#关键词参数\n",
                "print(\"{name} is {age} years old\".format(name=\"Tom\", age=25))  # → `Tom is 25`"
            ]
        },
        {
            "cell_type": "code",
            "execution_count": null,
            "id": "bd12b713",
            "metadata": {},
            "outputs": [],
            "source": [
                "#对象属性/字典键\n",
                "class User:\n",
                "    def __init__(self, name):\n",
                "        self.name = name\n",
                "user = User(\"Eve\")\n",
                "print(\"User: {0.name}\".format(user))  # → `User: Eve`\n",
                "\n",
                "data = {\"key\": \"value\"}\n",
                "print(\"Value: {data[key]}\".format(data=data))  # → `Value: value`"
            ]
        },
        {
            "cell_type": "code",
            "execution_count": null,
            "id": "1500134b",
            "metadata": {},
            "outputs": [],
            "source": [
                "#f-strings（Python 3.6+）\n",
                "#直接嵌入变量：在字符串前加 f 或 F，用 {变量名} 插入值\n",
                "name = \"Bob\"\n",
                "print(f\"Hello, {name}!\")  # → `Hello, Bob!`"
            ]
        },
        {
            "cell_type": "code",
            "execution_count": null,
            "id": "4209e949",
            "metadata": {},
            "outputs": [],
            "source": [
                "# 动态表达（仅f-strings）\n",
                "x, y = 3, 4\n",
                "print(f\"{x} * {y} = {x * y}\")          # → `3 * 4 = 12`\n",
                "print(f\"Uppercase: {'hello'.upper()}\") # → `Uppercase: HELLO`"
            ]
        },
        {
            "cell_type": "code",
            "execution_count": null,
            "id": "571c98a9",
            "metadata": {},
            "outputs": [],
            "source": [
                "# 调用函数或者方法\n",
                "text = \"hello\"\n",
                "print(f\"Uppercase: {text.upper()}\")           # → Uppercase: HELLO\n",
                "print(f\"Length: {len(text)}\")                 # → Length: 5\n",
                "print(f\"Time: {__import__('datetime').datetime.now()}\")  # → Time: 2023-10-01 12:34:56"
            ]
        },
        {
            "cell_type": "markdown",
            "id": "49b6cce1",
            "metadata": {},
            "source": [
                "## <a id='toc9_3_'></a> [control structure](#toc0_)"
            ]
        },
        {
            "cell_type": "markdown",
            "id": "cf13179c",
            "metadata": {},
            "source": [
                "## <a id='toc9_4_'></a>[Exception handling](#toc0_)"
            ]
        },
        {
            "cell_type": "markdown",
            "id": "b19d83e0",
            "metadata": {},
            "source": [
                "## <a id='toc9_5_'></a> [9.5 functions](#toc0_)\n",
                "\n",
                "\n",
                "* :: Function in Python usually refers to a standalone block of code, defined by the def keyword, that takes arguments and returns a value. For example, the built-in len() function or a user-defined function. They do not depend on any object and can be called directly.\n",
                "\n",
                "* :: Methods, on the other hand, are functions associated with an object, usually part of a class. For example, the upper() method for a string object, or the append() method for a list. Methods must be called from an object, and the first argument is usually self, which points to the instance itself."
            ]
        },
        {
            "cell_type": "markdown",
            "id": "70304b98",
            "metadata": {},
            "source": [
                "* A python function definition requires a function name, a set of parameters, and a function body.\n",
                "* Functions can explicitly return a value\n",
                "* :: Common functions are as follows"
            ]
        },
        {
            "cell_type": "code",
            "execution_count": null,
            "id": "50b994b7",
            "metadata": {},
            "outputs": [],
            "source": [
                "def calculate(a, b):\n",
                "    return a + b, a * b  # 返回 (a+b, a*b)；（以元组形式）"
            ]
        },
        {
            "cell_type": "code",
            "execution_count": null,
            "id": "05896fae",
            "metadata": {},
            "outputs": [],
            "source": [
                "#Lambda函数\n",
                "#匿名函数，适合简单逻辑，语法：lambda 参数: 表达式\n",
                "square = lambda x: x ** 2\n",
                "print(square(5))  # 输出 25"
            ]
        },
        {
            "cell_type": "markdown",
            "id": "cabd6d6f",
            "metadata": {},
            "source": [
                "Anonymous function characteristics:\n",
                "* :: No function name: defined directly by the lambda keyword without the use of ``def``.\n",
                "* :: Single-line expressions: the body of a function can contain only one expression (no multi-line blocks)\n",
                "* :: Automatic return of results: the result of an expression is the return value (no return required)\n",
                "* :: Temporary use: commonly used as an argument to other functions (e.g., ``map()```, ``filter()```, ``sorted()``)\n",
                "* :: Scope restrictions: external variables can be accessed within lambda functions, but cannot be modified directly (with the help of ``nonlocal`` or ``global``)."
            ]
        },
        {
            "cell_type": "code",
            "execution_count": null,
            "id": "54fdbb87",
            "metadata": {},
            "outputs": [],
            "source": [
                "# 对列表排序，按字符串长度排序\n",
                "words = [\"apple\", \"banana\", \"cherry\"]\n",
                "words.sort(key=lambda x: len(x))  # 输出：['apple', 'cherry', 'banana']"
            ]
        },
        {
            "cell_type": "code",
            "execution_count": null,
            "id": "160354a5",
            "metadata": {},
            "outputs": [],
            "source": [
                "# 普通函数写法\n",
                "def multiply(a, b):\n",
                "    return a * b\n",
                "\n",
                "# lambda等效写法\n",
                "multiply = lambda a, b: a * b\n",
                "\n",
                "# 直接调用\n",
                "print(multiply(4, 5))  # 输出：20"
            ]
        },
        {
            "cell_type": "markdown",
            "id": "ccffb9a5",
            "metadata": {},
            "source": [
                "Supplementary:** Syntactic Sugar**\n",
                "\n",
                "is a syntactic design \"sweetener\" that makes the code cleaner and easier to read, but doesn't introduce new features or change the underlying logic"
            ]
        },
        {
            "cell_type": "markdown",
            "id": "1828868f",
            "metadata": {},
            "source": [
                "1. Tabular derivatives"
            ]
        },
        {
            "cell_type": "code",
            "execution_count": null,
            "id": "9288e89d",
            "metadata": {},
            "outputs": [],
            "source": [
                "#列表推导式\n",
                "squares = [x**2 for x in range(10)]  # 代替显式循环和 append"
            ]
        },
        {
            "cell_type": "code",
            "execution_count": null,
            "id": "238c995b",
            "metadata": {},
            "outputs": [],
            "source": [
                "#等效于\n",
                "squares = []\n",
                "for x in range(10):\n",
                "    squares.append(x**2)"
            ]
        },
        {
            "cell_type": "markdown",
            "id": "fa4d0bec",
            "metadata": {},
            "source": [
                "2. Decorator\n",
                "\n",
                "* Decorators allow you to dynamically enhance the functionality of an original function or class without modifying its code.\n",
                "* :: Decorators are essentially \"wrappers\" that add additional logic (such as logging, permission checking, performance monitoring, etc.) to a function or class by accepting it as a parameter and returning a new one.\n",
                "* :: Core concepts.\n",
                "    * :: Who it works on: decorators can work on functions or classes\n",
                "    * :: Design principles: follow the \"open-closed\" principle (open to expansion, closed to modification)\n",
                "    * :: Underlying principle: realized on the basis of the characteristics of functions as first-class objects (which can be passed as parameters and return values) and closures"
            ]
        },
        {
            "cell_type": "markdown",
            "id": "c4a430a6",
            "metadata": {},
            "source": [
                "Decorator effect:\n",
                "* Decorators are applied as syntactic sugar via @decorator and only act on the function or class immediately below them\n",
                "* The decorator replaces the decorated function with the new function returned by the decorator. This replacement is permanent until the end of the program or until the function is redefined.\n",
                "* The decorator only modifies the decorated target function, other undecorated functions are not affected.\n",
                "* :: The same decorator can decorate several different functions, with each function taking effect independently\n",
                "* If there are multiple decorators, they take effect in bottom-to-top order, with each decorator acting independently on the decorated function."
            ]
        },
        {
            "cell_type": "code",
            "execution_count": null,
            "id": "83296b48",
            "metadata": {},
            "outputs": [],
            "source": [
                "def my_decorator(func):  # 定义一个装饰器，接受一个函数作为参数\n",
                "    def wrapper():\n",
                "        print(\"函数执行前\")  # 添加额外逻辑\n",
                "        func()            # 调用原函数\n",
                "        print(\"函数执行后\")\n",
                "    return wrapper        # 返回包装后的函数\n",
                "\n",
                "@my_decorator  # 语法糖：等价于 say_hello = my_decorator(say_hello)\n",
                "def say_hello():\n",
                "    print(\"Hello!\")\n",
                "\n",
                "say_hello()\n"
            ]
        },
        {
            "cell_type": "code",
            "execution_count": null,
            "id": "8cf6d6d0",
            "metadata": {},
            "outputs": [],
            "source": [
                "from functools import wraps\n",
                "\n",
                "# 装饰器 1：将结果乘以 2\n",
                "def double_result(func):\n",
                "    @wraps(func)\n",
                "    def wrapper(*args, **kwargs):\n",
                "        result = func(*args, **kwargs)\n",
                "        return result * 2\n",
                "    return wrapper\n",
                "\n",
                "# 装饰器 2：将结果加 10\n",
                "def add_ten(func):\n",
                "    @wraps(func)\n",
                "    def wrapper(*args, **kwargs):\n",
                "        result = func(*args, **kwargs)\n",
                "        return result + 10\n",
                "    return wrapper\n",
                "\n",
                "# 不同的装饰器顺序会导致不同结果\n",
                "@double_result\n",
                "@add_ten\n",
                "def calculate_case1(x):\n",
                "    return x\n",
                "\n",
                "@add_ten\n",
                "@double_result\n",
                "def calculate_case2(x):\n",
                "    return x\n",
                "\n",
                "print(\"Case 1 结果:\", calculate_case1(5))  # 输出：(5 +10) *2 = 30\n",
                "print(\"Case 2 结果:\", calculate_case2(5))  # 输出：(5 *2) +10 = 20"
            ]
        },
        {
            "cell_type": "markdown",
            "id": "b073ef5b",
            "metadata": {},
            "source": [
                "3. Unpacking and unpacking"
            ]
        },
        {
            "cell_type": "code",
            "execution_count": null,
            "id": "97f22d90",
            "metadata": {},
            "outputs": [],
            "source": [
                "a, b = 1, 2  # 直接解包赋值\n",
                "a, b = b, a  # 交换变量（无需临时变量）"
            ]
        },
        {
            "cell_type": "markdown",
            "id": "16cbea7b",
            "metadata": {},
            "source": [
                "4. Context manager (with statement)"
            ]
        },
        {
            "cell_type": "code",
            "execution_count": null,
            "id": "987f1e0a",
            "metadata": {},
            "outputs": [],
            "source": [
                "#上下文管理器（with 语句）\n",
                "#等效于 try-finally 结构，但代码更简洁\n",
                "# 传统写法（需手动关闭文件）\n",
                "file = open(\"example1.txt\", \"w\")\n",
                "try:\n",
                "    file.write(\"Hello, World!\")\n",
                "finally:\n",
                "    file.close()\n",
                "\n",
                "# 使用 with 语句（自动关闭文件）\n",
                "with open(\"example2.txt\", \"w\") as file:\n",
                "    file.write(\"Hello, World!\")"
            ]
        },
        {
            "cell_type": "markdown",
            "id": "ccaa2bbb",
            "metadata": {},
            "source": [
                "5. Walrus Operator :=)\n",
                "\n",
                "* :: Walrus operator: the walrus operator is formally known as an assignment expression, but is nicknamed walrus because := looks like a walrus's eyes and tusks\n",
                "* :: Assigning values to variables inside expressions to avoid double counting"
            ]
        },
        {
            "cell_type": "code",
            "execution_count": null,
            "id": "8d6dbc20",
            "metadata": {},
            "outputs": [],
            "source": [
                "# 使用海象运算符\n",
                "while (line := input(\"输入内容 (输入 exit 退出): \")) != \"exit\":\n",
                "    print(f\"你输入了: {line}\")"
            ]
        },
        {
            "cell_type": "code",
            "execution_count": null,
            "id": "0e337d18",
            "metadata": {},
            "outputs": [],
            "source": [
                "#传统写法\n",
                "while True:\n",
                "    line = input(\"输入内容 (输入 exit 退出): \")\n",
                "    if line == \"exit\":\n",
                "        break\n",
                "    print(f\"你输入了: {line}\")"
            ]
        },
        {
            "cell_type": "markdown",
            "id": "8b49641c",
            "metadata": {},
            "source": [
                "6. Chained Comparisons (CC)"
            ]
        },
        {
            "cell_type": "code",
            "execution_count": null,
            "id": "ec60bba0",
            "metadata": {},
            "outputs": [],
            "source": [
                "x = 5\n",
                "if 0 < x < 10:  # 代替 0 < x and x < 10\n",
                "    print(\"x 在范围内\")"
            ]
        },
        {
            "cell_type": "markdown",
            "id": "eab646b3",
            "metadata": {},
            "source": [
                "7.1 Dictionary derivatives\n",
                "\n",
                "Dictionary-derived format: ```{key_expr: value_expr for item in iterable}```, with support for conditional filtering and multiple loops."
            ]
        },
        {
            "cell_type": "code",
            "execution_count": null,
            "id": "38c9ee8a",
            "metadata": {},
            "outputs": [],
            "source": [
                "# 将列表转换为字典（元素作为键，平方作为值）\n",
                "numbers = [1, 2, 3, 4]\n",
                "square_dict = {x: x**2 for x in numbers}\n",
                "print(square_dict)  # 输出: {1: 1, 2: 4, 3: 9, 4: 16}"
            ]
        },
        {
            "cell_type": "code",
            "execution_count": null,
            "id": "9dd7644a",
            "metadata": {},
            "outputs": [],
            "source": [
                "#合并两个列表为字典\n",
                "keys = ['a', 'b', 'c']\n",
                "values = [10, 20, 30]\n",
                "merged_dict = {k: v for k, v in zip(keys, values)}\n",
                "print(merged_dict)  # 输出: {'a': 10, 'b': 20, 'c': 30}"
            ]
        },
        {
            "cell_type": "code",
            "execution_count": null,
            "id": "9e95f1ca",
            "metadata": {},
            "outputs": [],
            "source": [
                "#带条件的推导式\n",
                "#仅保留值为奇数的键值对\n",
                "original = {'a': 1, 'b': 2, 'c': 3}\n",
                "filtered_dict = {k: v for k, v in original.items() if v % 2 != 0}\n",
                "print(filtered_dict)  # 输出: {'a': 1, 'c': 3}"
            ]
        },
        {
            "cell_type": "code",
            "execution_count": null,
            "id": "1b820c87",
            "metadata": {},
            "outputs": [],
            "source": [
                "#键值互换（需要确保键值唯一）\n",
                "original = {'apple': 'red', 'banana': 'yellow', 'grape': 'purple'}\n",
                "swapped = {v: k for k, v in original.items()}\n",
                "print(swapped)  # 输出: {'red': 'apple', 'yellow': 'banana', 'purple': 'grape'}"
            ]
        },
        {
            "cell_type": "markdown",
            "id": "14ad1fc6",
            "metadata": {},
            "source": [
                "7.2 Set derivatives\n",
                "\n",
                "Set deductive format: ```{expr for item in iterable}```, automatically de-duplicated and unordered"
            ]
        },
        {
            "cell_type": "code",
            "execution_count": null,
            "id": "ad774d1f",
            "metadata": {},
            "outputs": [],
            "source": [
                "#快速去重\n",
                "#从列表创建唯一元素的集合\n",
                "names = [\"Alice\", \"Bob\", \"Alice\", \"Charlie\"]\n",
                "unique_names = {name for name in names}\n",
                "print(unique_names)  # 输出: {'Charlie', 'Bob', 'Alice'}"
            ]
        },
        {
            "cell_type": "code",
            "execution_count": null,
            "id": "4e718463",
            "metadata": {},
            "outputs": [],
            "source": [
                "#带条件的集合推导\n",
                "# 生成1-10中偶数的平方集合\n",
                "even_squares = {x**2 for x in range(1, 11) if x % 2 == 0}\n",
                "print(even_squares)  # 输出: {16, 4, 36, 64, 100}"
            ]
        },
        {
            "cell_type": "code",
            "execution_count": null,
            "id": "1f80eaa9",
            "metadata": {},
            "outputs": [],
            "source": [
                "# 字符串处理\n",
                "# 提取字符串中的唯一元音字母\n",
                "text = \"hello world\"\n",
                "vowels = {char for char in text if char in 'aeiou'}\n",
                "print(vowels)  # 输出: {'e', 'o'}"
            ]
        },
        {
            "cell_type": "markdown",
            "id": "92d73ae0",
            "metadata": {},
            "source": [
                "7.3 Contrast"
            ]
        },
        {
            "cell_type": "code",
            "execution_count": null,
            "id": "99c91866",
            "metadata": {},
            "outputs": [],
            "source": [
                "# 列表推导式 vs 集合推导式\n",
                "numbers = [1, 2, 2, 3, 3, 3]\n",
                "list_result = [x**2 for x in numbers]  # [1, 4, 4, 9, 9, 9]\n",
                "set_result = {x**2 for x in numbers}   # {1, 4, 9}\n",
                "print(list_result)\n",
                "print(set_result)"
            ]
        },
        {
            "cell_type": "markdown",
            "id": "6ee97cf6",
            "metadata": {},
            "source": [
                "8. Unwrapping of function arguments (*args and kwargs)"
            ]
        },
        {
            "cell_type": "markdown",
            "id": "53c671d4",
            "metadata": {},
            "source": [
                "* In Python * ```*args``` are used for positional arguments to be unpacked into a tuple, and ```**kwargs``` are used for keyword arguments to be unpacked into a dictionary\n",
                "* Usually used when defining a function, it allows the function to accept any number of arguments. As syntactic sugar, it can simplify the parameter passing process."
            ]
        },
        {
            "cell_type": "code",
            "execution_count": null,
            "id": "253e18c0",
            "metadata": {},
            "outputs": [],
            "source": [
                "# *args 将传入的 1, 2 或 1, 2, 3, 4 打包成一个元组 (1, 2) 或 (1, 2, 3, 4)\n",
                "def add_numbers(*args):\n",
                "    total = 0\n",
                "    for num in args:\n",
                "        total += num\n",
                "    return total\n",
                "\n",
                "print(add_numbers(1, 2))        # 输出：3\n",
                "print(add_numbers(1, 2, 3, 4))  # 输出：10"
            ]
        },
        {
            "cell_type": "code",
            "execution_count": null,
            "id": "ae51edd0",
            "metadata": {},
            "outputs": [],
            "source": [
                "#**kwargs：处理多个关键字参数\n",
                "def print_info(**kwargs):\n",
                "    for key, value in kwargs.items():\n",
                "        print(f\"{key}: {value}\")\n",
                "\n",
                "print_info(name=\"Alice\", age=25)\n",
                "# 输出：\n",
                "# name: Alice\n",
                "# age: 25"
            ]
        },
        {
            "cell_type": "markdown",
            "id": "8bf6959c",
            "metadata": {},
            "source": [
                "python functions are first-class objects, ie:\n",
                "* :: Created at runtime\n",
                "* :: Can be assigned to a variable or element of a data structure\n",
                "* :: Can be passed as an argument to a function\n",
                "* :: Can be used as the return result of a function\n",
                "\n",
                "In python, integers, strings, and dictionaries are all first-class objects, and all functions are also"
            ]
        },
        {
            "cell_type": "markdown",
            "id": "23965790",
            "metadata": {},
            "source": [
                "## <a id='toc9_6_'></a> [9.6 Python Object-Oriented Programming: Defining Classes](#toc0_)"
            ]
        },
        {
            "cell_type": "markdown",
            "id": "10342538",
            "metadata": {},
            "source": [
                "* :: One of the most powerful features of object-oriented programming languages is that they allow problem solvers to create entirely new classes to model the data needed to solve the problem\n",
                "* :: Abstract data types were previously used to provide logical descriptions of data state and behavior\n",
                "* :: By constructing classes that implement abstract data types, the abstraction process can be utilized while providing the details necessary to actually apply the abstraction in the program\n",
                "* :: New classes can be created whenever an abstract data type needs to be implemented"
            ]
        },
        {
            "cell_type": "markdown",
            "id": "a42e99df",
            "metadata": {},
            "source": [
                "Addendum: In Python, an attribute is actually a variable of an object that can store various types of values, including **references to instances**"
            ]
        },
        {
            "cell_type": "markdown",
            "id": "357c6e6d",
            "metadata": {},
            "source": [
                "### <a id='toc9_6_1_'></a> [9.6.1 Example: fraction class **[State and Behavior]/[Properties and Methods]**](#toc0_)\n",
                "\n",
                "Request:\n",
                "1. Create a traditional fraction data object like $\\dfrac{3}{5}$. The numerator can be any integer and can carry a negative sign. The denominator is a positive integer\n",
                "2. Operations such as addition, subtraction, multiplication, division, etc. can be performed on this data object, which can also be displayed using the standard slash form, e.g. **3 / 5**.\n",
                "3. The final result is a simplest fraction, regardless of the operation performed."
            ]
        },
        {
            "cell_type": "markdown",
            "id": "a9cc73c8",
            "metadata": {},
            "source": [
                "Thoughts:\n",
                "First define the class\n",
                "\n",
                "$\\implies$\n",
                "\n",
                "#### <a id='toc9_6_1_1_'></a> [9.6.1.1 Provide class name and a full set of method definitions](#toc0_)\n",
                "\n",
                "Please note:\n",
                "* :: All classes should first provide constructors\n",
                "* :: Constructor methods define how data objects are created\n",
                "* :: The call is completed by using the class name and passing in the actual value of the state"
            ]
        },
        {
            "cell_type": "code",
            "execution_count": null,
            "id": "9fe75875",
            "metadata": {
                "collapsed": true
            },
            "outputs": [],
            "source": [
                "class Fraction:\n",
                "    #方法定义\n",
                "    def __init__(self,top,bottom):#构造方法。self总是指向对象本身的特殊参数，必须是第一个形式参数，但调用时不需要提供对应的实际参数\n",
                "        #__init__并不返回实例，而是初始化实例\n",
                "        # 使用类名并传入状态的实际值就能完成调用\n",
                "        self.num = top\n",
                "        self.den = bottom"
            ]
        },
        {
            "cell_type": "markdown",
            "id": "11c44856",
            "metadata": {},
            "source": [
                "Supplement:\n",
                "In __init__, the self argument\n",
                "* must point to the object itself (instance) as the first argument.\n",
                "* No need to pass it manually, Python handles it automatically.\n",
                "\n",
                "When initializing an instance, define the properties of the object by self.property name"
            ]
        },
        {
            "cell_type": "code",
            "execution_count": null,
            "id": "982f3aae",
            "metadata": {},
            "outputs": [],
            "source": [
                "myf = Fraction(3,5)\n",
                "print (myf)#在这里打印的是存储在变量中的实际引用"
            ]
        },
        {
            "cell_type": "code",
            "execution_count": null,
            "id": "598f9934",
            "metadata": {
                "collapsed": true
            },
            "outputs": [],
            "source": [
                "class Fraction:\n",
                "    #方法定义\n",
                "    def __init__(self,top,bottom):#构造方法。self总是指向对象本身的特殊参数，必须是第一个形式参数，但调用时不需要提供对应的实际参数。\n",
                "        # 使用类名并传入状态的实际值就能完成调用\n",
                "        self.num = top\n",
                "        self.den = bottom\n",
                "    def show(self):#打印数据\n",
                "        print(self.num,'/',self.den)\n"
            ]
        },
        {
            "cell_type": "code",
            "execution_count": null,
            "id": "6acbdd6d",
            "metadata": {},
            "outputs": [],
            "source": [
                "myf = Fraction(3,5)\n",
                "myf.show()\n",
                "print(myf)\n",
                "#myf.show()*6#注意：unsupported operand type(s) for *: 'NoneType' and 'int'"
            ]
        },
        {
            "cell_type": "markdown",
            "id": "d52c81b7",
            "metadata": {},
            "source": [
                "There is a problem with the \"convert object to string\" method, so you need the\n",
                "\n",
                "#### <a id='toc9_6_1_2_'></a>[9.6.1.2 Rewrite default implementation](#toc0_)\n",
                "\n",
                "That is, redefine the behavior of the method"
            ]
        },
        {
            "cell_type": "code",
            "execution_count": null,
            "id": "b4999460",
            "metadata": {
                "collapsed": true
            },
            "outputs": [],
            "source": [
                "class Fraction:\n",
                "    #方法定义\n",
                "    def __init__(self,top,bottom):#构造方法。self总是指向对象本身的特殊参数，必须是第一个形式参数，但调用时不需要提供对应的实际参数。\n",
                "        # 使用类名并传入状态的实际值就能完成调用\n",
                "        self.num = top\n",
                "        self.den = bottom\n",
                "    def show(self):#打印数据\n",
                "        print(self.num,'/',self.den)\n",
                "    def __str__(self):#为了正确打印，告诉这个类如何将自己转换为字符串，这是print函数必须的。这重写了默认实现。\n",
                "        return str(self.num) + '/' + str(self.den)"
            ]
        },
        {
            "cell_type": "code",
            "execution_count": null,
            "id": "bea62b39",
            "metadata": {},
            "outputs": [],
            "source": [
                "myf = Fraction(3,5)\n",
                "myf.show()"
            ]
        },
        {
            "cell_type": "code",
            "execution_count": null,
            "id": "c205a4e5",
            "metadata": {},
            "outputs": [],
            "source": [
                "print(myf)\n",
                "print(type(myf))"
            ]
        },
        {
            "cell_type": "markdown",
            "id": "0d69a856",
            "metadata": {},
            "source": [
                "Note that the following two will be in quotes and are in string form"
            ]
        },
        {
            "cell_type": "code",
            "execution_count": null,
            "id": "30f2c33e",
            "metadata": {},
            "outputs": [],
            "source": [
                "myf.__str__()"
            ]
        },
        {
            "cell_type": "code",
            "execution_count": null,
            "id": "ddffa3b5",
            "metadata": {},
            "outputs": [],
            "source": [
                "str(myf)"
            ]
        },
        {
            "cell_type": "markdown",
            "id": "a89a3b4f",
            "metadata": {},
            "source": [
                "Now for the big rewrite, first check what needs to be rewritten in the"
            ]
        },
        {
            "cell_type": "code",
            "execution_count": null,
            "id": "ee1d96d3",
            "metadata": {},
            "outputs": [],
            "source": [
                "f1 = Fraction(1,4)\n",
                "f2 = Fraction(1,2)\n",
                "#f1 + f2#unsupported operand type(s) for +: 'Fraction' and 'Fraction'"
            ]
        },
        {
            "cell_type": "markdown",
            "id": "aec8a0e9",
            "metadata": {},
            "source": [
                "Found out that this doesn't work, so rewrite it, there:"
            ]
        },
        {
            "cell_type": "code",
            "execution_count": null,
            "id": "bf78d4c9",
            "metadata": {
                "collapsed": true
            },
            "outputs": [],
            "source": [
                "class Fraction:\n",
                "    #方法定义\n",
                "    def __init__(self,top,bottom):#构造方法。self总是指向对象本身的特殊参数，必须是第一个形式参数，但调用时不需要提供对应的实际参数。\n",
                "        # 使用类名并传入状态的实际值就能完成调用\n",
                "        self.num = top\n",
                "        self.den = bottom\n",
                "    def show(self):#打印数据\n",
                "        print(self.num,'/',self.den)\n",
                "    def __str__(self):\n",
                "        return str(self.num) + '/' + str(self.den)\n",
                "    def __add__(self,otherfraction):\n",
                "        newnum = self.num * otherfraction.den + \\\n",
                "                 self.den * otherfraction.num\n",
                "        newden = self.den * otherfraction.den\n",
                "        return Fraction(newnum,newden)"
            ]
        },
        {
            "cell_type": "code",
            "execution_count": null,
            "id": "dc80f106",
            "metadata": {},
            "outputs": [],
            "source": [
                "f1 = Fraction(1,4)\n",
                "f2 = Fraction(1,2)\n",
                "print(f1 + f2)"
            ]
        },
        {
            "cell_type": "markdown",
            "id": "8edf612e",
            "metadata": {},
            "source": [
                "Improved here to get the simplest fraction. The algorithm with the greatest common factor, for"
            ]
        },
        {
            "cell_type": "code",
            "execution_count": null,
            "id": "41d71329",
            "metadata": {},
            "outputs": [],
            "source": [
                "def gcd(m,n):\n",
                "    while m%n != 0:\n",
                "        oldm = m\n",
                "        oldn = n\n",
                "\n",
                "        m = oldn\n",
                "        n = oldm%oldn\n",
                "    return n"
            ]
        },
        {
            "cell_type": "code",
            "execution_count": null,
            "id": "410d2769",
            "metadata": {
                "collapsed": true
            },
            "outputs": [],
            "source": [
                "class Fraction:\n",
                "    #方法定义\n",
                "    def __init__(self,top,bottom):#构造方法。self总是指向对象本身的特殊参数，必须是第一个形式参数，但调用时不需要提供对应的实际参数。\n",
                "        # 使用类名并传入状态的实际值就能完成调用\n",
                "        self.num = top\n",
                "        self.den = bottom\n",
                "    def show(self):#打印数据\n",
                "        print(self.num,'/',self.den)\n",
                "    def __str__(self):\n",
                "        return str(self.num) + '/' + str(self.den)\n",
                "\n",
                "    def gcd(self,m,n):\n",
                "        while m%n != 0:\n",
                "            oldm = m\n",
                "            oldn = n\n",
                "            m = oldn\n",
                "            n = oldm%oldn\n",
                "        return n\n",
                "\n",
                "    def __add__(self,otherfraction):\n",
                "        newnum = self.num * otherfraction.den + \\\n",
                "                 self.den * otherfraction.num\n",
                "        newden = self.den * otherfraction.den\n",
                "        commom = self.gcd(newnum,newden)\n",
                "        return Fraction(newnum//commom,newden//commom)"
            ]
        },
        {
            "cell_type": "code",
            "execution_count": null,
            "id": "c2e1894a",
            "metadata": {},
            "outputs": [],
            "source": [
                "f1 = Fraction(1,4)\n",
                "f2 = Fraction(1,2)\n",
                "print(f1 + f2)"
            ]
        },
        {
            "cell_type": "markdown",
            "id": "4bd406e0",
            "metadata": {},
            "source": [
                "In order to allow two scores to be compared with each other, the concept is first stated as follows:** Shallow equality** means equal only if **references** are the same\n",
                "\n",
                "#### <a id='toc9_6_1_3_'></a>[9.6.1.3 Deep equality is value equality](#toc0_)\n",
                "\n",
                "Then rewrite the ```__eq__`` method with the"
            ]
        },
        {
            "cell_type": "code",
            "execution_count": null,
            "id": "7ec510a8",
            "metadata": {},
            "outputs": [],
            "source": [
                "class Fraction:\n",
                "    #方法定义\n",
                "    def __init__(self,top,bottom):#构造方法。self总是指向对象本身的特殊参数，必须是第一个形式参数，但调用时不需要提供对应的实际参数。\n",
                "        # 使用类名并传入状态的实际值就能完成调用\n",
                "        self.num = top\n",
                "        self.den = bottom\n",
                "    def show(self):#打印数据\n",
                "        print(self.num,'/',self.den)\n",
                "    def __str__(self):\n",
                "        return str(self.num) + '/' + str(self.den)\n",
                "    def __add__(self,otherfraction):\n",
                "        newnum = self.num * otherfraction.den + \\\n",
                "                 self.den * otherfraction.num\n",
                "        newden = self.den * otherfraction.den\n",
                "        commom = self.gcd(newnum,newden)\n",
                "        return Fraction(newnum//commom,newden//commom)\n",
                "    def gcd(self,m,n):\n",
                "        while m%n != 0:\n",
                "            oldm = m\n",
                "            oldn = n\n",
                "            m = oldn\n",
                "            n = oldm%oldn\n",
                "        return n\n",
                "    def __eq__(self,other):\n",
                "        firstnum = self.num * other.den\n",
                "        secondnum = self.den * other.num\n",
                "\n",
                "        return firstnum == secondnum"
            ]
        },
        {
            "cell_type": "markdown",
            "id": "a1e181d9",
            "metadata": {},
            "source": [
                "### <a id='toc9_6_2_'></a> [9.6.2 Inheritance: logic gates and circuits](#toc0_)\n",
                "* :: Inheritance relates a class to another class\n",
                "* :: python's subclasses can inherit feature data and behavior from their parent classes (also known as superclasses)\n",
                "* :: For example, a list is a child of an ordered set (parent). This relationship is often referred to as the IS-A relationship and implies that lists inherit important features from ordered sets\n",
                "\n",
                "\n",
                "Inheritance is illustrated below using logic gates and circuits."
            ]
        },
        {
            "cell_type": "markdown",
            "id": "c0c9b9e8",
            "metadata": {},
            "source": [
                "Idea:\n",
                "\n",
                "Construct two classes, a superclass LogicGate and a connector connector\n",
                "\n",
                "* :: Refinement of the subclasses of the superclasses, which can be categorized by the number of inputs (pins)\n",
                "* :: Superclasses, as the most general class, need to be the name of this logic gate, the output; code reuse needs to be considered\n",
                "* :: Exactly how the output of the formGateLogic is implemented by subclasses. This code can be absent, but defining it first in a superclass simplifies the subsequent process\n",
                "* :: Further refinement of subclasses of subclasses, specific to explicit logical gates\n",
                "* :: Succession can be significantly reduced through sound planning\n",
                "\n",
                "The connector class, in order to connect two logic gates, needs to use this structure (HAS-A, which has one), rather than inheriting from the superclass\n",
                "* :: The connector class contains an instance of logicGate inside but not in the inheritance hierarchy\n",
                "* :: Each connector object contains two instances of logical gates, fromGate and toGate (HAS-A)\n",
                "* :: So setNextPin needs to be added to the logic gates so that each toGate can select the appropriate class"
            ]
        },
        {
            "cell_type": "markdown",
            "id": "521319c5",
            "metadata": {},
            "source": [
                "please note\n",
                "* Initially the pins are empty\n",
                "* :: In a sense, the circuit works in reverse to get the required inputs and then calculate the results\n",
                "* setNextPin needs to be added to the class of the logic gate so that each togate can select the appropriate inputs\n",
                "Start writing in response to Figures 1-10. Theory exists, start realizing"
            ]
        },
        {
            "cell_type": "markdown",
            "id": "d1e548e0",
            "metadata": {},
            "source": [
                "! [1-10](. /110.PNG)"
            ]
        },
        {
            "cell_type": "code",
            "execution_count": null,
            "id": "30c9df8f",
            "metadata": {},
            "outputs": [],
            "source": [
                "class LogicGate:\n",
                "    def __init__(self,label):#就这里有下划线\n",
                "        self.label = label\n",
                "        self.output = None\n",
                "    def getLabel(self):#这零件叫什么名字,例如G1\n",
                "        return self.label\n",
                "    def getOutPut(self):#这零件输出什么\n",
                "        #核心输出方法，通过调用抽象方法performGateLogic计算结果（模板方法设计模式）\n",
                "        #多态性： 不同子类（如将来的 OrGate）可以有不同的 performGateLogic 实现\n",
                "        self.output = self.performGateLogic()#不用具体实现，连输入是啥样的都不用管\n",
                "        return self.output\n",
                "    #不管输入的情况"
            ]
        },
        {
            "cell_type": "code",
            "execution_count": null,
            "id": "79de5259",
            "metadata": {},
            "outputs": [],
            "source": [
                "#继承\n",
                "class BinaryGate(LogicGate):#两个输入的引脚的门\n",
                "    def __init__(self,n):\n",
                "        super().__init__(n)#记住继承的写法\n",
                "        #加脚，起初都是空的\n",
                "        #换言之，子类的构造方法需要先调用父类的构造方法，然后初始化自己独有的数据\n",
                "        self.pinA = None\n",
                "        self.pinB = None\n",
                "        \n",
                "    def getPinA(self):\n",
                "            return int(input(\"Enter Pin A input for gate\" + self.getLabel() + \"-->\"))\n",
                "        \n",
                "    def getPinB(self):\n",
                "            return int(input(\"Enter Pin B input for gate\" + self.getLabel() + \"-->\"))"
            ]
        },
        {
            "cell_type": "code",
            "execution_count": null,
            "id": "c422a51a",
            "metadata": {},
            "outputs": [],
            "source": [
                "class UnaryGate(LogicGate):\n",
                "    def __init__(self, label):\n",
                "        super().__init__(label)\n",
                "        self.pin = None\n",
                "\n",
                "    def getPin(self):\n",
                "        return int(input(\"Enter Pin input for gate\" + self.getLabel() + \"-->\"))"
            ]
        },
        {
            "cell_type": "markdown",
            "id": "c81725f0",
            "metadata": {},
            "source": [
                "Refined to specific logic gates, then there are"
            ]
        },
        {
            "cell_type": "code",
            "execution_count": null,
            "id": "97d37c1c",
            "metadata": {
                "collapsed": true
            },
            "outputs": [],
            "source": [
                "class AndGate(BinaryGate):\n",
                "    def __init__(self, n) -> None:\n",
                "        super().__init__(n)\n",
                "    def performGateLogic(self):\n",
                "        a = self.getPinA()\n",
                "        b = self.getPinB()\n",
                "        if a == 1 and b == 1:\n",
                "            return 1 \n",
                "        else:\n",
                "            return 0\n",
                "    def setNextPin(self,source):#source是连接器Connector\n",
                "        #使用Next是因为In a sense, the circuit works backwards to find the input necessary to finally produce output\n",
                "        if self.pinA == None:\n",
                "            self.pinA = source\n",
                "        else:#此时pinA非空\n",
                "            if self.pinB == None:\n",
                "                self.pinB = source#如果pinB空，就链接pinB\n",
                "            else:\n",
                "                raise RuntimeError(\"Error:no empty pins\")\n",
                "            \n",
                "    #现在输入源有两种，一种外部输入，一种是上一个逻辑门的输出\n",
                "    def getPinA(self):\n",
                "        if self.pinA == None:\n",
                "            return int(input(\"ENTER PIN A FOR GATE \" + \\\n",
                "                         self.getLabel() + \"-->\"))\n",
                "        else:\n",
                "            return self.pinA.getFrom().getOutPut()# setNextPin将PinA设定为链接器source，所以可以调用getFrom()函数找到上一个逻辑门，再查它的输出\n",
                "    def getPinB(self):\n",
                "        if self.pinB == None:\n",
                "            return int(input(\"ENTER PIN B FOR GATE \" + \\\n",
                "                         self.getLabel() + \"-->\"))\n",
                "        else:\n",
                "            return self.pinB.getFrom().getOutPut()"
            ]
        },
        {
            "cell_type": "code",
            "execution_count": null,
            "id": "a6c6e15a",
            "metadata": {},
            "outputs": [],
            "source": [
                "#调用该类，创建一个标签为\"G1\"的与门\n",
                "g1 = AndGate(\"G1\")#对象是g1，标签是G1\n",
                "g1.getOutPut() "
            ]
        },
        {
            "cell_type": "code",
            "execution_count": null,
            "id": "8e21cb71",
            "metadata": {
                "collapsed": true
            },
            "outputs": [],
            "source": [
                "class OrGate(BinaryGate):\n",
                "    def __init__(self, n) -> None:\n",
                "        super().__init__(n)\n",
                "    def performGateLogic(self):\n",
                "        a = self.getPinA()\n",
                "        b = self.getPinB()\n",
                "        if a == 1 or b == 1:\n",
                "            return 1 \n",
                "        else:\n",
                "            return 0\n",
                "    def setNextPin(self,source):\n",
                "        if self.pinA == None:\n",
                "            self.pinA = source\n",
                "        else:\n",
                "            if self.pinB == None:\n",
                "                self.pinB = source\n",
                "            else:\n",
                "                raise RuntimeError(\"Error:no empty pins\")\n",
                "    def getPinA(self):\n",
                "        if self.pinA == None:\n",
                "            return int(input(\"ENTER PIN A FOR GATE \" + \\\n",
                "                         self.getLabel() + \"-->\"))\n",
                "        else:\n",
                "            return self.pinA.getFrom().getOutPut()\n",
                "    def getPinB(self):\n",
                "        if self.pinB == None:\n",
                "            return int(input(\"ENTER PIN B FOR GATE \" + \\\n",
                "                         self.getLabel() + \"-->\"))\n",
                "        else:\n",
                "            return self.pinB.getFrom().getOutPut()"
            ]
        },
        {
            "cell_type": "code",
            "execution_count": null,
            "id": "d72296ed",
            "metadata": {},
            "outputs": [],
            "source": [
                "g2 = OrGate(\"G2\")\n",
                "g2.getOutPut()"
            ]
        },
        {
            "cell_type": "code",
            "execution_count": null,
            "id": "5e5f1e99",
            "metadata": {
                "collapsed": true
            },
            "outputs": [],
            "source": [
                "class NotGate(UnaryGate):\n",
                "    def __init__(self, n) -> None:\n",
                "        super().__init__(n)\n",
                "    def performGateLogic(self):\n",
                "        a = self.getPin()\n",
                "        if a == 1 :\n",
                "            return 0 \n",
                "        else:\n",
                "            return 1\n",
                "    def setNextPin(self,source):\n",
                "        if self.pin == None:\n",
                "            self.pin = source#设定链接器 Connector\n",
                "        else:\n",
                "            raise RuntimeError(\"Error:no empty pins\")\n",
                "    def getPin(self):\n",
                "        if self.pin == None:\n",
                "            return int(input(\"ENTER PIN FOR GATE\" + \\\n",
                "                         self.getLabel() + \"-->\"))\n",
                "        else:\n",
                "            return self.pin.getFrom().getOutPut()"
            ]
        },
        {
            "cell_type": "code",
            "execution_count": null,
            "id": "d53d8b59",
            "metadata": {},
            "outputs": [],
            "source": [
                "g3 = NotGate(\"G3\")\n",
                "g3.getOutPut()"
            ]
        },
        {
            "cell_type": "markdown",
            "id": "17e227ca",
            "metadata": {},
            "source": [
                "Link logical gates together, using a new class for Connector. This class is not in the inheritance hierarchy of the LogicGate, but will use that structure so that there is a LogicGate at both ends of the instance of Connector. This Connector-LogicGate relationship is called HAS-A (is a). It is important to distinguish between IS-A, which requires inheritance, and HAS-A relationships, which do not."
            ]
        },
        {
            "cell_type": "code",
            "execution_count": null,
            "id": "dbc52716",
            "metadata": {},
            "outputs": [],
            "source": [
                "class AndGate(BinaryGate):\n",
                "    def __init__(self, n) -> None:\n",
                "        super().__init__(n)\n",
                "    def performGateLogic(self):\n",
                "        a = self.getPinA()\n",
                "        b = self.getPinB()\n",
                "        if a == 1 and b == 1:\n",
                "            return 1 \n",
                "        else:\n",
                "            return 0\n",
                "    def setNextPin(self,source):#source是连接器Connector\n",
                "        if self.pinA == None:\n",
                "            self.pinA = source\n",
                "        else:#此时pinA非空\n",
                "            if self.pinB == None:\n",
                "                self.pinB = source#如果pinB空，就链接pinB\n",
                "            else:\n",
                "                raise RuntimeError(\"Error:no empty pins\")\n",
                "            \n",
                "    #现在输入源有两种，一种外部输入，一种是上一个逻辑门的输出\n",
                "    def getPinA(self):\n",
                "        if self.pinA == None:\n",
                "            return int(input(\"ENTER PIN A FOR GATE \" + \\\n",
                "                         self.getLabel() + \"-->\"))\n",
                "        else:\n",
                "            return self.pinA.getFrom().getOutPut()# 此时的self.pinA为链接器connector，所以可以调用getFrom()函数，找到上一个逻辑门的输出\n",
                "    def getPinB(self):\n",
                "        if self.pinB == None:\n",
                "            return int(input(\"ENTER PIN B FOR GATE \" + \\\n",
                "                         self.getLabel() + \"-->\"))\n",
                "        else:\n",
                "            return self.pinB.getFrom().getOutPut()"
            ]
        },
        {
            "cell_type": "code",
            "execution_count": null,
            "id": "e20915b9",
            "metadata": {
                "collapsed": true
            },
            "outputs": [],
            "source": [
                "class Connector:\n",
                "    #连接器应代表从 fgate 到 tgate 的信号流向，反向绑定会破坏电路逻辑\n",
                "    #目标门的视角：tgate 需要在自己的输入引脚（pinA/pinB）上注册连接器，表示“我需要从这个连接器接收信号”。这里的 \"Next\" 不是指时间顺序，而是指目标门的输入引脚需要接收的下一个连接器\n",
                "\n",
                "    def __init__(self,fgate,tgate) -> None:\n",
                "        self.fromgate = fgate\n",
                "        self.togate = tgate\n",
                "        #请注意这里处理的主体是tgate\n",
                "        tgate.setNextPin(self)# 每次焊接的导线（连接器）就是当前逻辑门引脚的“下一个”输入源。\n",
                "    def getFrom(self):\n",
                "        return self.fromgate# 这是逻辑门\n",
                "    def getTo(self):\n",
                "        return self.togate\n"
            ]
        },
        {
            "cell_type": "code",
            "execution_count": null,
            "id": "10dc8f38",
            "metadata": {
                "collapsed": true
            },
            "outputs": [],
            "source": [
                "g1 = AndGate(\"G1\")#规定各个逻辑门是啥名字\n",
                "g2 = AndGate(\"G2\")\n",
                "g3 = OrGate(\"G3\")\n",
                "g4 = NotGate(\"G4\")\n",
                "c1 = Connector(g1,g3)\n",
                "c2 = Connector(g2,g3)# 3.发现g3和g2,g1相关\n",
                "c3 = Connector(g3,g4)# 2.发现g4和g3相关"
            ]
        },
        {
            "cell_type": "code",
            "execution_count": null,
            "id": "33e6cb32",
            "metadata": {},
            "outputs": [],
            "source": [
                "g4.getOutPut()# 1.要求g4的输出"
            ]
        },
        {
            "cell_type": "markdown",
            "id": "89e55970",
            "metadata": {},
            "source": [
                "This circuit is Figure 1-10."
            ]
        },
        {
            "cell_type": "markdown",
            "id": "c6b684f1",
            "metadata": {},
            "source": [
                "<img src=\"./110.png\">"
            ]
        },
        {
            "cell_type": "markdown",
            "id": "6c9e5c99",
            "metadata": {},
            "source": [
                "*****************************************************\n",
                "Alternatively, there are"
            ]
        },
        {
            "cell_type": "code",
            "execution_count": 1,
            "id": "327bd68c",
            "metadata": {},
            "outputs": [],
            "source": [
                "class LogicGate:\n",
                "    def __init__(self,label):#就这里有下划线\n",
                "        self.label = label\n",
                "        self.output = None\n",
                "    def getLabel(self):#这零件叫什么名字,例如G1\n",
                "        return self.label\n",
                "    def getOutPut(self):#这零件输出什么\n",
                "        #核心输出方法，通过调用抽象方法performGateLogic计算结果（模板方法设计模式）\n",
                "        #多态性： 不同子类（如将来的 OrGate）可以有不同的 performGateLogic 实现\n",
                "        self.output = self.performGateLogic()#不用具体实现，连输入是啥样的都不用管\n",
                "        return self.output\n",
                "    #不管输入的情况"
            ]
        },
        {
            "cell_type": "code",
            "execution_count": 2,
            "id": "0e40fb6b",
            "metadata": {},
            "outputs": [],
            "source": [
                "#继承\n",
                "class BinaryGate(LogicGate):#两个输入的引脚的门\n",
                "    def __init__(self,n):\n",
                "        super().__init__(n)#记住继承的写法\n",
                "        #加脚，起初都是空的\n",
                "        #换言之，子类的构造方法需要先调用父类的构造方法，然后初始化自己独有的数据\n",
                "        self.pinA = None\n",
                "        self.pinB = None\n",
                "        \n",
                "    def setNextPin(self,source):#source是连接器Connector\n",
                "        #使用Next是因为In a sense, the circuit works backwards to find the input necessary to finally produce output\n",
                "        if self.pinA == None:\n",
                "            self.pinA = source\n",
                "        else:#此时pinA非空\n",
                "            if self.pinB == None:\n",
                "                self.pinB = source#如果pinB空，就链接pinB\n",
                "            else:\n",
                "                raise RuntimeError(\"Error:no empty pins\")\n",
                "            \n",
                "    #现在输入源有两种，一种外部输入，一种是上一个逻辑门的输出\n",
                "    def getPinA(self):\n",
                "        if self.pinA == None:\n",
                "            return int(input(\"ENTER PIN A FOR GATE \" + \\\n",
                "                         self.getLabel() + \"-->\"))\n",
                "        else:\n",
                "            return self.pinA.getFrom().getOutPut()# setNextPin将PinA设定为链接器source，所以可以调用getFrom()函数找到上一个逻辑门，再查它的输出\n",
                "    def getPinB(self):\n",
                "        if self.pinB == None:\n",
                "            return int(input(\"ENTER PIN B FOR GATE \" + \\\n",
                "                         self.getLabel() + \"-->\"))\n",
                "        else:\n",
                "            return self.pinB.getFrom().getOutPut()"
            ]
        },
        {
            "cell_type": "code",
            "execution_count": 3,
            "id": "29d478dd",
            "metadata": {},
            "outputs": [],
            "source": [
                "class UnaryGate(LogicGate):\n",
                "    def __init__(self, label):\n",
                "        super().__init__(label)\n",
                "        self.pin = None\n",
                "\n",
                "    def setNextPin(self,source):\n",
                "        if self.pin == None:\n",
                "            self.pin = source#设定链接器 Connector\n",
                "        else:\n",
                "            raise RuntimeError(\"Error:no empty pins\")\n",
                "    def getPin(self):\n",
                "        if self.pin == None:\n",
                "            return int(input(\"ENTER PIN FOR GATE\" + \\\n",
                "                         self.getLabel() + \"-->\"))\n",
                "        else:\n",
                "            return self.pin.getFrom().getOutPut()"
            ]
        },
        {
            "cell_type": "markdown",
            "id": "4dd8d9a0",
            "metadata": {},
            "source": [
                "Then optimized, there is:"
            ]
        },
        {
            "cell_type": "code",
            "execution_count": 4,
            "id": "fddf921d",
            "metadata": {},
            "outputs": [],
            "source": [
                "class AndGate(BinaryGate):\n",
                "    def __init__(self, n) -> None:\n",
                "        super().__init__(n)\n",
                "    def performGateLogic(self):\n",
                "        a = self.getPinA()\n",
                "        b = self.getPinB()\n",
                "        if a == 1 and b == 1:\n",
                "            return 1 \n",
                "        else:\n",
                "            return 0"
            ]
        },
        {
            "cell_type": "code",
            "execution_count": 5,
            "id": "bb46a3f1",
            "metadata": {},
            "outputs": [],
            "source": [
                "class OrGate(BinaryGate):\n",
                "    def __init__(self, n) -> None:\n",
                "        super().__init__(n)\n",
                "    def performGateLogic(self):\n",
                "        a = self.getPinA()\n",
                "        b = self.getPinB()\n",
                "        if a == 1 or b == 1:\n",
                "            return 1 \n",
                "        else:\n",
                "            return 0"
            ]
        },
        {
            "cell_type": "code",
            "execution_count": 6,
            "id": "6036307e",
            "metadata": {},
            "outputs": [],
            "source": [
                "class NotGate(UnaryGate):\n",
                "    def __init__(self, n) -> None:\n",
                "        super().__init__(n)\n",
                "    def performGateLogic(self):\n",
                "        a = self.getPin()\n",
                "        if a == 1 :\n",
                "            return 0 \n",
                "        else:\n",
                "            return 1"
            ]
        },
        {
            "cell_type": "markdown",
            "id": "4acd4f7f",
            "metadata": {},
            "source": [
                "Use the same connector classes and test cases:"
            ]
        },
        {
            "cell_type": "code",
            "execution_count": 7,
            "id": "82640360",
            "metadata": {},
            "outputs": [],
            "source": [
                "class Connector:\n",
                "    #连接器应代表从 fgate 到 tgate 的信号流向，反向绑定会破坏电路逻辑\n",
                "    #目标门的视角：tgate 需要在自己的输入引脚（pinA/pinB）上注册连接器，表示“我需要从这个连接器接收信号”。这里的 \"Next\" 不是指时间顺序，而是指目标门的输入引脚需要接收的下一个连接器\n",
                "\n",
                "    def __init__(self,fgate,tgate) -> None:\n",
                "        self.fromgate = fgate\n",
                "        self.togate = tgate\n",
                "        #请注意这里处理的主体是tgate\n",
                "        tgate.setNextPin(self)# 每次焊接的导线（连接器）就是当前逻辑门引脚的“下一个”输入源。\n",
                "    def getFrom(self):\n",
                "        return self.fromgate# 这是逻辑门\n",
                "    def getTo(self):\n",
                "        return self.togate"
            ]
        },
        {
            "cell_type": "code",
            "execution_count": 8,
            "id": "fb86c087",
            "metadata": {},
            "outputs": [],
            "source": [
                "g1 = AndGate(\"G1\")#规定各个逻辑门是啥名字\n",
                "g2 = AndGate(\"G2\")\n",
                "g3 = OrGate(\"G3\")\n",
                "g4 = NotGate(\"G4\")\n",
                "c1 = Connector(g1,g3)\n",
                "c2 = Connector(g2,g3)# 3.发现g3和g2,g1相关\n",
                "c3 = Connector(g3,g4)# 2.发现g4和g3相关"
            ]
        },
        {
            "cell_type": "code",
            "execution_count": 9,
            "id": "001fca69",
            "metadata": {},
            "outputs": [
                {
                    "data": {
                        "text/plain": [
                            "0"
                        ]
                    },
                    "execution_count": 9,
                    "metadata": {},
                    "output_type": "execute_result"
                }
            ],
            "source": [
                "g4.getOutPut()# 1.要求g4的输出"
            ]
        },
        {
            "cell_type": "markdown",
            "id": "d944039c",
            "metadata": {},
            "source": [
                "As you can see, planning the right classes and inheritance can greatly reduce the amount of code"
            ]
        }
    ],
    "metadata": {
        "kernelspec": {
            "display_name": "base",
            "language": "python",
            "name": "python3"
        },
        "language_info": {
            "codemirror_mode": {
                "name": "ipython",
                "version": 3
            },
            "file_extension": ".py",
            "mimetype": "text/x-python",
            "name": "python",
            "nbconvert_exporter": "python",
            "pygments_lexer": "ipython3",
            "version": "3.12.7"
        },
        "toc": {
            "base_numbering": 1,
            "nav_menu": {},
            "number_sections": false,
            "sideBar": true,
            "skip_h1_title": false,
            "title_cell": "Table of Contents",
            "title_sidebar": "Contents",
            "toc_cell": true,
            "toc_position": {
                "height": "843.2px",
                "left": "210px",
                "top": "149px",
                "width": "409.6px"
            },
            "toc_section_display": true,
            "toc_window_display": true
        }
    },
    "nbformat": 4,
    "nbformat_minor": 5
}