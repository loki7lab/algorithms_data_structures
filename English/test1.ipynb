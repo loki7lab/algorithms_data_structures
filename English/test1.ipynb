{
 "cells": [
  {
   "cell_type": "code",
   "execution_count": null,
   "id": "bebc2a15",
   "metadata": {},
   "outputs": [
    {
     "ename": "NotADirectoryError",
     "evalue": "[WinError 267] 目录名称无效。: 'week6.json'",
     "output_type": "error",
     "traceback": [
      "\u001b[1;31m---------------------------------------------------------------------------\u001b[0m",
      "\u001b[1;31mNotADirectoryError\u001b[0m                        Traceback (most recent call last)",
      "Cell \u001b[1;32mIn[14], line 50\u001b[0m\n\u001b[0;32m     47\u001b[0m         json\u001b[38;5;241m.\u001b[39mdump(translated_data, f, ensure_ascii\u001b[38;5;241m=\u001b[39m\u001b[38;5;28;01mFalse\u001b[39;00m, indent\u001b[38;5;241m=\u001b[39m\u001b[38;5;241m4\u001b[39m)\n\u001b[0;32m     49\u001b[0m \u001b[38;5;66;03m# Process all JSON files in the folder\u001b[39;00m\n\u001b[1;32m---> 50\u001b[0m \u001b[38;5;28;01mfor\u001b[39;00m filename \u001b[38;5;129;01min\u001b[39;00m os\u001b[38;5;241m.\u001b[39mlistdir(folder_path):\n\u001b[0;32m     51\u001b[0m     \u001b[38;5;28;01mif\u001b[39;00m filename\u001b[38;5;241m.\u001b[39mendswith(\u001b[38;5;124m'\u001b[39m\u001b[38;5;124m.json\u001b[39m\u001b[38;5;124m'\u001b[39m):\n\u001b[0;32m     52\u001b[0m         file_path \u001b[38;5;241m=\u001b[39m os\u001b[38;5;241m.\u001b[39mpath\u001b[38;5;241m.\u001b[39mjoin(folder_path, filename)\n",
      "\u001b[1;31mNotADirectoryError\u001b[0m: [WinError 267] 目录名称无效。: 'week6.json'"
     ]
    }
   ],
   "source": [
    "import os\n",
    "import json\n",
    "import deepl\n",
    "\n",
    "# Set your DeepL API key\n",
    "api_key = '25c28303-93e1-45ec-9624-18f09d8030b1:fx'  # Replace with your DeepL API key\n",
    "translator = deepl.Translator(api_key)\n",
    "\n",
    "# Folder containing your JSON files\n",
    "folder_path = './'  # Replace with your folder path\n",
    "\n",
    "# Function to translate text using DeepL\n",
    "def translate_text(text):\n",
    "    # Make sure the text is not empty or None\n",
    "    if text:\n",
    "        try:\n",
    "            result = translator.translate_text(text, target_lang='EN-US')\n",
    "            return result.text\n",
    "        except Exception as e:\n",
    "            print(f\"Error during translation: {e}\")\n",
    "            return text\n",
    "    return text\n",
    "\n",
    "# Function to process and translate a JSON file\n",
    "def process_json_file(file_path):\n",
    "    with open(file_path, 'r', encoding='utf-8') as f:\n",
    "        data = json.load(f)\n",
    "    \n",
    "    # Recursively translate all Chinese text\n",
    "    def recursive_translate(data):\n",
    "        if isinstance(data, dict):\n",
    "            for key, value in data.items():\n",
    "                data[key] = recursive_translate(value)\n",
    "        elif isinstance(data, list):\n",
    "            for i in range(len(data)):\n",
    "                data[i] = recursive_translate(data[i])\n",
    "        elif isinstance(data, str):\n",
    "            # Translate only if the string contains Chinese characters\n",
    "            if any('\\u4e00' <= c <= '\\u9fff' for c in data):  # Check for Chinese characters\n",
    "                return translate_text(data)\n",
    "        return data\n",
    "\n",
    "    translated_data = recursive_translate(data)\n",
    "\n",
    "    # Save the translated JSON back to file\n",
    "    with open(file_path, 'w', encoding='utf-8') as f:\n",
    "        json.dump(translated_data, f, ensure_ascii=False, indent=4)\n",
    "\n",
    "# Process all JSON files in the folder\n",
    "for filename in os.listdir(folder_path):\n",
    "    if filename.endswith('.json'):\n",
    "        file_path = os.path.join(folder_path, filename)\n",
    "        print(f\"Processing {file_path}...\")\n",
    "        process_json_file(file_path)\n",
    "\n",
    "print(\"Translation completed!\")\n"
   ]
  }
 ],
 "metadata": {
  "kernelspec": {
   "display_name": "base",
   "language": "python",
   "name": "python3"
  },
  "language_info": {
   "codemirror_mode": {
    "name": "ipython",
    "version": 3
   },
   "file_extension": ".py",
   "mimetype": "text/x-python",
   "name": "python",
   "nbconvert_exporter": "python",
   "pygments_lexer": "ipython3",
   "version": "3.12.7"
  }
 },
 "nbformat": 4,
 "nbformat_minor": 5
}
