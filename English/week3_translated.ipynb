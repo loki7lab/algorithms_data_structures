{
    "cells": [
        {
            "cell_type": "markdown",
            "metadata": {},
            "source": [
                "[Thought for the week]\n",
                "\n",
                "This week's and next week's lessons are all about learning linear structures. One of them is studying stack structures this week, which are introduced as follows:\n",
                "\n",
                "* :: 301 What is a linear structure\n",
                "\n",
                "* :: 302 Introduction to stack structure\n",
                "\n",
                "* :: 303-307 Application of stack structure\n",
                "   * :: 303 Simple bracket matching\n",
                "   * :: 304 Decimal to Binary\n",
                "   * :: 305-306 Expression conversion\n",
                "   * :: Suffix expression evaluation"
            ]
        },
        {
            "cell_type": "markdown",
            "metadata": {},
            "source": [
                "**Table of contents**<a id='toc0_'></a>\n",
                "- [301 What is a linear structure](#toc1_)\n",
                "  - [1. A linear structure is an ordered collection of data items] (#toc1_1_)\n",
                "  - [2. Linear structures always have two ends] (#toc1_2_)\n",
                "  - [3. Typical linear structure] (#toc1_3_)\n",
                "- [302 Stack abstract data type] (#toc2_)\n",
                "  - [1. What is a stack](#toc2_1_)\n",
                "  - [2. Characteristics of stacks: reversal of order] (#toc2_2_)\n",
                "  - [3. Abstract data type Stack](#toc2_3_)\n",
                "    - [3.1. First implementation of ADT Stack](#toc2_3_1_)\n",
                "    - [3.2. Second implementation of ADT Stack](#toc2_3_2_)\n",
                "- [303 Application of stacks: simple bracket matching] (#toc3_)\n",
                "  - [1. Title] (#toc3_1_)\n",
                "  - [2. Algorithms] (#toc3_2_)\n",
                "  - [3. Code implementation] (#toc3_3_)\n",
                "  - [4. Algorithmic improvements] (#toc3_4_)\n",
                "- [304 decimal to binary conversion](#toc4_)\n",
                "  - [1. Title] (#toc4_1_)\n",
                "  - [2. Algorithms] (#toc4_2_)\n",
                "  - [3. Code implementation] (#toc4_3_)\n",
                "  - [4. Algorithmic improvements] (#toc4_4_)\n",
                "- [305 Expression conversion (above)](#toc5_)\n",
                "  - [1. Medium expression] (#toc5_1_)\n",
                "  - [2. Prefix and suffix expressions] (#toc5_2_)\n",
                "  - [3. Conversion algorithms] (#toc5_3_)\n",
                "- [306 Expression conversion (below)](#toc6_)\n",
                "  - [1. Title requirements] (#toc6_1_)\n",
                "  - [2. Algorithms] (#toc6_2_)\n",
                "- [307 Suffix expression evaluation] (#toc7_)\n",
                "  - [1. Ideas for calculating suffix expressions] (#toc7_1_)\n",
                "  - [2. Suffix expression algorithm refinement] (#toc7_2_)\n",
                "\n",
                "<!-- vscode-jupyter-toc-config\n",
                "\tnumbering=false\n",
                "\tanchor=true\n",
                "\tflat=false\n",
                "\tminLevel=1\n",
                "\tmaxLevel=6\n",
                "\t/vscode-jupyter-toc-config -->\n",
                "<!-- THIS CELL WILL BE REPLACED ON TOC UPDATE. DO NOT WRITE YOUR TEXT IN THIS CELL -->"
            ]
        },
        {
            "cell_type": "markdown",
            "metadata": {},
            "source": [
                "# <a id='toc1_'></a>[301 What is a linear structure](#toc0_)\n",
                "## <a id='toc1_1_'></a> [1. A linear structure is an ordered collection of data items](#toc0_)\n",
                "where each data item has a unique predecessor and successor\n",
                "* :: No precursor except for the first, and no successor for the last\n",
                "* :: When a new data item is added to the data set, it will only be added before or after an existing data item\n",
                "\n",
                "A dataset $\\implies$ with this property is called a linear structure\n",
                "\n",
                "## <a id='toc1_2_'></a> [2. Linear structures always have two ends](#toc0_)\n",
                "In different cases, the two ends of the spectrum are referred to differently\n",
                "* :: Sometimes referred to as \"left\" and \"right\" ends, \"front\" and \"back\" ends, \"top\" and \"bottom\" ends.\n",
                "* :: The designations at the ends are not critical; the key difference between the different linear structures is the way in which data items are added or subtracted:\n",
                "    * :: There are structures that allow data items to be added from one end only\n",
                "    * :: Whereas some structures allow data items to be removed from both ends\n",
                "    * :: Some can be inserted in the middle\n",
                "  \n",
                "    $\\implies$ Please note that the feature [added before or after an existing data item] is still maintained.\n",
                "## <a id='toc1_3_'></a> [3. Typical linear structure](#toc0_)\n",
                "Although their data items are added and subtracted in different ways, there is only a sequential order relationship between the data items\n",
                "* 栈Stack\n",
                "* :: Queue\n",
                "* :: Double-ended queue Deque\n",
                "* :: List List"
            ]
        },
        {
            "cell_type": "markdown",
            "metadata": {},
            "source": [
                "Linear structures are simple but widely used to solve a large number of important problems"
            ]
        },
        {
            "cell_type": "markdown",
            "metadata": {},
            "source": [
                "# <a id='toc2_'></a>[302 Stack abstract data type](#toc0_)\n",
                "## <a id='toc2_1_'></a>[1. What is a stack](#toc0_)\n",
                "* :: Is a linear structure\n",
                "* :: Is an ordered collection of data items\n",
                "* :: In a stack, additions and removals of data items occur only at the same end. This end is called the \"top\" of the stack, and the other end, which has no operations, is called the \"bottom\" of the stack.\n",
                "* :: The newest data item on the stack is removed first. This order is called: Last In First Out LIFO, Last In First Out\n",
                "* :: This is an order based on how long the data items have been stored, with the shorter time being closer to the top of the stack\n",
                "\n",
                "## <a id='toc2_2_'></a> [2. Stack properties: reverse order](#toc0_)\n",
                "* That is, in and out of the stack in the opposite order.\n",
                "* :: Applications: back button in browsers; undo in word\n"
            ]
        },
        {
            "cell_type": "markdown",
            "metadata": {},
            "source": [
                "## <a id='toc2_3_'></a>[3. abstract data type Stack](#toc0_)\n",
                "* :: Definition: The abstract data type \"stack\" is a sequential data set in which each data item is added to and removed from the data set only from the \"top of the stack\" end, and has the characteristics of a last-in, first-out LIFO.\n",
                "* :: Define the operation:\n",
                "   * :: Stack() [Create Stack]\n",
                "   * push(item)\n",
                "   * :: pop() removes the top-of-stack data item and returns, the stack is modified\n",
                "   * peek()\n",
                "   * isEmpty()\n",
                "   * size()\n",
                "\n",
                "After you can write it, you can use the stack data structure by just calling the interface\n",
                "\n",
                "Python's object-oriented mechanism can be used to implement user-defined types. The requirements are as follows:\n",
                "* :: Implement ADT Stack as a class in python\n",
                "* :: Methods for implementing ADT Stackd operations as classes\n",
                "\n",
                "Since Stack is a dataset, it can be implemented using python's native dataset. Faced with a dictionary and a list, pick the list. Where lists are also linear structures\n",
                "* :: Either end of the list (index = 0 or -1) can be set to the top of the stack\n",
                "* :: The actual selection of the end of the list as the top of the stack, which corresponds to the append and pop operations of the list."
            ]
        },
        {
            "cell_type": "markdown",
            "metadata": {},
            "source": [
                "### <a id='toc2_3_1_'></a> [3.1. First implementation of ADT Stack](#toc0_)"
            ]
        },
        {
            "cell_type": "code",
            "execution_count": null,
            "metadata": {},
            "outputs": [],
            "source": [
                "class Stack:\n",
                "    def __init__(self):#attention list&items\n",
                "        self.items = []\n",
                "    def push(self,item):\n",
                "        self.items.append(item)\n",
                "    def pop(self):#attention return\n",
                "        return self.items.pop()#using pop\n",
                "    def peek(self):\n",
                "        return self.items[-1]#using -1\n",
                "    def isEmpty(self):\n",
                "        return self.items == []# attention list\n",
                "    def size(self):\n",
                "        return len(self.items)\n",
                "#push/pop复杂度为O(1)"
            ]
        },
        {
            "cell_type": "markdown",
            "metadata": {},
            "source": [
                "The python approach to writing classes is in the first chapter of the textbook, take a look at the"
            ]
        },
        {
            "cell_type": "code",
            "execution_count": null,
            "metadata": {},
            "outputs": [],
            "source": [
                "#导入课程代码\n",
                "from pythonds.basic.stack import Stack#在vscode里使用ctrl+点击stack即可查看对应代码"
            ]
        },
        {
            "cell_type": "code",
            "execution_count": null,
            "metadata": {},
            "outputs": [],
            "source": [
                "s = Stack()\n",
                "print(s.isEmpty())\n",
                "s.push(4)\n",
                "s.push('dog')\n",
                "print(s.peek())\n",
                "s.push(True)\n",
                "print(s.size())\n",
                "print(s.isEmpty())\n",
                "s.push(8.4)\n",
                "print(s.pop())\n",
                "print(s.pop())\n",
                "print(s.size())"
            ]
        },
        {
            "cell_type": "markdown",
            "metadata": {},
            "source": [
                "### <a id='toc2_3_2_'></a> [3.2. Second implementation of ADT Stack](#toc0_)\n",
                "Treat the other end as the top of the stack. But there is a difference in performance. push/pop complexity is O(n)"
            ]
        },
        {
            "cell_type": "markdown",
            "metadata": {},
            "source": [
                "# <a id='toc3_'></a> [303 Application of stacks: simple bracket matching](#toc0_)\n",
                "\n",
                "## <a id='toc3_1_'></a> [1. title](#toc0_)\n",
                "\n",
                "* :: It is common to call the left-hand bracket an open bracket and the right-hand bracket a closed bracket\n",
                "* :: Each open bracket should correspond to exactly one closed bracket\n",
                "* :: Correct nesting of each pair of opening and closing brackets\n",
                "\n",
                "## <a id='toc3_2_'></a> [2. Algorithm](#toc0_)\n",
                "\n",
                "$\\implies$ scans the bracket string from left to right; the latest open left bracket should **match the first right bracket encountered**\n",
                "\n",
                "$\\implies$ The first left bracket (earliest opened) should match the last right bracket (last encountered)\n",
                "\n",
                "$\\implies$ This recognition of order reversal is consistent with the properties of a stack"
            ]
        },
        {
            "cell_type": "markdown",
            "metadata": {},
            "source": [
                "<img src=\"./image/way.PNG\">"
            ]
        },
        {
            "cell_type": "markdown",
            "metadata": {},
            "source": [
                "In a nutshell:\n",
                "* :: Left bracket: no match, add to stack\n",
                "* :: When you encounter a right bracket: the stack is not empty, you pop the latest left bracket. But what if the stack is empty? Report an error! And prioritize checking if the stack is empty\n",
                "* :: Scan complete, left bracket still present, match failed"
            ]
        },
        {
            "cell_type": "markdown",
            "metadata": {},
            "source": [
                "## <a id='toc3_3_'></a>[3. Code implementation](#toc0_)"
            ]
        },
        {
            "cell_type": "code",
            "execution_count": null,
            "metadata": {},
            "outputs": [],
            "source": [
                "#开始代码实现吧！\n",
                "from pythonds.basic.stack import Stack\n",
                "\n",
                "def parChecker(symbolString):\n",
                "    s = Stack()\n",
                "    balanced = True\n",
                "    index = 0\n",
                "    while index < len(symbolString) and balanced:\n",
                "        symbol = symbolString[index]\n",
                "        if symbol == '(':\n",
                "            s.push(symbol)\n",
                "        else:\n",
                "            if s.isEmpty():\n",
                "                balanced = False\n",
                "            else:\n",
                "                s.pop()\n",
                "        index += 1\n",
                "    if balanced and s.isEmpty():\n",
                "        return True\n",
                "    else:\n",
                "        return False"
            ]
        },
        {
            "cell_type": "code",
            "execution_count": null,
            "metadata": {},
            "outputs": [],
            "source": [
                "print(parChecker(\"((()))\"))\n",
                "print(parChecker(\"(()\"))"
            ]
        },
        {
            "cell_type": "markdown",
            "metadata": {},
            "source": [
                "## <a id='toc3_4_'></a> [4. Algorithmic improvements](#toc0_)\n",
                "\n",
                "Going a step further and considering more kinds of brackets, then the code needs attention:\n",
                "* :: Different brackets are used in combination and care needs to be taken to match the opening and closing of the respective brackets\n",
                "\n",
                "When $\\implies$ encounters a right bracket, you need to determine if it matches the left bracket at the top of the stack.\n",
                "\n",
                "It's not possible to build a stack for each bracket, because then different kinds of brackets might be interspersed. The code improvement is as follows:"
            ]
        },
        {
            "cell_type": "code",
            "execution_count": 49,
            "metadata": {},
            "outputs": [],
            "source": [
                "from pythonds.basic.stack import Stack\n",
                "#以下两个都是函数，不是类\n",
                "def parChecker(symbolString):\n",
                "    s = Stack()\n",
                "    balanced = True\n",
                "    index = 0\n",
                "    while balanced and index < len(symbolString):\n",
                "        symbol = symbolString[index]\n",
                "        if symbol in \"([{\":#优化\n",
                "            s.push(symbol)\n",
                "        else:\n",
                "            if s.isEmpty():\n",
                "                balanced = False\n",
                "            else:\n",
                "                top = s.pop()\n",
                "                if not matches(top,symbol):#matches\n",
                "                    balanced = False\n",
                "        index += 1\n",
                "    if balanced and s.isEmpty():\n",
                "        return True\n",
                "    else:\n",
                "        return False\n",
                "\n",
                "def matches(open,close):\n",
                "    opens = \"([{\"\n",
                "    closes = \")]}\"\n",
                "    return opens.index(open) == closes.index(close)#位置对得上就能匹配上"
            ]
        },
        {
            "cell_type": "code",
            "execution_count": null,
            "metadata": {},
            "outputs": [],
            "source": [
                "print(parChecker('[{()]'))\n",
                "print(parChecker('{{([][])}()}'))\n",
                "print(parChecker('([()[]{]}<>)'))"
            ]
        },
        {
            "cell_type": "markdown",
            "metadata": {},
            "source": [
                "# <a id='toc4_'></a>[304 decimal to binary conversion](#toc0_)\n",
                "\n",
                "## <a id='toc4_1_'></a> [1. title](#toc0_)\n",
                "* :: Inputs and outputs of logic gate circuits are all in 2 states: 0 and 1\n",
                "* :: But decimal is the most basic numerical concept in traditional human culture.\n",
                "$\\implies$ Without conversion, it would be quite difficult for people to interact with computers.\n",
                "\n",
                "\n",
                "## <a id='toc4_2_'></a> [2. Algorithm](#toc0_)\n",
                "\n",
                "Conversion cases are listed below:\n",
                "* $(233)_{10} = 2 \\times 10^2 + 3 \\times 10^1 + 3 \\times 10^0$.\n",
                "* $(11101001)_2 = 1\\times 2^7 + 1\\times 2^6 +1\\times 2^5 + 0\\times 2^4 + 1\\times 2^3 +0\\times 2^2 + 0\\times 2^1 +1\\times 2^0$\n",
                "\n",
                "Typically, decimal to binary conversion is done using the \"divide by 2 to get the remainder\" algorithm:\n",
                "\n",
                "Dividing the integer by 2 over and over again, the earlier the resulting remainder appears, the lower the corresponding position. And the output is from high to low, so a stack is needed to reverse the order"
            ]
        },
        {
            "cell_type": "markdown",
            "metadata": {},
            "source": [
                "\n",
                "<img src=\"./image/304.PNG\">"
            ]
        },
        {
            "cell_type": "markdown",
            "metadata": {},
            "source": [
                "## <a id='toc4_3_'></a>[3. Code implementation](#toc0_)"
            ]
        },
        {
            "cell_type": "code",
            "execution_count": null,
            "metadata": {},
            "outputs": [],
            "source": [
                "#使用代码来实现吧！\n",
                "from pythonds.basic.stack import Stack\n",
                "def divideBy2(decNumber):\n",
                "    remstack = Stack()\n",
                "\n",
                "    while decNumber > 0:\n",
                "        rem = decNumber % 2#取整数商用//\n",
                "        remstack.push(rem)\n",
                "        decNumber = decNumber // 2\n",
                "    binString = \"\"\n",
                "    while not remstack.isEmpty():\n",
                "        binString = binString + str(remstack.pop())\n",
                "    return binString"
            ]
        },
        {
            "cell_type": "code",
            "execution_count": null,
            "metadata": {},
            "outputs": [],
            "source": [
                "print(divideBy2(35))"
            ]
        },
        {
            "cell_type": "markdown",
            "metadata": {},
            "source": [
                "## <a id='toc4_4_'></a> [4. Algorithmic improvements](#toc0_)\n",
                "\n",
                "* It is possible to extend this algorithm to convert to any N-ary. Commonly used are octal and hexadecimal.\n",
                "* Hexadecimal has A,B,C,D,E,F in addition to 0-9."
            ]
        },
        {
            "cell_type": "code",
            "execution_count": null,
            "metadata": {},
            "outputs": [],
            "source": [
                "#十进制转换为十六以下任意进制\n",
                "def baseConverter(decNumber,base):#base就是目标进制\n",
                "    digits = \"0123456789ABCDEF\"#列了个表\n",
                "\n",
                "    remstack = Stack()\n",
                "    while decNumber > 0:\n",
                "        rem = decNumber % base\n",
                "        remstack.push(rem)\n",
                "        decNumber = decNumber // base\n",
                "    \n",
                "    newString = ''\n",
                "    while not remstack.isEmpty():\n",
                "        newString = newString + digits[remstack.pop()]\n",
                "    \n",
                "    return newString\n",
                "print(baseConverter(25,16))"
            ]
        },
        {
            "cell_type": "markdown",
            "metadata": {},
            "source": [
                "# <a id='toc5_'></a>[305 Expression conversion (above)](#toc0_)\n",
                "This is a complex problem, so it is split into 2 subsections. This section starts with 3 expressions, which are:\n",
                "\n",
                "* :: Interfix expressions\n",
                "* :: Prefix expressions\n",
                "* :: Suffix expressions\n",
                "\n",
                "They are then introduced to their respective characteristics."
            ]
        },
        {
            "cell_type": "markdown",
            "metadata": {},
            "source": [
                "## <a id='toc5_1_'></a>[1. medial expression](#toc0_)\n",
                "* A representation where the operator is intermediate between the operands is called a medial representation, for example:\n",
                "\n",
                "$$B\\times C$$\n",
                "\n",
                "* :: But there are times when prefixed expressions can be confusing, for example\n",
                "\n",
                "$$A+B\\times C$$\n",
                "\n",
                "* :: To avoid this problem, operator precedence was introduced to eliminate confusion, and parentheses were introduced to indicate mandatory precedence: parentheses have the highest precedence and, in nested parentheses, the inner one has higher precedence\n",
                "\n",
                "* :: However, to make it easier for computers to understand, full bracket expressions were introduced. It makes the precedence of operators no longer important."
            ]
        },
        {
            "cell_type": "markdown",
            "metadata": {},
            "source": [
                "## <a id='toc5_2_'></a> [2. Prefix and suffix expressions](#toc0_)\n",
                "\n",
                "Full-bracket based midfix expressions that shift the position of operators\n",
                "\n",
                "$\\implies$ to get prefix expressions and suffix expressions\n",
                "\n",
                "|name|expression|\n",
                "|:---:|:---:|\n",
                "|prefixed expressions|+AB|\n",
                "|Suffix expressions|AB+|\n",
                "\n",
                "Define expression types with **operator position relative to operand**"
            ]
        },
        {
            "cell_type": "markdown",
            "metadata": {},
            "source": [
                "Slightly more complex expressions can be found below:\n",
                "\n",
                "|medial expressions|prefix expressions|postfix expressions|\n",
                "|:---:|:---:|:---:\n",
                "|A+B|+AB|AB+|\n",
                "|A+B*C|+A*BC|ABC*+|\n",
                "\n",
                "Note the prefix expression in the last line, where the multiplication symbol is in the middle of A and BC, as the counterpart is B*C. also embodied:\n",
                "\n",
                "* :: In prefix and suffix expressions, the order of operators completely determines the order of operations, and there is no more confusion\n",
                "* :: Operators closer to the operand operate first"
            ]
        },
        {
            "cell_type": "markdown",
            "metadata": {},
            "source": [
                "## <a id='toc5_3_'></a>[3. Conversion algorithm](#toc0_)\n",
                "\n",
                "How quickly can I convert?\n",
                "1. Rewriting of a neutrosophic expression as a fully bracketed neutrosophic expression\n",
                "\n",
                "$\\implies$ to a postfix expression:\n",
                "   * :: Seeing the right parenthesis of (B*C), replacing the right parenthesis with the multiplication operator and removing the left parenthesis gives the suffix expression\n",
                "\n",
                "$\\implies$ to prefix expression\n",
                "   * :: Replacing left parentheses with operators to remove right parentheses"
            ]
        },
        {
            "cell_type": "markdown",
            "metadata": {},
            "source": [
                "# <a id='toc6_'></a>[306 Expression conversion (below)](#toc0_)"
            ]
        },
        {
            "cell_type": "markdown",
            "metadata": {},
            "source": [
                "After understanding the three expressions and the conversion algorithm, consider how the algorithm can be implemented using the data structure \"stack\" in conjunction with the algorithm."
            ]
        },
        {
            "cell_type": "markdown",
            "metadata": {},
            "source": [
                "## <a id='toc6_1_'></a> [1. Title requirement](#toc0_)\n",
                "\n",
                "Converting to a prefix or suffix expression without rewriting the midfix expression as a full parenthesis\n",
                "\n",
                "Here's an example using the conversion to a postfix expression"
            ]
        },
        {
            "cell_type": "markdown",
            "metadata": {},
            "source": [
                "## <a id='toc6_2_'></a> [2. Algorithm](#toc0_)\n",
                "* Scanning for midfix expressions, which are operand-operator-operator and need to be **reordered** in order to become postfix expressions\n",
                "* transient operators, which may still have **reverse order** to be output due to prioritization rules\n",
                "\n",
                "$\\implies$ caught how to use the stacks"
            ]
        },
        {
            "cell_type": "markdown",
            "metadata": {},
            "source": [
                "Considering the algorithm \"full parentheses\" from the previous lesson, the operator in the postfixed expression should appear in the right parenthesis position corresponding to the left parenthesis\n",
                "\n",
                "Take the example of $(A+B)*C$ converted to the suffix expression $AB+C*$. It is found that due to the presence of parentheses, the plus sign is elevated in priority and the output is earlier than the multiplication sign\n",
                "\n",
                "$\\implies$ Left brackets are encountered:\n",
                "1. Mark the left bracket first to raise the priority of the operators inside it.\n",
                "2. Scan for the corresponding right bracket and output the operator"
            ]
        },
        {
            "cell_type": "markdown",
            "metadata": {},
            "source": [
                "To summarize:\n",
                "\n",
                "* :: Use a stack to store unprocessed operators while scanning a medial expression from left to right\n",
                "* The operators at the top of the stack are the most recently staged. *\n",
                "* :: When a new operator is encountered, compare the priority with the operator on the top of the stack, and then process it: pop or push."
            ]
        },
        {
            "cell_type": "markdown",
            "metadata": {},
            "source": [
                "Further refine the process and prioritize prerequisites as follows:\n",
                "* A covenant-medial expression is a space-separated series of tokens (a term used in compilation principles to describe the smallest lexical unit):\n",
                "     * Operator words include $+-*/()$\n",
                "     * The operands are single-letter identifiers $A,B,C \\dots$.\n",
                "* :: Create an empty opStack for storing expressions.\n",
                "* :: Create an empty table, postfixList, to hold postfix expressions\n",
                "* :: Converts a medial expression into a list of tokens, i.e., ```A+B*C = split => ['A', '+', 'B', '*', 'C'] ```"
            ]
        },
        {
            "cell_type": "markdown",
            "metadata": {},
            "source": [
                "Determine the prerequisites and start building the step-by-step framework\n",
                "1. Scanning the list of words in a medial expression from left to right\n",
                "2. At the end of the scan, pop all the remaining **operators** in the opstack stack in order and add them to the end of the output list\n",
                "3. The output list is merged into a postfix expression string using the join method.\n",
                "4. End of algorithm"
            ]
        },
        {
            "cell_type": "markdown",
            "metadata": {},
            "source": [
                "Refine the first step, there:\n",
                "* :: token is an operand: add it directly to the end of the list of postfix expressions\n",
                "* :: token is left-bracketed: pressed into opstack top stack\n",
                "* token is a right bracket: pop the top of the opstack stack repeatedly until it hits the left bracket (emphasis added, multiple times!)\n",
                "* token is an operator: pressed into the top of the opstack stack, however! To compare priority with the original operator at the top of the stack"
            ]
        },
        {
            "cell_type": "markdown",
            "metadata": {},
            "source": [
                "$\\implies$ when token is an operator:\n",
                "* :: If the operator at the top of the stack has a priority higher than or equal to it, repeatedly pop the top-of-stack operator and add it to the end of the output list\n",
                "* until the operator at the top of the stack has a lower priority than the token's"
            ]
        },
        {
            "cell_type": "markdown",
            "metadata": {},
            "source": [
                "Hidden points were found during debugging:\n",
                "* Left parentheses are pressed onto the stack, but are ejected when they meet right parentheses, and the two parentheses must match.\n",
                "* When the token is an operator, the stack may be empty at this point, and the code needs to be written with this in mind."
            ]
        },
        {
            "cell_type": "code",
            "execution_count": 30,
            "metadata": {},
            "outputs": [],
            "source": [
                "#开始实现代码吧！\n",
                "from pythonds.basic.stack import Stack\n",
                "\n",
                "def infixToPostfix(infixexpr):\n",
                "    prec = {}#用字典设置操作符优先级，需要先弹出的对应数字会更大\n",
                "    prec[\"*\"] = 3\n",
                "    prec[\"/\"] = 3\n",
                "    prec[\"+\"] = 2\n",
                "    prec[\"-\"] = 2\n",
                "    prec[\"(\"] = 1\n",
                "    prec[\")\"] = 0#我自己补一个占位，后面懒得列字母或者数字的单子了\n",
                "    opStack = Stack()\n",
                "    postfixList = []\n",
                "    tokenList = infixexpr.split()#所以输入要用空格分隔token\n",
                "    \n",
                "    for token in tokenList:#扫描的步骤\n",
                "        if token not in prec:\n",
                "            postfixList.append(token)\n",
                "        elif token == \"(\":\n",
                "            opStack.push(token)\n",
                "\n",
                "        #elif token == \")\":\n",
                "        #    while opStack.peek() != \"(\":\n",
                "        #        postfixList.append(opStack.pop())#这里导致弹出到左括号就不管了，所以是错的\n",
                "\n",
                "        elif token == \")\":\n",
                "            topToken = opStack.pop()#哪怕遇上左括号，也把人家弹出去了\n",
                "            while topToken != \"(\":\n",
                "                postfixList.append(topToken)\n",
                "                topToken = opStack.pop()\n",
                "\n",
                "        else:\n",
                "            while not opStack.isEmpty() and prec[opStack.peek()] >= prec[token]:#所以课上把左括号设为1，优先级最低，不然影响别的操作符弹出咋办。左括号有自己的弹出规则\n",
                "                postfixList.append(opStack.pop())\n",
                "            opStack.push(token)\n",
                "\n",
                "    while not opStack.isEmpty():\n",
                "        postfixList.append(opStack.pop())\n",
                "#        topToken = opStack.pop()#这里试图弥补之前的错，但还是不对劲，因为之前左括号没弹完，下一个右括号又遇上这个左括号了，导致不匹配\n",
                "#        if topToken != \"(\":\n",
                "#            postfixList.append(topToken)\n",
                "\n",
                "    \n",
                "    return \" \".join(postfixList)\n"
            ]
        },
        {
            "cell_type": "code",
            "execution_count": 27,
            "metadata": {},
            "outputs": [
                {
                    "data": {
                        "text/plain": [
                            "'A B * 20 C D - * +'"
                        ]
                    },
                    "execution_count": 27,
                    "metadata": {},
                    "output_type": "execute_result"
                }
            ],
            "source": [
                "#中缀表达式需要使用空格分隔开token\n",
                "infixToPostfix(\" ( A * B ) + 20 * ( C - D )\")"
            ]
        },
        {
            "cell_type": "code",
            "execution_count": 29,
            "metadata": {},
            "outputs": [
                {
                    "name": "stdout",
                    "output_type": "stream",
                    "text": [
                        "A B * 2 C D - * +\n"
                    ]
                }
            ],
            "source": [
                "#这是课堂标准代码\n",
                "from pythonds.basic.stack import Stack\n",
                "def infixToPostfix(infixexpr):\n",
                "    prec = {\"*\":3,\"/\":3,\"-\":2,\"+\":2,\"(\":1,}\n",
                "    opStack = Stack()\n",
                "    postfixList = []\n",
                "    tokenList = infixexpr.split()\n",
                "\n",
                "    for token in tokenList:\n",
                "        if token in \"ABCDEFGHIJKLMNOPQRSTUVWXYZ\" or token in \"0123456789\":\n",
                "            postfixList.append(token)\n",
                "        elif token == \"(\":\n",
                "            opStack.push(token)\n",
                "        elif token == \")\":\n",
                "            topToken = opStack.pop()\n",
                "            while topToken != \"(\":\n",
                "                postfixList.append(topToken)\n",
                "                topToken = opStack.pop()\n",
                "        else:\n",
                "            while (not opStack.isEmpty()) and (prec[opStack.peek()] >= prec[token]):\n",
                "                postfixList.append(opStack.pop())\n",
                "            opStack.push(token)\n",
                "    while not opStack.isEmpty():\n",
                "        postfixList.append(opStack.pop())\n",
                "    return \" \".join(postfixList)\n",
                "\n",
                "print(infixToPostfix(\" ( A * B ) + 2 * ( C - D )\"))"
            ]
        },
        {
            "cell_type": "markdown",
            "metadata": {},
            "source": [
                "# <a id='toc7_'></a>[307 Suffix expression evaluation](#toc0_)\n",
                "\n",
                "## <a id='toc7_1_'></a>[1. Suffix expression computation idea](#toc0_)\n",
                "\n",
                "It's the wrap-up of the previous lessons. Now that you're able to convert a medial expression to a suffix expression, you're thinking about how to output the result of the computation of the suffix expression\n",
                "\n",
                "* :: Staging operands because the operator follows the operand\n",
                "* :: Process the two closest operands when they encounter an operator (pop twice and do math)\n",
                "\n",
                "$\\implies$ Last on the stack first to count\n",
                "\n",
                "And cleverly so:\n",
                "* :: The right operand is popped first, then the left operand. This has a big effect on subtraction and division\n",
                "* :: The intermediate results of the computation have to be pressed onto the stack again to continue the computation.\n",
                "* :: Suffix expressions should not have parentheses\n",
                "  \n",
                "  Until there is only 1 value on the stack, then that's the result"
            ]
        },
        {
            "cell_type": "markdown",
            "metadata": {},
            "source": [
                "## <a id='toc7_2_'></a> [2. Suffix expression algorithm refinement](#toc0_)\n",
                "\n",
                "1. create an empty stack operandStack for temporary storage of operands\n",
                "2. split parses the list of tokens\n",
                "3. Scanning the list of tokens from left to right and calculating the\n",
                "4. At the end of the scan, the top of the stack is the final result. Eject, end"
            ]
        },
        {
            "cell_type": "markdown",
            "metadata": {},
            "source": [
                "Further refinement of step 3, there:\n",
                "* :: Scan to operand: convert to integer type and press to top of stack\n",
                "* :: Scan to operator: start computation for value. Pop right operand, left operand, compute then press to stack"
            ]
        },
        {
            "cell_type": "code",
            "execution_count": null,
            "metadata": {},
            "outputs": [],
            "source": [
                "from pythonds.basic.stack import Stack\n",
                "def postfixEval(postfixExpr):\n",
                "    operandStack = Stack()\n",
                "    tokenList = postfixExpr.split()\n",
                "    operaList = ['+','-','*','/']\n",
                "\n",
                "    for token in tokenList:\n",
                "        if token not in operaList:\n",
                "        #if token in \"0123456789\":\n",
                "            operandStack.push(int(token))\n",
                "        else:\n",
                "            rightOpera = operandStack.pop()\n",
                "            leftOpera = operandStack.pop()\n",
                "            result = doMath(leftOpera,rightOpera,token)\n",
                "            operandStack.push(result)\n",
                "\n",
                "    return operandStack.pop()\n",
                "\n",
                "def doMath(Ope1,Ope2,token):\n",
                "    if token == '+':\n",
                "        return (Ope1 + Ope2)\n",
                "    elif token == '-':\n",
                "        return (Ope1 - Ope2)\n",
                "    elif token == '*':\n",
                "        return (Ope1 * Ope2)\n",
                "    else:\n",
                "        return (Ope1 / Ope2)"
            ]
        },
        {
            "cell_type": "code",
            "execution_count": 48,
            "metadata": {},
            "outputs": [
                {
                    "data": {
                        "text/plain": [
                            "6"
                        ]
                    },
                    "execution_count": 48,
                    "metadata": {},
                    "output_type": "execute_result"
                }
            ],
            "source": [
                "postfixEval(\" 2 3 *\")"
            ]
        },
        {
            "cell_type": "code",
            "execution_count": null,
            "metadata": {},
            "outputs": [],
            "source": [
                "#homework 1\n",
                "def isValid(s) -> bool:\n",
                "        dic = {'{': '}',  '[': ']', '(': ')', '?': '?'}\n",
                "        stack = ['?']\n",
                "        for c in s:\n",
                "            if c in dic: \n",
                "                stack.append(c)\n",
                "            elif dic[stack.pop()] != c:\n",
                "                return False \n",
                "        return len(stack) == 1\n",
                "s = input()\n",
                "print(isValid(s))"
            ]
        },
        {
            "cell_type": "code",
            "execution_count": null,
            "metadata": {},
            "outputs": [],
            "source": [
                "# homework2\n",
                "class Stack:\n",
                "    def __init__(self):#attention list&items\n",
                "        self.items = []\n",
                "    def push(self,item):\n",
                "        self.items.append(item)\n",
                "    def pop(self):#attention return\n",
                "        return self.items.pop()\n",
                "    def peek(self):\n",
                "        return self.items[-1]\n",
                "    def isEmpty(self):\n",
                "        return self.items == []# attention list\n",
                "    def size(self):\n",
                "        return len(self.items)\n",
                "\n",
                "def xiaoxiaole(Newstring):\n",
                "    c = Stack()\n",
                "    c.push('?')\n",
                "    for i in Newstring:\n",
                "        if i != c.peek():\n",
                "            c.push(i)\n",
                "        else:\n",
                "            c.pop()\n",
                "    if c.size() == 1:\n",
                "        return None\n",
                "    else:\n",
                "        clist = []\n",
                "        for m in range(1,c.size()):\n",
                "            clist.append(c.pop())\n",
                "        return clist\n",
                "\n",
                "\n",
                "Newstring = input()\n",
                "clists = xiaoxiaole(Newstring)\n",
                "clists = clists[::-1]\n",
                "print(\"\".join(clists))"
            ]
        },
        {
            "cell_type": "code",
            "execution_count": null,
            "metadata": {},
            "outputs": [],
            "source": [
                "# homework3\n",
                "def OCDBoss(NewString):\n",
                "    leftList = []\n",
                "    popList = []\n",
                "    for i in NewString:\n",
                "        i = int(i)\n",
                "        for j in range(i+1):\n",
                "            if j not in popList:\n",
                "                if j not in leftList:\n",
                "                    leftList.append(j)\n",
                "            if leftList != []:\n",
                "                if i == leftList[-1]:\n",
                "                    popList.append(leftList.pop())\n",
                "    #print(len(leftList))\n",
                "    if len(leftList) > 0:\n",
                "        print('No')\n",
                "    else:\n",
                "        print('Yes')\n",
                "NewString = input()\n",
                "OCDBoss(NewString)"
            ]
        }
    ],
    "metadata": {
        "kernelspec": {
            "display_name": "base",
            "language": "python",
            "name": "python3"
        },
        "language_info": {
            "codemirror_mode": {
                "name": "ipython",
                "version": 3
            },
            "file_extension": ".py",
            "mimetype": "text/x-python",
            "name": "python",
            "nbconvert_exporter": "python",
            "pygments_lexer": "ipython3",
            "version": "3.12.7"
        },
        "toc": {
            "base_numbering": 1,
            "nav_menu": {},
            "number_sections": true,
            "sideBar": true,
            "skip_h1_title": false,
            "title_cell": "Table of Contents",
            "title_sidebar": "Contents",
            "toc_cell": false,
            "toc_position": {},
            "toc_section_display": true,
            "toc_window_display": false
        }
    },
    "nbformat": 4,
    "nbformat_minor": 2
}