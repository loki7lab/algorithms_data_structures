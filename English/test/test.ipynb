{
 "cells": [
  {
   "cell_type": "code",
   "execution_count": null,
   "id": "c53b38f2",
   "metadata": {},
   "outputs": [],
   "source": [
    "! pip install deepl"
   ]
  },
  {
   "cell_type": "code",
   "execution_count": null,
   "id": "1e472171",
   "metadata": {},
   "outputs": [],
   "source": [
    "import json\n",
    "import deepl\n",
    "import glob\n",
    "import os\n",
    "\n",
    "# 配置你的 DeepL API 密钥\n",
    "api_key = '25c28303-93e1-45ec-9624-18f09d8030b1:fx'  # 替换为你自己的 API 密钥\n",
    "translator = deepl.Translator(api_key)\n",
    "\n",
    "# 获取当前目录下所有的 .ipynb 文件\n",
    "notebooks = glob.glob(os.path.join(os.getcwd(), '*.ipynb'))\n",
    "\n",
    "# 遍历每一个 .ipynb 文件\n",
    "for notebook_path in notebooks:\n",
    "    with open(notebook_path, 'r', encoding='utf-8') as f:\n",
    "        notebook = json.load(f)\n",
    "\n",
    "    # 遍历所有单元格，翻译 Markdown 类型的内容\n",
    "    for cell in notebook['cells']:\n",
    "        if cell['cell_type'] == 'markdown':  # 只翻译 markdown 单元格内容\n",
    "            for idx, source in enumerate(cell['source']):\n",
    "                # 翻译文本\n",
    "                translated_text = translator.translate_text(source, target_lang='EN-US').text\n",
    "                cell['source'][idx] = translated_text  # 替换为翻译后的文本\n",
    "\n",
    "    # 保存翻译后的文件到新的文件\n",
    "    translated_path = os.path.splitext(notebook_path)[0] + '_translated.ipynb'\n",
    "    with open(translated_path, 'w', encoding='utf-8') as f:\n",
    "        json.dump(notebook, f, ensure_ascii=False, indent=4)\n",
    "\n",
    "    print(f\"Translation for {notebook_path} completed and saved as {translated_path}.\")\n",
    "\n"
   ]
  }
 ],
 "metadata": {
  "kernelspec": {
   "display_name": "base",
   "language": "python",
   "name": "python3"
  },
  "language_info": {
   "codemirror_mode": {
    "name": "ipython",
    "version": 3
   },
   "file_extension": ".py",
   "mimetype": "text/x-python",
   "name": "python",
   "nbconvert_exporter": "python",
   "pygments_lexer": "ipython3",
   "version": "3.12.7"
  }
 },
 "nbformat": 4,
 "nbformat_minor": 5
}
