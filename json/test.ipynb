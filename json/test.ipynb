{
 "cells": [
  {
   "cell_type": "code",
   "execution_count": null,
   "id": "395436cd",
   "metadata": {},
   "outputs": [],
   "source": [
    "!pip install deepl"
   ]
  },
  {
   "cell_type": "code",
   "execution_count": null,
   "id": "705dc707",
   "metadata": {},
   "outputs": [],
   "source": [
    "import os\n",
    "import json\n",
    "import deepl\n",
    "from google.colab import files\n",
    "\n",
    "# Set your DeepL API key\n",
    "api_key = '25c28303-93e1-45ec-9624-18f09d8030b1:fx'  # Replace with your DeepL API key\n",
    "translator = deepl.Translator(api_key)\n",
    "\n",
    "# Upload the files\n",
    "uploaded = files.upload()\n",
    "\n",
    "# Function to translate text using DeepL\n",
    "def translate_text(text):\n",
    "    # Make sure the text is not empty or None\n",
    "    if text:\n",
    "        try:\n",
    "            result = translator.translate_text(text, target_lang='EN')\n",
    "            return result.text\n",
    "        except Exception as e:\n",
    "            print(f\"Error during translation: {e}\")\n",
    "            return text\n",
    "    return text\n",
    "\n",
    "# Function to process and translate a JSON file\n",
    "def process_json_file(file_path):\n",
    "    with open(file_path, 'r', encoding='utf-8') as f:\n",
    "        data = json.load(f)\n",
    "    \n",
    "    # Recursively translate all Chinese text\n",
    "    def recursive_translate(data):\n",
    "        if isinstance(data, dict):\n",
    "            for key, value in data.items():\n",
    "                data[key] = recursive_translate(value)\n",
    "        elif isinstance(data, list):\n",
    "            for i in range(len(data)):\n",
    "                data[i] = recursive_translate(data[i])\n",
    "        elif isinstance(data, str):\n",
    "            # Translate only if the string contains Chinese characters\n",
    "            if any('\\u4e00' <= c <= '\\u9fff' for c in data):  # Check for Chinese characters\n",
    "                return translate_text(data)\n",
    "        return data\n",
    "\n",
    "    translated_data = recursive_translate(data)\n",
    "\n",
    "    # Save the translated JSON back to file\n",
    "    with open(file_path, 'w', encoding='utf-8') as f:\n",
    "        json.dump(translated_data, f, ensure_ascii=False, indent=4)\n",
    "\n",
    "# Process all uploaded JSON files\n",
    "for filename in uploaded.keys():\n",
    "    if filename.endswith('.json'):\n",
    "        print(f\"Processing {filename}...\")\n",
    "        process_json_file(filename)\n",
    "\n",
    "print(\"Translation completed!\")\n"
   ]
  }
 ],
 "metadata": {
  "kernelspec": {
   "display_name": "base",
   "language": "python",
   "name": "python3"
  },
  "language_info": {
   "name": "python",
   "version": "3.12.7"
  }
 },
 "nbformat": 4,
 "nbformat_minor": 5
}
