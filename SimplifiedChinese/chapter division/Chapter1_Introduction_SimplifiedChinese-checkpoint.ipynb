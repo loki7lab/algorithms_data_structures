{
 "cells": [
  {
   "cell_type": "markdown",
   "metadata": {
    "toc": true
   },
   "source": [
    "<h1>Table of Contents<span class=\"tocSkip\"></span></h1>\n",
    "<div class=\"toc\"><ul class=\"toc-item\"><li><span><a href=\"#Key-Points\" data-toc-modified-id=\"Key-Points-1\">Key Points</a></span></li><li><span><a href=\"#Key-Terms\" data-toc-modified-id=\"Key-Terms-2\">Key Terms</a></span></li><li><span><a href=\"#1.-有序集合\" data-toc-modified-id=\"1.-有序集合-3\">1. 有序集合</a></span><ul class=\"toc-item\"><li><span><a href=\"#1.1.-数据收纳盒\" data-toc-modified-id=\"1.1.-数据收纳盒-3.1\">1.1. 数据收纳盒</a></span></li><li><span><a href=\"#1.2.-列表【可更改】\" data-toc-modified-id=\"1.2.-列表【可更改】-3.2\">1.2. 列表【可更改】</a></span></li><li><span><a href=\"#1.3.-字符串【不可更改】\" data-toc-modified-id=\"1.3.-字符串【不可更改】-3.3\">1.3. 字符串【不可更改】</a></span></li><li><span><a href=\"#1.4.-元组【不可更改】\" data-toc-modified-id=\"1.4.-元组【不可更改】-3.4\">1.4. 元组【不可更改】</a></span></li></ul></li><li><span><a href=\"#2.-无序集合\" data-toc-modified-id=\"2.-无序集合-4\">2. 无序集合</a></span><ul class=\"toc-item\"><li><span><a href=\"#2.1.-集合【不可更改】\" data-toc-modified-id=\"2.1.-集合【不可更改】-4.1\">2.1. 集合【不可更改】</a></span></li><li><span><a href=\"#2.2.-字典【可更改】\" data-toc-modified-id=\"2.2.-字典【可更改】-4.2\">2.2. 字典【可更改】</a></span></li><li><span><a href=\"#2.3.-输入与输出\" data-toc-modified-id=\"2.3.-输入与输出-4.3\">2.3. 输入与输出</a></span></li><li><span><a href=\"#2.4.-控制结构\" data-toc-modified-id=\"2.4.-控制结构-4.4\">2.4. 控制结构</a></span><ul class=\"toc-item\"><li><span><a href=\"#2.4.1.-迭代结构\" data-toc-modified-id=\"2.4.1.-迭代结构-4.4.1\">2.4.1. 迭代结构</a></span></li><li><span><a href=\"#2.4.2.-分支语句\" data-toc-modified-id=\"2.4.2.-分支语句-4.4.2\">2.4.2. 分支语句</a></span></li><li><span><a href=\"#2.4.3.-列表解析式\" data-toc-modified-id=\"2.4.3.-列表解析式-4.4.3\">2.4.3. 列表解析式</a></span></li></ul></li></ul></li><li><span><a href=\"#3.-异常处理\" data-toc-modified-id=\"3.-异常处理-5\">3. 异常处理</a></span></li><li><span><a href=\"#4.-定义函数\" data-toc-modified-id=\"4.-定义函数-6\">4. 定义函数</a></span></li><li><span><a href=\"#5.-面向对象编程\" data-toc-modified-id=\"5.-面向对象编程-7\">5. 面向对象编程</a></span><ul class=\"toc-item\"><li><span><a href=\"#5.1.-基本概念\" data-toc-modified-id=\"5.1.-基本概念-7.1\">5.1. 基本概念</a></span></li><li><span><a href=\"#5.2.-类的构建【重点】\" data-toc-modified-id=\"5.2.-类的构建【重点】-7.2\">5.2. 类的构建【重点】</a></span></li><li><span><a href=\"#5.3.-类的继承【难点】\" data-toc-modified-id=\"5.3.-类的继承【难点】-7.3\">5.3. 类的继承【难点】</a></span></li></ul></li><li><span><a href=\"#【补充】\" data-toc-modified-id=\"【补充】-8\">【补充】</a></span></li><li><span><a href=\"#6.-类的定义与调用\" data-toc-modified-id=\"6.-类的定义与调用-9\">6. 类的定义与调用</a></span><ul class=\"toc-item\"><li><span><a href=\"#6.1.-类的定义\" data-toc-modified-id=\"6.1.-类的定义-9.1\">6.1. 类的定义</a></span></li><li><span><a href=\"#6.2.-类定义中的特殊方法\" data-toc-modified-id=\"6.2.-类定义中的特殊方法-9.2\">6.2. 类定义中的特殊方法</a></span></li></ul></li><li><span><a href=\"#7.-自定义对象的排序\" data-toc-modified-id=\"7.-自定义对象的排序-10\">7. 自定义对象的排序</a></span><ul class=\"toc-item\"><li><span><a href=\"#7.1.-列表排序\" data-toc-modified-id=\"7.1.-列表排序-10.1\">7.1. 列表排序</a></span></li></ul></li><li><span><a href=\"#8.-类的继承\" data-toc-modified-id=\"8.-类的继承-11\">8. 类的继承</a></span></li></ul></div>"
   ]
  },
  {
   "cell_type": "markdown",
   "metadata": {},
   "source": [
    "# Key Points\n",
    "变量存的是指向数据的是引用，而不是数据本身\n",
    "\n",
    "重复运算中，返回的结果是引用的重复\n",
    "\n",
    "有序集合：\n",
    "\n",
    "* 列表\n",
    "\n",
    "* 字符串\n",
    "\n",
    "* 元组\n",
    "\n",
    "无序集合：\n",
    "\n",
    "* 字典\n",
    "\n",
    "* 集合\n",
    "\n",
    "[各类关系说明的参考网址](https://www.cnblogs.com/dhm520/p/8423392.html)\n",
    "\n",
    "* **IS-A**：是一个，代表**继承**关系。 如果A is-a B，那么B就是A的父类。 一个类完全包含另一个类的所有属性及行为。\n",
    "  例如PC机是计算机，工作站也是计算机，PC机和工作站是两种不同类型的计算机，但都继承了计算机的共同特性。is-a（英语：subsumption，包容）指的是在抽象（比如类或类型）之间体现的包容关系。\n",
    "\n",
    "* **HAS-A**：有一个，代表**从属**关系。如果A has a B，那么B就是A的组成部分。 同一种类的对象，可以通过它们的属性的不同值来区别。 \n",
    "  例如一台PC机的操作系统是Windows，另一台PC机的操作系统是Linux。操作系统是PC机的一个成员变量，根据这一成员变量的不同值，可以区分不同的PC机对象。\n",
    "\n",
    "* **LIKE-A**：像一个，代表**组合**关系。 如果A like a B，那么B就是A的接口。 新类型有老类型的接口，但还包含其他函数，所以不能说它们完全相同。 \n",
    "  例如一台手机可以说是一个微型计算机，但是手机拨打号码不是计算机具备的行为，所以手机继承了计算机的特性，同时需要实现通讯功能，而通讯功能需要作为单独接口，而不是计算机的行为。"
   ]
  },
  {
   "cell_type": "markdown",
   "metadata": {},
   "source": [
    "# Key Terms\n",
    "\n",
    "HAS-A\n",
    "\n",
    "IS-A\n",
    "\n",
    "self\n",
    "\n",
    "超类\n",
    "\n",
    "抽象\n",
    "\n",
    "抽象数据类型\n",
    "\n",
    "独立于实现\n",
    "\n",
    "对象\n",
    "\n",
    "方法\n",
    "\n",
    "封装\n",
    "\n",
    "格式化运算符\n",
    "\n",
    "格式化字符串\n",
    "\n",
    "过程抽象\n",
    "\n",
    "继承\n",
    "\n",
    "继承层次结构\n",
    "\n",
    "接口\n",
    "\n",
    "可计算\n",
    "\n",
    "可修改性\n",
    "\n",
    "类\n",
    "\n",
    "列表\n",
    "\n",
    "列表解析式\n",
    "\n",
    "模拟\n",
    "\n",
    "浅相等\n",
    "\n",
    "深相等\n",
    "\n",
    "数据抽象\n",
    "\n",
    "数据结构\n",
    "\n",
    "数据类型\n",
    "\n",
    "算法\n",
    "\n",
    "提示符\n",
    "\n",
    "信息隐藏\n",
    "\n",
    "异常\n",
    "\n",
    "真值表\n",
    "\n",
    "子类\n",
    "\n",
    "字典\n",
    "\n",
    "字符串"
   ]
  },
  {
   "cell_type": "markdown",
   "metadata": {},
   "source": [
    "# 1. 有序集合"
   ]
  },
  {
   "cell_type": "markdown",
   "metadata": {},
   "source": [
    "在计算列表时，该列表会自己被返回。为了有后续处理，需要将其引用赋给一个变量。是异构的，不要求对象是同一个类"
   ]
  },
  {
   "cell_type": "markdown",
   "metadata": {},
   "source": [
    "## 1.1. 数据收纳盒"
   ]
  },
  {
   "cell_type": "markdown",
   "metadata": {},
   "source": [
    "* 在内存中用来装数据对象\n",
    "* 列表可以删除添加替换重拍序列中的元素（这做修改操作的叫可变类型）\n",
    "* 元组不能再更新，叫不可变序列。为了更高的处理性能"
   ]
  },
  {
   "cell_type": "markdown",
   "metadata": {},
   "source": [
    "## 1.2. 列表【可更改】"
   ]
  },
  {
   "cell_type": "code",
   "execution_count": null,
   "metadata": {},
   "outputs": [],
   "source": [
    "l1 = []\n",
    "l2 = list()"
   ]
  },
  {
   "cell_type": "code",
   "execution_count": 8,
   "metadata": {},
   "outputs": [
    {
     "data": {
      "text/plain": [
       "2141037287616"
      ]
     },
     "execution_count": 8,
     "metadata": {},
     "output_type": "execute_result"
    }
   ],
   "source": [
    "alist = [1,2,3,4,1,9,7,5,3]\n",
    "id(alist)"
   ]
  },
  {
   "cell_type": "code",
   "execution_count": null,
   "metadata": {
    "scrolled": true
   },
   "outputs": [],
   "source": [
    "alist.remove(3)\n",
    "alist"
   ]
  },
  {
   "cell_type": "code",
   "execution_count": null,
   "metadata": {},
   "outputs": [],
   "source": [
    "alist.clear()\n",
    "alist"
   ]
  },
  {
   "cell_type": "code",
   "execution_count": null,
   "metadata": {},
   "outputs": [],
   "source": [
    "alist.reverse()\n",
    "alist"
   ]
  },
  {
   "cell_type": "code",
   "execution_count": 11,
   "metadata": {},
   "outputs": [
    {
     "name": "stdout",
     "output_type": "stream",
     "text": [
      "[3, 5, 7, 9, 1, 4, 3, 2, 1]\n",
      "[1, 2, 3, 4, 1, 9, 7, 5, 3]\n"
     ]
    }
   ],
   "source": [
    "print(list(reversed(alist)))#直接打印b会出现引用\n",
    "#print(reversed(alist))\n",
    "print(alist)"
   ]
  },
  {
   "cell_type": "code",
   "execution_count": 3,
   "metadata": {},
   "outputs": [
    {
     "data": {
      "text/plain": [
       "[1, 2, 3, 4, 1, 9, 7, 5, 3]"
      ]
     },
     "execution_count": 3,
     "metadata": {},
     "output_type": "execute_result"
    }
   ],
   "source": [
    "alist#reversed不改变原来的"
   ]
  },
  {
   "cell_type": "code",
   "execution_count": 7,
   "metadata": {},
   "outputs": [
    {
     "data": {
      "text/plain": [
       "[1, 1, 2, 3, 3, 4, 5, 7, 9]"
      ]
     },
     "execution_count": 7,
     "metadata": {},
     "output_type": "execute_result"
    }
   ],
   "source": [
    "alist.sort()\n",
    "alist"
   ]
  },
  {
   "cell_type": "code",
   "execution_count": 10,
   "metadata": {},
   "outputs": [
    {
     "name": "stdout",
     "output_type": "stream",
     "text": [
      "[1, 1, 2, 3, 3, 4, 5, 7, 9]\n",
      "[1, 2, 3, 4, 1, 9, 7, 5, 3]\n"
     ]
    }
   ],
   "source": [
    "#b = sorted(alist)\n",
    "#alist\n",
    "print(list(sorted(alist)))\n",
    "print(alist)"
   ]
  },
  {
   "cell_type": "markdown",
   "metadata": {},
   "source": [
    "操作有：\n",
    "\n",
    "|方法名|用法|\n",
    "|:--:|:--:|\n",
    "|末尾添加|alist.append(item)|\n",
    "|中间插入|alist.insert(i,item)|\n",
    "|删除最后一个元素并返回|alist.pop()|\n",
    "|删除指定位置元素并返回|alist.pop(i)|\n",
    "|元素排序|alist.sort()|\n",
    "|元素倒序排列|alist.reverse()|\n",
    "|删除指定位置元素|del alist[i]|\n",
    "|第一次出现该元素的位置|alist.index(item)|\n",
    "|计算该元素出现次数|alist.count(item)|\n",
    "|移除第一次出现的该元素|alist.remove(item)|\n",
    "\n",
    "\n",
    "* extend【拼接，改变原来的列表，而加号不改变】\n",
    "* pop【改变原来的列表】\n",
    "* remove【改变原来的列表】\n",
    "* clear【清空原来的全部元素】\n",
    "* reverse/reversed【后者得到新排的，不影响原来的】\n",
    "* sort/sorted【后者得到新排的，不影响原来的】"
   ]
  },
  {
   "cell_type": "code",
   "execution_count": null,
   "metadata": {},
   "outputs": [],
   "source": [
    "(54).__add__(32)"
   ]
  },
  {
   "cell_type": "code",
   "execution_count": null,
   "metadata": {},
   "outputs": [],
   "source": [
    "list(range(1,10,2))"
   ]
  },
  {
   "cell_type": "markdown",
   "metadata": {},
   "source": [
    "## 1.3. 字符串【不可更改】\n",
    "字符串是序列，之前提到的所有序列运算符都能用于字符串。以下是字符串特有的方式\n",
    "\n",
    "|方法名|用法|\n",
    "|:--:|:--:|\n",
    "|制造新字符串长为w，原字符串居中|astring.center(w)|\n",
    "|把原字符串靠左放置|astring.ljust(w)|\n",
    "|把原字符串靠右放置|astring.rjust(w)|\n",
    "|返回item出现的次数|astring.count(item)|\n",
    "|返回小写|astring.lower()|\n",
    "|返回大写|astring.upper()|\n",
    "|类似列表的index|astring.find(item)|\n",
    "|拆分字符串【拆分点舍去】|astring.split(schar)|\n",
    "\n",
    "列表和字符串的区别在于，列表具有可修改性，字符串没有。字符串**不能**通过下标或赋值操作来修改对应元素"
   ]
  },
  {
   "cell_type": "code",
   "execution_count": 12,
   "metadata": {},
   "outputs": [
    {
     "ename": "TypeError",
     "evalue": "'str' object does not support item assignment",
     "output_type": "error",
     "traceback": [
      "\u001b[1;31m---------------------------------------------------------------------------\u001b[0m",
      "\u001b[1;31mTypeError\u001b[0m                                 Traceback (most recent call last)",
      "\u001b[1;32m<ipython-input-12-3bd0a6ddea88>\u001b[0m in \u001b[0;36m<module>\u001b[1;34m\u001b[0m\n\u001b[0;32m      1\u001b[0m \u001b[0mMyName\u001b[0m \u001b[1;33m=\u001b[0m \u001b[1;34m\"David\"\u001b[0m\u001b[1;33m\u001b[0m\u001b[1;33m\u001b[0m\u001b[0m\n\u001b[1;32m----> 2\u001b[1;33m \u001b[0mMyName\u001b[0m\u001b[1;33m[\u001b[0m\u001b[1;36m0\u001b[0m\u001b[1;33m]\u001b[0m \u001b[1;33m=\u001b[0m \u001b[1;34m'x'\u001b[0m\u001b[1;33m\u001b[0m\u001b[1;33m\u001b[0m\u001b[0m\n\u001b[0m",
      "\u001b[1;31mTypeError\u001b[0m: 'str' object does not support item assignment"
     ]
    }
   ],
   "source": [
    "MyName = \"David\"\n",
    "MyName[0] = 'x'"
   ]
  },
  {
   "cell_type": "markdown",
   "metadata": {},
   "source": [
    "## 1.4. 元组【不可更改】\n",
    "元组与序列一样，允许之前描述的任何操作"
   ]
  },
  {
   "cell_type": "code",
   "execution_count": null,
   "metadata": {},
   "outputs": [],
   "source": [
    "t1 = ()\n",
    "t2 = tuple()"
   ]
  },
  {
   "cell_type": "markdown",
   "metadata": {},
   "source": [
    "元组 VS 列表\n",
    "* 列表或元组都是异构的\n",
    "* 下标从零开始，是连续的\n",
    "* 加法与乘法运算\n",
    "* len()\n",
    "* 索引alis[n]或atuple[n]。得到的结果可以当作名字放在赋值语句的左边使用【元组不能重新赋值】，当然也可以放右边。\n",
    "* 切片alist[start:end:step]；atuple[star:end:step]\n",
    "* in\n",
    "* index\n",
    "* count\n",
    "* sum\n",
    "* min/max\n",
    "\n",
    "不同：\n",
    "* 元组不可修改，列表具有可修改性\n"
   ]
  },
  {
   "cell_type": "code",
   "execution_count": null,
   "metadata": {
    "scrolled": true
   },
   "outputs": [],
   "source": [
    "MyTuple = (2,True,4.96)\n",
    "MyTuple[1] = False"
   ]
  },
  {
   "cell_type": "markdown",
   "metadata": {},
   "source": [
    "# 2. 无序集合"
   ]
  },
  {
   "cell_type": "markdown",
   "metadata": {},
   "source": [
    "## 2.1. 集合【不可更改】\n",
    "\n",
    "或者说集（set），是由零个或多个不可修改的Python数据对象组成的无序集合，不允许重复元素，是异构的\n",
    "\n",
    "但也支持前面的一些运算\n",
    "\n",
    "|方法名|用法|\n",
    "|:--:|:--:|\n",
    "|查询元素|in|\n",
    "|长度|len|\n",
    "|并集|aset \\| otherset|\n",
    "|交集|aset&otherset|\n",
    "|差集|aset - otherset|\n",
    "|是否子集|aset <= otherset|\n",
    "\n",
    "set的特殊运算有\n",
    "\n",
    "|方法名|用法|\n",
    "|:--:|:--:|\n",
    "|并集|aset.union(otherset)|\n",
    "|交集|aset.intersection(otherset)|\n",
    "|差集|aset.difference(otherset)|\n",
    "|是否子集|aset.issubset(otherset)|\n",
    "|元素添加|aset.add(item)|\n",
    "|元素移除|aset.remove(item)|\n",
    "|随机删除|aset.pop()|\n",
    "|元素全清|aset.clear()|"
   ]
  },
  {
   "cell_type": "markdown",
   "metadata": {},
   "source": [
    "## 2.2. 字典【可更改】"
   ]
  },
  {
   "cell_type": "markdown",
   "metadata": {},
   "source": [
    "* 字典是贴标签的数据。标签key和数据值value的对的集合称为字典\n",
    "* 通过标签或关键字来索引数据，区别列表或元组通过连续整数来索引。\n",
    "* 添加新值也是用键\n",
    "* 是无序的。键的位置由散列决定\n",
    "* 是可变类型，可以添加删除或者替换"
   ]
  },
  {
   "cell_type": "code",
   "execution_count": null,
   "metadata": {},
   "outputs": [],
   "source": [
    "student = {}\n",
    "student = dict()"
   ]
  },
  {
   "cell_type": "code",
   "execution_count": 17,
   "metadata": {},
   "outputs": [
    {
     "data": {
      "text/plain": [
       "{'david': 1410, 'brad': 1137}"
      ]
     },
     "execution_count": 17,
     "metadata": {},
     "output_type": "execute_result"
    }
   ],
   "source": [
    "phoneext = {'david':1410,\"brad\":1137}\n",
    "phoneext"
   ]
  },
  {
   "cell_type": "code",
   "execution_count": 18,
   "metadata": {},
   "outputs": [
    {
     "data": {
      "text/plain": [
       "dict_keys(['david', 'brad'])"
      ]
     },
     "execution_count": 18,
     "metadata": {},
     "output_type": "execute_result"
    }
   ],
   "source": [
    "phoneext.keys()"
   ]
  },
  {
   "cell_type": "code",
   "execution_count": 19,
   "metadata": {},
   "outputs": [
    {
     "data": {
      "text/plain": [
       "dict_values([1410, 1137])"
      ]
     },
     "execution_count": 19,
     "metadata": {},
     "output_type": "execute_result"
    }
   ],
   "source": [
    "phoneext.values()"
   ]
  },
  {
   "cell_type": "code",
   "execution_count": 20,
   "metadata": {},
   "outputs": [
    {
     "data": {
      "text/plain": [
       "[1410, 1137]"
      ]
     },
     "execution_count": 20,
     "metadata": {},
     "output_type": "execute_result"
    }
   ],
   "source": [
    "list(phoneext.values())"
   ]
  },
  {
   "cell_type": "code",
   "execution_count": 23,
   "metadata": {},
   "outputs": [
    {
     "data": {
      "text/plain": [
       "dict_items([('david', 1410), ('brad', 1137)])"
      ]
     },
     "execution_count": 23,
     "metadata": {},
     "output_type": "execute_result"
    }
   ],
   "source": [
    "phoneext.items()"
   ]
  },
  {
   "cell_type": "code",
   "execution_count": 24,
   "metadata": {},
   "outputs": [
    {
     "data": {
      "text/plain": [
       "[('david', 1410), ('brad', 1137)]"
      ]
     },
     "execution_count": 24,
     "metadata": {},
     "output_type": "execute_result"
    }
   ],
   "source": [
    "list(phoneext.items())"
   ]
  },
  {
   "cell_type": "code",
   "execution_count": 30,
   "metadata": {},
   "outputs": [
    {
     "data": {
      "text/plain": [
       "'no entry'"
      ]
     },
     "execution_count": 30,
     "metadata": {},
     "output_type": "execute_result"
    }
   ],
   "source": [
    "phoneext.get(\"kent\",\"no entry\")#如果没有，就返回no entry"
   ]
  },
  {
   "cell_type": "code",
   "execution_count": 28,
   "metadata": {},
   "outputs": [
    {
     "data": {
      "text/plain": [
       "{'david': 1410, 'brad': 1137}"
      ]
     },
     "execution_count": 28,
     "metadata": {},
     "output_type": "execute_result"
    }
   ],
   "source": [
    "phoneext"
   ]
  },
  {
   "cell_type": "code",
   "execution_count": 29,
   "metadata": {},
   "outputs": [
    {
     "data": {
      "text/plain": [
       "1410"
      ]
     },
     "execution_count": 29,
     "metadata": {},
     "output_type": "execute_result"
    }
   ],
   "source": [
    "phoneext['david']"
   ]
  },
  {
   "cell_type": "code",
   "execution_count": 32,
   "metadata": {},
   "outputs": [
    {
     "data": {
      "text/plain": [
       "{'david': 1410, 'brad': 1137, 'friends': ['a', 'b']}"
      ]
     },
     "execution_count": 32,
     "metadata": {},
     "output_type": "execute_result"
    }
   ],
   "source": [
    "phoneext.update(friends = [\"a\",\"b\"])\n",
    "phoneext"
   ]
  },
  {
   "cell_type": "markdown",
   "metadata": {},
   "source": [
    "数据项（item）\n",
    "* 包括key和value，用冒号连接\n",
    "* value没有顺序，可以是任意类型，甚至可以是字典\n",
    "* 【key只能是不可变类型】：数值，字符串和元组。比如元组用来作为坐标，索引元素。"
   ]
  },
  {
   "cell_type": "markdown",
   "metadata": {},
   "source": [
    "字典更新方案\n",
    "\n",
    "* 合并字典：同样的key覆盖，没有的key添加\n",
    "\n",
    "* 增长字典：\n",
    "\n",
    "1) ```dic[key]=value```\n",
    "\n",
    "2) ```dic.update(friends = [\"a\",\"b\"])```\n",
    "\n",
    "* 缩减字典:\n",
    "  \n",
    "1) ```del student['age']```\n",
    "\n",
    "2) ```student.pop('course')```\n",
    "\n",
    "3) ```student.popitem()```【随机删除并返回一个数据项，适合遍历字典】\n",
    "\n",
    "4)清空字典clear \n",
    "\n",
    "* 字典大小len\n",
    "\n",
    "* 标签索引\n",
    "\n",
    "1)```dict[key]```\n",
    "\n",
    "2)```student.get(key)```\n",
    "\n",
    "* keys函数返回字典中的所有标签\n",
    "* values函数返回字典中的所有数据值\n",
    "* items返回键值对的二元组数据项\n",
    "* 判断是否存在标签：in操作\n",
    "* 判断是否存在值：in + values操作"
   ]
  },
  {
   "cell_type": "code",
   "execution_count": null,
   "metadata": {},
   "outputs": [],
   "source": [
    "student.update(friends = [\"a\",\"b\"])#没有双引号！\n",
    "#student.pop('friends')\n",
    "print(student)"
   ]
  },
  {
   "cell_type": "markdown",
   "metadata": {},
   "source": [
    "## 2.3. 输入与输出\n",
    "格式化字符串的方式如下"
   ]
  },
  {
   "cell_type": "code",
   "execution_count": 35,
   "metadata": {},
   "outputs": [
    {
     "name": "stdout",
     "output_type": "stream",
     "text": [
      "Hello***World\n",
      "Hello World***"
     ]
    }
   ],
   "source": [
    "print(\"Hello\",\"World\",sep = \"***\")\n",
    "print('Hello','World',end = '***')"
   ]
  },
  {
   "cell_type": "code",
   "execution_count": 39,
   "metadata": {},
   "outputs": [
    {
     "name": "stdout",
     "output_type": "stream",
     "text": [
      "Lily is 27 years old.\n"
     ]
    }
   ],
   "source": [
    "aName = 'Lily'\n",
    "age = 27\n",
    "print(\"%s is %d years old.\"%(aName,age))"
   ]
  },
  {
   "cell_type": "markdown",
   "metadata": {},
   "source": [
    "格式化字符串可用的类型声明\n",
    "\n",
    "|字符|输出格式|\n",
    "|:--:|:--|\n",
    "|d,i|整数|\n",
    "|u|无符号整数|\n",
    "|f|m.dddd格式浮点数|\n",
    "|e|m.dddde+/-xx格式浮点数|\n",
    "|E|m.ddddE+/-xx格式浮点数|\n",
    "|g|对指数小于-4或大于5的使用%e，否则%f|\n",
    "|c|单个字符|\n",
    "|s|字符串或者任意可通过str转为字符串的python对象|\n",
    "|%|插入一个常量符号|"
   ]
  },
  {
   "cell_type": "code",
   "execution_count": 5,
   "metadata": {},
   "outputs": [
    {
     "name": "stdout",
     "output_type": "stream",
     "text": [
      "The banana costs 24.00 cents.\n"
     ]
    }
   ],
   "source": [
    "price = 24\n",
    "item = \"banana\"\n",
    "\n",
    "print(\"The %+10s costs %5.2f cents.\"%(item,price))"
   ]
  },
  {
   "cell_type": "code",
   "execution_count": 6,
   "metadata": {},
   "outputs": [
    {
     "name": "stdout",
     "output_type": "stream",
     "text": [
      "The banana costs    24.0 cents.\n"
     ]
    }
   ],
   "source": [
    "itemdict = {\"item\":\"banana\",\"cost\":24}\n",
    "print(\"The %(item)s costs %(cost)7.1f cents.\"%itemdict)"
   ]
  },
  {
   "cell_type": "markdown",
   "metadata": {},
   "source": [
    "## 2.4. 控制结构\n",
    "\n",
    "算法中最重要的两个控制结构分别是：\n",
    "\n",
    "* **迭代**\n",
    "\n",
    "* **分支**\n"
   ]
  },
  {
   "cell_type": "markdown",
   "metadata": {},
   "source": [
    "### 2.4.1. 迭代结构"
   ]
  },
  {
   "cell_type": "code",
   "execution_count": 12,
   "metadata": {},
   "outputs": [
    {
     "name": "stdout",
     "output_type": "stream",
     "text": [
      "Hello World!\n",
      "2\n",
      "Hello World!\n",
      "3\n",
      "Hello World!\n",
      "4\n",
      "Hello World!\n",
      "5\n",
      "Hello World!\n",
      "6\n"
     ]
    }
   ],
   "source": [
    "#使用while\n",
    "counter = 1\n",
    "while counter <= 5:\n",
    "    print(\"Hello World!\")\n",
    "    counter += 1\n",
    "    print(counter)"
   ]
  },
  {
   "cell_type": "code",
   "execution_count": 13,
   "metadata": {},
   "outputs": [
    {
     "name": "stdout",
     "output_type": "stream",
     "text": [
      "1\n",
      "3\n",
      "5\n",
      "7\n",
      "9\n"
     ]
    }
   ],
   "source": [
    "# 使用for\n",
    "for item in list(range(1,10,2)):\n",
    "    print(item)"
   ]
  },
  {
   "cell_type": "code",
   "execution_count": 15,
   "metadata": {},
   "outputs": [
    {
     "name": "stdout",
     "output_type": "stream",
     "text": [
      "['c', 'a', 't', 'd', 'o', 'g', 'r', 'a', 'b', 'b', 'i', 't']\n"
     ]
    }
   ],
   "source": [
    "wordlist = ['cat','dog','rabbit']\n",
    "letterlist = list()\n",
    "for aword in wordlist:\n",
    "    for aletter in aword:\n",
    "        letterlist.append(aletter)\n",
    "\n",
    "print(letterlist)"
   ]
  },
  {
   "cell_type": "markdown",
   "metadata": {},
   "source": [
    "### 2.4.2. 分支语句\n",
    "支持嵌套，使用if end 或者elif关键字。但在使用elif时，最后的else仍然需要，用以处理所有分支条件都不满足的情况"
   ]
  },
  {
   "cell_type": "code",
   "execution_count": 16,
   "metadata": {},
   "outputs": [
    {
     "name": "stdout",
     "output_type": "stream",
     "text": [
      "F\n"
     ]
    }
   ],
   "source": [
    "score = 30\n",
    "if score >= 90:\n",
    "    print(\"A\")\n",
    "elif score >= 80:\n",
    "    print(\"B\")\n",
    "elif score >= 70:\n",
    "    print(\"C\")\n",
    "elif score >= 60:\n",
    "    print(\"D\")\n",
    "else:\n",
    "    print(\"F\")\n"
   ]
  },
  {
   "cell_type": "markdown",
   "metadata": {},
   "source": [
    "### 2.4.3. 列表解析式\n",
    "\n",
    "通过迭代结构或者分支结构来创建列表"
   ]
  },
  {
   "cell_type": "code",
   "execution_count": 20,
   "metadata": {},
   "outputs": [
    {
     "name": "stdout",
     "output_type": "stream",
     "text": [
      "[1, 4, 9, 16, 25, 36, 49, 64, 81, 100]\n"
     ]
    }
   ],
   "source": [
    "#复杂版\n",
    "sqlist = []\n",
    "for x in range(1,11):\n",
    "    sqlist.append(x*x)\n",
    "print(sqlist)"
   ]
  },
  {
   "cell_type": "code",
   "execution_count": 19,
   "metadata": {},
   "outputs": [
    {
     "name": "stdout",
     "output_type": "stream",
     "text": [
      "[1, 4, 9, 16, 25, 36, 49, 64, 81, 100]\n"
     ]
    }
   ],
   "source": [
    "#简单版\n",
    "sqlist = [x*x for x in range(1,11)]\n",
    "print(sqlist)"
   ]
  },
  {
   "cell_type": "code",
   "execution_count": 22,
   "metadata": {},
   "outputs": [
    {
     "name": "stdout",
     "output_type": "stream",
     "text": [
      "[4, 16, 36, 64, 100]\n"
     ]
    }
   ],
   "source": [
    "#进阶版\n",
    "sqlist = [x*x for x in range(1,11) if x%2 == 0]\n",
    "print(sqlist)"
   ]
  },
  {
   "cell_type": "markdown",
   "metadata": {},
   "source": [
    "# 3. 异常处理\n",
    "在编程时可能遇到以下类型的错误：\n",
    "\n",
    "* 语法错误。编译器报错\n",
    "\n",
    "* 逻辑错误。能执行但是返回了错误的结果。\n",
    "\n",
    "一些逻辑错误会导致运行时错误，进而导致程序终止运行。通常会把这些错误称为“异常”。程序员可在检测到程序执行有问题的情况下自行创建异常。"
   ]
  },
  {
   "cell_type": "code",
   "execution_count": 25,
   "metadata": {},
   "outputs": [
    {
     "name": "stdout",
     "output_type": "stream",
     "text": [
      "please enter an integer-23\n",
      "Bad Value for square root.\n",
      "Using absolute value instead.\n",
      "4.795831523312719\n"
     ]
    }
   ],
   "source": [
    "#使用try语句处理被抛弃的异常\n",
    "import math\n",
    "anumber = int(input(\"please enter an integer\"))\n",
    "try:\n",
    "    print(math.sqrt(anumber))\n",
    "except:\n",
    "    print(\"Bad Value for square root.\")\n",
    "    print(\"Using absolute value instead.\")\n",
    "    print(math.sqrt(abs(anumber)))"
   ]
  },
  {
   "cell_type": "code",
   "execution_count": 28,
   "metadata": {},
   "outputs": [
    {
     "name": "stdout",
     "output_type": "stream",
     "text": [
      "4.795831523312719\n"
     ]
    }
   ],
   "source": [
    "#使用raise语句触发运行时异常\n",
    "import math\n",
    "anumber = 23\n",
    "if anumber < 0:\n",
    "    raise RuntimeError(\"you can't use a negative number.\")\n",
    "else:\n",
    "    print(math.sqrt(anumber))"
   ]
  },
  {
   "cell_type": "markdown",
   "metadata": {},
   "source": [
    "# 4. 定义函数\n",
    "定义函数后，可以隐藏计算细节化简代码并能重复使用。\n",
    "\n",
    "定义函数需要一个函数名，一系列参数以及一个函数体。函数也可以显性返回一个值"
   ]
  },
  {
   "cell_type": "code",
   "execution_count": 30,
   "metadata": {},
   "outputs": [],
   "source": [
    "def squareroot(n):\n",
    "    root = n/2\n",
    "    for k in range(20):\n",
    "        root = (1/2)*(root + (n/root))\n",
    "    return root"
   ]
  },
  {
   "cell_type": "markdown",
   "metadata": {},
   "source": [
    "# 5. 面向对象编程\n",
    "\n",
    "* 面向对象编程语言最强大的一项特性就是允许程序员（问题求解者）创建全新的类，以便对解决问题需要的数据进行建模\n",
    "\n",
    "* 之前已经使用了抽象数据类型来对数据对象的状态和行为进行逻辑描述\n",
    "\n",
    "* 通过构建能实现抽象数据类型的类，可以利用抽象过程，同时为真正在程序中运用抽象提供必要的细节\n",
    "\n",
    "* 可以每当需要实现抽象数据类型，就创建新类"
   ]
  },
  {
   "cell_type": "markdown",
   "metadata": {},
   "source": [
    "## 5.1. 基本概念\n",
    "Python中的所有事物都以对象存在。\n",
    "* 对象即表示客观世界问题空间中的某个具体事物，又表示软件系统解空间中的基\n",
    "* 对象 = 属性 + 方法\n",
    "* 对象以id为标识，包含数据（属性），代码（方法），是一类具体事物的特殊实例"
   ]
  },
  {
   "cell_type": "code",
   "execution_count": 7,
   "metadata": {},
   "outputs": [
    {
     "data": {
      "text/plain": [
       "140716578711344"
      ]
     },
     "execution_count": 7,
     "metadata": {},
     "output_type": "execute_result"
    }
   ],
   "source": [
    "id(1)#查看对象"
   ]
  },
  {
   "cell_type": "code",
   "execution_count": 8,
   "metadata": {},
   "outputs": [
    {
     "data": {
      "text/plain": [
       "int"
      ]
     },
     "execution_count": 8,
     "metadata": {},
     "output_type": "execute_result"
    }
   ],
   "source": [
    "type(1)#查看对象所属的类"
   ]
  },
  {
   "cell_type": "code",
   "execution_count": 9,
   "metadata": {},
   "outputs": [
    {
     "data": {
      "text/plain": [
       "['__abs__',\n",
       " '__add__',\n",
       " '__and__',\n",
       " '__bool__',\n",
       " '__ceil__',\n",
       " '__class__',\n",
       " '__delattr__',\n",
       " '__dir__',\n",
       " '__divmod__',\n",
       " '__doc__',\n",
       " '__eq__',\n",
       " '__float__',\n",
       " '__floor__',\n",
       " '__floordiv__',\n",
       " '__format__',\n",
       " '__ge__',\n",
       " '__getattribute__',\n",
       " '__getnewargs__',\n",
       " '__gt__',\n",
       " '__hash__',\n",
       " '__index__',\n",
       " '__init__',\n",
       " '__init_subclass__',\n",
       " '__int__',\n",
       " '__invert__',\n",
       " '__le__',\n",
       " '__lshift__',\n",
       " '__lt__',\n",
       " '__mod__',\n",
       " '__mul__',\n",
       " '__ne__',\n",
       " '__neg__',\n",
       " '__new__',\n",
       " '__or__',\n",
       " '__pos__',\n",
       " '__pow__',\n",
       " '__radd__',\n",
       " '__rand__',\n",
       " '__rdivmod__',\n",
       " '__reduce__',\n",
       " '__reduce_ex__',\n",
       " '__repr__',\n",
       " '__rfloordiv__',\n",
       " '__rlshift__',\n",
       " '__rmod__',\n",
       " '__rmul__',\n",
       " '__ror__',\n",
       " '__round__',\n",
       " '__rpow__',\n",
       " '__rrshift__',\n",
       " '__rshift__',\n",
       " '__rsub__',\n",
       " '__rtruediv__',\n",
       " '__rxor__',\n",
       " '__setattr__',\n",
       " '__sizeof__',\n",
       " '__str__',\n",
       " '__sub__',\n",
       " '__subclasshook__',\n",
       " '__truediv__',\n",
       " '__trunc__',\n",
       " '__xor__',\n",
       " 'as_integer_ratio',\n",
       " 'bit_length',\n",
       " 'conjugate',\n",
       " 'denominator',\n",
       " 'from_bytes',\n",
       " 'imag',\n",
       " 'numerator',\n",
       " 'real',\n",
       " 'to_bytes']"
      ]
     },
     "execution_count": 9,
     "metadata": {},
     "output_type": "execute_result"
    }
   ],
   "source": [
    "dir(1)#查看属性和方法"
   ]
  },
  {
   "cell_type": "code",
   "execution_count": 10,
   "metadata": {},
   "outputs": [
    {
     "data": {
      "text/plain": [
       "2300638200832"
      ]
     },
     "execution_count": 10,
     "metadata": {},
     "output_type": "execute_result"
    }
   ],
   "source": [
    "id(abs)"
   ]
  },
  {
   "cell_type": "markdown",
   "metadata": {},
   "source": [
    "* 对象是类的实例，是程序的基本单元\n",
    "* 要创建一个新的对象，必须先定义一个类\n",
    "* 同一类的对象具有相同的属性和方法，但属性值和id不同\n",
    "* 对象可以有多个名称，但只有一个id\n",
    "* 对象实现了属性和方法的封装，是一种数据抽象机制"
   ]
  },
  {
   "cell_type": "markdown",
   "metadata": {},
   "source": [
    "* 引用形式：<对象名>.<属性名>\n",
    "* 如果是单个的属性名，就可以当作一般的变量一样，用在赋值语句和表达式中\n",
    "* 调用这个类的函数也很方便，记得带括号\n",
    "* python是动态的语言，除了变量可以动态生成，对象也可以随时增加或删除属性或者方法。例如：<对象名>.<属性名> = 3.6\n",
    "* 面向对象编程是程序设计范型，同时也是一种程序开发方法"
   ]
  },
  {
   "cell_type": "markdown",
   "metadata": {},
   "source": [
    "## 5.2. 类的构建【重点】\n",
    "\n",
    "使用Fraction类当作案例\n",
    "\n",
    "要求：\n",
    "\n",
    "* 能针对分数加减乘除\n",
    "\n",
    "* 能用标准的斜线显示分数\n",
    "\n",
    "* 应返回结果的最简形式\n",
    "\n",
    "方案：\n",
    "\n",
    "* 提供一个类名\n",
    "\n",
    "* 提供一整套与函数定义语法类似的方法定义\n"
   ]
  },
  {
   "cell_type": "code",
   "execution_count": 7,
   "metadata": {},
   "outputs": [
    {
     "name": "stdout",
     "output_type": "stream",
     "text": [
      "<__main__.Fraction object at 0x00000256C27994C0>\n"
     ]
    }
   ],
   "source": [
    "class Fraction:\n",
    "    #定义构造方法\n",
    "    def __init__(self,top,bottom):#self是指向对象本身的特殊参数，必须是第一个形式参数，且在调用方法时无需提供相应的实际参数\n",
    "        #需要分子分母两部分的状态数据\n",
    "        self.num = top\n",
    "        self.den = bottom\n",
    "\n",
    "myfraction = Fraction(3,5)#创建类的实例\n",
    "print(myfraction)#打印的是实际引用（地址本身）"
   ]
  },
  {
   "cell_type": "markdown",
   "metadata": {},
   "source": [
    "* 构造方法定义了数据对象的创建方式\n",
    "\n",
    "* 要创建类的实例，必须调用构造方法。使用类名并且传入状态的实际值即可，不要直接调用```__init__```"
   ]
  },
  {
   "cell_type": "code",
   "execution_count": 78,
   "metadata": {},
   "outputs": [
    {
     "name": "stdout",
     "output_type": "stream",
     "text": [
      "3 / 5\n",
      "<class 'NoneType'>\n",
      "<__main__.Fraction object at 0x00000256C2689B50>\n"
     ]
    }
   ],
   "source": [
    "#打印本身而不是引用\n",
    "class Fraction:\n",
    "    def __init__(self,top,bottom):\n",
    "        self.num = top\n",
    "        self.den = bottom\n",
    "\n",
    "    def show(self):\n",
    "        print(self.num,\"/\",self.den)#打印之前还要调用方法，不好用，想把python提供的方法重写\n",
    "        \n",
    "myfraction = Fraction(3,5)#创建类的实例\n",
    "print(type(myfraction.show()))#<class 'NoneType'>\n",
    "print(myfraction)#不用这个方法，那么打印的是实际引用（地址本身）"
   ]
  },
  {
   "cell_type": "markdown",
   "metadata": {},
   "source": [
    "而python的所有类都提供了一套标准方法。可以看看将对象转化为字符串的方法```__str__```。该方法默认：像之前那样返回地址字符串。那就重写默认实现，或者说重新定义该方法的行为。下面这段代码很重要，说明在不同地方类别会改变\n",
    "\n",
    "**KEY**"
   ]
  },
  {
   "cell_type": "code",
   "execution_count": 80,
   "metadata": {},
   "outputs": [
    {
     "name": "stdout",
     "output_type": "stream",
     "text": [
      "<class 'str'>\n",
      "3/5\n",
      "<class '__main__.Fraction'>\n"
     ]
    },
    {
     "data": {
      "text/plain": [
       "<__main__.Fraction at 0x256c25b4a00>"
      ]
     },
     "execution_count": 80,
     "metadata": {},
     "output_type": "execute_result"
    }
   ],
   "source": [
    "#重写原本的实现\n",
    "#注意发生类别变动，在str部分是str，但打印的实例是自己定义的Fraction，直接展示变量则是实际引用\n",
    "class Fraction:\n",
    "    def __init__(self,top,bottom):\n",
    "        self.num = top\n",
    "        self.den = bottom\n",
    "\n",
    "    def __str__(self):\n",
    "        print(type(str(self.num) + \"/\" + str(self.den)))#这里是<class 'str'>\n",
    "        return str(self.num) + \"/\" + str(self.den)\n",
    "        #return (self.num,\"/\",self.den)#语法错误，不能这么写，不然会报错__str__ returned non-string (type NoneType)\n",
    "    \n",
    "myfraction = Fraction(3,5)#创建类的实例\n",
    "\n",
    "print(myfraction)\n",
    "\n",
    "print(type(myfraction))#打印的数据类别是<class '__main__.Fraction'>\n",
    "\n",
    "myfraction#返回的是<__main__.Fraction at 0x256c2689850>实际引用（地址本身）；跟上一条的实例的地址不同"
   ]
  },
  {
   "cell_type": "code",
   "execution_count": 21,
   "metadata": {},
   "outputs": [
    {
     "data": {
      "text/plain": [
       "'3/5'"
      ]
     },
     "execution_count": 21,
     "metadata": {},
     "output_type": "execute_result"
    }
   ],
   "source": [
    "#重写后的调用方式1\n",
    "myfraction.__str__()#打印的是str"
   ]
  },
  {
   "cell_type": "code",
   "execution_count": 23,
   "metadata": {},
   "outputs": [
    {
     "data": {
      "text/plain": [
       "'3/5'"
      ]
     },
     "execution_count": 23,
     "metadata": {},
     "output_type": "execute_result"
    }
   ],
   "source": [
    "#重写后的调用方式2\n",
    "str(myfraction)#打印的是str"
   ]
  },
  {
   "cell_type": "markdown",
   "metadata": {},
   "source": [
    "思考如何定义这个类的加法"
   ]
  },
  {
   "cell_type": "code",
   "execution_count": 25,
   "metadata": {},
   "outputs": [],
   "source": [
    "def __add__(self,otherfraction):#注意第二个参数的名字\n",
    "    newnum = self.num * otherfraction.den + otherfraction.num * self.den\n",
    "    newden = sel.den * otherfraction.den\n",
    "    print(Fraction(newnum,newden))"
   ]
  },
  {
   "cell_type": "code",
   "execution_count": 82,
   "metadata": {},
   "outputs": [
    {
     "name": "stdout",
     "output_type": "stream",
     "text": [
      "17/20\n"
     ]
    }
   ],
   "source": [
    "#合并回原来的类定义\n",
    "\n",
    "class Fraction:\n",
    "    def __init__(self,top,bottom):\n",
    "        self.num = top\n",
    "        self.den = bottom\n",
    "\n",
    "    def __str__(self):\n",
    "        return str(self.num) + \"/\" + str(self.den)\n",
    "\n",
    "    def __add__(self,otherfraction):#注意第二个参数的名字\n",
    "        newnum = self.num * otherfraction.den + otherfraction.num * self.den\n",
    "        newden = self.den * otherfraction.den\n",
    "        return(Fraction(newnum,newden))#这里如果用print,会导致最后一句的print出None\n",
    "\n",
    "myfra = Fraction(3,5)#创建类的实例\n",
    "myfrb = Fraction(1,4)\n",
    "print(myfra + myfrb)#使用其他分数测试，会导致结果未必是最简分数"
   ]
  },
  {
   "cell_type": "markdown",
   "metadata": {},
   "source": [
    "想要计算最简分数，首先要使用辗转相除法（欧几里得算法）找m和n的最大公因数。举例而言，找105和252的最大公因数。252/105 = 2...42，那么这俩数的最大公因数也是42，105的最大公因数（剔除双方一致的部分，留下不一致的，才是影响最大公因数的重要因素）。这一算法的目的是缩小数字方便计算。\n",
    "\n",
    "继续进行同样的计算可以不断缩小这两个数直至余数为零。这时，所剩下的还没有变成零的数就是两数的最大公约数。有105/42 = 2...21，那么就是21跟42的最大公因数21\n",
    "\n",
    "由辗转相除法也可以推出，两数的最大公约数可以用两数的整数倍相加来表示（裴蜀定理），如$21 = 5\\times 42 + (-2) \\times 252$"
   ]
  },
  {
   "cell_type": "code",
   "execution_count": 45,
   "metadata": {},
   "outputs": [
    {
     "data": {
      "text/plain": [
       "21"
      ]
     },
     "execution_count": 45,
     "metadata": {},
     "output_type": "execute_result"
    }
   ],
   "source": [
    "#计算最简分数\n",
    "\n",
    "def gcd(m,n):\n",
    "    while m%n !=0:\n",
    "        oldm = m\n",
    "        oldn = n\n",
    "        \n",
    "        m = oldn#注意此处结尾是n，因为跟余数相比，原来的除数必然更大\n",
    "        n = oldm%oldn#取余数\n",
    "    return n\n",
    "gcd(105,252)"
   ]
  },
  {
   "cell_type": "markdown",
   "metadata": {},
   "source": [
    "展开上方计算过程，注意这次的除数就是下次的被除数。gcd的两个参数无需按照大小来排列，因为\n",
    "\n",
    "【m = oldn 会更新除不动的】\n",
    "\n",
    "252%105 != 0\n",
    "\n",
    "oldm = 252\n",
    "\n",
    "oldn = 105\n",
    "\n",
    "m = 105\n",
    "\n",
    "n = 42\n",
    "***\n",
    "\n",
    "105%42 != 0\n",
    "\n",
    "oldm = 105\n",
    "\n",
    "oldn = 42\n",
    "\n",
    "m = 42\n",
    "\n",
    "n = 21"
   ]
  },
  {
   "cell_type": "code",
   "execution_count": 83,
   "metadata": {},
   "outputs": [],
   "source": [
    "#改良版本add\n",
    "def __add__(self,otherfraction):\n",
    "    newnum = self.num * otherfraction.den + self.den * otherfraction.num\n",
    "    newden = self.den * otherfraction.den\n",
    "    common = gcd(newden,newnum)\n",
    "    return Fraction(newnum/common,newden/common)#这里用单斜杠虽然可以除净，但会导致分子分母的数字带小数点"
   ]
  },
  {
   "cell_type": "code",
   "execution_count": 86,
   "metadata": {},
   "outputs": [
    {
     "name": "stdout",
     "output_type": "stream",
     "text": [
      "<class '__main__.Fraction'>\n"
     ]
    }
   ],
   "source": [
    "#合并进类的定义\n",
    "\n",
    "class Fraction:\n",
    "    def __init__(self,top,bottom):\n",
    "        self.num = top\n",
    "        self.den = bottom\n",
    "\n",
    "    def __str__(self):\n",
    "        return str(self.num) + \"/\" + str(self.den)#记住写法\n",
    "    \n",
    "    def gcd(m,n):\n",
    "        while m%n !=0:\n",
    "            oldm = m\n",
    "            oldn = n\n",
    "            \n",
    "            m = oldn\n",
    "            n = oldm%oldn#取余数\n",
    "        return n\n",
    "\n",
    "    def __add__(self,otherfraction):\n",
    "        newnum = self.num * otherfraction.den + otherfraction.num * self.den\n",
    "        newden = self.den * otherfraction.den\n",
    "        common = gcd(newden,newnum)\n",
    "        #return str(newnum//common) + '/' + str(newden//common)#这里得用双斜杠,这句返回的是str\n",
    "        return Fraction(newnum//common,newden//common)#这里返回的是<class '__main__.Fraction'>\n",
    "\n",
    "myfra = Fraction(3,5)#创建类的实例\n",
    "myfrb = Fraction(1,4)\n",
    "print(type(myfra + myfrb))"
   ]
  },
  {
   "cell_type": "markdown",
   "metadata": {},
   "source": [
    "浅相等与深相等\n",
    "\n",
    "* 浅相等：同一个对象的引用才行\n",
    "\n",
    "* 深相等：数值一致即可\n",
    "\n"
   ]
  },
  {
   "cell_type": "code",
   "execution_count": 87,
   "metadata": {},
   "outputs": [],
   "source": [
    "#重写__eq__方法\n",
    "def __eq__(self,other):\n",
    "    firstnum = self.num * other.den\n",
    "    secondnum = self.den * other.num\n",
    "    return firstnum == secondnum"
   ]
  },
  {
   "cell_type": "code",
   "execution_count": 89,
   "metadata": {},
   "outputs": [],
   "source": [
    "#重写__le__方法\n",
    "def __le__(self,other):\n",
    "    firstnum = self.num * other.den\n",
    "    secondnum = self.den * other.num\n",
    "    return firstnum < secondnum"
   ]
  },
  {
   "cell_type": "code",
   "execution_count": 88,
   "metadata": {},
   "outputs": [],
   "source": [
    "#类的完整实现\n",
    "class Fraction:\n",
    "    def __init__(self,top,bottom):\n",
    "        self.num = top\n",
    "        self.den = bottom\n",
    "\n",
    "    def __str__(self):\n",
    "        return str(self.num) + \"/\" + str(self.den)#记住写法\n",
    "    \n",
    "    def gcd(m,n):\n",
    "        while m%n !=0:\n",
    "            oldm = m\n",
    "            oldn = n\n",
    "            \n",
    "            m = oldn\n",
    "            n = oldm%oldn#取余数\n",
    "        return n\n",
    "\n",
    "    def __add__(self,otherfraction):\n",
    "        newnum = self.num * otherfraction.den + otherfraction.num * self.den\n",
    "        newden = self.den * otherfraction.den\n",
    "        common = gcd(newden,newnum)\n",
    "        #return str(newnum//common) + '/' + str(newden//common)#这里得用双斜杠,这句返回的是str\n",
    "        return Fraction(newnum//common,newden//common)#这里返回的是<class '__main__.Fraction'>\n",
    "    \n",
    "    #重写__eq__方法\n",
    "    def __eq__(self,other):\n",
    "        firstnum = self.num * other.den\n",
    "        secondnum = self.den * other.num\n",
    "        return firstnum == secondnum\n",
    "    \n",
    "    def __le__(self,other):\n",
    "        firstnum = self.num * other.den\n",
    "        secondnum = self.den * other.num\n",
    "        return firstnum < secondnum\n",
    "    "
   ]
  },
  {
   "cell_type": "markdown",
   "metadata": {},
   "source": [
    "## 5.3. 类的继承【难点】\n",
    "\n",
    "继承使一个类与另一个类相关联。子类从父类继承特征，父类又叫超类\n",
    "\n",
    "通过将类组织成继承层次结构：\n",
    "\n",
    "* 面向对象编程语言使以前编写的代码能扩展到新的应用场景中\n",
    "\n",
    "* 能更好地理解各种关系，更高效地构建抽象表示\n",
    "\n",
    "使用电路来举例。与，或，非门的讲解略过\n",
    "\n",
    "思路：\n",
    "\n",
    "1. 最基础的逻辑门的通用特性：逻辑门的名字和输出\n",
    "\n",
    "2. 第一次继承的逻辑门的特性：有一个输入还是两个输入（也叫“引脚”，pin）\n",
    "\n",
    "3. 第二次继承的逻辑门的特性：按照具体的来写\n",
    "\n",
    "此外还需要能让用户获取逻辑门的标签，还要能进行逻辑计算"
   ]
  },
  {
   "cell_type": "code",
   "execution_count": 6,
   "metadata": {},
   "outputs": [],
   "source": [
    "#超类LogicGate\n",
    "class LogicGate:\n",
    "    def __init__(self,n):#n是标签名\n",
    "        self.label = n\n",
    "        self.output = None#初期是啥都没有\n",
    "    def getLabel(self):\n",
    "        return self.label#获取标签\n",
    "    def getOutput(self):\n",
    "        self.output = self.performGateLogic()#创建一个方法，并且没有实行细节，等继承后再具体写特定函数，方便代码复用\n",
    "        return self.output"
   ]
  },
  {
   "cell_type": "markdown",
   "metadata": {},
   "source": [
    "介绍继承常用的函数：[super](https://www.runoob.com/python/python-func-super.html)\n",
    "\n",
    "1. super() 函数是用于调用父类(超类)的一个方法。语法如下```super(type[, object-or-type])```前者是类。后者也是类，一般是self\n",
    "2. Python3.x 和 Python2.x 的一个区别是: Python 3 可以使用直接使用```super().xxx``` 代替 ```super(Class, self).xxx ```\n",
    "3. 子类的构造方法需先调用父类的构造方法，再初始化自己独有的数据\n",
    "4. 示范代码"
   ]
  },
  {
   "cell_type": "code",
   "execution_count": 13,
   "metadata": {},
   "outputs": [
    {
     "name": "stdout",
     "output_type": "stream",
     "text": [
      "3\n"
     ]
    }
   ],
   "source": [
    "class A:\n",
    "     def add(self, x):\n",
    "         y = x+1\n",
    "         print(y)\n",
    "class B(A):\n",
    "    def add(self, x):#定义子类中的add函数，函数名，参数形式是一样的\n",
    "        super().add(x)#从父类中的add函数而来\n",
    "b = B()\n",
    "b.add(2)  # 3"
   ]
  },
  {
   "cell_type": "code",
   "execution_count": 14,
   "metadata": {},
   "outputs": [],
   "source": [
    "#1个引脚（输入）的门\n",
    "#继承！\n",
    "class UnaryGate(LogicGate):\n",
    "    def __init__(self,n):\n",
    "        super().__init__(n)#继承了父类的init，和调用函数的书写方式一致\n",
    "        self.pin = None\n",
    "    def getPin(self):\n",
    "        return int(input(\"Enter pin input for gate \" + self.getLabel() + \"-->\"))"
   ]
  },
  {
   "cell_type": "code",
   "execution_count": 10,
   "metadata": {},
   "outputs": [],
   "source": [
    "#2个引脚的门\n",
    "class BinaryGate(LogicGate):\n",
    "    def __init__(self,n):\n",
    "        super().__init__(n)\n",
    "        self.pinA = None\n",
    "        self.pinB = None\n",
    "    \n",
    "    def getPinA(self):\n",
    "        return int(input(\"Enter pin A input for gate \" + self.getLabel() + \"-->\"))\n",
    "\n",
    "    def getPinB(self):\n",
    "        return int(input(\"Enter pin B input for gate \" + self.getLabel() + \"-->\"))"
   ]
  },
  {
   "cell_type": "markdown",
   "metadata": {},
   "source": [
    "进一步地定义具体的类，只用添加布尔运算"
   ]
  },
  {
   "cell_type": "code",
   "execution_count": 30,
   "metadata": {},
   "outputs": [],
   "source": [
    "#和门\n",
    "class AndGate(BinaryGate):\n",
    "    def __init__(self,n):\n",
    "        super().__init__(n)\n",
    "    def performGateLogic(self):\n",
    "        a = self.getPinA()\n",
    "        b = self.getPinB()\n",
    "        if a == 1 and b == 1:\n",
    "            return 1\n",
    "        elif a*b == 0:\n",
    "            return 0\n",
    "        else:\n",
    "            return 'Error Input!'"
   ]
  },
  {
   "cell_type": "code",
   "execution_count": 27,
   "metadata": {},
   "outputs": [
    {
     "name": "stdout",
     "output_type": "stream",
     "text": [
      "Enter pin A input for gate G1-->3\n",
      "Enter pin B input for gate G1-->2\n"
     ]
    },
    {
     "data": {
      "text/plain": [
       "'Error Input'"
      ]
     },
     "execution_count": 27,
     "metadata": {},
     "output_type": "execute_result"
    }
   ],
   "source": [
    "#创建对象！\n",
    "g1 = AndGate(\"G1\")\n",
    "g1.getOutput()"
   ]
  },
  {
   "cell_type": "code",
   "execution_count": 32,
   "metadata": {},
   "outputs": [],
   "source": [
    "class NotGate(UnaryGate):\n",
    "    def __init__(self,n):\n",
    "        super().__init__(n)\n",
    "    def performGateLogic(self):\n",
    "        a = self.getPin()\n",
    "        if a == 0:\n",
    "            return 1\n",
    "        elif a == 1:\n",
    "            return 0\n",
    "        else:\n",
    "            return 'Error Input!'"
   ]
  },
  {
   "cell_type": "code",
   "execution_count": 33,
   "metadata": {},
   "outputs": [
    {
     "name": "stdout",
     "output_type": "stream",
     "text": [
      "Enter pin input for gate G2-->1\n"
     ]
    },
    {
     "data": {
      "text/plain": [
       "0"
      ]
     },
     "execution_count": 33,
     "metadata": {},
     "output_type": "execute_result"
    }
   ],
   "source": [
    "g2 = NotGate(\"G2\")\n",
    "g2.getOutput()"
   ]
  },
  {
   "cell_type": "code",
   "execution_count": 43,
   "metadata": {},
   "outputs": [],
   "source": [
    "class OrGate(BinaryGate):\n",
    "    def __init__(self,n):\n",
    "        super().__init__(n)\n",
    "    def performGateLogic(self):\n",
    "        a = self.getPinA()\n",
    "        b = self.getPinB()\n",
    "        if a == 0 and b == 0 :\n",
    "            return 0\n",
    "        else:\n",
    "            return 1"
   ]
  },
  {
   "cell_type": "code",
   "execution_count": 44,
   "metadata": {},
   "outputs": [
    {
     "name": "stdout",
     "output_type": "stream",
     "text": [
      "Enter pin A input for gate g3-->1\n",
      "Enter pin B input for gate g3-->0\n"
     ]
    },
    {
     "data": {
      "text/plain": [
       "1"
      ]
     },
     "execution_count": 44,
     "metadata": {},
     "output_type": "execute_result"
    }
   ],
   "source": [
    "g3 = OrGate(\"g3\")\n",
    "g3.getOutput()"
   ]
  },
  {
   "cell_type": "markdown",
   "metadata": {},
   "source": [
    "逻辑门创建完毕，现在需要把这些对象连接起来。前一个的输出是后一个的输入（数据值从这个门（fromgate）的输出“流向”另一个门(togate)的输入）。因此创建新的类Connector\n",
    "\n",
    "请注意，Connector并不在这些Gate的继承层次中，但它会使用该结构 ——— 每个Connector对象的两端都有个逻辑门\n",
    "\n",
    "这就是HAS-A关系：Connector对象的内部包含LogicGate类的实例，但不在继承层次结构中。Connector has a LogicGate\n",
    "\n",
    "在预先设计类时，区分IS-A(需要继承)，HAS-A（不需要继承）关系非常重要"
   ]
  },
  {
   "cell_type": "code",
   "execution_count": 45,
   "metadata": {},
   "outputs": [],
   "source": [
    "class Connector:\n",
    "    def __init__(self,fgate,tgate):\n",
    "        self.fromgate = fgate\n",
    "        self.togate = tgate\n",
    "        \n",
    "        tgate.setNextPin(self)\n",
    "        \n",
    "    def getFrom(self):\n",
    "        return self.fromgate\n",
    "    \n",
    "    def getTo(self):\n",
    "        return self.togate"
   ]
  },
  {
   "cell_type": "markdown",
   "metadata": {},
   "source": [
    "setNextPin可以看到是属于逻辑门的，需要添加进去，**使得每个togate能够选择适当的输入**。但在BinaryGate类中，有2个输入，不妨默认为选择pinA，不行才选pinB，如果还不行就无法连接逻辑门。\n",
    "\n",
    "==> 现在输入源有两种：\n",
    "\n",
    "* 来自外部\n",
    "* 来自上一个逻辑门的输出\n",
    "\n",
    "用AndGate举例说明，有：\n",
    "\n",
    "1. 如果输入没有和任何逻辑门连接，那就要求用户输入\n",
    "\n",
    "2. 如果有连接，就访问该连接以便获取fromgate的输出\n",
    "\n",
    "3. 在第2步会触发fromgate的处理逻辑\n",
    "\n",
    "4. 该过程一直持续到获取影响最终输出值的每一个输入\n",
    "\n",
    "在某种意义上，该电路反向工作，以获取所需输入，再计算最后的结果"
   ]
  },
  {
   "cell_type": "code",
   "execution_count": null,
   "metadata": {},
   "outputs": [],
   "source": [
    "#修改后的和门\n",
    "class AndGate(BinaryGate):\n",
    "    def __init__(self,n):\n",
    "        super().__init__(n)\n",
    "    def setNextPin(self,source):\n",
    "        if self.pinA == None:\n",
    "            self.pinA = source\n",
    "        elif self.pinB == None:\n",
    "            self.pinB == source\n",
    "        else:\n",
    "            raise RuntimeError(\"Error:No Empty Pins\")\n",
    "    def performGateLogic(self):\n",
    "        a = self.getPinA()\n",
    "        b = self.getPinB()\n",
    "        if a == 1 and b == 1:\n",
    "            return 1\n",
    "        elif a*b == 0:\n",
    "            return 0\n",
    "        else:\n",
    "            return 'Error Input!'\n",
    "    def getPinA(self):\n",
    "        if self.pinA == None:\n",
    "            return int(input(\"ENTER PIN A FOR GATE \" + \\\n",
    "                         self.getLabel() + \"-->\"))\n",
    "        else:\n",
    "            return self.pinA.getFrom().getOutPut()# setNextPin将PinA设定为链接器source，所以可以调用getFrom()函数\n",
    "    def getPinB(self):\n",
    "        if self.pinB == None:\n",
    "            return int(input(\"ENTER PIN B FOR GATE \" + \\\n",
    "                         self.getLabel() + \"-->\"))\n",
    "        else:\n",
    "            return self.pinB.getFrom().getOutPut()"
   ]
  },
  {
   "cell_type": "code",
   "execution_count": null,
   "metadata": {},
   "outputs": [],
   "source": [
    "class OrGate(BinaryGate):\n",
    "    def __init__(self, n) -> None:\n",
    "        super().__init__(n)\n",
    "    def performGateLogic(self):\n",
    "        a = self.getPinA()\n",
    "        b = self.getPinB()\n",
    "        if a == 1 or b == 1:\n",
    "            return 1 \n",
    "        else:\n",
    "            return 0\n",
    "    def setNextPin(self,source):\n",
    "        if self.pinA == None:\n",
    "            self.pinA = source\n",
    "        else:\n",
    "            if self.pinB == None:\n",
    "                self.pinB = source\n",
    "            else:\n",
    "                raise RuntimeError(\"Error:no empty pins\")\n",
    "    def getPinA(self):\n",
    "        if self.pinA == None:\n",
    "            return int(input(\"ENTER PIN A FOR GATE \" + \\\n",
    "                         self.getLabel() + \"-->\"))\n",
    "        else:\n",
    "            return self.pinA.getFrom().getOutPut()\n",
    "    def getPinB(self):\n",
    "        if self.pinB == None:\n",
    "            return int(input(\"ENTER PIN B FOR GATE \" + \\\n",
    "                         self.getLabel() + \"-->\"))\n",
    "        else:\n",
    "            return self.pinB.getFrom().getOutPut()"
   ]
  },
  {
   "cell_type": "code",
   "execution_count": null,
   "metadata": {},
   "outputs": [],
   "source": [
    "class NotGate(UnaryGate):\n",
    "    def __init__(self, n) -> None:\n",
    "        super().__init__(n)\n",
    "    def performGateLogic(self):\n",
    "        a = self.getPin()\n",
    "        if a == 1 :\n",
    "            return 0 \n",
    "        else:\n",
    "            return 1\n",
    "    def setNextPin(self,source):\n",
    "        if self.pin == None:\n",
    "            self.pin = source#设定链接器\n",
    "        else:\n",
    "            raise RuntimeError(\"Error:no empty pins\")\n",
    "    def getPin(self):\n",
    "        if self.pin == None:\n",
    "            return int(input(\"ENTER PIN FOR GATE\" + \\\n",
    "                         self.getLabel() + \"-->\"))\n",
    "        else:\n",
    "            return self.pin.getFrom().getOutPut()"
   ]
  },
  {
   "cell_type": "markdown",
   "metadata": {},
   "source": [
    "******"
   ]
  },
  {
   "cell_type": "markdown",
   "metadata": {},
   "source": [
    "# 【补充】"
   ]
  },
  {
   "cell_type": "markdown",
   "metadata": {},
   "source": [
    "# 6. 类的定义与调用"
   ]
  },
  {
   "cell_type": "markdown",
   "metadata": {},
   "source": [
    "## 6.1. 类的定义\n",
    "* 类是对象的模板，封装了对应现实实体的性质和行为\n",
    "* 实例对象是类的具体化\n",
    "* 类是模具，对象是模具制造出来的零件\n",
    "* 类的出现，为面向对象编程的三个最重要特性提供了实现手段：封装性，继承性，多态性【同一段代码可以处理不同的对象，甚至不同类型的对象】\n",
    "* 自定义类，用大写字母开头。函数用小写字母。因为类和函数在使用的时候形式完全一致的\n",
    "* 定义类：class<类名>:\n",
    "* 类的初始化：\n",
    "    class<类名>:\n",
    "        def __init__(self,<参数表>):\n",
    "* 类的函数里，第一个参数总是self。类方法中，self指这个对象实例自己\n",
    "* 调用：<类名>(<参数>)\n",
    "* 加法返回重新生成的力的对象"
   ]
  },
  {
   "cell_type": "markdown",
   "metadata": {},
   "source": [
    "## 6.2. 类定义中的特殊方法"
   ]
  },
  {
   "cell_type": "markdown",
   "metadata": {},
   "source": [
    "* 特殊方法也被称为魔术方法。在类定义中实现特殊方法，可以方便地使用python中的内置操作。\n",
    "* 所有特殊方法以两个下划线开始和结束\n",
    "* 对象构造器：__init__(sekf,[])\n",
    "* 析构器：__del(self,[])"
   ]
  },
  {
   "cell_type": "code",
   "execution_count": null,
   "metadata": {},
   "outputs": [],
   "source": [
    "from os.path import join\n",
    "class FileObject:\n",
    "    def __init__(self,filepath = '~',filename = 'sample.txt') -> None:\n",
    "        self.file = open(join(filepath,filename),'r4')\n",
    "    def __del__(self):\n",
    "        self.file.close()\n",
    "        del self.file"
   ]
  },
  {
   "cell_type": "markdown",
   "metadata": {},
   "source": [
    "* 算数操作符：\n",
    "  1) __add__(self,other)\n",
    "  2) __sub__(self,other)\n",
    "  3) __mul__(self,other)\n",
    "  4) __div__(self,other)"
   ]
  },
  {
   "cell_type": "markdown",
   "metadata": {},
   "source": [
    "* 反运算:自己self作为右操作数\n",
    "  1) __radd__(self,other)\n",
    "  2) __rsub__(self,other)\n",
    "  3) __rmul__(self,other)\n",
    "  4) __rdiv__(self,other)"
   ]
  },
  {
   "cell_type": "markdown",
   "metadata": {},
   "source": [
    "* 大小比较\n",
    "1) __eq__(self,other)\n",
    "2) __ne__(self,other)\n",
    "3) __lt__(self,other):<\n",
    "4) __gt__(self,other):>\n",
    "5) __le__(self,other):<=\n",
    "6) __ge__(self,other):>="
   ]
  },
  {
   "cell_type": "markdown",
   "metadata": {},
   "source": [
    "* 若特殊函数本身已经符合要求，那么只用把下划线__特殊方法__ = 特殊方法即可"
   ]
  },
  {
   "cell_type": "markdown",
   "metadata": {},
   "source": [
    "* 字符串操作\n",
    "  1) __str__(self)#自动转换为字符串\n",
    "  2) __repr__(self)#对象的正式表达\n",
    "  3) __len__(self)#返回元素个数"
   ]
  },
  {
   "cell_type": "markdown",
   "metadata": {},
   "source": [
    "# 7. 自定义对象的排序"
   ]
  },
  {
   "cell_type": "markdown",
   "metadata": {},
   "source": [
    "## 7.1. 列表排序"
   ]
  },
  {
   "cell_type": "markdown",
   "metadata": {},
   "source": [
    "* 列表方法sort()，按内容排序，改变原列表内容。\n",
    "* 如都是数字，默认按升序排序\n",
    "* 如元素都是字符串，会按字母表排序\n",
    "* sorted()：返回排序好的，原列表内容不变\n",
    "* 只有列表元素属于同一种类型时，sort()和sorted()才会正常工作。因为基于__lt__特殊方法：该方法应return True"
   ]
  },
  {
   "cell_type": "markdown",
   "metadata": {},
   "source": [
    "# 8. 类的继承"
   ]
  },
  {
   "cell_type": "markdown",
   "metadata": {},
   "source": [
    "* 继承方便了代码复用\n",
    "* class <子类名>(<父类名>):\n",
    "      def <重定义方法>(self,...):\n",
    "* 这就是覆盖override\n",
    "* 还可以添加父类中没有的方法和属性： "
   ]
  },
  {
   "cell_type": "code",
   "execution_count": null,
   "metadata": {},
   "outputs": [],
   "source": [
    "class Car:\n",
    "    def __init__(self,name) -> str:# -> type:不影响原本的类型\n",
    "        self.name = name\n",
    "        self.remain_mile = 0\n",
    "\n",
    "class GasCar(Car):\n",
    "    def __init__(self, name,capacity) -> None:\n",
    "        super().__init__(name)#父类初始化方法，只有名字\n",
    "        #在__init__(name)里，只有Name被重新初始化是因为Car的初始化里只使用了name参数\n",
    "        self.remain_mile = 70\n",
    "        self.capacity = capacity#新添加方法\n",
    "\n",
    "a = Car('BMW')\n",
    "print(type(a))\n",
    "\n",
    "b = GasCar('BMW',60)\n",
    "print(b.remain_mile)"
   ]
  },
  {
   "cell_type": "markdown",
   "metadata": {},
   "source": [
    "* self的作用：在类的内部，实例化过程中传入的所有数据都给这个变量\n",
    "* 这个变量和类没有关系，是独立的一个实例变量\n",
    "* self代表的是对象实例\n",
    "* gcar.run(200.0)等价于GasCar.run(gcar,200.0)"
   ]
  }
 ],
 "metadata": {
  "interpreter": {
   "hash": "b3ba2566441a7c06988d0923437866b63cedc61552a5af99d1f4fb67d367b25f"
  },
  "kernelspec": {
   "display_name": "Python 3",
   "language": "python",
   "name": "python3"
  },
  "language_info": {
   "codemirror_mode": {
    "name": "ipython",
    "version": 3
   },
   "file_extension": ".py",
   "mimetype": "text/x-python",
   "name": "python",
   "nbconvert_exporter": "python",
   "pygments_lexer": "ipython3",
   "version": "3.8.8"
  },
  "toc": {
   "base_numbering": 1,
   "nav_menu": {},
   "number_sections": false,
   "sideBar": false,
   "skip_h1_title": false,
   "title_cell": "Table of Contents",
   "title_sidebar": "Contents",
   "toc_cell": true,
   "toc_position": {
    "height": "392.4px",
    "left": "120px",
    "top": "110.525px",
    "width": "266px"
   },
   "toc_section_display": true,
   "toc_window_display": true
  }
 },
 "nbformat": 4,
 "nbformat_minor": 2
}
