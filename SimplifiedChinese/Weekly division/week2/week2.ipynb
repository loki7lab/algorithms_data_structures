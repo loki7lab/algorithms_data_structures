{
 "cells": [
  {
   "cell_type": "markdown",
   "metadata": {},
   "source": [
    "**Table of contents**<a id='toc0_'></a>    \n",
    "- [201 什么是算法分析](#toc1_)    \n",
    "  - [对比算法还是程序？](#toc1_1_)    \n",
    "  - [什么是计算资源？](#toc1_2_)    \n",
    "- [202 大O表示法](#toc2_)    \n",
    "  - [算法时间度量指标](#toc2_1_)    \n",
    "- [赋值语句计算次数](#toc3_)    \n",
    "- [问题规模影响算法执行时间](#toc4_)    \n",
    "- [确定运行时间数量级大0的方法](#toc5_)    \n",
    "- [影响算法运行时间的其他因素](#toc6_)    \n",
    "- [从代码分析确定执行时间数量级函数](#toc7_)    \n",
    "- [其他算法复杂度表示法](#toc8_)    \n",
    "- [203 “变位词”判断问题](#toc9_)    \n",
    "- [204 变位词判断问题](#toc10_)    \n",
    "- [205 Python数据类型的性能（上）](#toc11_)    \n",
    "- [LIST列表数据类型](#toc12_)    \n",
    "  - [LIST列表常用操作性能](#toc12_1_)    \n",
    "- [206 Python数据类型的性能（下）](#toc13_)    \n",
    "- [dict数据类型](#toc14_)    \n",
    "- [207 如何做慕课OJ](#toc15_)    \n",
    "\n",
    "<!-- vscode-jupyter-toc-config\n",
    "\tnumbering=false\n",
    "\tanchor=true\n",
    "\tflat=false\n",
    "\tminLevel=1\n",
    "\tmaxLevel=6\n",
    "\t/vscode-jupyter-toc-config -->\n",
    "<!-- THIS CELL WILL BE REPLACED ON TOC UPDATE. DO NOT WRITE YOUR TEXT IN THIS CELL -->"
   ]
  },
  {
   "cell_type": "markdown",
   "metadata": {},
   "source": [
    "本周课程学习如何评估算法：\n",
    "1. 思考评价的对象是算法还是程序，评价指标又该是什么【201】\n",
    "2. 提出大O表示法，并学习如何计算该指标【202】\n",
    "3. 提出具体案例（变位词算法）并分析【203，204】\n",
    "4. 分析python内建数据类型操作的复杂度【205，206】\n",
    "5. OJ的使用办法【207】\n"
   ]
  },
  {
   "cell_type": "markdown",
   "metadata": {},
   "source": [
    "# <a id='toc1_'></a>[201 什么是算法分析](#toc0_)"
   ]
  },
  {
   "cell_type": "markdown",
   "metadata": {},
   "source": [
    "## <a id='toc1_1_'></a>[对比算法还是程序？](#toc0_)"
   ]
  },
  {
   "cell_type": "markdown",
   "metadata": {},
   "source": [
    "* 算法是对问题解决的分步描述，是逻辑层面。\n",
    "\n",
    "* 程序则是采用某种编程语言实现的算法，是物理层面。\n",
    "\n",
    "* 同一个算法通过不同的程序员采用不同的编程语言，能产生很多程序。\n"
   ]
  },
  {
   "cell_type": "markdown",
   "metadata": {},
   "source": [
    "因此\n",
    "\n",
    "❖比较程序的“好坏”，有更多因素，比如代码风格、可读性等等\n",
    "\n",
    "❖我们主要感兴趣的是算法本身特性"
   ]
  },
  {
   "cell_type": "markdown",
   "metadata": {},
   "source": [
    "❖算法分析主要就是从计算资源消耗的角度来评判和比较算法\n",
    "。更高效利用计算资源，或者更少占用计算资源的算法，就是好算法"
   ]
  },
  {
   "cell_type": "markdown",
   "metadata": {},
   "source": [
    "## <a id='toc1_2_'></a>[什么是计算资源？](#toc0_)"
   ]
  },
  {
   "cell_type": "markdown",
   "metadata": {},
   "source": [
    "❖一种是算法解决问题过程中需要的存储空间或内存\n",
    "\n",
    "* 但存储空间受到问题自身数据规模的变化影响\n",
    "\n",
    "* 不容易区分哪些存储空间是问题本身描述所需，哪些是算法占用\n",
    "  \n",
    "❖另一种是算法的执行时间\n",
    "\n",
    "* 我们可以对程序进行实际运行测试，获得真实的运行时间。这是通常的指标。\n"
   ]
  },
  {
   "cell_type": "markdown",
   "metadata": {},
   "source": [
    "测量执行时间"
   ]
  },
  {
   "cell_type": "markdown",
   "metadata": {},
   "source": [
    "❖但关于运行时间的实际检测，有点不妥\n",
    "\n",
    "跟编程语言和运行环境相关\n",
    "\n",
    "❖同一个算法，采用不同的编程语言编写，放在不同的机器上运行，得到的运行时间有时候会大不一样：\n",
    "\n",
    "比如把非迭代算法放在老旧机器上跑，甚至可能慢过新机器上的迭代算法。\n",
    "\n",
    "❖我们需要更好的方法来衡量算法运行时间\n",
    "\n",
    "❖而且这个指标与具体的机器、程序、运行时段都无关"
   ]
  },
  {
   "cell_type": "markdown",
   "metadata": {},
   "source": [
    "# <a id='toc2_'></a>[202 大O表示法](#toc0_)"
   ]
  },
  {
   "cell_type": "markdown",
   "metadata": {},
   "source": [
    "## <a id='toc2_1_'></a>[算法时间度量指标](#toc0_)"
   ]
  },
  {
   "cell_type": "markdown",
   "metadata": {},
   "source": [
    "评价一个算法的好坏，需要评价它运行过程当中所占用的计算资源。计算资源包括空间和时间。主要衡量的是占用的时间资源。"
   ]
  },
  {
   "cell_type": "markdown",
   "metadata": {},
   "source": [
    "❖ 一个算法所实施的操作数量或步骤数可作为独立于具体程序/机器的度量指标。\n",
    "\n",
    "那么：\n",
    "\n",
    "哪种操作跟算法的具体实现无关？\n",
    "\n",
    "因此：\n",
    "\n",
    "需要一种通用的基本操作来作为运行步骤的计量单位"
   ]
  },
  {
   "cell_type": "markdown",
   "metadata": {},
   "source": [
    "==>\n",
    "**使用赋值语句**"
   ]
  },
  {
   "cell_type": "markdown",
   "metadata": {},
   "source": [
    "# <a id='toc3_'></a>[赋值语句计算次数](#toc0_)"
   ]
  },
  {
   "cell_type": "markdown",
   "metadata": {},
   "source": [
    "为什么用赋值语句来度量？\n",
    "\n",
    "* 一条赋值语句同时包含了（表达式）计算和（变量）存储两个基本资源。\n",
    "\n",
    "* 仔细观察程序设计语言特性，除了与计算资源无关的定义语句外，主要就是三种控制流语句和赋值语句\n",
    "\n",
    "* 而控制流语句（顺序、决策和循环）只是组织语句，本身不实行处理"
   ]
  },
  {
   "cell_type": "markdown",
   "metadata": {},
   "source": [
    "计算机做的处理一般是计算和存储两大功能。"
   ]
  },
  {
   "cell_type": "markdown",
   "metadata": {},
   "source": [
    "# <a id='toc4_'></a>[问题规模影响算法执行时间](#toc0_)"
   ]
  },
  {
   "cell_type": "markdown",
   "metadata": {},
   "source": [
    "算法分析的目标是要找出问题规模会怎么影响一个算法的执行时间\n"
   ]
  },
  {
   "cell_type": "markdown",
   "metadata": {},
   "source": [
    "❖基本操作数量函数T(n)的精确值并不是特别重要，重要的是T(n)中起决定性因素的主导部分\n",
    "\n",
    "* 用动态的眼光看，就是当问题规模增大的时候，T(n)中的一些部分会盖过其它部分的贡献\n",
    "\n",
    "❖数量级函数描述了T(n)中随着n增加而增加速度最快的主导部分，称作“大O”表示法，记作O(f(n))，其中f(n)表示T(n)中的主导部分\n"
   ]
  },
  {
   "cell_type": "markdown",
   "metadata": {},
   "source": [
    "# <a id='toc5_'></a>[确定运行时间数量级大0的方法](#toc0_)"
   ]
  },
  {
   "cell_type": "markdown",
   "metadata": {},
   "source": [
    "例：T(n)=5n2+27n+1005\n",
    "\n",
    "* 当n很小时，常数1005其决定性作用\n",
    "\n",
    "* 但当n越来越大，n^2项就越来越重要，其它两项对结果的影响则越来越小\n",
    "\n",
    "* 同样，n^2项中的系数5，对于n^2的增长速度来说也影响不大\n",
    "\n",
    "* 所以可以在数量级中去掉27n+1005，以及系数5的部分，确定为O(n^2)"
   ]
  },
  {
   "cell_type": "markdown",
   "metadata": {},
   "source": [
    "# <a id='toc6_'></a>[影响算法运行时间的其他因素](#toc0_)"
   ]
  },
  {
   "cell_type": "markdown",
   "metadata": {},
   "source": [
    "❖有时决定运行时间的不仅是问题规模\n",
    "\n",
    "❖某些具体数据也会影响算法运行时间\n",
    "\n",
    "* 分为最好、最差和平均情况。其中平均状况体现了算法的主流性能\n",
    "\n",
    "* 对算法的分析要看主流，而不被某几种特定的运行状况所迷惑\n"
   ]
  },
  {
   "cell_type": "markdown",
   "metadata": {},
   "source": [
    "![shuliangji](./img/1.png)"
   ]
  },
  {
   "cell_type": "markdown",
   "metadata": {},
   "source": [
    "# <a id='toc7_'></a>[从代码分析确定执行时间数量级函数](#toc0_)"
   ]
  },
  {
   "cell_type": "markdown",
   "metadata": {},
   "source": [
    "# <a id='toc8_'></a>[其他算法复杂度表示法](#toc0_)"
   ]
  },
  {
   "cell_type": "markdown",
   "metadata": {},
   "source": [
    "* 大O表示法:所有上限中最小的上限\n",
    "* 大$\\Omega$表示法：所有下限中最大的下限\n",
    "* 大$\\Theta$表示法：如果上下限相同\n",
    "![shuliangji](./img/2.png)"
   ]
  },
  {
   "cell_type": "markdown",
   "metadata": {},
   "source": [
    "# <a id='toc9_'></a>[203 “变位词”判断问题](#toc0_)"
   ]
  },
  {
   "cell_type": "markdown",
   "metadata": {},
   "source": [
    "所谓“变位词”是指两个词之间存在组成字母的重新排列关系，例如heart和earth"
   ]
  },
  {
   "cell_type": "code",
   "execution_count": null,
   "metadata": {
    "collapsed": true
   },
   "outputs": [],
   "source": [
    "def anagramSolution1(s1,s2):#逐字检查法，这个问题复杂度是O(n^2)\n",
    "    alist = list(s2)\n",
    "    pos1 = 0\n",
    "    stillOK = True\n",
    "    while pos1 < len(s1) and stillOK:\n",
    "        pos2 = 0\n",
    "        found = False\n",
    "        while pos2 < len(alist) and not found:\n",
    "            if s1[pos1] == alist[pos2]:\n",
    "                found = True\n",
    "            else:\n",
    "                pos2 += 1\n",
    "        if found:\n",
    "            alist[pos2] = None\n",
    "        else:\n",
    "            stillOK = False\n",
    "        pos1 += 1\n",
    "    return stillOK\n",
    "print(anagramSolution1('abcd','dcea'))"
   ]
  },
  {
   "cell_type": "code",
   "execution_count": null,
   "metadata": {
    "collapsed": true
   },
   "outputs": [],
   "source": [
    "def anagramSolution2(s1,s2):#排序比较\n",
    "    alist1 = list(s1)\n",
    "    alist2 = list(s2)\n",
    "\n",
    "    alist1.sort()\n",
    "    alist2.sort()\n",
    "    pos = 0\n",
    "    matches = True\n",
    "    while pos < len(s1) and matches:\n",
    "        if alist1[pos] == alist2[pos]:\n",
    "            pos += 1\n",
    "        else:\n",
    "            matches = False\n",
    "    return matches\n",
    "\n",
    "print(anagramSolution2('abcde','acdbe'))"
   ]
  },
  {
   "cell_type": "markdown",
   "metadata": {},
   "source": [
    "在这个算法里，循环的数量级是O(n)。但是排序才是本算法时间的主导步骤。因此，本算法的运行时间数量级等于排序过程的数量级O(nlog n)"
   ]
  },
  {
   "cell_type": "markdown",
   "metadata": {},
   "source": [
    "# <a id='toc10_'></a>[204 变位词判断问题](#toc0_)"
   ]
  },
  {
   "cell_type": "markdown",
   "metadata": {},
   "source": [
    "解法3：暴力法。是$O(n!)$"
   ]
  },
  {
   "cell_type": "markdown",
   "metadata": {},
   "source": [
    "解法4：计数比较"
   ]
  },
  {
   "cell_type": "code",
   "execution_count": null,
   "metadata": {
    "collapsed": true
   },
   "outputs": [],
   "source": [
    "def anagramSolution3(s1,s2):\n",
    "    c1 = [0]*26\n",
    "    c2 = [0]*26\n",
    "    for i in range(len(s1)):\n",
    "        pos = ord(s1[i]) - ord('a')\n",
    "        c1[pos] += 1\n",
    "    for i in range(len(s2)):\n",
    "        pos = ord(s2[i]) - ord('a')\n",
    "        c2[pos] += 1\n",
    "    j = 0\n",
    "    stillOK = True\n",
    "    while j < 26 and stillOK:\n",
    "        if c1[j] == c2[j]:\n",
    "            j += 1\n",
    "        else:\n",
    "            stillOK = False\n",
    "    return stillOK\n",
    "print(anagramSolution3('abc','dca'))"
   ]
  },
  {
   "cell_type": "markdown",
   "metadata": {},
   "source": [
    "总操作次数是T(n) = 2n + 26，其数量级是O(n)\n",
    "\n",
    "付出的代价是需要更多的内存空间"
   ]
  },
  {
   "cell_type": "code",
   "execution_count": null,
   "metadata": {
    "collapsed": true
   },
   "outputs": [],
   "source": [
    "def anagramSolution3_1(s1,s2):\n",
    "    c1 = [0]*26\n",
    "    c2 = [0]*26\n",
    "    for i in range(len(s1)):\n",
    "        pos = ord(s1[i]) - ord('a')\n",
    "        c1[pos] += 1\n",
    "    for i in range(len(s2)):\n",
    "        pos = ord(s2[i]) - ord('a')\n",
    "        c2[pos] += 1\n",
    "    j = 0\n",
    "    stillOK = True\n",
    "    return c1 == c2\n",
    "print(anagramSolution3_1('abc','dca'))"
   ]
  },
  {
   "cell_type": "markdown",
   "metadata": {},
   "source": [
    "同样的，使用字典有"
   ]
  },
  {
   "cell_type": "code",
   "execution_count": null,
   "metadata": {},
   "outputs": [],
   "source": [
    "def anagramSolution4(s1,s2):\n",
    "    dic1 = {}\n",
    "    dic2 = {}\n",
    "\n",
    "    for i in s1:\n",
    "        dic1[i] = dic1.get(i,0) + 1\n",
    "    \n",
    "    for i in s2:\n",
    "        dic2[i] = dic2.get(i,0) + 1\n",
    "    \n",
    "    return dic1 == dic2\n",
    "\n",
    "print(anagramSolution4('abc','bca'))\n",
    "    "
   ]
  },
  {
   "cell_type": "markdown",
   "metadata": {},
   "source": [
    "# <a id='toc11_'></a>[205 Python数据类型的性能（上）](#toc0_)"
   ]
  },
  {
   "cell_type": "markdown",
   "metadata": {},
   "source": [
    "来讨论下Python两种内置数据类型上各种操作的大O数量级：\n",
    "\n",
    "* 列表list\n",
    "* 字典dict\n",
    "\n",
    "都是容器类型，也都是可变类型。字典是无序的。"
   ]
  },
  {
   "cell_type": "markdown",
   "metadata": {},
   "source": [
    "![pic](./img/3.png)"
   ]
  },
  {
   "cell_type": "markdown",
   "metadata": {},
   "source": [
    "# <a id='toc12_'></a>[LIST列表数据类型](#toc0_)"
   ]
  },
  {
   "cell_type": "markdown",
   "metadata": {},
   "source": [
    "## <a id='toc12_1_'></a>[LIST列表常用操作性能](#toc0_)\n",
    "* 最常用的是按索引取值和赋值\n",
    "* 其次是列表增长"
   ]
  },
  {
   "cell_type": "code",
   "execution_count": null,
   "metadata": {
    "collapsed": true
   },
   "outputs": [],
   "source": [
    "def test1():\n",
    "    l1 = list(range(1000))#fastest\n",
    "\n",
    "def test2():\n",
    "    l2 = [i for i in range(1000)]\n",
    "\n",
    "def test3():\n",
    "    l3 = []\n",
    "    for i in range(1000):\n",
    "        l3.append(i)\n",
    "\n",
    "def test4():\n",
    "    l4 = []#slowest\n",
    "    for i in range(1000):\n",
    "        l4 += [i] "
   ]
  },
  {
   "cell_type": "code",
   "execution_count": null,
   "metadata": {
    "collapsed": true
   },
   "outputs": [],
   "source": [
    "from timeit import Timer\n",
    "t1 = Timer(\"test1()\",\"from __main__ import test1\")\n",
    "print (\"concat %f seconds\\n\" % t1.timeit(number = 1000))\n",
    "# Timer(\"test1()\",\"from __main__ import test1\")\n",
    "# test1()是反复执行的语句，用字符串形式给timer\n",
    "# 第二个参数是安装语句，只运行1次。反复运行的语句里面出现了什么反复出现的变量，可以从安装语句中import进来\n",
    "# test1是主程序名字。在主程序命名空间中要导入，所以会有from __main__ import test1\n",
    "# __main__ 是主程序命名空间\n",
    "t2 = Timer(\"test2()\",\"from __main__ import test2\")\n",
    "print (\"concat %f seconds\\n\" % t2.timeit(number = 1000))\n",
    "\n",
    "t3 = Timer(\"test3()\",\"from __main__ import test3\")\n",
    "print (\"concat %f seconds\\n\" % t3.timeit(number = 1000))\n",
    "\n",
    "t4 = Timer(\"test4()\",\"from __main__ import test4\")\n",
    "print (\"concat %f seconds\\n\" % t4.timeit(number = 1000))\n",
    "\n"
   ]
  },
  {
   "cell_type": "markdown",
   "metadata": {},
   "source": [
    "![pic4](./img/4.png)"
   ]
  },
  {
   "cell_type": "markdown",
   "metadata": {},
   "source": [
    "# <a id='toc13_'></a>[206 Python数据类型的性能（下）](#toc0_)"
   ]
  },
  {
   "cell_type": "markdown",
   "metadata": {},
   "source": [
    "* list.pop操作，从中部移除元素的话，要把移除元素后面的元素全部向前挪位复制一遍，这个看起来有点笨拙【O(n)】\n",
    "* 但这种实现方法能够保证**列表按索引取值和赋值**的操作很快，达到O(1)\n",
    "* 这也算是一种对常用和不常用操作的折衷方案"
   ]
  },
  {
   "cell_type": "markdown",
   "metadata": {},
   "source": [
    "# <a id='toc14_'></a>[dict数据类型](#toc0_)"
   ]
  },
  {
   "cell_type": "markdown",
   "metadata": {},
   "source": [
    "❖字典与列表不同，根据关键码（key）找到数据项，而列表是根据位置（index）\n",
    "\n",
    "❖最常用的取值get和赋值set，其性能为O(1)另一个重要操作contains(in)是判断字典中是否存在某个关键码（key），这个性能也是O(1)"
   ]
  },
  {
   "cell_type": "markdown",
   "metadata": {},
   "source": [
    "❖Python官方的算法复杂度网站：\n",
    "https://wiki.python.org/moin/TimeComplexity"
   ]
  },
  {
   "cell_type": "markdown",
   "metadata": {},
   "source": [
    "# <a id='toc15_'></a>[207 如何做慕课OJ](#toc0_)\n",
    "1. 输出必须一致，包括看不见的空格\n",
    "2. 如何做\n",
    "* 看清题\n",
    "* 看清样例的格式\n",
    "\n",
    "a. 多行输入：每行一个```input()```，根据要求转换。若每行一个整数\n",
    "```a = int(input())```\n",
    "\n",
    "b. 单行输入多个变量，用```input().split()```读入并分解为**列表** \n",
    "\n",
    "c. 多个整数在一行```list(map(int,input().split()))```\n",
    "\n",
    "d. 打印输出结果：```print```\n",
    "\n",
    "e. 浮点数指定：看清保留小数点后几位，用```print('%.3f'%(a/b))```来规定\n",
    "* 编写程序与测试【添加自编的样例】\n",
    "* 提交测评"
   ]
  },
  {
   "cell_type": "markdown",
   "metadata": {},
   "source": [
    "# OJ实战"
   ]
  },
  {
   "cell_type": "code",
   "execution_count": null,
   "metadata": {
    "collapsed": true
   },
   "outputs": [],
   "source": [
    "# 1. 给出两个整数，输出他们的商\n",
    "a = int(input())\n",
    "b = int(input())\n",
    "if b != 0:\n",
    "    print('%.3f'%(a/b))\n",
    "else:\n",
    "    print('NA')"
   ]
  },
  {
   "cell_type": "code",
   "execution_count": null,
   "metadata": {
    "collapsed": true
   },
   "outputs": [],
   "source": [
    "# 2. 给出行数和列数，打印一个由*号构成的实心矩形\n",
    "\n",
    "m,n = map(int,input().split())\n",
    "for i in range(m):\n",
    "    print('*'*n)"
   ]
  },
  {
   "cell_type": "code",
   "execution_count": null,
   "metadata": {},
   "outputs": [],
   "source": [
    "# 3. 给定若干个整数，找出这些整数中最小的，输出。\n",
    "a = list(map(int,input().split()))\n",
    "print(min(a))"
   ]
  },
  {
   "cell_type": "code",
   "execution_count": null,
   "metadata": {},
   "outputs": [],
   "source": [
    "def test1():\n",
    "    for i in range(5):\n",
    "        {j:None for j in range(i)}\n"
   ]
  },
  {
   "cell_type": "code",
   "execution_count": null,
   "metadata": {},
   "outputs": [],
   "source": [
    "from timeit import Timer\n",
    "t1 = Timer(\"test1()\",\"from __main__ import test1\")\n",
    "print (\"concat %f seconds\\n\" % t1.timeit(number = 1000))\n"
   ]
  },
  {
   "cell_type": "code",
   "execution_count": 3,
   "metadata": {},
   "outputs": [
    {
     "name": "stdout",
     "output_type": "stream",
     "text": [
      "10000,      0.053,      0.001\n",
      "30000,      0.159,      0.001\n",
      "50000,      0.224,      0.001\n",
      "70000,      0.327,      0.001\n",
      "90000,      0.426,      0.001\n",
      "110000,      0.513,      0.001\n",
      "130000,      0.614,      0.001\n",
      "150000,      0.720,      0.001\n",
      "170000,      0.809,      0.001\n",
      "190000,      0.934,      0.001\n",
      "210000,      1.095,      0.001\n",
      "230000,      1.182,      0.001\n",
      "250000,      1.235,      0.001\n",
      "270000,      1.334,      0.001\n",
      "290000,      1.472,      0.001\n",
      "310000,      1.621,      0.001\n",
      "330000,      1.649,      0.001\n",
      "350000,      1.818,      0.001\n"
     ]
    },
    {
     "ename": "KeyboardInterrupt",
     "evalue": "",
     "output_type": "error",
     "traceback": [
      "\u001b[1;31m---------------------------------------------------------------------------\u001b[0m",
      "\u001b[1;31mKeyboardInterrupt\u001b[0m                         Traceback (most recent call last)",
      "\u001b[1;32m<ipython-input-3-90e2bce1c8b1>\u001b[0m in \u001b[0;36m<module>\u001b[1;34m()\u001b[0m\n\u001b[0;32m      5\u001b[0m     \u001b[0mt\u001b[0m \u001b[1;33m=\u001b[0m \u001b[0mtimeit\u001b[0m\u001b[1;33m.\u001b[0m\u001b[0mTimer\u001b[0m\u001b[1;33m(\u001b[0m\u001b[1;34m\"random.randrange(%d) in x\"\u001b[0m\u001b[1;33m%\u001b[0m\u001b[0mi\u001b[0m\u001b[1;33m,\u001b[0m\u001b[1;34m\"from __main__ import random, x\"\u001b[0m\u001b[1;33m)\u001b[0m\u001b[1;33m\u001b[0m\u001b[0m\n\u001b[0;32m      6\u001b[0m     \u001b[0mx\u001b[0m \u001b[1;33m=\u001b[0m \u001b[0mlist\u001b[0m\u001b[1;33m(\u001b[0m\u001b[0mrange\u001b[0m\u001b[1;33m(\u001b[0m\u001b[0mi\u001b[0m\u001b[1;33m)\u001b[0m\u001b[1;33m)\u001b[0m\u001b[1;33m\u001b[0m\u001b[0m\n\u001b[1;32m----> 7\u001b[1;33m     \u001b[0mlst_time\u001b[0m \u001b[1;33m=\u001b[0m \u001b[0mt\u001b[0m\u001b[1;33m.\u001b[0m\u001b[0mtimeit\u001b[0m\u001b[1;33m(\u001b[0m\u001b[0mnumber\u001b[0m \u001b[1;33m=\u001b[0m \u001b[1;36m1000\u001b[0m\u001b[1;33m)\u001b[0m\u001b[1;33m\u001b[0m\u001b[0m\n\u001b[0m\u001b[0;32m      8\u001b[0m     \u001b[0mx\u001b[0m \u001b[1;33m=\u001b[0m \u001b[1;33m{\u001b[0m\u001b[0mj\u001b[0m\u001b[1;33m:\u001b[0m\u001b[1;32mNone\u001b[0m \u001b[1;32mfor\u001b[0m \u001b[0mj\u001b[0m \u001b[1;32min\u001b[0m \u001b[0mrange\u001b[0m\u001b[1;33m(\u001b[0m\u001b[0mi\u001b[0m\u001b[1;33m)\u001b[0m\u001b[1;33m}\u001b[0m\u001b[1;33m\u001b[0m\u001b[0m\n\u001b[0;32m      9\u001b[0m     \u001b[0md_time\u001b[0m \u001b[1;33m=\u001b[0m \u001b[0mt\u001b[0m\u001b[1;33m.\u001b[0m\u001b[0mtimeit\u001b[0m\u001b[1;33m(\u001b[0m\u001b[0mnumber\u001b[0m \u001b[1;33m=\u001b[0m \u001b[1;36m1000\u001b[0m\u001b[1;33m)\u001b[0m\u001b[1;33m\u001b[0m\u001b[0m\n",
      "\u001b[1;32mC:\\ProgramData\\Anaconda3\\lib\\timeit.py\u001b[0m in \u001b[0;36mtimeit\u001b[1;34m(self, number)\u001b[0m\n\u001b[0;32m    176\u001b[0m         \u001b[0mgc\u001b[0m\u001b[1;33m.\u001b[0m\u001b[0mdisable\u001b[0m\u001b[1;33m(\u001b[0m\u001b[1;33m)\u001b[0m\u001b[1;33m\u001b[0m\u001b[0m\n\u001b[0;32m    177\u001b[0m         \u001b[1;32mtry\u001b[0m\u001b[1;33m:\u001b[0m\u001b[1;33m\u001b[0m\u001b[0m\n\u001b[1;32m--> 178\u001b[1;33m             \u001b[0mtiming\u001b[0m \u001b[1;33m=\u001b[0m \u001b[0mself\u001b[0m\u001b[1;33m.\u001b[0m\u001b[0minner\u001b[0m\u001b[1;33m(\u001b[0m\u001b[0mit\u001b[0m\u001b[1;33m,\u001b[0m \u001b[0mself\u001b[0m\u001b[1;33m.\u001b[0m\u001b[0mtimer\u001b[0m\u001b[1;33m)\u001b[0m\u001b[1;33m\u001b[0m\u001b[0m\n\u001b[0m\u001b[0;32m    179\u001b[0m         \u001b[1;32mfinally\u001b[0m\u001b[1;33m:\u001b[0m\u001b[1;33m\u001b[0m\u001b[0m\n\u001b[0;32m    180\u001b[0m             \u001b[1;32mif\u001b[0m \u001b[0mgcold\u001b[0m\u001b[1;33m:\u001b[0m\u001b[1;33m\u001b[0m\u001b[0m\n",
      "\u001b[1;32mC:\\ProgramData\\Anaconda3\\lib\\timeit.py\u001b[0m in \u001b[0;36minner\u001b[1;34m(_it, _timer)\u001b[0m\n",
      "\u001b[1;31mKeyboardInterrupt\u001b[0m: "
     ]
    }
   ],
   "source": [
    "import timeit\n",
    "import random\n",
    "\n",
    "for i in range(10000,1000001,20000):\n",
    "    t = timeit.Timer(\"random.randrange(%d) in x\"%i,\"from __main__ import random, x\")\n",
    "    x = list(range(i))\n",
    "    lst_time = t.timeit(number = 1000)\n",
    "    x = {j:None for j in range(i)}\n",
    "    d_time = t.timeit(number = 1000)\n",
    "    print(\"%d, %10.3f, %10.3f\" %(i,lst_time,d_time))"
   ]
  },
  {
   "cell_type": "code",
   "execution_count": null,
   "metadata": {
    "collapsed": true
   },
   "outputs": [],
   "source": []
  }
 ],
 "metadata": {
  "interpreter": {
   "hash": "b3ba2566441a7c06988d0923437866b63cedc61552a5af99d1f4fb67d367b25f"
  },
  "kernelspec": {
   "display_name": "Python 3 (ipykernel)",
   "language": "python",
   "name": "python3"
  },
  "language_info": {
   "codemirror_mode": {
    "name": "ipython",
    "version": 3
   },
   "file_extension": ".py",
   "mimetype": "text/x-python",
   "name": "python",
   "nbconvert_exporter": "python",
   "pygments_lexer": "ipython3",
   "version": "3.10.9"
  },
  "toc": {
   "base_numbering": 1,
   "nav_menu": {},
   "number_sections": true,
   "sideBar": true,
   "skip_h1_title": false,
   "title_cell": "Table of Contents",
   "title_sidebar": "Contents",
   "toc_cell": false,
   "toc_position": {},
   "toc_section_display": true,
   "toc_window_display": false
  }
 },
 "nbformat": 4,
 "nbformat_minor": 2
}
