{
 "cells": [
  {
   "cell_type": "markdown",
   "id": "2c716084",
   "metadata": {
    "toc": true
   },
   "source": [
    "<h1>Table of Contents<span class=\"tocSkip\"></span></h1>\n",
    "<div class=\"toc\"><ul class=\"toc-item\"><li><span><a href=\"#101-引子：数据时代\" data-toc-modified-id=\"101-引子：数据时代-1\">101 引子：数据时代</a></span></li><li><span><a href=\"#102-问题求解的计算之道\" data-toc-modified-id=\"102-问题求解的计算之道-2\">102 问题求解的计算之道</a></span></li><li><span><a href=\"#103-图灵机计算模型\" data-toc-modified-id=\"103-图灵机计算模型-3\">103 图灵机计算模型</a></span><ul class=\"toc-item\"><li><span><a href=\"#1.-图灵机的基本概念【操作】\" data-toc-modified-id=\"1.-图灵机的基本概念【操作】-3.1\">1. 图灵机的基本概念【操作】</a></span></li><li><span><a href=\"#2.-图灵机的基本定义\" data-toc-modified-id=\"2.-图灵机的基本定义-3.2\">2. 图灵机的基本定义</a></span></li></ul></li><li><span><a href=\"#104-算法和计算复杂性\" data-toc-modified-id=\"104-算法和计算复杂性-4\">104 算法和计算复杂性</a></span><ul class=\"toc-item\"><li><span><a href=\"#a.-WHAT【是什么】问题\" data-toc-modified-id=\"a.-WHAT【是什么】问题-4.1\">a. WHAT【是什么】问题</a></span></li><li><span><a href=\"#b.-WHY【为什么】问题\" data-toc-modified-id=\"b.-WHY【为什么】问题-4.2\">b. WHY【为什么】问题</a></span></li><li><span><a href=\"#c.-HOW【怎么做】问题\" data-toc-modified-id=\"c.-HOW【怎么做】问题-4.3\">c. HOW【怎么做】问题</a></span></li></ul></li><li><span><a href=\"#105-突破计算极限\" data-toc-modified-id=\"105-突破计算极限-5\">105 突破计算极限</a></span></li><li><span><a href=\"#106-什么是抽象和实现\" data-toc-modified-id=\"106-什么是抽象和实现-6\">106 什么是抽象和实现</a></span><ul class=\"toc-item\"><li><span><a href=\"#1.-抽象\" data-toc-modified-id=\"1.-抽象-6.1\">1. 抽象</a></span><ul class=\"toc-item\"><li><span><a href=\"#1.1.-什么是抽象【怎么用】\" data-toc-modified-id=\"1.1.-什么是抽象【怎么用】-6.1.1\">1.1. 什么是抽象【怎么用】</a></span></li><li><span><a href=\"#1.2.-什么是实现【知道怎么做到的（明白原理），怎么修，内部怎么实现】\" data-toc-modified-id=\"1.2.-什么是实现【知道怎么做到的（明白原理），怎么修，内部怎么实现】-6.1.2\">1.2. 什么是实现【知道怎么做到的（明白原理），怎么修，内部怎么实现】</a></span></li><li><span><a href=\"#1.3.-算法+数据结构=程序【重点】\" data-toc-modified-id=\"1.3.-算法+数据结构=程序【重点】-6.1.3\">1.3. <strong>算法+数据结构=程序</strong>【重点】</a></span></li></ul></li></ul></li><li><span><a href=\"#107-为什么研究数据结构与算法\" data-toc-modified-id=\"107-为什么研究数据结构与算法-7\">107 为什么研究数据结构与算法</a></span><ul class=\"toc-item\"><li><span><a href=\"#1.-抽象数据类型【ADT】\" data-toc-modified-id=\"1.-抽象数据类型【ADT】-7.1\">1. 抽象数据类型【ADT】</a></span></li></ul></li><li><span><a href=\"#108-从C转换到python\" data-toc-modified-id=\"108-从C转换到python-8\">108 从C转换到python</a></span></li><li><span><a href=\"#109-《Python-数据结构与算法分析》补充：Python基础\" data-toc-modified-id=\"109-《Python-数据结构与算法分析》补充：Python基础-9\">109 《Python 数据结构与算法分析》补充：Python基础</a></span><ul class=\"toc-item\"><li><span><a href=\"#1.-数据\" data-toc-modified-id=\"1.-数据-9.1\">1. 数据</a></span><ul class=\"toc-item\"><li><span><a href=\"#1.1-内建原子数据类型\" data-toc-modified-id=\"1.1-内建原子数据类型-9.1.1\">1.1 内建原子数据类型</a></span></li><li><span><a href=\"#1.2.-内建集合数据类型\" data-toc-modified-id=\"1.2.-内建集合数据类型-9.1.2\">1.2. 内建集合数据类型</a></span></li></ul></li><li><span><a href=\"#2.-Python面向对象编程：定义类\" data-toc-modified-id=\"2.-Python面向对象编程：定义类-9.2\">2. Python面向对象编程：定义类</a></span></li><li><span><a href=\"#3.-继承：逻辑门与电路\" data-toc-modified-id=\"3.-继承：逻辑门与电路-9.3\">3. 继承：逻辑门与电路</a></span></li></ul></li></ul></div>"
   ]
  },
  {
   "cell_type": "markdown",
   "id": "3cd94045",
   "metadata": {},
   "source": [
    "# 101 引子：数据时代"
   ]
  },
  {
   "cell_type": "markdown",
   "id": "08ca0fb8",
   "metadata": {},
   "source": [
    "介绍了数据来源和应用。具体看PPT和视频\n",
    "\n",
    "数据主义（dataism）：整个世界就是数据及其算法"
   ]
  },
  {
   "cell_type": "markdown",
   "id": "55e74ebb",
   "metadata": {},
   "source": [
    "# 102 问题求解的计算之道"
   ]
  },
  {
   "cell_type": "markdown",
   "id": "6390de3f",
   "metadata": {},
   "source": [
    "用计算来解决问题\n",
    "\n",
    "* 问题：未知事物就是问题。可分类如下：\n",
    "\n",
    "  1. What：面向判断与分类\n",
    "\n",
    "  2. Why： 面向求因与证明\n",
    "\n",
    "  3. How： 面向过程与构建\n",
    "\n",
    "\n",
    "* 问题的解决之道（过程）\n",
    "\n",
    "   - 并不一定要是正确方法才叫方法。例如感觉/经验，占卜/求神等\n",
    "\n",
    "   - 而是从未知到已知的\n",
    "\n",
    "\n",
    "* 通过该过程得到的解决方案\n",
    "\n",
    "   - 工具【能行可计算】"
   ]
  },
  {
   "cell_type": "markdown",
   "id": "63bce6fc",
   "metadata": {},
   "source": [
    "**数学：解决问题的终极工具**\n",
    "* 在长期的发展过程中，人们把已经解决的问题逐渐表述为数学命题与模型\n",
    "* 对尚未解决的问题，试图通过数学解决\n",
    "* 对无法解决的问题，使用数学转换表述试图解决一部分\n",
    "\n",
    "==> 数学有明确的符号表述体系，严密确定的推理系统，但不是万能的。例如面对无法明确表述的问题，或者有明确的表述但仍无法解决的问题\n",
    "\n",
    "能否不纯依靠人思考，还能够通过机械的手段去解决问题？（通过计算解决问题）\n",
    "\n",
    "==> **为了解决数学本身的可检验性问题**：\n",
    "\n",
    "大数学家希尔伯特提出[希尔伯特计划](https://en.wikipedia.org/wiki/Hilbert%27s_program)\n",
    "\n",
    "**“能否找到一种基于有穷观点的能行方法，来判定任何一个数学命题的真假”**\n",
    "\n",
    "能找到就可以用机械的手段去做\n",
    "\n",
    "==> **基于有穷观点的能行方法，提取出抽象的\"计算\"概念**【重点】\n",
    "\n",
    "详解\"**基于有穷观点的能行方法**\"\n",
    "\n",
    "有穷：\n",
    "\n",
    "a. 由有限数量的明确有限指令构成；\n",
    "\n",
    "b. 指令执行在有限步骤后终止；\n",
    "\n",
    "c. 指令每次执行都总能得到唯一结果；\n",
    "\n",
    "d. 原则上可以由人单独采用纸笔完成，而不依靠其它辅助（例如不需要神秘学手段，完全依靠机械方法）；\n",
    "\n",
    "能行：\n",
    "\n",
    "每条指令可以机械地被精确执行，而不需要智慧和灵感\n",
    "\n",
    "\n",
    "\n",
    "* 不存在能行方法判定所有数学命题的真假。但能行可计算成为计算理论的基础"
   ]
  },
  {
   "cell_type": "markdown",
   "id": "a81ba791",
   "metadata": {},
   "source": [
    "关于计算来解决问题的数学模型：\n",
    "* 递归函数模型\n",
    "* Lambda演算模型\n",
    "* POST机模型\n",
    "* 图灵机模型\n",
    "\n",
    "研究证明，这些基于有穷观点的能行方法的计算模型都是等价的"
   ]
  },
  {
   "cell_type": "markdown",
   "id": "f89a0b0a",
   "metadata": {},
   "source": [
    "==> 虽然希尔伯特的计划最终被证明无法实现，即不存在\"能行方法\"可判定所有数学命题的真假\n",
    "\n",
    "==> 但是\"能行可计算\"的概念成为计算理论的基础"
   ]
  },
  {
   "cell_type": "markdown",
   "id": "9a9fd93b",
   "metadata": {},
   "source": [
    "# 103 图灵机计算模型\n",
    "\n",
    "* 比加减乘除的运算更简单～图灵机不是机器，而是一个思想的模型\n",
    "* 图灵机给出的是计算机的理论模型\n",
    "* 图灵机是一种离散的，有穷的，构造性的问题求解思路\n",
    "* 凡是能用算法方法解决的问题一定能用图灵机解决；凡是图灵机解决不了的问题，算法也解决不了"
   ]
  },
  {
   "cell_type": "markdown",
   "id": "e59d241a",
   "metadata": {},
   "source": [
    "## 1. 图灵机的基本概念【操作】"
   ]
  },
  {
   "cell_type": "markdown",
   "id": "36b1ea27",
   "metadata": {},
   "source": [
    "* 在纸上写上或擦除某个符号；\n",
    "* 把注意力从纸的一个位置转向另一个位置\n",
    "* 在每个阶段，下一步要做什么，取决于：\n",
    "\n",
    "      (a)此人当前所关注的纸上某个位置的符号\n",
    "      (b)此人当前思维的状态\n",
    "【马尔可夫链】"
   ]
  },
  {
   "cell_type": "markdown",
   "id": "5e1bde08",
   "metadata": {},
   "source": [
    "## 2. 图灵机的基本定义"
   ]
  },
  {
   "cell_type": "markdown",
   "id": "f2fdf867",
   "metadata": {},
   "source": [
    "在数学上，可以定义图灵机由以下几部分构成\n",
    "\n",
    "* 一条无限长的分格【纸带】，每格可以记录1个符号\n",
    "\n",
    "* 一个【读写头】，可在纸带上左右移动，能读出和擦写格子的字符\n",
    "\n",
    "* 一个【状态寄存器】，记录有限个数量的状态中的1个状态\n",
    "\n",
    "* 一系列有限的控制【规则】（五元组）:\n",
    "  \n",
    "  ==> **处于**\n",
    "  1. 当时是什么状态；\n",
    "  \n",
    "  2. 读入某个字符时\n",
    "\n",
    "\n",
    "  ==> **该进行什么操作**\n",
    "  \n",
    "  3. 要改写成什么字符；\n",
    "\n",
    "  4. 要如何移动读写头；\n",
    "\n",
    "  5. 要改变成什么状态"
   ]
  },
  {
   "cell_type": "markdown",
   "id": "30857a4f",
   "metadata": {},
   "source": [
    "因此，规则是一个**五元组**：当前状态，当前读入字符，改写字符，改变的状态，读写头移动方向。\n",
    "\n",
    "使用课程中判定{a^mb^m|m>=0}模式串图灵机，在规则解读部分，<s0,a,B,s1,R>就是五元组，顺序与提到的一致。请注意读写头移动方向是R或者L或者N（停机），而不是s1或s3\n",
    "\n",
    "补充规则解读：\n",
    "\n",
    "* 初始状态S0是读写头停在第一个字符处。必须有一条规则用它开始。需要回到这个状态\n",
    "* s1和s3虽然是移动中，但不用R或者L表示。强调代表【正处于什么状态】（哪怕是移动中）\n",
    "* 空白字符记作字符B\n",
    "* 要改变的状态：状态R（right），右移；状态L，左移；【五元组中，第4位是s0或s1状态，第5位是R；如果第4位是s2或s3状态，则第5位是L】\n",
    "* sY：接受；sN：拒绝\n",
    "* 规则是会读到最后一个b或者最前面的a，因此需要再往外读一位找到空格\n",
    "\n",
    "**图灵机停机问题的不可判性【不存在一个图灵机可以判定任意图灵机在所有输入上能否停机】**\n",
    "\n",
    "可以使用对应的图灵机模拟器软件。\n",
    "\n",
    "尝试默写规则"
   ]
  },
  {
   "cell_type": "markdown",
   "id": "d1f3691d",
   "metadata": {},
   "source": [
    "# 104 算法和计算复杂性"
   ]
  },
  {
   "cell_type": "markdown",
   "id": "69ac976b",
   "metadata": {},
   "source": [
    "本节介绍可通过计算解决的问题：what【判断与分类】，why【求因与证明】，how【过程与构建】三类问题\n",
    "* 如问题能通过“有限能行方法”的计算模型解决，就是可计算问题\n",
    "* 可计算只关心能不能在有限资源（时间空间）内解决问题，资源具体消耗多少不管"
   ]
  },
  {
   "cell_type": "markdown",
   "id": "90cbe378",
   "metadata": {},
   "source": [
    "## a. WHAT【是什么】问题\n",
    "例如决策树"
   ]
  },
  {
   "cell_type": "markdown",
   "id": "eb9a2e2a",
   "metadata": {},
   "source": [
    "## b. WHY【为什么】问题"
   ]
  },
  {
   "cell_type": "markdown",
   "id": "fed7e920",
   "metadata": {},
   "source": [
    "## c. HOW【怎么做】问题"
   ]
  },
  {
   "cell_type": "markdown",
   "id": "c4d51f16",
   "metadata": {},
   "source": [
    "==> 导出了**计算复杂性**：\n",
    "\n",
    "定义一些衡量指标，对问题的难易程度（所需的执行步骤数/存储空间大小）进行分类，是计算复杂性理论的研究范围。\n"
   ]
  },
  {
   "cell_type": "markdown",
   "id": "6f894fe7",
   "metadata": {},
   "source": [
    "同一个问题，会有不同的解决方案，解决效率也是千差万别。\n",
    "\n",
    "计算复杂性**并不关心解决问题的具体方案**，而是关心问题的本质——按照难易程度分类\n",
    "\n",
    "算法则研究问题在不同现实资源约束情况下的不同解决方案，致力于找到效率最高的方案"
   ]
  },
  {
   "cell_type": "markdown",
   "id": "7035e0d5",
   "metadata": {},
   "source": [
    "不可计算问题，是定义清晰但无法解决的问题\n",
    "\n",
    "==> 不是尚未找到解，是在有穷能行的前提下，被证明不存在解决方案。\n",
    "\n",
    "例如："
   ]
  },
  {
   "cell_type": "markdown",
   "id": "1b32c7c6",
   "metadata": {},
   "source": [
    "* 停机问题：判定任何一个程序在任何一个输入情况下是否能够停机。\n",
    "\n",
    "* 不可计算数：几乎所有的无理数，都无法通过算法来确定其任意一位是什么数字。可计算数很少，例如圆周率$\\pi$和自然对数的底数$e$"
   ]
  },
  {
   "cell_type": "markdown",
   "id": "19f43b7e",
   "metadata": {},
   "source": [
    "# 105 突破计算极限"
   ]
  },
  {
   "cell_type": "markdown",
   "id": "5c7a4a75",
   "metadata": {},
   "source": [
    "* 超大规模分布式计算\n",
    "* 新型计算技术\n",
    "* 智慧众包项目"
   ]
  },
  {
   "cell_type": "markdown",
   "id": "556bd631",
   "metadata": {},
   "source": [
    "# 106 什么是抽象和实现"
   ]
  },
  {
   "cell_type": "markdown",
   "id": "093865d0",
   "metadata": {},
   "source": [
    "计算机科学主要研究的是【问题、问题解决过程，以及问题的解决方案】"
   ]
  },
  {
   "cell_type": "markdown",
   "id": "db9dae7f",
   "metadata": {},
   "source": [
    "## 1. 抽象"
   ]
  },
  {
   "cell_type": "markdown",
   "id": "fcd717b5",
   "metadata": {},
   "source": [
    "为了更好地处理机器相关性或独立性，引入了“抽象”的概念。以便从“逻辑 Logical”或者“物理 Physical”的不同层次上看待问题及解决方案。"
   ]
  },
  {
   "cell_type": "markdown",
   "id": "eaaf4a4f",
   "metadata": {},
   "source": [
    "### 1.1. 什么是抽象【怎么用】\n",
    "\n",
    "从抽象角度看，司机看到的是【逻辑】层次，或者说功能层次。司机可以通过各种各样的操作，来达到运输的目的。这些操作机构被称为“接口Interface”。"
   ]
  },
  {
   "cell_type": "markdown",
   "id": "d3df1552",
   "metadata": {},
   "source": [
    "### 1.2. 什么是实现【知道怎么做到的（明白原理），怎么修，内部怎么实现】"
   ]
  },
  {
   "cell_type": "markdown",
   "id": "2460b16f",
   "metadata": {},
   "source": [
    "从汽车修理工的角度来看同一辆汽车，除了要了解车怎么开，还需要清楚每项功能是如何实现的。这些内部构造构成了汽车的“物理”层次。工作过程就称为“实现Implementation”。\n",
    "\n",
    "逻辑还是物理？是相对的概念，而不是绝对的。例如，编程是算法的实现\n",
    "\n",
    "功能上的黑盒子称为“过程抽象”Procedural Abstraction"
   ]
  },
  {
   "cell_type": "markdown",
   "id": "13c636be",
   "metadata": {},
   "source": [
    "编程是通过一种程序设计语言，将抽象的算法实现为计算机可以执行的代码的过程。"
   ]
  },
  {
   "cell_type": "markdown",
   "id": "de246439",
   "metadata": {},
   "source": [
    "### 1.3. **算法+数据结构=程序**【重点】"
   ]
  },
  {
   "cell_type": "markdown",
   "id": "95dcf0e4",
   "metadata": {},
   "source": [
    "程序设计语言需要为算法的实现提供实现“过程”【运行】和“数据”【存储】的机制。具体表现为“控制结构”和“数据类型”。"
   ]
  },
  {
   "cell_type": "markdown",
   "id": "e65ff9c0",
   "metadata": {},
   "source": [
    "控制结构包括：顺序处理、分支选择、循环迭代。"
   ]
  },
  {
   "cell_type": "markdown",
   "id": "abbc3188",
   "metadata": {},
   "source": [
    "数据类型包括：\n",
    "整数，字符等。也可以用自己设计的。"
   ]
  },
  {
   "cell_type": "markdown",
   "id": "6a4e9b25",
   "metadata": {},
   "source": [
    "# 107 为什么研究数据结构与算法"
   ]
  },
  {
   "cell_type": "markdown",
   "id": "f26b1d24",
   "metadata": {},
   "source": [
    "* 为了控制问题和问题解决过程的复杂度，利用抽象来保持问题的“整体感”，避免陷入过多的细节中\n",
    "\n",
    "* 这要求对现实问题进行建模的时候，对算法所要处理的数据，也要保持与问题本身的一致性，不要有太多与问题无关的细节"
   ]
  },
  {
   "cell_type": "markdown",
   "id": "fcbf3fa8",
   "metadata": {},
   "source": [
    "## 1. 抽象数据类型【ADT】\n",
    "\n",
    "* 因为过程抽象，启发我们进行数据抽象\n",
    "\n",
    "* 只有功能描述和实现调用的接口，不用用户操心具体实现"
   ]
  },
  {
   "cell_type": "markdown",
   "id": "c3e60ec2",
   "metadata": {},
   "source": [
    "* 也建立了一种对数据的 “封装Encapsulation”封装技术将可能的处理实现细节隐蔽起来能有效控制算法的复杂度。因为同一ADT可以使用不同的数据结构实现。\n",
    "\n",
    "* 采用程序设计语言的控制结构和基本数据类型来实现ADT所提供的逻辑接口，属于ADT的物理层次。"
   ]
  },
  {
   "cell_type": "markdown",
   "id": "f29f0091",
   "metadata": {},
   "source": [
    "因此ADT实现了分开物理层次和逻辑层次\n",
    "\n",
    "可以定义复杂的数据模型来解决问题，而不需要立即考虑此模型如何实现"
   ]
  },
  {
   "cell_type": "markdown",
   "id": "9efce689",
   "metadata": {},
   "source": [
    "==> 好处有：\n",
    "\n",
    "❖对抽象数据类型可以有多种实现方案\n",
    "\n",
    "❖独立于实现的数据模型让底层开发程序员专注于实现和优化数据处理，又不改变数据的使用接口让用户专注于用数据接口来进行问题的解决，而无需考虑如何具体实现这些接口\n",
    "\n",
    "❖通过层层抽象，降低问题解决过程的复杂度\n"
   ]
  },
  {
   "cell_type": "markdown",
   "id": "4374916e",
   "metadata": {},
   "source": [
    "如何研究和学习算法？\n",
    "\n",
    "首先，学习各种不同的解决方案\n",
    "\n",
    "其次，考虑的各算法通常有较大的差异，并能正确评判算法本身特性\n",
    "\n",
    "而且，在碰到棘手难题时，要学会区分可计算问题与不可计算问题，以及消耗的资源，还要学会使用折衷的处理方式"
   ]
  },
  {
   "cell_type": "markdown",
   "id": "5506d6b6",
   "metadata": {},
   "source": [
    "# 108 从C转换到python"
   ]
  },
  {
   "cell_type": "markdown",
   "id": "aad200cc",
   "metadata": {},
   "source": [
    "视频有四个"
   ]
  },
  {
   "cell_type": "markdown",
   "id": "620a1e86",
   "metadata": {},
   "source": [
    "python是强类型语言，不能把不同类型的数据混在一起看"
   ]
  },
  {
   "cell_type": "code",
   "execution_count": 1,
   "id": "4fa6b271",
   "metadata": {
    "collapsed": true
   },
   "outputs": [
    {
     "name": "stdout",
     "output_type": "stream",
     "text": [
      "\n",
      "*\n",
      "**\n",
      "***\n",
      "****\n",
      "*****\n",
      "******\n",
      "*******\n",
      "[0, 1, 2, 3, 4, 5, 6, 7]\n"
     ]
    }
   ],
   "source": [
    "for i in range(8):\n",
    "    print(\"*\"*i)\n",
    "# 注意最后一行有多少个\n",
    "\n",
    "print(list(range(8)))"
   ]
  },
  {
   "cell_type": "markdown",
   "id": "b8c90e13",
   "metadata": {},
   "source": [
    "B站的AV87882118可以学python基础"
   ]
  },
  {
   "cell_type": "markdown",
   "id": "c7300be9",
   "metadata": {},
   "source": [
    "# 109 《Python 数据结构与算法分析》补充：Python基础"
   ]
  },
  {
   "cell_type": "markdown",
   "id": "b420e4d1",
   "metadata": {},
   "source": [
    "## 1. 数据"
   ]
  },
  {
   "cell_type": "markdown",
   "id": "75bd3199",
   "metadata": {},
   "source": [
    "python支持面向对象编程范式。这意味着Python认为数据是问题解决过程中的关键点。\n",
    "\n",
    "类是对数据的构成（状态）和数据能做什么（行为）的描述。因为类的使用者只能看到数据项的状态和行为，因此类与抽象数据类型是相似的。\n",
    "\n",
    "在面向对象编程范式中，数据项被称为对象。一个对象就是类的一个实例。\n",
    "\n",
    "### 1.1 内建原子数据类型\n",
    "跳过。\n",
    "\n",
    "请注意，变量存的是指向数据的引用，而不是数据本身。赋值语句改变了变量的引用，体现了python动态特性。\n",
    "\n",
    "### 1.2. 内建集合数据类型\n",
    "set和字典是无序集合。\n",
    "\n",
    "列表是异构的，数据对象不需要是同一个类，并且这个集合可以被赋值给一个变量。\n",
    "\n",
    "当python计算一个列表，这个列表会自己返回。然而，为了记住该列表以便后续处理，其引用需要被赋给另一个变量。可以和原变量同名。\n",
    "\n",
    "列表中重复运算返回的结果是序列中只是对象数据的引用的重复，而不是新开。\n",
    "\n",
    "列表可以被修改，字符串不能。\n",
    "\n",
    "%是字符串运算符，被称作格式化运算符。"
   ]
  },
  {
   "cell_type": "markdown",
   "id": "ca4c9ce9",
   "metadata": {},
   "source": [
    "## 2. Python面向对象编程：定义类"
   ]
  },
  {
   "cell_type": "code",
   "execution_count": null,
   "id": "9fe75875",
   "metadata": {
    "collapsed": true
   },
   "outputs": [],
   "source": [
    "class Fraction:\n",
    "    #方法定义\n",
    "    def __init__(self,top,bottom):#构造方法。self总是指向对象本身的特殊参数，必须是第一个形式参数，但调用时不需要提供对应的实际参数。\n",
    "        # 使用类名并传入状态的实际值就能完成调用\n",
    "        self.num = top\n",
    "        self.den = bottom"
   ]
  },
  {
   "cell_type": "code",
   "execution_count": null,
   "id": "982f3aae",
   "metadata": {},
   "outputs": [],
   "source": [
    "myf = Fraction(3,5)\n",
    "print (myf)#在这里打印的是存储在变量中的实际引用"
   ]
  },
  {
   "cell_type": "code",
   "execution_count": null,
   "id": "598f9934",
   "metadata": {
    "collapsed": true
   },
   "outputs": [],
   "source": [
    "class Fraction:\n",
    "    #方法定义\n",
    "    def __init__(self,top,bottom):#构造方法。self总是指向对象本身的特殊参数，必须是第一个形式参数，但调用时不需要提供对应的实际参数。\n",
    "        # 使用类名并传入状态的实际值就能完成调用\n",
    "        self.num = top\n",
    "        self.den = bottom\n",
    "    def show(self):#打印数据\n",
    "        print(self.num,'/',self.den)\n"
   ]
  },
  {
   "cell_type": "code",
   "execution_count": null,
   "id": "6acbdd6d",
   "metadata": {},
   "outputs": [],
   "source": [
    "myf = Fraction(3,5)\n",
    "myf.show()\n",
    "print(myf)\n",
    "myf.show()*6#注意：unsupported operand type(s) for *: 'NoneType' and 'int'"
   ]
  },
  {
   "cell_type": "code",
   "execution_count": null,
   "id": "b4999460",
   "metadata": {
    "collapsed": true
   },
   "outputs": [],
   "source": [
    "class Fraction:\n",
    "    #方法定义\n",
    "    def __init__(self,top,bottom):#构造方法。self总是指向对象本身的特殊参数，必须是第一个形式参数，但调用时不需要提供对应的实际参数。\n",
    "        # 使用类名并传入状态的实际值就能完成调用\n",
    "        self.num = top\n",
    "        self.den = bottom\n",
    "    def show(self):#打印数据\n",
    "        print(self.num,'/',self.den)\n",
    "    def __str__(self):#为了正确打印，告诉这个类如何将自己转换为字符串，这是print函数必须的。这重写了默认实现。\n",
    "        return str(self.num) + '/' + str(self.den)"
   ]
  },
  {
   "cell_type": "code",
   "execution_count": null,
   "id": "bea62b39",
   "metadata": {},
   "outputs": [],
   "source": [
    "myf = Fraction(3,5)\n",
    "myf.show()\n",
    "print(myf)\n",
    "print(type(myf))\n",
    "myf.__str__()"
   ]
  },
  {
   "cell_type": "code",
   "execution_count": null,
   "id": "ddffa3b5",
   "metadata": {},
   "outputs": [],
   "source": [
    "str(myf)"
   ]
  },
  {
   "cell_type": "code",
   "execution_count": null,
   "id": "ee1d96d3",
   "metadata": {},
   "outputs": [],
   "source": [
    "f1 = Fraction(1,4)\n",
    "f2 = Fraction(1,2)\n",
    "f1 + f2#unsupported operand type(s) for +: 'Fraction' and 'Fraction'"
   ]
  },
  {
   "cell_type": "code",
   "execution_count": null,
   "id": "bf78d4c9",
   "metadata": {
    "collapsed": true
   },
   "outputs": [],
   "source": [
    "class Fraction:\n",
    "    #方法定义\n",
    "    def __init__(self,top,bottom):#构造方法。self总是指向对象本身的特殊参数，必须是第一个形式参数，但调用时不需要提供对应的实际参数。\n",
    "        # 使用类名并传入状态的实际值就能完成调用\n",
    "        self.num = top\n",
    "        self.den = bottom\n",
    "    def show(self):#打印数据\n",
    "        print(self.num,'/',self.den)\n",
    "    def __str__(self):\n",
    "        return str(self.num) + '/' + str(self.den)\n",
    "    def __add__(self,otherfraction):\n",
    "        newnum = self.num * otherfraction.den + \\\n",
    "                 self.den * otherfraction.num\n",
    "        newden = self.den * otherfraction.den\n",
    "        return Fraction(newnum,newden)"
   ]
  },
  {
   "cell_type": "code",
   "execution_count": null,
   "id": "dc80f106",
   "metadata": {},
   "outputs": [],
   "source": [
    "f1 = Fraction(1,4)\n",
    "f2 = Fraction(1,2)\n",
    "print(f1 + f2)"
   ]
  },
  {
   "cell_type": "markdown",
   "id": "8edf612e",
   "metadata": {},
   "source": [
    "在这里改良一下，得最简分数。求最大公因数，有"
   ]
  },
  {
   "cell_type": "code",
   "execution_count": null,
   "id": "33d38a1f",
   "metadata": {
    "collapsed": true
   },
   "outputs": [],
   "source": [
    "def gcd(m,n):\n",
    "    while m%n != 0:\n",
    "        oldm = m\n",
    "        oldn = n\n",
    "\n",
    "        m = oldn\n",
    "        n = oldm%oldn\n",
    "    return n"
   ]
  },
  {
   "cell_type": "code",
   "execution_count": null,
   "id": "410d2769",
   "metadata": {
    "collapsed": true
   },
   "outputs": [],
   "source": [
    "class Fraction:\n",
    "    #方法定义\n",
    "    def __init__(self,top,bottom):#构造方法。self总是指向对象本身的特殊参数，必须是第一个形式参数，但调用时不需要提供对应的实际参数。\n",
    "        # 使用类名并传入状态的实际值就能完成调用\n",
    "        self.num = top\n",
    "        self.den = bottom\n",
    "    def show(self):#打印数据\n",
    "        print(self.num,'/',self.den)\n",
    "    def __str__(self):\n",
    "        return str(self.num) + '/' + str(self.den)\n",
    "    def __add__(self,otherfraction):\n",
    "        newnum = self.num * otherfraction.den + \\\n",
    "                 self.den * otherfraction.num\n",
    "        newden = self.den * otherfraction.den\n",
    "        commom = self.gcd(newnum,newden)\n",
    "        return Fraction(newnum//commom,newden//commom)\n",
    "    def gcd(self,m,n):\n",
    "        while m%n != 0:\n",
    "            oldm = m\n",
    "            oldn = n\n",
    "            m = oldn\n",
    "            n = oldm%oldn\n",
    "        return n"
   ]
  },
  {
   "cell_type": "code",
   "execution_count": null,
   "id": "c2e1894a",
   "metadata": {},
   "outputs": [],
   "source": [
    "f1 = Fraction(1,4)\n",
    "f2 = Fraction(1,2)\n",
    "print(f1 + f2)"
   ]
  },
  {
   "cell_type": "markdown",
   "id": "7621d208",
   "metadata": {},
   "source": [
    "为了允许两个分数相互比较，先规定概念如下：浅相等是指只有引用相同时才相等，深相等是值相等即相等"
   ]
  },
  {
   "cell_type": "code",
   "execution_count": null,
   "id": "ae4efb49",
   "metadata": {
    "collapsed": true
   },
   "outputs": [],
   "source": [
    "class Fraction:\n",
    "    #方法定义\n",
    "    def __init__(self,top,bottom):#构造方法。self总是指向对象本身的特殊参数，必须是第一个形式参数，但调用时不需要提供对应的实际参数。\n",
    "        # 使用类名并传入状态的实际值就能完成调用\n",
    "        self.num = top\n",
    "        self.den = bottom\n",
    "    def show(self):#打印数据\n",
    "        print(self.num,'/',self.den)\n",
    "    def __str__(self):\n",
    "        return str(self.num) + '/' + str(self.den)\n",
    "    def __add__(self,otherfraction):\n",
    "        newnum = self.num * otherfraction.den + \\\n",
    "                 self.den * otherfraction.num\n",
    "        newden = self.den * otherfraction.den\n",
    "        commom = self.gcd(newnum,newden)\n",
    "        return Fraction(newnum//commom,newden//commom)\n",
    "    def gcd(self,m,n):\n",
    "        while m%n != 0:\n",
    "            oldm = m\n",
    "            oldn = n\n",
    "            m = oldn\n",
    "            n = oldm%oldn\n",
    "        return n\n",
    "    def __eg__(self,other):\n",
    "        firstnum = self.num * other.den\n",
    "        secondnum = self.den * other.num\n",
    "\n",
    "        return firstnum == secondnum"
   ]
  },
  {
   "cell_type": "markdown",
   "id": "ae827c35",
   "metadata": {},
   "source": [
    "## 3. 继承：逻辑门与电路\n",
    "继承使一个类和另一类相关联。python的子类可以从父类（也称为超类）中继承特征数据和行为。举例来说，列表是有序集合（父）的子。这种关系通常被称为IS-A关系，意味着列表从有序集合继承了重要的特征。以下使用逻辑门与电路来说明继承。"
   ]
  },
  {
   "cell_type": "code",
   "execution_count": 1,
   "id": "27717f42",
   "metadata": {
    "collapsed": true
   },
   "outputs": [],
   "source": [
    "class LogicGate:\n",
    "    def __init__(self,n) -> None:\n",
    "        self.label = n\n",
    "        self.output = None\n",
    "    def getLabel(self):\n",
    "        return self.label\n",
    "    def getOutPut(self):\n",
    "        self.output = self.performGateLogic()#还不用在这里实现performGateLogic函数\n",
    "        return self.output"
   ]
  },
  {
   "cell_type": "code",
   "execution_count": 2,
   "id": "046e39d8",
   "metadata": {
    "collapsed": true
   },
   "outputs": [],
   "source": [
    "class BinaryGate(LogicGate):#BinaryGate是LogicGate的一个子类，并且有两个输入【引脚】\n",
    "    def __init__(self, n) -> None:\n",
    "        super().__init__(n)#使用super调用其父类的构造方法\n",
    "        #创建BinaryGate类的实例时，首先要初始化所有从父类继承来的数据项，这里是逻辑门的标签\n",
    "        #接着，构造方法添加两个输入\n",
    "        #换言之，子类的构造方法需要先调用父类的构造方法，然后初始化自己独有的数据\n",
    "        self.pinA = None\n",
    "        self.pinB = None\n",
    "    def getPinA(self):\n",
    "        return int(input(\"ENTER PIN A FOR GATE \" + \\\n",
    "                         self.getLabel() + \"-->\"))\n",
    "\n",
    "    def getPinB(self):\n",
    "        return int(input(\"ENTER PIN B FOR GATE \" + \\\n",
    "                         self.getLabel() + \"-->\"))\n",
    "                         "
   ]
  },
  {
   "cell_type": "code",
   "execution_count": 3,
   "id": "974835c6",
   "metadata": {
    "collapsed": true
   },
   "outputs": [],
   "source": [
    "class UnaryGate(LogicGate):\n",
    "    def __init__(self, n) -> None:\n",
    "        super().__init__(n)\n",
    "        self.pin = None\n",
    "    def getPin(self):\n",
    "        return int(input(\"ENTER PIN FOR GATE \" + \\\n",
    "                         self.getLabel() + \"-->\"))\n",
    "                         "
   ]
  },
  {
   "cell_type": "code",
   "execution_count": 4,
   "id": "97d37c1c",
   "metadata": {
    "collapsed": true
   },
   "outputs": [],
   "source": [
    "class AndGate(BinaryGate):\n",
    "    def __init__(self, n) -> None:\n",
    "        super().__init__(n)\n",
    "    def performGateLogic(self):\n",
    "        a = self.getPinA()\n",
    "        b = self.getPinB()\n",
    "        if a == 1 and b == 1:\n",
    "            return 1 \n",
    "        else:\n",
    "            return 0\n",
    "    def setNextPin(self,source):#source是连接器\n",
    "        if self.pinA == None:\n",
    "            self.pinA = source\n",
    "        else:\n",
    "            if self.pinB == None:\n",
    "                self.pinB = source\n",
    "            else:\n",
    "                raise RuntimeError(\"Error:no empty pins\")\n",
    "    def getPinA(self):\n",
    "        if self.pinA == None:\n",
    "            return int(input(\"ENTER PIN A FOR GATE \" + \\\n",
    "                         self.getLabel() + \"-->\"))\n",
    "        else:\n",
    "            return self.pinA.getFrom().getOutPut()# setNextPin将PinA设定为链接器source，所以可以调用getFrom()函数\n",
    "    def getPinB(self):\n",
    "        if self.pinB == None:\n",
    "            return int(input(\"ENTER PIN B FOR GATE \" + \\\n",
    "                         self.getLabel() + \"-->\"))\n",
    "        else:\n",
    "            return self.pinB.getFrom().getOutPut()"
   ]
  },
  {
   "cell_type": "code",
   "execution_count": 5,
   "id": "c704f47b",
   "metadata": {},
   "outputs": [
    {
     "name": "stdout",
     "output_type": "stream",
     "text": [
      "ENTER PIN A FOR GATE G1-->1\n",
      "ENTER PIN B FOR GATE G1-->1\n"
     ]
    },
    {
     "data": {
      "text/plain": [
       "1"
      ]
     },
     "execution_count": 5,
     "metadata": {},
     "output_type": "execute_result"
    }
   ],
   "source": [
    "g1 = AndGate(\"G1\")#对象是g1，标签是G1\n",
    "g1.getOutPut()"
   ]
  },
  {
   "cell_type": "code",
   "execution_count": 6,
   "id": "8e21cb71",
   "metadata": {
    "collapsed": true
   },
   "outputs": [],
   "source": [
    "class OrGate(BinaryGate):\n",
    "    def __init__(self, n) -> None:\n",
    "        super().__init__(n)\n",
    "    def performGateLogic(self):\n",
    "        a = self.getPinA()\n",
    "        b = self.getPinB()\n",
    "        if a == 1 or b == 1:\n",
    "            return 1 \n",
    "        else:\n",
    "            return 0\n",
    "    def setNextPin(self,source):\n",
    "        if self.pinA == None:\n",
    "            self.pinA = source\n",
    "        else:\n",
    "            if self.pinB == None:\n",
    "                self.pinB = source\n",
    "            else:\n",
    "                raise RuntimeError(\"Error:no empty pins\")\n",
    "    def getPinA(self):\n",
    "        if self.pinA == None:\n",
    "            return int(input(\"ENTER PIN A FOR GATE \" + \\\n",
    "                         self.getLabel() + \"-->\"))\n",
    "        else:\n",
    "            return self.pinA.getFrom().getOutPut()\n",
    "    def getPinB(self):\n",
    "        if self.pinB == None:\n",
    "            return int(input(\"ENTER PIN B FOR GATE \" + \\\n",
    "                         self.getLabel() + \"-->\"))\n",
    "        else:\n",
    "            return self.pinB.getFrom().getOutPut()"
   ]
  },
  {
   "cell_type": "code",
   "execution_count": 7,
   "id": "d72296ed",
   "metadata": {},
   "outputs": [
    {
     "name": "stdout",
     "output_type": "stream",
     "text": [
      "ENTER PIN A FOR GATE G2-->0\n",
      "ENTER PIN B FOR GATE G2-->1\n"
     ]
    },
    {
     "data": {
      "text/plain": [
       "1"
      ]
     },
     "execution_count": 7,
     "metadata": {},
     "output_type": "execute_result"
    }
   ],
   "source": [
    "g2 = OrGate(\"G2\")\n",
    "g2.getOutPut()"
   ]
  },
  {
   "cell_type": "code",
   "execution_count": 8,
   "id": "5e5f1e99",
   "metadata": {
    "collapsed": true
   },
   "outputs": [],
   "source": [
    "class NotGate(UnaryGate):\n",
    "    def __init__(self, n) -> None:\n",
    "        super().__init__(n)\n",
    "    def performGateLogic(self):\n",
    "        a = self.getPin()\n",
    "        if a == 1 :\n",
    "            return 0 \n",
    "        else:\n",
    "            return 1\n",
    "    def setNextPin(self,source):\n",
    "        if self.pin == None:\n",
    "            self.pin = source#设定链接器\n",
    "        else:\n",
    "            raise RuntimeError(\"Error:no empty pins\")\n",
    "    def getPin(self):\n",
    "        if self.pin == None:\n",
    "            return int(input(\"ENTER PIN FOR GATE\" + \\\n",
    "                         self.getLabel() + \"-->\"))\n",
    "        else:\n",
    "            return self.pin.getFrom().getOutPut()"
   ]
  },
  {
   "cell_type": "code",
   "execution_count": 9,
   "id": "d53d8b59",
   "metadata": {},
   "outputs": [
    {
     "name": "stdout",
     "output_type": "stream",
     "text": [
      "ENTER PIN FOR GATEG3-->1\n"
     ]
    },
    {
     "data": {
      "text/plain": [
       "0"
      ]
     },
     "execution_count": 9,
     "metadata": {},
     "output_type": "execute_result"
    }
   ],
   "source": [
    "g3 = NotGate(\"G3\")\n",
    "g3.getOutPut()"
   ]
  },
  {
   "cell_type": "markdown",
   "id": "17e227ca",
   "metadata": {},
   "source": [
    "将逻辑门链接在一起，使用Connector的新类。这个类并不在逻辑门的继承层次结构中，但会使用该结构，从而使得Connector的实例两端都有一个逻辑门。这种Connector-LogicGate的关系被称为HAS-A（是一个）。区分需要继承的IS-A和无须继承的HAS-A关系非常重要。"
   ]
  },
  {
   "cell_type": "code",
   "execution_count": 10,
   "id": "e20915b9",
   "metadata": {
    "collapsed": true
   },
   "outputs": [],
   "source": [
    "class Connector:\n",
    "    def __init__(self,fgate,tgate) -> None:\n",
    "        self.fromgate = fgate\n",
    "        self.togate = tgate\n",
    "        tgate.setNextPin(self)# 这个地方是找上一个的，没找下一个\n",
    "    def getFrom(self):\n",
    "        return self.fromgate# 这才是逻辑门\n",
    "    def getTo(self):\n",
    "        return self.togate\n"
   ]
  },
  {
   "cell_type": "code",
   "execution_count": 12,
   "id": "10dc8f38",
   "metadata": {
    "collapsed": true
   },
   "outputs": [],
   "source": [
    "g1 = AndGate(\"G1\")#规定各个逻辑门是啥\n",
    "g2 = AndGate(\"G2\")\n",
    "g3 = OrGate(\"G3\")\n",
    "g4 = NotGate(\"G4\")\n",
    "c1 = Connector(g1,g3)\n",
    "c2 = Connector(g2,g3)# 3.发现g3和g2,g1相关\n",
    "c3 = Connector(g3,g4)# 2.发现g4和g3相关"
   ]
  },
  {
   "cell_type": "code",
   "execution_count": 13,
   "id": "33e6cb32",
   "metadata": {},
   "outputs": [
    {
     "name": "stdout",
     "output_type": "stream",
     "text": [
      "ENTER PIN A FOR GATE G1-->0\n",
      "ENTER PIN B FOR GATE G1-->1\n",
      "ENTER PIN A FOR GATE G2-->1\n",
      "ENTER PIN B FOR GATE G2-->1\n"
     ]
    },
    {
     "data": {
      "text/plain": [
       "0"
      ]
     },
     "execution_count": 13,
     "metadata": {},
     "output_type": "execute_result"
    }
   ],
   "source": [
    "g4.getOutPut()# 1.要求g4的输出"
   ]
  },
  {
   "cell_type": "markdown",
   "id": "89e55970",
   "metadata": {},
   "source": [
    "这个电路就是图1-10。"
   ]
  }
 ],
 "metadata": {
  "interpreter": {
   "hash": "b3ba2566441a7c06988d0923437866b63cedc61552a5af99d1f4fb67d367b25f"
  },
  "kernelspec": {
   "display_name": "Python 3",
   "language": "python",
   "name": "python3"
  },
  "language_info": {
   "codemirror_mode": {
    "name": "ipython",
    "version": 3
   },
   "file_extension": ".py",
   "mimetype": "text/x-python",
   "name": "python",
   "nbconvert_exporter": "python",
   "pygments_lexer": "ipython3",
   "version": "3.8.8"
  },
  "toc": {
   "base_numbering": 1,
   "nav_menu": {},
   "number_sections": false,
   "sideBar": true,
   "skip_h1_title": false,
   "title_cell": "Table of Contents",
   "title_sidebar": "Contents",
   "toc_cell": true,
   "toc_position": {
    "height": "843.2px",
    "left": "210px",
    "top": "149px",
    "width": "409.6px"
   },
   "toc_section_display": true,
   "toc_window_display": true
  }
 },
 "nbformat": 4,
 "nbformat_minor": 5
}
