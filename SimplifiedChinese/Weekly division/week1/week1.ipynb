{
 "cells": [
  {
   "cell_type": "markdown",
   "id": "481d2dbd",
   "metadata": {},
   "source": [
    "**Table of contents**<a id='toc0_'></a>    \n",
    "- [101 引子：数据时代](#toc1_)    \n",
    "- [102 问题求解的计算之道](#toc2_)    \n",
    "- [103 图灵机计算模型](#toc3_)    \n",
    "  - [图灵机的基本概念【操作】](#toc3_1_)    \n",
    "  - [图灵机的基本定义](#toc3_2_)    \n",
    "  - [使用课程例子理解图灵机](#toc3_3_)    \n",
    "  - [**图灵机停机问题的不可判性【不存在一个图灵机可以判定任意图灵机在所有输入上能否停机】**](#toc3_4_)    \n",
    "- [104 算法和计算复杂性](#toc4_)    \n",
    "  - [可通过计算解决的三大类问题：](#toc4_1_)    \n",
    "    - [a. WHAT【是什么】问题](#toc4_1_1_)    \n",
    "    - [b. WHY【为什么】问题](#toc4_1_2_)    \n",
    "    - [c. HOW【怎么做】问题](#toc4_1_3_)    \n",
    "  - [算法举例](#toc4_2_)    \n",
    "  - [**计算复杂性**和**算法**](#toc4_3_)    \n",
    "    - [对问题难易程度进行分类：计算复杂性](#toc4_3_1_)    \n",
    "    - [判断同一问题的不同方案的效率：算法](#toc4_3_2_)    \n",
    "  - [不可计算问题](#toc4_4_)    \n",
    "- [105 突破计算极限](#toc5_)    \n",
    "- [106 什么是抽象和实现](#toc6_)    \n",
    "  - [抽象Abstraction](#toc6_1_)    \n",
    "    - [什么是抽象【怎么用】](#toc6_1_1_)    \n",
    "    - [什么是实现【知道怎么做到的（明白原理），怎么修，内部怎么实现】](#toc6_1_2_)    \n",
    "    - [过程抽象和编程](#toc6_1_3_)    \n",
    "    - [程序设计语言实现算法的基本机制](#toc6_1_4_)    \n",
    "- [107 为什么研究数据结构与算法](#toc7_)    \n",
    "  - [抽象数据类型【ADT】](#toc7_1_)    \n",
    "    - [为什么要研究和学习算法？](#toc7_1_1_)    \n",
    "- [108 从C转换到python](#toc8_)    \n",
    "- [109 《Python 数据结构与算法分析》补充：Python基础](#toc9_)    \n",
    "  - [9.1. 数据](#toc9_1_)    \n",
    "    - [9.1.1 内建原子数据类型](#toc9_1_1_)    \n",
    "    - [9.1.2 内建集合数据类型](#toc9_1_2_)    \n",
    "      - [9.1.2.1 列表部分](#toc9_1_2_1_)    \n",
    "      - [9.1.2.2 集合部分](#toc9_1_2_2_)    \n",
    "      - [字典部分](#toc9_1_2_3_)    \n",
    "    - [迭代](#toc9_1_3_)    \n",
    "    - [哈希化](#toc9_1_4_)    \n",
    "  - [输入输出](#toc9_2_)    \n",
    "  - [控制结构](#toc9_3_)    \n",
    "  - [异常处理](#toc9_4_)    \n",
    "  - [函数定义](#toc9_5_)    \n",
    "  - [9.6 Python面向对象编程：定义类](#toc9_6_)    \n",
    "  - [继承：逻辑门与电路](#toc9_7_)    \n",
    "\n",
    "<!-- vscode-jupyter-toc-config\n",
    "\tnumbering=false\n",
    "\tanchor=true\n",
    "\tflat=false\n",
    "\tminLevel=1\n",
    "\tmaxLevel=6\n",
    "\t/vscode-jupyter-toc-config -->\n",
    "<!-- THIS CELL WILL BE REPLACED ON TOC UPDATE. DO NOT WRITE YOUR TEXT IN THIS CELL -->"
   ]
  },
  {
   "cell_type": "markdown",
   "id": "c71f9834",
   "metadata": {},
   "source": [
    "# <a id='toc1_'></a>[101 引子：数据时代](#toc0_)"
   ]
  },
  {
   "cell_type": "markdown",
   "id": "1a653198",
   "metadata": {},
   "source": [
    "* 数据结构与算法的重点是什么：如何把数据组织起来，进行有效地处理，最后能解决问题\n",
    "\n",
    "* 数据在各个领域产生: 科学、技术、工业，商业现在都进入了数据化\n",
    "\n",
    "* 数据主义（dataism）：整个世界就是数据及其算法。《未来简史》将生命活动理解为数据流传输及处理算法，人类智慧和自由意识也是如此"
   ]
  },
  {
   "cell_type": "markdown",
   "id": "1e382469",
   "metadata": {},
   "source": [
    "# <a id='toc2_'></a>[102 问题求解的计算之道](#toc0_)"
   ]
  },
  {
   "cell_type": "markdown",
   "id": "6390de3f",
   "metadata": {},
   "source": [
    "重点是确定问题与解决问题：\n",
    "\n",
    "$\\implies$通过计算来解决问题\n",
    "\n",
    "\n",
    "* Q:什么是问题？\n",
    "\n",
    "  A:**未知事物就是问题。** \n",
    "  \n",
    "* 问题可分类如下：\n",
    "\n",
    "  1. **What**：面向判断与分类\n",
    "\n",
    "  2. **Why**： 面向求因与证明\n",
    "\n",
    "  3. **How**： 面向过程与构建\n",
    "\n",
    "\n",
    "* 问题的解决之道\n",
    "\n",
    "   - 并不一定要是正确方法才叫方法。例如感觉/经验，占卜/求神等\n",
    "\n",
    "   - 而是从未知到已知的。是过程\n",
    "\n",
    "\n",
    "* 通过该过程得到的解决方案\n",
    "\n",
    "   - 工具【有限能行可计算】"
   ]
  },
  {
   "cell_type": "markdown",
   "id": "63bce6fc",
   "metadata": {},
   "source": [
    "**数学：解决问题的终极工具**\n",
    "* 在长期的发展过程中，人们把已经解决的问题逐渐表述为数学命题与模型\n",
    "* 对尚未解决的问题，试图通过数学（建模/工具）解决\n",
    "* 对无法解决的问题，使用数学转换表述、明晰问题来试图解决一部分\n",
    "\n",
    "\n",
    "$\\implies$**为什么是数学**？\n",
    "\n",
    "数学有明确的符号表述体系，严密确定的推理系统，但不是万能的。例如面对无法明确表述的问题，或者有明确的表述但仍无法解决的问题\n",
    "\n",
    "$\\implies$\n",
    "能否不纯依靠人思考，还能够通过机械的手段去解决问题？（通过计算解决明确表述的问题）\n",
    "\n",
    "$\\implies$ **为了解决数学本身的可检验性问题**：\n",
    "\n",
    "大数学家希尔伯特提出[希尔伯特计划](https://en.wikipedia.org/wiki/Hilbert%27s_program)\n",
    "\n",
    "**“能否找到一种基于有穷观点的能行方法，来判定任何一个数学命题的真假”**\n",
    "\n",
    "能找到就可以用机械的手段去解决问题\n",
    "\n",
    "$\\implies$ **基于有穷观点的能行方法，提取出抽象的\"计算\"概念**【重点】\n",
    "\n",
    "详解\"**基于有穷观点的能行方法**\"\n",
    "\n",
    "有穷：\n",
    "\n",
    "a. 由有限数量的明确有限指令构成；\n",
    "\n",
    "b. 指令执行在有限步骤后终止；\n",
    "\n",
    "c. 指令每次执行都总能得到唯一结果；\n",
    "\n",
    "d. 原则上可以由人单独采用纸笔完成，而不依靠其它辅助（例如不需要神秘学手段，完全依靠机械方法）；\n",
    "\n",
    "能行：\n",
    "\n",
    "每条指令可以机械地被精确执行，而不需要智慧和灵感\n",
    "\n",
    "\n",
    "\n",
    "* 不存在能行方法判定所有数学命题的真假。但能行可计算成为计算理论的基础"
   ]
  },
  {
   "cell_type": "markdown",
   "id": "a81ba791",
   "metadata": {},
   "source": [
    "关于计算来解决问题的数学模型：\n",
    "* 递归函数模型\n",
    "* Lambda演算模型\n",
    "* POST机模型\n",
    "* 图灵机模型\n",
    "\n",
    "研究证明，这些基于有穷观点的能行方法的计算模型都是等价的"
   ]
  },
  {
   "cell_type": "markdown",
   "id": "709e78cb",
   "metadata": {},
   "source": [
    "$\\implies$ 虽然希尔伯特的计划最终被证明无法实现，即不存在\"能行方法\"可判定所有数学命题的真假【哥德尔不完备性】\n",
    "\n",
    "$\\implies$  但是\"能行可计算\"的概念成为计算理论的基础"
   ]
  },
  {
   "cell_type": "markdown",
   "id": "e5c1e516",
   "metadata": {},
   "source": [
    "# <a id='toc3_'></a>[103 图灵机计算模型](#toc0_)\n",
    "\n",
    "* 比加减乘除的运算更简单～图灵机不是机器，而是一个思想的模型\n",
    "* 图灵机给出的是计算机的理论模型\n",
    "* 图灵机是一种离散的，有穷的，构造性的问题求解思路\n",
    "* 凡是能用算法方法解决的问题一定能用图灵机解决；凡是图灵机解决不了的问题，算法也解决不了"
   ]
  },
  {
   "cell_type": "markdown",
   "id": "350db3ab",
   "metadata": {},
   "source": [
    "## <a id='toc3_1_'></a>[图灵机的基本概念【操作】](#toc0_)"
   ]
  },
  {
   "cell_type": "markdown",
   "id": "6d4cbc6e",
   "metadata": {},
   "source": [
    "* 在纸上写上或擦除某个符号；\n",
    "* 把注意力从纸的一个位置转向另一个位置\n",
    "* 在每个阶段，下一步要做什么，取决于：\n",
    "\n",
    "      (a)此人当前所关注的纸上某个位置的符号\n",
    "      (b)此人当前思维的状态\n",
    "参考：【马尔可夫链】/【强化学习】"
   ]
  },
  {
   "cell_type": "markdown",
   "id": "d10225b5",
   "metadata": {},
   "source": [
    "## <a id='toc3_2_'></a>[图灵机的基本定义](#toc0_)"
   ]
  },
  {
   "cell_type": "markdown",
   "id": "f2fdf867",
   "metadata": {},
   "source": [
    "在数学上，可以定义图灵机由以下几部分构成\n",
    "\n",
    "* 一条无限长的分格【纸带】，每格可以记录1个符号【记忆存储部分】\n",
    "\n",
    "* 一个【读写头】，可在纸带上左右移动，能读出和擦写格子的字符\n",
    "\n",
    "* 一个【状态寄存器】，记录有限个数量的状态中的1个状态\n",
    "\n",
    "* 一系列有限的控制【规则】（五元组）:\n",
    "  \n",
    "  ==> **处于**\n",
    "  1. 当时是什么状态；\n",
    "  \n",
    "  2. 读入某个字符时\n",
    "\n",
    "\n",
    "  ==> **该进行什么操作**\n",
    "  \n",
    "  3. 要改写成什么字符；\n",
    "\n",
    "  4. 要如何移动读写头；\n",
    "\n",
    "  5. 要改变成什么状态"
   ]
  },
  {
   "cell_type": "markdown",
   "id": "46bb981e",
   "metadata": {},
   "source": [
    "强调：规则是一个**五元组**：\n",
    "\n",
    "1. 当前状态\n",
    "2. 当前读入字符\n",
    "3. 改写字符\n",
    "4. 改变的状态\n",
    "5. 读写头移动方向"
   ]
  },
  {
   "cell_type": "markdown",
   "id": "d64921c3",
   "metadata": {},
   "source": [
    "## <a id='toc3_3_'></a>[使用课程例子理解图灵机](#toc0_)\n",
    "\n",
    "判定{$a^mb^m$|m>=0}模式串图灵机，各状态分别为\n",
    "\n",
    "* s0 初始状态，此时读写头停在第一个字符处\n",
    "* s1 读写头正在右移\n",
    "* s2 读写头移到字符串最右边\n",
    "* s3 读写头正在向回左移\n",
    "\n",
    "规则思路：\n",
    "* 读写头来回移动，将a和b一一对消\n",
    "* 如果最后剩下空白B（空白字符记作字符B）则接受，否则拒绝\n",
    "\n",
    "进一步解读规则：\n",
    "\n",
    "* <s0,a,B,s1,R>就是五元组，且顺序也符合上面的五元组。请注意读写头**移动方向是R或者L或者N（停机）**，而不是s1或s3\n",
    "* 在**s1的状态**下，遇上a也不消除，而是往右移。得到规则<s1,a,a,s1,R>\n",
    "* 在末尾的情况下，从状态s1转变为s2，也就是<s1,B,B,s2,L>\n",
    "\n",
    "$\\implies$遇到同样的字符，但在不同的状态，采取的操作可能不一样\n",
    "\n",
    "* 达成拒绝状态：\n",
    "    - <s0,b,b,sN,R>b多了，或者在a前面\n",
    "    - <s2,a,a,sN,R>a多了，或者在b前面\n",
    "    - <s2,B,B,sN,R>s2是末尾状态，还没读到b\n",
    "  \n",
    "\n",
    "补充规则解读：\n",
    "\n",
    "* 初始状态S0是读写头停在第一个字符处。必须有一条规则用它开始。需要回到这个状态\n",
    "* s1和s3虽然是移动中，但不用R或者L表示。强调代表【正处于什么状态】（哪怕是移动中）\n",
    "* 要改变的状态：状态R（right），右移；状态L，左移；【五元组中，第4位是s0或s1状态，第5位是R；如果第4位是s2或s3状态，则第5位是L】\n",
    "* sY：接受；sN：拒绝\n",
    "* 规则是会读到最后一个b或者最前面的a，因此需要再往外读一位**找到空格**\n",
    "* 尝试自己写规则"
   ]
  },
  {
   "cell_type": "markdown",
   "id": "0391a9ec",
   "metadata": {},
   "source": [
    "## <a id='toc3_4_'></a>[**图灵机停机问题的不可判性【不存在一个图灵机可以判定任意图灵机在所有输入上能否停机】**](#toc0_)\n",
    "\n",
    "可以使用对应的图灵机模拟器软件"
   ]
  },
  {
   "cell_type": "markdown",
   "id": "f0e856f4",
   "metadata": {},
   "source": [
    "# <a id='toc4_'></a>[104 算法和计算复杂性](#toc0_)"
   ]
  },
  {
   "cell_type": "markdown",
   "id": "68efc3c8",
   "metadata": {},
   "source": [
    "## <a id='toc4_1_'></a>[可通过计算解决的三大类问题：](#toc0_)\n",
    "* what【判断与分类】\n",
    "* why【求因与证明】\n",
    "* how【过程与构建】\n",
    "\n",
    "\n",
    "$\\implies$ 如问题能通过“有限能行方法”的计算模型解决，就是可计算问题\n",
    "\n",
    "$\\implies$ 可计算只关心能不能在有限资源（时间空间）内解决问题，资源具体消耗多少不管"
   ]
  },
  {
   "cell_type": "markdown",
   "id": "a9604a2b",
   "metadata": {},
   "source": [
    "### <a id='toc4_1_1_'></a>[a. WHAT【是什么】问题](#toc0_)\n",
    "例如决策树"
   ]
  },
  {
   "cell_type": "markdown",
   "id": "628388ab",
   "metadata": {},
   "source": [
    "### <a id='toc4_1_2_'></a>[b. WHY【为什么】问题](#toc0_)\n",
    "可以通过有限的公式序列来解决"
   ]
  },
  {
   "cell_type": "markdown",
   "id": "73523b7d",
   "metadata": {},
   "source": [
    "### <a id='toc4_1_3_'></a>[c. HOW【怎么做】问题](#toc0_)\n",
    "可以通过算法流程来解决。需要研究算法和相应的数据结构\n",
    "\n",
    "$\\implies$也是这门课程的主要内容"
   ]
  },
  {
   "cell_type": "markdown",
   "id": "5551fd7a",
   "metadata": {},
   "source": [
    "## <a id='toc4_2_'></a>[算法举例](#toc0_)\n",
    "欧几里得算法，辗转相除求最大公约数\n",
    "* 每一个步骤都是明确又机械的\n",
    "* 会在有限的步骤内停止\n",
    "* \n",
    "$\\implies$有穷观点下的能行方法来完成\n",
    "\n",
    "优点：\n",
    "* 在处理大数的时候非常高效\n",
    "\n",
    "加百列·拉梅于1844年证明了辗转相除法需要的步骤不会超过较小数的位数的5倍，并开创了计算复杂性理论"
   ]
  },
  {
   "cell_type": "markdown",
   "id": "4efc5102",
   "metadata": {},
   "source": [
    "## <a id='toc4_3_'></a>[**计算复杂性**和**算法**](#toc0_)\n",
    "\n",
    "“基于有穷观点的能行方法”的“可计算”概念：\n",
    "\n",
    "* 只关心问题能否在有限资源（时间/空间）内解决\n",
    "* 不关心具体要花费多少计算步骤或者存储空间"
   ]
  },
  {
   "cell_type": "markdown",
   "id": "278d36b8",
   "metadata": {},
   "source": [
    "### <a id='toc4_3_1_'></a>[对问题难易程度进行分类：计算复杂性](#toc0_)\n",
    "\n",
    "人类掌握的资源相当有限，对于问题的解决需要考虑其可行性如何\n",
    "\n",
    "不同的问题，难易程度不一样：\n",
    "* 有些问题非常简单\n",
    "* 有些问题的解答勉强让人满意\n",
    "* 有些问题会爆炸性地吞噬资源，导致虽然有解法但没有什么可行性，例如哈密顿回路，货郎担问题等\n",
    "\n",
    "$\\implies$定义一些衡量指标，对问题的难易程度（所需的执行步骤数/存储空间大小）进行分类，是计算复杂性理论的研究范围\n",
    "\n",
    "计算复杂性**并不关心解决问题的具体方案**，而是关心问题的本质\n",
    "\n",
    "———— **按照难易程度分类**"
   ]
  },
  {
   "cell_type": "markdown",
   "id": "dbcc2eca",
   "metadata": {},
   "source": [
    "### <a id='toc4_3_2_'></a>[判断同一问题的不同方案的效率：算法](#toc0_)\n",
    "同一个问题，会有不同的解决方案，解决效率也是千差万别\n",
    "\n",
    "例如排序问题\n",
    "* 冒泡排序\n",
    "* bogo排序\n",
    "\n",
    "算法旨在研究问题在不同现实资源约束情况下的不同解决方案，致力于找到效率最高的方案"
   ]
  },
  {
   "cell_type": "markdown",
   "id": "7d82d501",
   "metadata": {},
   "source": [
    "以上都是可计算问题，现在进入另一个大类：\n",
    "\n",
    "## <a id='toc4_4_'></a>[不可计算问题](#toc0_)\n",
    "\n",
    "不可计算问题是指定义清晰但无法解决的问题\n",
    "\n",
    "==> 不是尚未找到解，是在有穷能行的前提下，被证明不存在解决方案。\n",
    "\n",
    "例如："
   ]
  },
  {
   "cell_type": "markdown",
   "id": "1b32c7c6",
   "metadata": {},
   "source": [
    "* 停机问题：判定任何一个程序在任何一个输入情况下是否能够停机。\n",
    "\n",
    "* 不可计算数：几乎所有的无理数，都无法通过算法来确定其任意一位是什么数字。可计算数很少，例如圆周率$\\pi$和自然对数的底数$e$"
   ]
  },
  {
   "cell_type": "markdown",
   "id": "05b66cee",
   "metadata": {},
   "source": [
    "似乎计算之道解决问题存在边界和极限？\n",
    "\n",
    "进入下一阶段："
   ]
  },
  {
   "cell_type": "markdown",
   "id": "4093cea7",
   "metadata": {},
   "source": [
    "# <a id='toc5_'></a>[105 突破计算极限](#toc0_)"
   ]
  },
  {
   "cell_type": "markdown",
   "id": "2acd0c52",
   "metadata": {},
   "source": [
    "* 超大规模分布式计算\n",
    "* DNA计算\n",
    "* 新型计算技术\n",
    "* 智慧众包项目\n",
    "\n",
    "其中，智慧众包和星象占卜不是用算法的概念来解决问题，DNA计算和超大规模分布式计算则是用算法的概念"
   ]
  },
  {
   "cell_type": "markdown",
   "id": "5ae18ff6",
   "metadata": {},
   "source": [
    "# <a id='toc6_'></a>[106 什么是抽象和实现](#toc0_)"
   ]
  },
  {
   "cell_type": "markdown",
   "id": "d9b33bd0",
   "metadata": {},
   "source": [
    "计算机科学主要研究的是【问题、问题解决过程，以及问题的解决方案】"
   ]
  },
  {
   "cell_type": "markdown",
   "id": "3844af88",
   "metadata": {},
   "source": [
    "## <a id='toc6_1_'></a>[抽象Abstraction](#toc0_)"
   ]
  },
  {
   "cell_type": "markdown",
   "id": "1d858438",
   "metadata": {},
   "source": [
    "* 为了更好地处理机器相关性或独立性，引入了“抽象”的概念\n",
    "* 抛弃不重要的内容，只留下本质的信息\n",
    "* 以便从“逻辑 Logical”或者“物理 Physical”的不同层次上看待问题及解决方案\n",
    "\n",
    "逻辑还是物理？\n",
    "\n",
    "* 它们是相对的概念，而不是绝对的。例如，编程是算法的实现"
   ]
  },
  {
   "cell_type": "markdown",
   "id": "d5f80967",
   "metadata": {},
   "source": [
    "### <a id='toc6_1_1_'></a>[什么是抽象【怎么用】](#toc0_)\n",
    "\n",
    "* 从抽象角度看，司机看到的是【逻辑】层次，或者说功能层次\n",
    "* 司机可以通过各种各样的操作，来达到运输的目的。\n",
    "* 这些操作机构被称为“接口Interface”"
   ]
  },
  {
   "cell_type": "markdown",
   "id": "ed9d4811",
   "metadata": {},
   "source": [
    "### <a id='toc6_1_2_'></a>[什么是实现【知道怎么做到的（明白原理），怎么修，内部怎么实现】](#toc0_)"
   ]
  },
  {
   "cell_type": "markdown",
   "id": "748d0eda",
   "metadata": {},
   "source": [
    "从汽车修理工的角度来看同一辆汽车，除了要了解车怎么开，还需要清楚每项功能是如何实现的\n",
    "\n",
    "这些内部构造构成了汽车的“物理”层次。工作过程就称为“实现Implementation”"
   ]
  },
  {
   "cell_type": "markdown",
   "id": "4c699f5c",
   "metadata": {},
   "source": [
    "### <a id='toc6_1_3_'></a>[过程抽象和编程](#toc0_)\n",
    "* 编程是通过一种程序设计语言，将抽象的算法实现为计算机可以执行的代码的过程\n",
    "* 功能上的黑盒子称为“过程抽象”Procedural Abstraction，例如调用库函数直接得到结果\n",
    "* **算法+数据结构=程序**【重点】"
   ]
  },
  {
   "cell_type": "markdown",
   "id": "ecca9085",
   "metadata": {},
   "source": [
    "### <a id='toc6_1_4_'></a>[程序设计语言实现算法的基本机制](#toc0_)"
   ]
  },
  {
   "cell_type": "markdown",
   "id": "95dcf0e4",
   "metadata": {},
   "source": [
    "程序设计语言需要为算法的实现提供实现“过程”【运行】和“数据”【存储】的机制。具体表现为“控制结构”和“数据类型”。"
   ]
  },
  {
   "cell_type": "markdown",
   "id": "e65ff9c0",
   "metadata": {},
   "source": [
    "控制结构包括：顺序处理、分支选择、循环迭代。"
   ]
  },
  {
   "cell_type": "markdown",
   "id": "6653bd0e",
   "metadata": {},
   "source": [
    "数据类型包括：\n",
    "整数，字符等。也可以用自己设计的。"
   ]
  },
  {
   "cell_type": "markdown",
   "id": "6fd8af40",
   "metadata": {},
   "source": [
    "# <a id='toc7_'></a>[107 为什么研究数据结构与算法](#toc0_)"
   ]
  },
  {
   "cell_type": "markdown",
   "id": "037f9346",
   "metadata": {},
   "source": [
    "* 为了控制问题和问题解决过程的复杂度，利用抽象来保持问题的“整体感”，避免陷入过多的细节中\n",
    "\n",
    "* 这要求对现实问题进行建模的时候，对算法所要处理的数据，也要保持与问题本身的一致性，不要有太多与问题无关的细节"
   ]
  },
  {
   "cell_type": "markdown",
   "id": "44d346d9",
   "metadata": {},
   "source": [
    "## <a id='toc7_1_'></a>[抽象数据类型【ADT】](#toc0_)\n",
    "\n",
    "* 因为过程抽象，启发我们进行数据抽象\n",
    "\n",
    "* 只有功能、描述和实现调用的接口，用户无须操心具体实现\n",
    "\n",
    "* 也建立了一种对数据的 “封装Encapsulation”封装技术将可能的处理实现细节隐蔽起来能有效控制算法的复杂度。因为同一ADT可以使用不同的数据结构实现。换言之，数据结构是对ADT的具体实现\n",
    "\n",
    "* 采用程序设计语言的控制结构和基本数据类型来实现ADT所提供的逻辑接口，属于ADT的物理层次。"
   ]
  },
  {
   "cell_type": "markdown",
   "id": "f29f0091",
   "metadata": {},
   "source": [
    "因此ADT实现了分开物理层次和逻辑层次\n",
    "\n",
    "可以定义复杂的数据模型来解决问题，而不需要立即考虑此模型如何实现"
   ]
  },
  {
   "cell_type": "markdown",
   "id": "d70392ef",
   "metadata": {},
   "source": [
    "==> 好处有：\n",
    "\n",
    "❖对抽象数据类型可以有多种实现方案\n",
    "\n",
    "❖独立于实现的数据模型让底层开发程序员专注于实现和优化数据处理，又不改变数据的使用接口让用户专注于用数据接口来进行问题的解决，而无需考虑如何具体实现这些接口\n",
    "\n",
    "❖通过逻辑与物理实现分离，层层抽象降低问题解决过程的复杂度【算法实现的重要性】"
   ]
  },
  {
   "cell_type": "markdown",
   "id": "ed439529",
   "metadata": {},
   "source": [
    "### <a id='toc7_1_1_'></a>[为什么要研究和学习算法？](#toc0_)\n",
    "\n",
    "首先，学习各种不同的解决方案\n",
    "\n",
    "其次，考虑的各算法通常有较大的差异，需要能正确评判算法本身特性\n",
    "\n",
    "在碰到棘手难题时，要学会区分可计算问题与不可计算问题，以及消耗的资源，还要学会使用折衷的处理方式\n"
   ]
  },
  {
   "cell_type": "markdown",
   "id": "6b2fae8f",
   "metadata": {},
   "source": [
    "# <a id='toc8_'></a>[108 从C转换到python](#toc0_)"
   ]
  },
  {
   "cell_type": "markdown",
   "id": "aad200cc",
   "metadata": {},
   "source": [
    "从hello world开始\n",
    "\n",
    "1. python其实不存在主入口函数这一说法\n",
    "2. python是一个解释型的脚本语言，无须整体编译/链接"
   ]
  },
  {
   "cell_type": "code",
   "execution_count": 12,
   "id": "659ba44f",
   "metadata": {},
   "outputs": [
    {
     "name": "stdout",
     "output_type": "stream",
     "text": [
      "hello world!\n"
     ]
    }
   ],
   "source": [
    "print('hello world!')"
   ]
  },
  {
   "cell_type": "markdown",
   "id": "4156e0a4",
   "metadata": {},
   "source": [
    "帮高斯的同学回家"
   ]
  },
  {
   "cell_type": "code",
   "execution_count": 13,
   "id": "5397e8c4",
   "metadata": {},
   "outputs": [
    {
     "data": {
      "text/plain": [
       "5050"
      ]
     },
     "execution_count": 13,
     "metadata": {},
     "output_type": "execute_result"
    }
   ],
   "source": [
    "sum(list(range(101)))"
   ]
  },
  {
   "cell_type": "markdown",
   "id": "50b47bc3",
   "metadata": {},
   "source": [
    "检验素数"
   ]
  },
  {
   "cell_type": "code",
   "execution_count": 14,
   "id": "e58e1ec6",
   "metadata": {},
   "outputs": [
    {
     "ename": "ValueError",
     "evalue": "invalid literal for int() with base 10: ''",
     "output_type": "error",
     "traceback": [
      "\u001b[1;31m---------------------------------------------------------------------------\u001b[0m",
      "\u001b[1;31mValueError\u001b[0m                                Traceback (most recent call last)",
      "Cell \u001b[1;32mIn[14], line 3\u001b[0m\n\u001b[0;32m      1\u001b[0m \u001b[38;5;28;01mfrom\u001b[39;00m \u001b[38;5;21;01mmath\u001b[39;00m \u001b[38;5;28;01mimport\u001b[39;00m sqrt\n\u001b[1;32m----> 3\u001b[0m n \u001b[38;5;241m=\u001b[39m \u001b[38;5;28mint\u001b[39m(\u001b[38;5;28minput\u001b[39m(\u001b[38;5;124m\"\u001b[39m\u001b[38;5;124mPlease input number:\u001b[39m\u001b[38;5;124m\"\u001b[39m))\n\u001b[0;32m      5\u001b[0m \u001b[38;5;28;01mfor\u001b[39;00m i \u001b[38;5;129;01min\u001b[39;00m \u001b[38;5;28mrange\u001b[39m(\u001b[38;5;241m2\u001b[39m,\u001b[38;5;28mint\u001b[39m(sqrt(n))):\n\u001b[0;32m      6\u001b[0m     \u001b[38;5;28;01mif\u001b[39;00m n \u001b[38;5;241m%\u001b[39m i \u001b[38;5;241m==\u001b[39m \u001b[38;5;241m0\u001b[39m:\n",
      "\u001b[1;31mValueError\u001b[0m: invalid literal for int() with base 10: ''"
     ]
    }
   ],
   "source": [
    "from math import sqrt\n",
    "\n",
    "n = int(input(\"Please input number:\"))\n",
    "\n",
    "for i in range(2,int(sqrt(n))):\n",
    "    if n % i == 0:\n",
    "        print(f\"{n} is NOT a prime number.\")\n",
    "        break\n",
    "else:\n",
    "    \n",
    "    print(f\"{n} is a prime number.\")"
   ]
  },
  {
   "cell_type": "markdown",
   "id": "620a1e86",
   "metadata": {},
   "source": [
    "python是强类型语言，不能把不同类型的数据混在一起看"
   ]
  },
  {
   "cell_type": "markdown",
   "id": "fe9a3b57",
   "metadata": {},
   "source": [
    "打印一个朴素的三角"
   ]
  },
  {
   "cell_type": "code",
   "execution_count": null,
   "id": "4fa6b271",
   "metadata": {
    "collapsed": true
   },
   "outputs": [],
   "source": [
    "\n",
    "for i in range(8):\n",
    "    print(\"*\"*i)\n",
    "# 注意最后一行有多少个\n",
    "\n",
    "print(list(range(8)))"
   ]
  },
  {
   "cell_type": "code",
   "execution_count": null,
   "id": "f342e367",
   "metadata": {},
   "outputs": [],
   "source": [
    "print('\\n'.join('*' * i for i in range(int(input(\"enter the number:\")))))"
   ]
  },
  {
   "cell_type": "markdown",
   "id": "b8c90e13",
   "metadata": {},
   "source": [
    "B站的AV87882118可以学python基础，学习python口音"
   ]
  },
  {
   "cell_type": "code",
   "execution_count": null,
   "id": "84992e17",
   "metadata": {},
   "outputs": [],
   "source": [
    "help(map)"
   ]
  },
  {
   "cell_type": "code",
   "execution_count": null,
   "id": "7b7cb2ab",
   "metadata": {},
   "outputs": [],
   "source": [
    "numbers = list(map(int, input(\"Enter numbers separated by space: \").split()))#10 6 3"
   ]
  },
  {
   "cell_type": "markdown",
   "id": "058179cb",
   "metadata": {},
   "source": [
    "# <a id='toc9_'></a>[109 《Python 数据结构与算法分析》补充：Python基础](#toc0_)"
   ]
  },
  {
   "cell_type": "markdown",
   "id": "68c0557d",
   "metadata": {},
   "source": [
    "## <a id='toc9_1_'></a>[9.1. 数据](#toc0_)"
   ]
  },
  {
   "cell_type": "markdown",
   "id": "75e57202",
   "metadata": {},
   "source": [
    "<h3 style=\"font-weight: bold; text-transform: uppercase; margin: 1em 0;\">\n",
    " 类：状态与行为\n",
    "</h3>"
   ]
  },
  {
   "cell_type": "markdown",
   "id": "0661ca71",
   "metadata": {},
   "source": [
    "* python支持面向对象编程范式。这意味着Python认为数据是问题解决过程中的关键点。\n",
    "\n",
    "* 类是对数据的构成（状态）和数据能做什么（行为）的描述。因为类的使用者只能看到数据项的状态和行为，因此类与抽象数据类型是相似的。\n",
    "\n",
    "* 在面向对象编程范式中，数据项被称为对象。一个对象就是类的一个实例。\n",
    "\n",
    "### <a id='toc9_1_1_'></a>[9.1.1 内建原子数据类型](#toc0_)\n",
    "内建原子数据类型有：\n",
    "* 数值类int,float\n",
    "* 布尔类bool\n",
    "\n",
    "命名：\n",
    "* python中标识符以字母或者下划线开头，区分大小写，可以是任意长度\n",
    "* 当一个名字第一次出现在赋值语句左边时，会创建对应的python变量\n",
    "* 赋值语句将名字与值关联起来\n",
    "\n",
    "$\\implies$请注意，变量存的是指向数据的引用，而不是数据本身\n",
    "\n",
    "\n",
    "* python会计算赋值运算右边的表达式，再将结果数据对象的**引用**赋给左边的变量名\n",
    "* 如果数据的类型发生改变，那么变量的类型也会同样改变 \n",
    "\n",
    "$\\implies$ 赋值语句改变了变量的引用，体现了python动态的特性\n",
    "$\\implies$ 同样的变量可以指向许多不同类型的数据"
   ]
  },
  {
   "cell_type": "markdown",
   "id": "9f3d0f9f",
   "metadata": {},
   "source": [
    "### <a id='toc9_1_2_'></a>[9.1.2 内建集合数据类型](#toc0_)\n",
    "\n",
    "python内建集合数据类型有：\n",
    "* 有序集合：列表，字符串，元组\n",
    "* 无序集合：set（集），字典\n"
   ]
  },
  {
   "cell_type": "markdown",
   "id": "df243ae5",
   "metadata": {},
   "source": [
    "python中，[Sequence Types](https://docs.python.org/3/library/stdtypes.html) 或者叫**序列**可使用的运算\n",
    "\n",
    "|运算名|运算符号|\n",
    "|:---:|:---:|\n",
    "|索引|[  ]|\n",
    "|链接|+|\n",
    "|重复|*|\n",
    "|成员|in|\n",
    "|长度|len|\n",
    "|切片|[:]|\n",
    "\n",
    "序列是指表示一系列按顺序排列的元素集合，每个元素都有一个唯一的位置索引（从0开始），可以通过索引访问、切片或迭代。其中：\n",
    "* 可变序列：列表\n",
    "* 不可变序列：字符串；元组；范围（range）\n",
    "\n",
    "除序列外，还有其他容器：\n",
    "* 集set\n",
    "* 字典\n",
    "\n",
    "容器间相互转化如下："
   ]
  },
  {
   "cell_type": "code",
   "execution_count": null,
   "id": "f72431d9",
   "metadata": {},
   "outputs": [],
   "source": [
    "# 列表 → 集合（去重）\n",
    "lst = [1, 2, 2, 3, 3]\n",
    "set_from_list = set(lst)\n",
    "print(set_from_list)  # 输出 {1, 2, 3}\n",
    "\n",
    "# 字符串 → 集合（每个字符为一个元素）\n",
    "s = \"hello\"\n",
    "set_from_str = set(s)\n",
    "print(set_from_str)   # 输出 {'h', 'e', 'l', 'o'}（去重且无序）\n",
    "\n",
    "# 元组 → 集合\n",
    "t = (10, 20, 30, 20)\n",
    "set_from_tuple = set(t)\n",
    "print(set_from_tuple)  # 输出 {10, 20, 30}\n",
    "\n",
    "\n",
    "invalid_list = [[1, 2], [3, 4]]#集合的元素必须是可哈希的，这是错误示范\n",
    "set(invalid_list)  # 报错 TypeError: unhashable type: 'list'"
   ]
  },
  {
   "cell_type": "code",
   "execution_count": null,
   "id": "835e2303",
   "metadata": {},
   "outputs": [],
   "source": [
    "#处理顺序丢失\n",
    "lst = [3, 2, 2, 1, 3]\n",
    "unique_lst = []\n",
    "for x in lst:\n",
    "    if x not in unique_lst:\n",
    "        unique_lst.append(x)\n",
    "print(unique_lst)  # 输出 [3, 2, 1]"
   ]
  },
  {
   "cell_type": "code",
   "execution_count": null,
   "id": "edfb7142",
   "metadata": {},
   "outputs": [],
   "source": [
    "#性能优化\n",
    "#集合的成员检查（in）时间复杂度为 O(1)，远快于序列的 O(n)。\n",
    "'''\n",
    "big_list = [/* 大量数据 */]\n",
    "big_set = set(big_list)\n",
    "if target in big_set:  # 比直接检查列表快得多\n",
    "    # 执行操作\n",
    "\n",
    "'''"
   ]
  },
  {
   "cell_type": "code",
   "execution_count": null,
   "id": "17a46752",
   "metadata": {},
   "outputs": [],
   "source": [
    "# 集合 → 列表\n",
    "my_set = {3, 1, 2}\n",
    "list_from_set = list(my_set)\n",
    "print(list_from_set)  # 输出可能是 [1, 2, 3]，但顺序不确定\n",
    "\n",
    "# 集合 → 元组\n",
    "tuple_from_set = tuple(my_set)\n",
    "print(tuple_from_set)  # 输出可能是 (2, 1, 3)\n",
    "\n",
    "# 集合 → 字符串（元素必须是字符）\n",
    "char_set = {'a', 'b', 'c'}\n",
    "str_from_set = \"\".join(char_set)\n",
    "print(str_from_set)  # 输出可能是 \"acb\"（顺序不确定）"
   ]
  },
  {
   "cell_type": "markdown",
   "id": "a87136ed",
   "metadata": {},
   "source": [
    "#### <a id='toc9_1_2_1_'></a>[9.1.2.1 列表部分](#toc0_)\n",
    "* 列表是零个或者多个指向python数据对象的**引用**的有序集合异构的。列表是异构的，指向的数据对象不需要是同一个类，并且这个集合可以被赋值给一个变量\n",
    "* 列表中重复运算返回的结果是序列中只是对象数据的引用的重复，而不是新开\n",
    "* 当python计算一个列表，这个列表会自己返回。然而，为了记住该列表以便后续处理，其引用需要被赋给另一个变量。可以和原变量同名"
   ]
  },
  {
   "cell_type": "code",
   "execution_count": null,
   "id": "3dcc9344",
   "metadata": {},
   "outputs": [],
   "source": [
    "list(range(10))"
   ]
  },
  {
   "cell_type": "markdown",
   "id": "db94f425",
   "metadata": {},
   "source": [
    "#### <a id='toc9_1_2_2_'></a>[9.1.2.2 集合部分](#toc0_)\n",
    "* 集是由零个或者多个不可修改的python数据对象组成的异构的，无序集合\n",
    "* 不允许重复元素，写作由花括号包含，逗号分隔的一系列值\n",
    "* 空集由```set()```表示"
   ]
  },
  {
   "cell_type": "markdown",
   "id": "4e06a1da",
   "metadata": {},
   "source": [
    "补充：\n",
    "\n",
    "<h3 style=\"font-weight: bold; text-transform: uppercase; margin: 1em 0;\">\n",
    "  运算和方法\n",
    "</h3>\n",
    "\n",
    "\n",
    "运算符本质是方法的语法糖\n",
    "\n",
    "许多运算符底层调用了对象的特殊方法。例如：\n",
    "\n",
    "* ```a + b → a.__add__(b)```\n",
    "* ```x in list → list.__contains__(x)```\n",
    "\n",
    "\n",
    "|名称|定义|例子|注意事项|\n",
    "|:---:|:---:|:---:|:---:|\n",
    "|运算（Operations）|运算是通过特定符号（操作符）对数据进行数学或逻辑操作的简洁语法|```a + b```|可以进行运算符重载，例如通过__add__方法定义自己的加法行为|\n",
    "|方法（Methods）|方法是对象提供的功能：是对象所属类中定义的函数，需要通过对象来调用|```list.append()```或者```\"hello\".upper()```|方法通常是和特定数据类型相关的，执行特定操作|\n",
    "\n"
   ]
  },
  {
   "cell_type": "markdown",
   "id": "5cf0a557",
   "metadata": {},
   "source": [
    "进阶版：\n",
    "| **特性**               | **运算（Operations）**         | **方法（Methods）**              |\n",
    "|------------------------|--------------------------------|----------------------------------|\n",
    "| **语法形式**           | 符号（如 `+`, `>`, `in`）       | 函数调用（如 `obj.method()`）     |\n",
    "| **调用方式**           | 直接使用操作符（如 `a + b`）    | 通过对象调用（如 `s.upper()`）    |\n",
    "| **可扩展性**           | 需重载运算符（如 `__add__`）    | 直接定义新方法                   |\n",
    "| **操作对象**           | 多为二元操作（如 `a OP b`）     | 通常操作当前对象（如 `self`）     |\n",
    "| **优先级规则**         | 有固定优先级（如 `*` 先于 `+`） | 无优先级，按代码顺序执行         |\n",
    "| **典型用例**           | 数学计算、快速逻辑判断         | 对象专属行为、复杂数据处理       |\n",
    "| **底层实现**           | 对应特殊方法（如 `+` → `__add__`） | 类中定义的函数                  |\n",
    "| **是否修改数据**       | 通常返回新值                   | 可能修改对象（如 `list.append()`）或返回新值 |\n",
    "| **代码简洁性**         | 更简洁（如 `a + b`）           | 更明确（如 `sorted(list)`）       |"
   ]
  },
  {
   "cell_type": "markdown",
   "id": "b0d8973c",
   "metadata": {},
   "source": [
    "现在开始set的运算和方法列表"
   ]
  },
  {
   "cell_type": "markdown",
   "id": "ca041470",
   "metadata": {},
   "source": [
    "| 运算名称         | 符号/表达式 | 描述                                 | 示例                |\n",
    "|:------------------:|:-------------:|:--------------------------------------:|:---------------------:|\n",
    "| 并集             | `\\|`         | 返回两个集合所有元素（不重复版）的集合       | `set1 \\| set2`       |\n",
    "| 交集             | `&`         | 返回两个集合共同存在的元素           | `set1 & set2`       |\n",
    "| 差集             | `-`         | 返回在第一个集合但不在第二个集合中的元素 | `set1 - set2`    |\n",
    "| 对称差集         | `^`         | 返回仅存在于其中一个集合的元素       | `set1 ^ set2`       |\n",
    "| 等于             | `==`        | 判断两个集合的元素是否完全相同       | `set1 == set2`      |\n",
    "| 不等于           | `!=`        | 判断两个集合的元素是否不同           | `set1 != set2`      |\n",
    "| 子集检查         | `<=`        | 判断左侧集合是否是右侧集合的子集     | `set1 <= set2`      |\n",
    "| 真子集检查       | `<`         | 判断左侧集合是否是右侧集合的真子集   | `set1 < set2`       |\n",
    "| 超集检查         | `>=`        | 判断左侧集合是否是右侧集合的超集     | `set1 >= set2`      |\n",
    "| 真超集检查       | `>`         | 判断左侧集合是否是右侧集合的真超集   | `set1 > set2`       |\n",
    "| 成员检查         | `in`        | 判断元素是否存在于集合中             | `'a' in set1`       |\n",
    "| 非成员检查       | `not in`    | 判断元素是否不存在于集合中           | `'a' not in set1`   |\n",
    "| 增强并集赋值     | `\\|=`        | 将左侧集合更新为与右侧集合的并集     | `set1 \\|= set2`      |\n",
    "| 增强交集赋值     | `&=`        | 将左侧集合更新为与右侧集合的交集     | `set1 &= set2`      |\n",
    "| 增强差集赋值     | `-=`        | 将左侧集合更新为与右侧集合的差集     | `set1 -= set2`      |\n",
    "| 增强对称差集赋值 | `^=`        | 将左侧集合更新为与右侧集合的对称差集 | `set1 ^= set2`      |       "
   ]
  },
  {
   "cell_type": "code",
   "execution_count": null,
   "id": "7a0da751",
   "metadata": {},
   "outputs": [],
   "source": [
    "list1 = [1, 2, 3]\n",
    "list2 = [3, 4, 5]\n",
    "result = set(list1) | set(list2)\n",
    "print(result)"
   ]
  },
  {
   "cell_type": "markdown",
   "id": "0a1370e6",
   "metadata": {},
   "source": [
    "以下是增强操作符。会破坏左边的原集合，但速度比非增强的要快"
   ]
  },
  {
   "cell_type": "code",
   "execution_count": null,
   "id": "2061e439",
   "metadata": {},
   "outputs": [],
   "source": [
    "# 初始化集合\n",
    "set1 = {1, 2, 3}\n",
    "set2 = {3, 4, 5}\n",
    "\n",
    "# 执行增强并集赋值操作\n",
    "set1 |= set2\n",
    "\n",
    "# 输出结果\n",
    "print(\"set1 被修改为:\", set1)  # 输出: {1, 2, 3, 4, 5}\n",
    "print(\"set2 保持不变:\", set2)  # 输出: {3, 4, 5}"
   ]
  },
  {
   "cell_type": "markdown",
   "id": "2f5d0a6e",
   "metadata": {},
   "source": [
    "下面是set的方法操作\n",
    "\n",
    "| 方法名                          | 描述                                                                 | 示例                                                                 |\n",
    "|---------------------------------|----------------------------------------------------------------------|----------------------------------------------------------------------|\n",
    "| `add(element)`                 | 向集合中添加一个元素。                                               | `s = {1, 2}; s.add(3)`                                              |\n",
    "| `clear()`                       | 清空集合中的所有元素。                                               | `s = {1, 2}; s.clear()`                                             |\n",
    "| `copy()`                        | 返回集合的浅拷贝。                                                   | `s = {1, 2}; s_copy = s.copy()`                                     |\n",
    "| `difference(*others)`           | 返回当前集合与一个或多个集合的差集（新集合）。                        | `s = {1, 2, 3}; s1 = {2, 4}; result = s.difference(s1)`             |\n",
    "| `difference_update(*others)`    | 原地修改集合，保留当前集合与其他集合的差集。                          | `s = {1, 2, 3}; s.difference_update({2})`                           |\n",
    "| `discard(element)`              | 如果元素存在，则从集合中移除它；不存在时不报错。                      | `s = {1, 2, 3}; s.discard(2)`                                       |\n",
    "| `intersection(*others)`         | 返回当前集合与一个或多个集合的交集（新集合）。                        | `s = {1, 2}; s1 = {2, 3}; result = s.intersection(s1)`              |\n",
    "| `intersection_update(*others)`  | 原地修改集合，保留当前集合与其他集合的交集。                          | `s = {1, 2, 3}; s.intersection_update({2, 4})`                      |\n",
    "| `isdisjoint(other)`             | 检查当前集合与 `other` 是否没有交集。                                | `s = {1, 2}; s1 = {3}; result = s.isdisjoint(s1)`                   |\n",
    "| `issubset(other)`               | 检查当前集合是否是 `other` 的子集。                                 | `s = {1, 2}; s1 = {1, 2, 3}; result = s.issubset(s1)`               |\n",
    "| `issuperset(other)`             | 检查当前集合是否是 `other` 的超集。                                 | `s = {1, 2, 3}; s1 = {1, 2}; result = s.issuperset(s1)`             |\n",
    "| `pop()`                         | 移除并返回集合中的任意一个元素（空集合报 `KeyError`）。              | `s = {1, 2}; val = s.pop()`                                         |\n",
    "| `remove(element)`               | 从集合中移除指定元素（不存在时报 `KeyError`）。                      | `s = {1, 2, 3}; s.remove(3)`                                        |\n",
    "| `symmetric_difference(other)`   | 返回当前集合与 `other` 的对称差集（新集合）。                        | `s = {1, 2}; s1 = {2, 3}; result = s.symmetric_difference(s1)`      |\n",
    "| `symmetric_difference_update(other)` | 原地修改集合，保留当前集合与 `other` 的对称差集。               | `s = {1, 2}; s.symmetric_difference_update({2, 3})`                |\n",
    "| `union(*others)`                | 返回当前集合与一个或多个集合的并集（新集合）。                       | `s = {1}; s1 = {2}; s2 = {3}; result = s.union(s1, s2)`             |\n",
    "| `update(*others)`               | 用当前集合与其他可迭代对象的并集更新集合（原地修改）。                | `s = {1}; s.update([2, 3], {4})`                                    |"
   ]
  },
  {
   "cell_type": "markdown",
   "id": "f188f20d",
   "metadata": {},
   "source": [
    "#### <a id='toc9_1_2_3_'></a>[字典部分](#toc0_)\n",
    "* 无序结构，由相关元素对构成，其中每对元素都由一个键一个值组，通常写作```键：值```的形式\n",
    "* 由花括号包含的一系列以逗号分隔的键值对表达\n",
    "* 可以通过键访问对应的值，也可以通过新的键添加新的值\n",
    "* 键的位置由散列决定\n",
    "* 可以使用list函数将字典转为列表"
   ]
  },
  {
   "cell_type": "markdown",
   "id": "e601c25b",
   "metadata": {},
   "source": [
    "Python 字典（dict）支持的运算\n",
    "\n",
    "| 运算名         | 描述                        | 示例                            |\n",
    "|----------------|---------------------------|--------------------------------|\n",
    "| 创建字典        | 用花括号或 `dict()` 创建字典     | `d = {'a': 1, 'b': 2}`         |\n",
    "| 访问元素        | 通过键获取对应的值              | `d['a']` → 1                   |\n",
    "| 检查键是否存在   | 用 `in` 判断键是否在字典中       | `'a' in d` → True              |\n",
    "| 赋值元素        | 通过键为字典赋值或修改值          | `d['c'] = 3` → `{'a':1, 'b':2, 'c':3}` |\n",
    "| 删除键值对      | 用 `del` 删除指定键的键值对       | `del d['a']` → `{'b':2}`        |\n",
    "| 遍历键          | 直接遍历字典时默认遍历所有键       | `for key in d: print(key)`      |\n",
    "| 获取长度        | 用 `len()` 获取键值对数量         | `len(d)` → 2                   |\n",
    "| 字典合并（Python 3.9+） | 用 `\\|` 合并字典，`\\|=` 更新字典 | `d1 = {'a':1}`, `d2 = {'b':2}`, `d1 \\| d2` → `{'a':1, 'b':2}` |"
   ]
  },
  {
   "cell_type": "code",
   "execution_count": null,
   "id": "e44967d4",
   "metadata": {},
   "outputs": [],
   "source": [
    "d1 = {'a': 1, 'b': 2}\n",
    "d2 = {'b': 20, 'c': 3}\n",
    "\n",
    "# 合并字典（右侧字典的键会覆盖左侧同名键）\n",
    "merged = d1 | d2\n",
    "print(merged)  # 输出: {'a': 1, 'b': 20, 'c': 3}\n",
    "print(d1)"
   ]
  },
  {
   "cell_type": "code",
   "execution_count": null,
   "id": "0066ad62",
   "metadata": {},
   "outputs": [],
   "source": [
    "d1 = {'a': 1, 'b': 2}\n",
    "d2 = {'b': 20, 'c': 3}\n",
    "\n",
    "# 将 d2 的键值对合并到 d1 中（d1 会被修改）\n",
    "d1 |= d2\n",
    "print(d1)  # 输出: {'a': 1, 'b': 20, 'c': 3}"
   ]
  },
  {
   "cell_type": "markdown",
   "id": "dd890afa",
   "metadata": {},
   "source": [
    " Python 字典（dict）的方法\n",
    "\n",
    "| 方法名          | 描述                                                                 | 示例                                                                 |\n",
    "|-----------------|--------------------------------------------------------------------|---------------------------------------------------------------------|\n",
    "| `keys()`        | 返回字典所有键的视图（可遍历）                                           | `d = {'a':1, 'b':2}`, `d.keys() → ['a', 'b']`                       |\n",
    "| `values()`      | 返回字典所有值的视图（可遍历）                                           | `d.values() → [1, 2]`                                               |\n",
    "| `items()`       | 返回字典所有键值对的视图（可遍历，每对为元组）                              | `d.items() → [('a', 1), ('b', 2)]`                                  |\n",
    "| `get(key, default)` | 安全获取键的值，若键不存在返回默认值（不报错）                            | `d.get('a') → 1`, `d.get('c', 0) → 0`                               |\n",
    "| `update(dict)`  | 将另一个字典的键值对合并到当前字典（覆盖重复键）                            | `d.update({'b':20, 'c':3})` → `d = {'a':1, 'b':20, 'c':3}`          |\n",
    "| `pop(key)`      | 删除指定键并返回其值，键不存在需提供默认值否则报错                           | `d.pop('a') → 1`, `d.pop('c', 0) → 0`                               |\n",
    "| `popitem()`     | 删除并返回最后插入的键值对（Python 3.7+ 有序）                             | `d.popitem() → ('b', 2)` （删除最后一个键值对）                       |\n",
    "| `clear()`       | 清空字典所有键值对                                                        | `d.clear()` → `{}`                                                 |\n",
    "| `copy()`        | 返回字典的浅拷贝                                                         | `d2 = d.copy()` → 独立副本                                           |\n",
    "| `fromkeys(seq, value)` | 类方法：用序列中的元素作为键创建新字典，并可选统一默认值（静态方法）        | `dict.fromkeys(['a', 'b'], 0)` → `{'a':0, 'b':0}`                   |\n",
    "| `setdefault(key, default)` | 若键存在返回其值，不存在则插入键并设置默认值，返回默认值                     | `d.setdefault('c', 3)` → `3`（插入后 `d = {'a':1, 'b':2, 'c':3}`）  |"
   ]
  },
  {
   "cell_type": "code",
   "execution_count": null,
   "id": "78aa5d05",
   "metadata": {},
   "outputs": [],
   "source": [
    "phoneext = {'david':1410,'brad':1137}\n",
    "print(phoneext.values())\n",
    "print(list(phoneext.items()))"
   ]
  },
  {
   "cell_type": "markdown",
   "id": "17a2b6d5",
   "metadata": {},
   "source": [
    "### <a id='toc9_1_3_'></a>[迭代](#toc0_)\n",
    "* 可迭代（Iterable）：表示对象可以被遍历的抽象概念（一种协议或能力）。在Python中，判断一个对象是否可迭代，标准是它能否通过 ```iter(obj)``` 生成一个迭代器\n",
    "*  可迭代对象（Iterable Object） :可迭代对象是具体实现了可迭代协议的对象，但实现方式有两种：\n",
    "    * 方式一：实现 ```__iter__()```方法，返回一个迭代器（如列表、字典等）。\n",
    "    * 方式二：若未实现 ```__iter__()```，但实现了 ```__getitem__(index)``` 方法并通过下标访问元素（如经典的序列类型字符串、元组等），Python会尝试按索引迭代\n",
    "    * 不要求自身有 ```__next__()```（迭代器）\n",
    "    \n",
    "    可迭代对象如：列表、元组、字符串。其中字典的迭代默认遍历键（for key in dict）；文件对象也是可迭代对象（逐行遍历）\n",
    "\n",
    "\n",
    "* 迭代器（Iterator）：是真正执行遍历操作的工具，维护遍历状态，必须实现```__next__()```和```__iter__()```。是“一次性”的，遍历结束后无法重置（需重新生成迭代器）。\n",
    "* 可迭代对象自身无须被直接遍历，而是依赖迭代器完成遍历\n"
   ]
  },
  {
   "cell_type": "code",
   "execution_count": null,
   "id": "ea1fbfa5",
   "metadata": {},
   "outputs": [],
   "source": [
    "from collections.abc import Iterable, Iterator\n",
    "\n",
    "# 可迭代对象 vs 迭代器\n",
    "my_list = [1, 2, 3]\n",
    "print(isinstance(my_list, Iterable))  # True（是可迭代对象）\n",
    "print(isinstance(my_list, Iterator))  # False（不是迭代器）\n",
    "\n",
    "my_iterator = iter(my_list)\n",
    "print(isinstance(my_iterator, Iterator))  # True（是迭代器）"
   ]
  },
  {
   "cell_type": "code",
   "execution_count": null,
   "id": "34b1ea3b",
   "metadata": {},
   "outputs": [],
   "source": [
    "#迭代器的样子\n",
    "# 创建一个可迭代对象（列表）\n",
    "my_list = [10, 20, 30]\n",
    "\n",
    "# 生成迭代器\n",
    "my_iterator = iter(my_list)\n",
    "\n",
    "# 查看迭代器的类型\n",
    "print(type(my_iterator))  # 输出 <class 'list_iterator'>\n",
    "\n",
    "# 手动遍历迭代器\n",
    "print(next(my_iterator))  # 输出 10\n",
    "print(next(my_iterator))  # 输出 20\n",
    "print(next(my_iterator))  # 输出 30\n",
    "#print(next(my_iterator))  # 抛出 StopIteration 异常"
   ]
  },
  {
   "cell_type": "code",
   "execution_count": null,
   "id": "8ede428f",
   "metadata": {},
   "outputs": [],
   "source": [
    "#自定义迭代器\n",
    "class EvenNumbers:\n",
    "    def __init__(self, max_num):\n",
    "        self.max = max_num\n",
    "        self.current = 0\n",
    "\n",
    "    def __iter__(self):\n",
    "        # 返回迭代器自身（因为自身已实现 __next__）\n",
    "        return self\n",
    "\n",
    "    def __next__(self):\n",
    "        # 生成下一个偶数\n",
    "        if self.current > self.max:\n",
    "            raise StopIteration\n",
    "        value = self.current\n",
    "        self.current += 2\n",
    "        return value\n",
    "\n",
    "# 使用自定义迭代器\n",
    "even_iter = EvenNumbers(6)\n",
    "print(next(even_iter))  # 输出 0\n",
    "print(next(even_iter))  # 输出 2\n",
    "print(next(even_iter))  # 输出 4\n",
    "print(next(even_iter))  # 输出 6\n",
    "#print(next(even_iter))  # 抛出 StopIteration"
   ]
  },
  {
   "cell_type": "code",
   "execution_count": null,
   "id": "20064ce3",
   "metadata": {},
   "outputs": [],
   "source": [
    "my_iter = iter([1, 2, 3])\n",
    "list(my_iter)  # [1, 2, 3]\n",
    "list(my_iter)  # []（已耗尽）"
   ]
  },
  {
   "cell_type": "markdown",
   "id": "88624cf2",
   "metadata": {},
   "source": [
    "### <a id='toc9_1_4_'></a>[哈希化](#toc0_)\n",
    "\n",
    "在 Python 中，哈希化（Hashing） 是将任意大小的数据（如字符串、数字、对象等）转换为固定长度的唯一标识（哈希值）的过程。这个标识通常是一个整数，由哈希函数计算生成。\n",
    "\n",
    "* 哈希函数是执行哈希化的工具，例如 Python 内置的 hash() 函数。它接受一个输入（必须是可哈希对象），返回一个整数（哈希值）"
   ]
  },
  {
   "cell_type": "code",
   "execution_count": 11,
   "id": "ab9f8ec0",
   "metadata": {},
   "outputs": [
    {
     "name": "stdout",
     "output_type": "stream",
     "text": [
      "2356649710515478927\n"
     ]
    }
   ],
   "source": [
    "print(hash(\"hello\"))  # 输出类似 -6488723163717124685（结果因环境而异）"
   ]
  },
  {
   "cell_type": "markdown",
   "id": "7b1cc60c",
   "metadata": {},
   "source": [
    "* 可哈希对象（Hashable）：在 Python 中，只有不可变对象（如整数、字符串、元组）是可哈希的，而可变对象（如列表、字典、集合）不可哈希。"
   ]
  },
  {
   "cell_type": "code",
   "execution_count": 15,
   "id": "4f5edba4",
   "metadata": {},
   "outputs": [
    {
     "ename": "TypeError",
     "evalue": "unhashable type: 'list'",
     "output_type": "error",
     "traceback": [
      "\u001b[1;31m---------------------------------------------------------------------------\u001b[0m",
      "\u001b[1;31mTypeError\u001b[0m                                 Traceback (most recent call last)",
      "Cell \u001b[1;32mIn[15], line 4\u001b[0m\n\u001b[0;32m      2\u001b[0m \u001b[38;5;28mhash\u001b[39m(\u001b[38;5;124m\"\u001b[39m\u001b[38;5;124mpython\u001b[39m\u001b[38;5;124m\"\u001b[39m)      \u001b[38;5;66;03m# 合法\u001b[39;00m\n\u001b[0;32m      3\u001b[0m \u001b[38;5;28mhash\u001b[39m((\u001b[38;5;241m1\u001b[39m, \u001b[38;5;241m2\u001b[39m, \u001b[38;5;241m3\u001b[39m))     \u001b[38;5;66;03m# 合法\u001b[39;00m\n\u001b[1;32m----> 4\u001b[0m \u001b[38;5;28mhash\u001b[39m([\u001b[38;5;241m1\u001b[39m, \u001b[38;5;241m2\u001b[39m, \u001b[38;5;241m3\u001b[39m])\n",
      "\u001b[1;31mTypeError\u001b[0m: unhashable type: 'list'"
     ]
    }
   ],
   "source": [
    "hash(42)            # 合法\n",
    "hash(\"python\")      # 合法\n",
    "hash((1, 2, 3))     # 合法\n",
    "hash([1, 2, 3])     # 报错！列表不可哈希"
   ]
  },
  {
   "cell_type": "markdown",
   "id": "58ebcb26",
   "metadata": {},
   "source": [
    "* 哈希表（Hash Table）：Python 的字典（dict）和集合（set）底层使用哈希表实现。哈希值用于快速定位键值对，使得查找、插入、删除操作的平均时间复杂度为 O(1)\n",
    "* 请注意不直接查找键，因为索引要求是整数，差不多直接遍历了\n",
    "* 在哈希函数处理后，还需要映射到内存位置：哈希值经过进一步处理（例如取模运算），直接对应到哈希表（数组）中的某个索引位置"
   ]
  },
  {
   "cell_type": "markdown",
   "id": "397f3b34",
   "metadata": {},
   "source": [
    "哈希冲突的解决\n",
    "\n",
    "当不同键计算出相同的哈希值时（哈希冲突），哈希表通过以下方法解决：\n",
    "\n",
    "* 开放寻址法：如果目标槽位被占用，按规则（如线性探测）寻找下一个空槽位\n",
    "* 链地址法：每个槽位存储一个链表，冲突的键值对追加到链表中（Python 字典采用此方法）"
   ]
  },
  {
   "cell_type": "markdown",
   "id": "5811da40",
   "metadata": {},
   "source": [
    "哈希化的特点\n",
    "\n",
    "* 唯一性：理想情况下，不同输入的哈希值不同（但实际可能存在冲突）。\n",
    "* 不可逆性：无法从哈希值反推原始数据。\n",
    "* 固定长度：无论输入多大，哈希值的长度固定（例如 Python 的 hash() 返回整数）。"
   ]
  },
  {
   "cell_type": "markdown",
   "id": "a9aaa921",
   "metadata": {},
   "source": [
    "哈希函数的意义：将任意类型的键转换为整数索引，实现从“逐个比较键”到“直接定位内存”的飞跃，将时间复杂度从 O(n) 降低到 O(1)。\n",
    "\n",
    "直接查键的局限性：无法高效处理大数据量、键类型复杂、内存浪费等问题。\n",
    "\n",
    "$\\implies$ 哈希化的本质：通过数学映射（哈希函数）和内存结构优化（哈希表），在速度、内存和灵活性之间取得平衡。\n"
   ]
  },
  {
   "cell_type": "markdown",
   "id": "b1d4081b",
   "metadata": {},
   "source": [
    "* 哈希化的应用 "
   ]
  },
  {
   "cell_type": "code",
   "execution_count": 16,
   "id": "9bdcdcc5",
   "metadata": {},
   "outputs": [],
   "source": [
    "#字典通过哈希值直接定位键值对，避免遍历所有元素\n",
    "data = {\"name\": \"Alice\", \"age\": 30}  # 键(\"name\", \"age\")被哈希化存储"
   ]
  },
  {
   "cell_type": "code",
   "execution_count": 17,
   "id": "7aad69b0",
   "metadata": {},
   "outputs": [
    {
     "name": "stdout",
     "output_type": "stream",
     "text": [
      "2cf24dba5fb0a30e26e83b2ac5b9e29e1b161e5c1fa7425e73043362938b9824\n"
     ]
    }
   ],
   "source": [
    "#数据唯一性校验\n",
    "#检查文件或数据是否被篡改（常用加密哈希函数如 SHA-256，通过 hashlib 模块实现）\n",
    "import hashlib\n",
    "sha = hashlib.sha256(b\"hello\").hexdigest()\n",
    "print(sha)  # 输出固定长度的加密哈希值"
   ]
  },
  {
   "cell_type": "code",
   "execution_count": 18,
   "id": "ea4d4ca7",
   "metadata": {},
   "outputs": [],
   "source": [
    "#去重\n",
    "#集合（set）使用哈希值确保元素唯一性。\n",
    "unique = {1, 2, 2, 3}  # 存储为 {1, 2, 3}"
   ]
  },
  {
   "cell_type": "markdown",
   "id": "be404a89",
   "metadata": {},
   "source": [
    "## <a id='toc9_2_'></a>[输入输出](#toc0_)\n",
    "\n",
    "### 9.2.1 输入\n",
    "* ```input```函数返回的值是字符串，如果需要将这个字符串转为其他类型，需要明确提供类型转换"
   ]
  },
  {
   "cell_type": "code",
   "execution_count": 1,
   "id": "aad976fc",
   "metadata": {},
   "outputs": [],
   "source": [
    "sradius = input(\"please enter the radius of the circle.\")\n",
    "radius = float(sradius)\n",
    "diameter = 2* radius"
   ]
  },
  {
   "cell_type": "markdown",
   "id": "87f3774e",
   "metadata": {},
   "source": [
    "### 9.2.2 格式化字符串————输出\n",
    "\n",
    "\n",
    "#### 9.2.2.1 使用```sep```进行分隔"
   ]
  },
  {
   "cell_type": "code",
   "execution_count": 4,
   "id": "b1a874ee",
   "metadata": {},
   "outputs": [
    {
     "name": "stdout",
     "output_type": "stream",
     "text": [
      "hello *** world\n",
      "hello   world***"
     ]
    }
   ],
   "source": [
    "print(\"hello \",\" world\",sep = \"***\")\n",
    "print(\"hello \",\" world\",end = \"***\")"
   ]
  },
  {
   "cell_type": "markdown",
   "id": "d695dc69",
   "metadata": {},
   "source": [
    "#### 9.2.2.2 格式化字符串\n",
    "\n",
    "* 格式化字符串是一个模板，其中包含保持不变的单词或空格，以及之后插入的变量的占位符\n",
    "* ```%```是字符串运算符，被称作格式化运算符\n",
    "* 表达式左边的是模板（也叫格式化字符串）\n",
    "* 表达式右边的则是一系列用于格式化字符串的值\n",
    "* 表达式右边的个数需要与格式化字符串中```%```的个数一致。这些值将依次从左到右地被换入格式化字符串\n",
    "* 格式化字符串可以包含一个或者多个转换声明"
   ]
  },
  {
   "cell_type": "markdown",
   "id": "c2fca791",
   "metadata": {},
   "source": [
    "以下是Python中常用的格式化字符串类型声明及其示例：\n",
    "\n",
    "| 字符 | 输出格式                | 使用示例                          | 示例结果                   |\n",
    "|------|-------------------------|-----------------------------------|---------------------------|\n",
    "| `%s` | 字符串                  | `'%s' % 'hello'`                 | `'hello'`                 |\n",
    "| `%r` | `repr()`字符串          | `'%r' % 'hello'`                 | `\"'hello'\"`               |\n",
    "| `%c` | 单个字符（ASCII值转换） | `'%c' % 65`                      | `'A'`                     |\n",
    "| `%d` | 十进制整数              | `'%d' % 42`                      | `'42'`                    |\n",
    "| `%i` | 十进制整数（同`%d`）    | `'%i' % 42`                      | `'42'`                    |\n",
    "| `%o` | 八进制数                | `'%o' % 8`                       | `'10'`                    |\n",
    "| `%x` | 十六进制（小写）        | `'%x' % 255`                     | `'ff'`                    |\n",
    "| `%X` | 十六进制（大写）        | `'%X' % 255`                     | `'FF'`                    |\n",
    "| `%e` | 科学计数法（小写`e`）   | `'%e' % 1000`                    | `'1.000000e+03'`          |\n",
    "| `%E` | 科学计数法（大写`E`）   | `'%E' % 1000`                    | `'1.000000E+03'`          |\n",
    "| `%f` | 浮点数十进制            | `'%.2f' % 3.1415926`             | `'3.14'`                  |\n",
    "| `%F` | 浮点数十进制（同`%f`）  | `'%F' % 3.14`                    | `'3.140000'`              |\n",
    "| `%g` | 自动选择`%f`或`%e`      | `'%g' % 0.00001234`              | `'1.234e-05'`             |\n",
    "| `%G` | 自动选择`%F`或`%E`      | `'%G' % 0.00001234`              | `'1.234E-05'`             |\n",
    "| `%%` | 输出`%`字符本身         | `'%d%%' % 100`                   | `'100%'`                  |\n",
    "\n",
    "说明：\n",
    "1. **浮点数精度控制**：可通过`%.nf`指定小数位数（如`%.3f`保留3位小数）。\n",
    "2. **科学计数法对齐**：`%e`和`%E`默认保留6位小数。\n",
    "3. **自动模式**：`%g`/`%G`会在数值较大或较小时自动切换科学计数法（阈值一般为1e-4或1e+6）。"
   ]
  },
  {
   "cell_type": "markdown",
   "id": "95c69992",
   "metadata": {},
   "source": [
    "以下是Python中常用的字符串格式化修改符及其示例：\n",
    "\n",
    "| 字符 | 作用                          | 使用示例                   | 示例结果           |\n",
    "|------|-------------------------------|----------------------------|--------------------|\n",
    "| `-`  | **左对齐**（默认右对齐）       | `\"%-10s\" % \"test\"`         | `'test      '`     |\n",
    "| `+`  | **显示数值符号**（正数也显示`+`） | `\"%+d\" % 5`                | `'+5'`             |\n",
    "| `0`  | **用零填充**（默认右对齐）     | `\"%05d\" % 3`               | `'00003'`          |\n",
    "| `　`  | **正数前保留空格**（负数仍带`-`） | `\"% d\" % 5`               | `' 5'`             |\n",
    "| `#`  | **显示类型前缀**（如`0x`、`0o`） | `\"%#x\" % 255`             | `'0xff'`           |\n",
    "| `>`  | 强制右对齐（默认行为，可省略）  | `\"%>5d\" % 3`               | `'    3'`          |\n",
    "| `<`  | 强制左对齐（同`-`）            | `\"%<5d\" % 3`               | `'3    '`          |\n",
    "| `,`  | **千位分隔符**（仅`format`方法） | `\"{:,}\".format(1000)`      | `'1,000'`          |\n",
    "| `.n` | **精度控制**（配合`f`/`e`等）  | `\"%.2f\" % 3.1415`          | `'3.14'`           |\n",
    "\n",
    "说明：\n",
    "1. **组合使用**：修改符可组合（如 `\"%+-10d\" % 5` → `'+5       '`），但需注意优先级（如同时用`-`和`0`时，`-`会覆盖`0`）。\n",
    "2. **适用类型**：\n",
    "   - `#`：对八进制（`%#o`→`0o12`）、十六进制（`%#x`→`0xff`）有效。\n",
    "   - `,`：仅适用于新式格式化（`format()`方法），如 `\"{:,d}\".format(1000)`。\n",
    "   - `.n`：需配合浮点（`f`）、科学计数法（`e`）等类型使用。\n",
    "3. **数值对齐**：`0`填充对字符串无效（如 `\"%05s\" % \"a\"` → `'    a'`）。"
   ]
  },
  {
   "cell_type": "markdown",
   "id": "e1bb3820",
   "metadata": {},
   "source": [
    "以下是新式格式化内容。新式格式化主要指的是```str.format()```方法和Python 3.6引入的```f-strings```。这些方法比旧式的更灵活、功能更强大。比如，支持位置参数、关键字参数、对象属性访问、字典键访问等。\n",
    "* ```format()```方法在需要动态构建格式字符串时更有用,支持更复杂的格式规范，如对齐、填充、数值格式化等\n",
    "* ```f-strings```在需要直接插入变量时更简洁，但需要在3.6版本及以后中使用"
   ]
  },
  {
   "cell_type": "code",
   "execution_count": 5,
   "id": "847819a3",
   "metadata": {},
   "outputs": [
    {
     "name": "stdout",
     "output_type": "stream",
     "text": [
      "Name: Alice, Age: 30\n"
     ]
    }
   ],
   "source": [
    "#str.format() 方法\n",
    "#占位符：用 {} 表示，可包含位置索引或关键字参数\n",
    "name = \"Alice\"\n",
    "age = 30\n",
    "print(\"Name: {}, Age: {}\".format(name, age))  # → `Name: Alice, Age: 30`"
   ]
  },
  {
   "cell_type": "code",
   "execution_count": 7,
   "id": "f9af684b",
   "metadata": {},
   "outputs": [
    {
     "name": "stdout",
     "output_type": "stream",
     "text": [
      "B before A\n"
     ]
    }
   ],
   "source": [
    "#位置索引\n",
    "print(\"{1} before {0}\".format(\"A\", \"B\"))  # → `B before A`"
   ]
  },
  {
   "cell_type": "code",
   "execution_count": 8,
   "id": "f91d5499",
   "metadata": {},
   "outputs": [
    {
     "name": "stdout",
     "output_type": "stream",
     "text": [
      "Tom is 25 years old\n"
     ]
    }
   ],
   "source": [
    "#关键词参数\n",
    "print(\"{name} is {age} years old\".format(name=\"Tom\", age=25))  # → `Tom is 25`"
   ]
  },
  {
   "cell_type": "code",
   "execution_count": 9,
   "id": "bd12b713",
   "metadata": {},
   "outputs": [
    {
     "name": "stdout",
     "output_type": "stream",
     "text": [
      "User: Eve\n",
      "Value: value\n"
     ]
    }
   ],
   "source": [
    "#对象属性/字典键\n",
    "class User:\n",
    "    def __init__(self, name):\n",
    "        self.name = name\n",
    "user = User(\"Eve\")\n",
    "print(\"User: {0.name}\".format(user))  # → `User: Eve`\n",
    "\n",
    "data = {\"key\": \"value\"}\n",
    "print(\"Value: {data[key]}\".format(data=data))  # → `Value: value`"
   ]
  },
  {
   "cell_type": "code",
   "execution_count": 6,
   "id": "1500134b",
   "metadata": {},
   "outputs": [
    {
     "name": "stdout",
     "output_type": "stream",
     "text": [
      "Hello, Bob!\n"
     ]
    }
   ],
   "source": [
    "#f-strings（Python 3.6+）\n",
    "#直接嵌入变量：在字符串前加 f 或 F，用 {变量名} 插入值\n",
    "name = \"Bob\"\n",
    "print(f\"Hello, {name}!\")  # → `Hello, Bob!`"
   ]
  },
  {
   "cell_type": "code",
   "execution_count": null,
   "id": "4209e949",
   "metadata": {},
   "outputs": [
    {
     "name": "stdout",
     "output_type": "stream",
     "text": [
      "3 * 4 = 12\n",
      "Uppercase: HELLO\n"
     ]
    }
   ],
   "source": [
    "# 动态表达（仅f-strings）\n",
    "x, y = 3, 4\n",
    "print(f\"{x} * {y} = {x * y}\")          # → `3 * 4 = 12`\n",
    "print(f\"Uppercase: {'hello'.upper()}\") # → `Uppercase: HELLO`"
   ]
  },
  {
   "cell_type": "code",
   "execution_count": 11,
   "id": "571c98a9",
   "metadata": {},
   "outputs": [
    {
     "name": "stdout",
     "output_type": "stream",
     "text": [
      "Uppercase: HELLO\n",
      "Length: 5\n",
      "Time: 2025-04-28 10:55:06.957517\n"
     ]
    }
   ],
   "source": [
    "# 调用函数或者方法\n",
    "text = \"hello\"\n",
    "print(f\"Uppercase: {text.upper()}\")           # → Uppercase: HELLO\n",
    "print(f\"Length: {len(text)}\")                 # → Length: 5\n",
    "print(f\"Time: {__import__('datetime').datetime.now()}\")  # → Time: 2023-10-01 12:34:56"
   ]
  },
  {
   "cell_type": "markdown",
   "id": "071fdb57",
   "metadata": {},
   "source": [
    "## <a id='toc9_3_'></a>[控制结构](#toc0_)"
   ]
  },
  {
   "cell_type": "markdown",
   "id": "2d6bc322",
   "metadata": {},
   "source": [
    "## <a id='toc9_4_'></a>[异常处理](#toc0_)"
   ]
  },
  {
   "cell_type": "markdown",
   "id": "9bc98c62",
   "metadata": {},
   "source": [
    "## <a id='toc9_5_'></a>[9.5 函数](#toc0_)\n",
    "\n",
    "\n",
    "* 函数（Function）在Python中通常指的是独立的代码块，通过def关键字定义，可以接受参数并返回值。比如，内置的len()函数或者用户自定义的函数。它们不依赖于任何对象，可以直接调用。\n",
    "\n",
    "* 方法（Method）则是与对象相关联的函数，通常是类的一部分。例如，字符串对象的upper()方法，列表的append()方法。方法必须通过对象来调用，第一个参数通常是self，指向实例本身。"
   ]
  },
  {
   "cell_type": "markdown",
   "id": "70304b98",
   "metadata": {},
   "source": [
    "* python函数定义需要一个函数名，一系列参数以及一个函数体\n",
    "* 函数可以显式地返回一个值\n",
    "* 常见的函数如下"
   ]
  },
  {
   "cell_type": "code",
   "execution_count": 3,
   "id": "50b994b7",
   "metadata": {},
   "outputs": [],
   "source": [
    "def calculate(a, b):\n",
    "    return a + b, a * b  # 返回 (a+b, a*b)；（以元组形式）"
   ]
  },
  {
   "cell_type": "code",
   "execution_count": 4,
   "id": "05896fae",
   "metadata": {},
   "outputs": [
    {
     "name": "stdout",
     "output_type": "stream",
     "text": [
      "25\n"
     ]
    }
   ],
   "source": [
    "#Lambda函数\n",
    "#匿名函数，适合简单逻辑，语法：lambda 参数: 表达式\n",
    "square = lambda x: x ** 2\n",
    "print(square(5))  # 输出 25"
   ]
  },
  {
   "cell_type": "markdown",
   "id": "cabd6d6f",
   "metadata": {},
   "source": [
    "匿名函数特点：\n",
    "* 无函数名：直接通过 lambda 关键字定义，无需使用 ```def```\n",
    "* 单行表达式：函数体只能包含一个表达式（不能写多行代码块）\n",
    "* 自动返回结果：表达式的计算结果即为返回值（无需 return）\n",
    "* 临时使用：常用于作为参数传递给其他函数（如 ```map()```、```filter()```、```sorted()```）\n",
    "* 作用域限制：lambda 函数内可访问外部变量，但无法直接修改（需借助 ```nonlocal``` 或 ```global```）。"
   ]
  },
  {
   "cell_type": "code",
   "execution_count": 5,
   "id": "54fdbb87",
   "metadata": {},
   "outputs": [],
   "source": [
    "# 对列表排序，按字符串长度排序\n",
    "words = [\"apple\", \"banana\", \"cherry\"]\n",
    "words.sort(key=lambda x: len(x))  # 输出：['apple', 'cherry', 'banana']"
   ]
  },
  {
   "cell_type": "code",
   "execution_count": 6,
   "id": "160354a5",
   "metadata": {},
   "outputs": [
    {
     "name": "stdout",
     "output_type": "stream",
     "text": [
      "20\n"
     ]
    }
   ],
   "source": [
    "# 普通函数写法\n",
    "def multiply(a, b):\n",
    "    return a * b\n",
    "\n",
    "# lambda等效写法\n",
    "multiply = lambda a, b: a * b\n",
    "\n",
    "# 直接调用\n",
    "print(multiply(4, 5))  # 输出：20"
   ]
  },
  {
   "cell_type": "markdown",
   "id": "ccffb9a5",
   "metadata": {},
   "source": [
    "补充：**语法糖（Syntactic Sugar）**\n",
    "\n",
    "是一种语法设计上的“甜头”，它让代码更简洁、易读，但不会引入新功能或改变底层逻辑"
   ]
  },
  {
   "cell_type": "markdown",
   "id": "1828868f",
   "metadata": {},
   "source": [
    "1. 列表推导式"
   ]
  },
  {
   "cell_type": "code",
   "execution_count": 7,
   "id": "9288e89d",
   "metadata": {},
   "outputs": [],
   "source": [
    "#列表推导式\n",
    "squares = [x**2 for x in range(10)]  # 代替显式循环和 append"
   ]
  },
  {
   "cell_type": "code",
   "execution_count": 8,
   "id": "238c995b",
   "metadata": {},
   "outputs": [],
   "source": [
    "#等效于\n",
    "squares = []\n",
    "for x in range(10):\n",
    "    squares.append(x**2)"
   ]
  },
  {
   "cell_type": "markdown",
   "id": "fa4d0bec",
   "metadata": {},
   "source": [
    "2. 装饰器\n",
    "\n",
    "* 装饰器允许你在不修改原函数或类代码的前提下，动态地增强其功能。\n",
    "* 装饰器的本质是“包装”，通过接受一个函数或类作为参数，并返回一个新的函数或类，为其添加额外的逻辑（如日志记录、权限校验、性能监控等）\n",
    "* 核心概念:\n",
    "    * 作用对象：装饰器可以作用于函数或类\n",
    "    * 设计原则：遵循“开放-封闭”原则（对扩展开放，对修改封闭）\n",
    "    * 底层原理：基于函数是一等对象（可作为参数传递、返回值）和闭包的特性实现"
   ]
  },
  {
   "cell_type": "markdown",
   "id": "c4a430a6",
   "metadata": {},
   "source": [
    "装饰器效果:\n",
    "* 装饰器通过 @decorator 的语法糖形式应用，且仅作用于下方紧邻的函数或类\n",
    "* 装饰器会将被装饰的函数替换为装饰器返回的新函数。这种替换是永久生效的，直到程序结束或函数被重新定义\n",
    "* 装饰器仅修改被装饰的目标函数，其他未装饰的函数不受影响\n",
    "* 同一装饰器可以装饰多个不同函数，每个函数独立生效\n",
    "* 如果有多个装饰器,则按从下到上的顺序生效，每个装饰器独立作用于被装饰的函数"
   ]
  },
  {
   "cell_type": "code",
   "execution_count": null,
   "id": "83296b48",
   "metadata": {},
   "outputs": [
    {
     "name": "stdout",
     "output_type": "stream",
     "text": [
      "函数执行前\n",
      "Hello!\n",
      "函数执行后\n"
     ]
    }
   ],
   "source": [
    "def my_decorator(func):  # 定义一个装饰器，接受一个函数作为参数\n",
    "    def wrapper():\n",
    "        print(\"函数执行前\")  # 添加额外逻辑\n",
    "        func()            # 调用原函数\n",
    "        print(\"函数执行后\")\n",
    "    return wrapper        # 返回包装后的函数\n",
    "\n",
    "@my_decorator  # 语法糖：等价于 say_hello = my_decorator(say_hello)\n",
    "def say_hello():\n",
    "    print(\"Hello!\")\n",
    "\n",
    "say_hello()\n"
   ]
  },
  {
   "cell_type": "code",
   "execution_count": 22,
   "id": "8cf6d6d0",
   "metadata": {},
   "outputs": [
    {
     "name": "stdout",
     "output_type": "stream",
     "text": [
      "Case 1 结果: 30\n",
      "Case 2 结果: 20\n"
     ]
    }
   ],
   "source": [
    "from functools import wraps\n",
    "\n",
    "# 装饰器 1：将结果乘以 2\n",
    "def double_result(func):\n",
    "    @wraps(func)\n",
    "    def wrapper(*args, **kwargs):\n",
    "        result = func(*args, **kwargs)\n",
    "        return result * 2\n",
    "    return wrapper\n",
    "\n",
    "# 装饰器 2：将结果加 10\n",
    "def add_ten(func):\n",
    "    @wraps(func)\n",
    "    def wrapper(*args, **kwargs):\n",
    "        result = func(*args, **kwargs)\n",
    "        return result + 10\n",
    "    return wrapper\n",
    "\n",
    "# 不同的装饰器顺序会导致不同结果\n",
    "@double_result\n",
    "@add_ten\n",
    "def calculate_case1(x):\n",
    "    return x\n",
    "\n",
    "@add_ten\n",
    "@double_result\n",
    "def calculate_case2(x):\n",
    "    return x\n",
    "\n",
    "print(\"Case 1 结果:\", calculate_case1(5))  # 输出：(5 +10) *2 = 30\n",
    "print(\"Case 2 结果:\", calculate_case2(5))  # 输出：(5 *2) +10 = 20"
   ]
  },
  {
   "cell_type": "code",
   "execution_count": 11,
   "id": "97f22d90",
   "metadata": {},
   "outputs": [],
   "source": [
    "a, b = 1, 2  # 直接解包赋值\n",
    "a, b = b, a  # 交换变量（无需临时变量）"
   ]
  },
  {
   "cell_type": "code",
   "execution_count": 12,
   "id": "987f1e0a",
   "metadata": {},
   "outputs": [
    {
     "ename": "FileNotFoundError",
     "evalue": "[Errno 2] No such file or directory: 'file.txt'",
     "output_type": "error",
     "traceback": [
      "\u001b[1;31m---------------------------------------------------------------------------\u001b[0m",
      "\u001b[1;31mFileNotFoundError\u001b[0m                         Traceback (most recent call last)",
      "Cell \u001b[1;32mIn[12], line 3\u001b[0m\n\u001b[0;32m      1\u001b[0m \u001b[38;5;66;03m#上下文管理器（with 语句）\u001b[39;00m\n\u001b[0;32m      2\u001b[0m \u001b[38;5;66;03m#等效于 try-finally 结构，但代码更简洁\u001b[39;00m\n\u001b[1;32m----> 3\u001b[0m \u001b[38;5;28;01mwith\u001b[39;00m \u001b[38;5;28mopen\u001b[39m(\u001b[38;5;124m\"\u001b[39m\u001b[38;5;124mfile.txt\u001b[39m\u001b[38;5;124m\"\u001b[39m, \u001b[38;5;124m\"\u001b[39m\u001b[38;5;124mr\u001b[39m\u001b[38;5;124m\"\u001b[39m) \u001b[38;5;28;01mas\u001b[39;00m f:\n\u001b[0;32m      4\u001b[0m     content \u001b[38;5;241m=\u001b[39m f\u001b[38;5;241m.\u001b[39mread()\n",
      "File \u001b[1;32mc:\\Users\\Morll\\anaconda3\\Lib\\site-packages\\IPython\\core\\interactiveshell.py:324\u001b[0m, in \u001b[0;36m_modified_open\u001b[1;34m(file, *args, **kwargs)\u001b[0m\n\u001b[0;32m    317\u001b[0m \u001b[38;5;28;01mif\u001b[39;00m file \u001b[38;5;129;01min\u001b[39;00m {\u001b[38;5;241m0\u001b[39m, \u001b[38;5;241m1\u001b[39m, \u001b[38;5;241m2\u001b[39m}:\n\u001b[0;32m    318\u001b[0m     \u001b[38;5;28;01mraise\u001b[39;00m \u001b[38;5;167;01mValueError\u001b[39;00m(\n\u001b[0;32m    319\u001b[0m         \u001b[38;5;124mf\u001b[39m\u001b[38;5;124m\"\u001b[39m\u001b[38;5;124mIPython won\u001b[39m\u001b[38;5;124m'\u001b[39m\u001b[38;5;124mt let you open fd=\u001b[39m\u001b[38;5;132;01m{\u001b[39;00mfile\u001b[38;5;132;01m}\u001b[39;00m\u001b[38;5;124m by default \u001b[39m\u001b[38;5;124m\"\u001b[39m\n\u001b[0;32m    320\u001b[0m         \u001b[38;5;124m\"\u001b[39m\u001b[38;5;124mas it is likely to crash IPython. If you know what you are doing, \u001b[39m\u001b[38;5;124m\"\u001b[39m\n\u001b[0;32m    321\u001b[0m         \u001b[38;5;124m\"\u001b[39m\u001b[38;5;124myou can use builtins\u001b[39m\u001b[38;5;124m'\u001b[39m\u001b[38;5;124m open.\u001b[39m\u001b[38;5;124m\"\u001b[39m\n\u001b[0;32m    322\u001b[0m     )\n\u001b[1;32m--> 324\u001b[0m \u001b[38;5;28;01mreturn\u001b[39;00m io_open(file, \u001b[38;5;241m*\u001b[39margs, \u001b[38;5;241m*\u001b[39m\u001b[38;5;241m*\u001b[39mkwargs)\n",
      "\u001b[1;31mFileNotFoundError\u001b[0m: [Errno 2] No such file or directory: 'file.txt'"
     ]
    }
   ],
   "source": [
    "#上下文管理器（with 语句）\n",
    "#等效于 try-finally 结构，但代码更简洁\n",
    "with open(\"file.txt\", \"r\") as f:\n",
    "    content = f.read()  # 自动处理文件关闭"
   ]
  },
  {
   "cell_type": "code",
   "execution_count": null,
   "id": "95bfcc54",
   "metadata": {},
   "outputs": [],
   "source": [
    "#\n",
    "file = open('file.txt','r')\n",
    "try:\n",
    "    content = file.read()\n",
    "finally:\n",
    "    file.close()\n"
   ]
  },
  {
   "cell_type": "code",
   "execution_count": null,
   "id": "8d6dbc20",
   "metadata": {},
   "outputs": [
    {
     "ename": "NameError",
     "evalue": "name 'calculate_something' is not defined",
     "output_type": "error",
     "traceback": [
      "\u001b[1;31m---------------------------------------------------------------------------\u001b[0m",
      "\u001b[1;31mNameError\u001b[0m                                 Traceback (most recent call last)",
      "Cell \u001b[1;32mIn[17], line 2\u001b[0m\n\u001b[0;32m      1\u001b[0m \u001b[38;5;66;03m#海象运算符\u001b[39;00m\n\u001b[1;32m----> 2\u001b[0m \u001b[38;5;28;01mif\u001b[39;00m (value \u001b[38;5;241m:=\u001b[39m calculate_something()) \u001b[38;5;241m>\u001b[39m \u001b[38;5;241m10\u001b[39m:\n\u001b[0;32m      3\u001b[0m     \u001b[38;5;28mprint\u001b[39m(value)\n",
      "\u001b[1;31mNameError\u001b[0m: name 'calculate_something' is not defined"
     ]
    }
   ],
   "source": [
    "#海象运算符:海象运算符的正式名称是赋值表达式，但外号叫海象因为:=看起来像海象的眼睛和牙齿\n",
    "#作用:在表达式内部给变量赋值，避免重复计算\n",
    "if (value := calculate_something()) > 10:\n",
    "    print(value)  # 直接使用已赋值的变量"
   ]
  },
  {
   "cell_type": "code",
   "execution_count": 18,
   "id": "0667ac4a",
   "metadata": {},
   "outputs": [
    {
     "ename": "NameError",
     "evalue": "name 'calculate_something' is not defined",
     "output_type": "error",
     "traceback": [
      "\u001b[1;31m---------------------------------------------------------------------------\u001b[0m",
      "\u001b[1;31mNameError\u001b[0m                                 Traceback (most recent call last)",
      "Cell \u001b[1;32mIn[18], line 1\u001b[0m\n\u001b[1;32m----> 1\u001b[0m value \u001b[38;5;241m=\u001b[39m calculate_something()  \u001b[38;5;66;03m# 先计算\u001b[39;00m\n\u001b[0;32m      2\u001b[0m \u001b[38;5;28;01mif\u001b[39;00m value \u001b[38;5;241m>\u001b[39m \u001b[38;5;241m10\u001b[39m:                 \u001b[38;5;66;03m# 再判断\u001b[39;00m\n\u001b[0;32m      3\u001b[0m     \u001b[38;5;28mprint\u001b[39m(value)\n",
      "\u001b[1;31mNameError\u001b[0m: name 'calculate_something' is not defined"
     ]
    }
   ],
   "source": [
    "value = calculate_something()  # 先计算\n",
    "if value > 10:                 # 再判断\n",
    "    print(value)"
   ]
  },
  {
   "cell_type": "code",
   "execution_count": 19,
   "id": "9dd7644a",
   "metadata": {},
   "outputs": [
    {
     "name": "stdout",
     "output_type": "stream",
     "text": [
      "[16, 25]\n"
     ]
    }
   ],
   "source": [
    "numbers = [1, 2, 3, 4, 5]\n",
    "squared = [y for x in numbers if (y := x**2) > 10]\n",
    "print(squared)  # 输出 [16, 25]"
   ]
  },
  {
   "cell_type": "markdown",
   "id": "8bf6959c",
   "metadata": {},
   "source": [
    "python函数是一等对象，即：\n",
    "* 在运行时创建\n",
    "* 能赋值给变量或者数据结构中的元素\n",
    "* 能作为参数传给函数\n",
    "* 能作为函数的返回结果\n",
    "\n",
    "在python中，整数，字符串，字典都是一等对象，所有的函数也是"
   ]
  },
  {
   "cell_type": "markdown",
   "id": "8f39006f",
   "metadata": {},
   "source": [
    "## <a id='toc9_6_'></a>[9.6 Python面向对象编程：定义类](#toc0_)\n",
    "\n",
    "优先"
   ]
  },
  {
   "cell_type": "code",
   "execution_count": null,
   "id": "9fe75875",
   "metadata": {
    "collapsed": true
   },
   "outputs": [],
   "source": [
    "class Fraction:\n",
    "    #方法定义\n",
    "    def __init__(self,top,bottom):#构造方法。self总是指向对象本身的特殊参数，必须是第一个形式参数，但调用时不需要提供对应的实际参数。\n",
    "        # 使用类名并传入状态的实际值就能完成调用\n",
    "        self.num = top\n",
    "        self.den = bottom"
   ]
  },
  {
   "cell_type": "code",
   "execution_count": null,
   "id": "982f3aae",
   "metadata": {},
   "outputs": [],
   "source": [
    "myf = Fraction(3,5)\n",
    "print (myf)#在这里打印的是存储在变量中的实际引用"
   ]
  },
  {
   "cell_type": "code",
   "execution_count": null,
   "id": "598f9934",
   "metadata": {
    "collapsed": true
   },
   "outputs": [],
   "source": [
    "class Fraction:\n",
    "    #方法定义\n",
    "    def __init__(self,top,bottom):#构造方法。self总是指向对象本身的特殊参数，必须是第一个形式参数，但调用时不需要提供对应的实际参数。\n",
    "        # 使用类名并传入状态的实际值就能完成调用\n",
    "        self.num = top\n",
    "        self.den = bottom\n",
    "    def show(self):#打印数据\n",
    "        print(self.num,'/',self.den)\n"
   ]
  },
  {
   "cell_type": "code",
   "execution_count": null,
   "id": "6acbdd6d",
   "metadata": {},
   "outputs": [],
   "source": [
    "myf = Fraction(3,5)\n",
    "myf.show()\n",
    "print(myf)\n",
    "myf.show()*6#注意：unsupported operand type(s) for *: 'NoneType' and 'int'"
   ]
  },
  {
   "cell_type": "code",
   "execution_count": null,
   "id": "b4999460",
   "metadata": {
    "collapsed": true
   },
   "outputs": [],
   "source": [
    "class Fraction:\n",
    "    #方法定义\n",
    "    def __init__(self,top,bottom):#构造方法。self总是指向对象本身的特殊参数，必须是第一个形式参数，但调用时不需要提供对应的实际参数。\n",
    "        # 使用类名并传入状态的实际值就能完成调用\n",
    "        self.num = top\n",
    "        self.den = bottom\n",
    "    def show(self):#打印数据\n",
    "        print(self.num,'/',self.den)\n",
    "    def __str__(self):#为了正确打印，告诉这个类如何将自己转换为字符串，这是print函数必须的。这重写了默认实现。\n",
    "        return str(self.num) + '/' + str(self.den)"
   ]
  },
  {
   "cell_type": "code",
   "execution_count": null,
   "id": "bea62b39",
   "metadata": {},
   "outputs": [],
   "source": [
    "myf = Fraction(3,5)\n",
    "myf.show()\n",
    "print(myf)\n",
    "print(type(myf))\n",
    "myf.__str__()"
   ]
  },
  {
   "cell_type": "code",
   "execution_count": null,
   "id": "ddffa3b5",
   "metadata": {},
   "outputs": [],
   "source": [
    "str(myf)"
   ]
  },
  {
   "cell_type": "code",
   "execution_count": null,
   "id": "ee1d96d3",
   "metadata": {},
   "outputs": [],
   "source": [
    "f1 = Fraction(1,4)\n",
    "f2 = Fraction(1,2)\n",
    "f1 + f2#unsupported operand type(s) for +: 'Fraction' and 'Fraction'"
   ]
  },
  {
   "cell_type": "code",
   "execution_count": null,
   "id": "bf78d4c9",
   "metadata": {
    "collapsed": true
   },
   "outputs": [],
   "source": [
    "class Fraction:\n",
    "    #方法定义\n",
    "    def __init__(self,top,bottom):#构造方法。self总是指向对象本身的特殊参数，必须是第一个形式参数，但调用时不需要提供对应的实际参数。\n",
    "        # 使用类名并传入状态的实际值就能完成调用\n",
    "        self.num = top\n",
    "        self.den = bottom\n",
    "    def show(self):#打印数据\n",
    "        print(self.num,'/',self.den)\n",
    "    def __str__(self):\n",
    "        return str(self.num) + '/' + str(self.den)\n",
    "    def __add__(self,otherfraction):\n",
    "        newnum = self.num * otherfraction.den + \\\n",
    "                 self.den * otherfraction.num\n",
    "        newden = self.den * otherfraction.den\n",
    "        return Fraction(newnum,newden)"
   ]
  },
  {
   "cell_type": "code",
   "execution_count": null,
   "id": "dc80f106",
   "metadata": {},
   "outputs": [],
   "source": [
    "f1 = Fraction(1,4)\n",
    "f2 = Fraction(1,2)\n",
    "print(f1 + f2)"
   ]
  },
  {
   "cell_type": "markdown",
   "id": "8edf612e",
   "metadata": {},
   "source": [
    "在这里改良一下，得最简分数。求最大公因数，有"
   ]
  },
  {
   "cell_type": "code",
   "execution_count": null,
   "id": "33d38a1f",
   "metadata": {
    "collapsed": true
   },
   "outputs": [],
   "source": [
    "def gcd(m,n):\n",
    "    while m%n != 0:\n",
    "        oldm = m\n",
    "        oldn = n\n",
    "\n",
    "        m = oldn\n",
    "        n = oldm%oldn\n",
    "    return n"
   ]
  },
  {
   "cell_type": "code",
   "execution_count": null,
   "id": "410d2769",
   "metadata": {
    "collapsed": true
   },
   "outputs": [],
   "source": [
    "class Fraction:\n",
    "    #方法定义\n",
    "    def __init__(self,top,bottom):#构造方法。self总是指向对象本身的特殊参数，必须是第一个形式参数，但调用时不需要提供对应的实际参数。\n",
    "        # 使用类名并传入状态的实际值就能完成调用\n",
    "        self.num = top\n",
    "        self.den = bottom\n",
    "    def show(self):#打印数据\n",
    "        print(self.num,'/',self.den)\n",
    "    def __str__(self):\n",
    "        return str(self.num) + '/' + str(self.den)\n",
    "    def __add__(self,otherfraction):\n",
    "        newnum = self.num * otherfraction.den + \\\n",
    "                 self.den * otherfraction.num\n",
    "        newden = self.den * otherfraction.den\n",
    "        commom = self.gcd(newnum,newden)\n",
    "        return Fraction(newnum//commom,newden//commom)\n",
    "    def gcd(self,m,n):\n",
    "        while m%n != 0:\n",
    "            oldm = m\n",
    "            oldn = n\n",
    "            m = oldn\n",
    "            n = oldm%oldn\n",
    "        return n"
   ]
  },
  {
   "cell_type": "code",
   "execution_count": null,
   "id": "c2e1894a",
   "metadata": {},
   "outputs": [],
   "source": [
    "f1 = Fraction(1,4)\n",
    "f2 = Fraction(1,2)\n",
    "print(f1 + f2)"
   ]
  },
  {
   "cell_type": "markdown",
   "id": "7621d208",
   "metadata": {},
   "source": [
    "为了允许两个分数相互比较，先规定概念如下：浅相等是指只有引用相同时才相等，深相等是值相等即相等"
   ]
  },
  {
   "cell_type": "code",
   "execution_count": null,
   "id": "7ec510a8",
   "metadata": {},
   "outputs": [],
   "source": [
    "class Fraction:\n",
    "    #方法定义\n",
    "    def __init__(self,top,bottom):#构造方法。self总是指向对象本身的特殊参数，必须是第一个形式参数，但调用时不需要提供对应的实际参数。\n",
    "        # 使用类名并传入状态的实际值就能完成调用\n",
    "        self.num = top\n",
    "        self.den = bottom\n",
    "    def show(self):#打印数据\n",
    "        print(self.num,'/',self.den)\n",
    "    def __str__(self):\n",
    "        return str(self.num) + '/' + str(self.den)\n",
    "    def __add__(self,otherfraction):\n",
    "        newnum = self.num * otherfraction.den + \\\n",
    "                 self.den * otherfraction.num\n",
    "        newden = self.den * otherfraction.den\n",
    "        commom = self.gcd(newnum,newden)\n",
    "        return Fraction(newnum//commom,newden//commom)\n",
    "    def gcd(self,m,n):\n",
    "        while m%n != 0:\n",
    "            oldm = m\n",
    "            oldn = n\n",
    "            m = oldn\n",
    "            n = oldm%oldn\n",
    "        return n\n",
    "    def __eg__(self,other):\n",
    "        firstnum = self.num * other.den\n",
    "        secondnum = self.den * other.num\n",
    "\n",
    "        return firstnum == secondnum"
   ]
  },
  {
   "cell_type": "markdown",
   "id": "8f72ed0f",
   "metadata": {},
   "source": [
    "## <a id='toc9_7_'></a>[继承：逻辑门与电路](#toc0_)\n",
    "继承使一个类和另一类相关联。python的子类可以从父类（也称为超类）中继承特征数据和行为。举例来说，列表是有序集合（父）的子。这种关系通常被称为IS-A关系，意味着列表从有序集合继承了重要的特征。以下使用逻辑门与电路来说明继承。"
   ]
  },
  {
   "cell_type": "code",
   "execution_count": null,
   "id": "27717f42",
   "metadata": {
    "collapsed": true
   },
   "outputs": [],
   "source": [
    "class LogicGate:\n",
    "    def __init__(self,n) -> None:\n",
    "        self.label = n\n",
    "        self.output = None\n",
    "    def getLabel(self):\n",
    "        return self.label\n",
    "    def getOutPut(self):\n",
    "        self.output = self.performGateLogic()#还不用在这里实现performGateLogic函数\n",
    "        return self.output"
   ]
  },
  {
   "cell_type": "code",
   "execution_count": null,
   "id": "046e39d8",
   "metadata": {
    "collapsed": true
   },
   "outputs": [],
   "source": [
    "class BinaryGate(LogicGate):#BinaryGate是LogicGate的一个子类，并且有两个输入【引脚】\n",
    "    def __init__(self, n) -> None:\n",
    "        super().__init__(n)#使用super调用其父类的构造方法\n",
    "        #创建BinaryGate类的实例时，首先要初始化所有从父类继承来的数据项，这里是逻辑门的标签\n",
    "        #接着，构造方法添加两个输入\n",
    "        #换言之，子类的构造方法需要先调用父类的构造方法，然后初始化自己独有的数据\n",
    "        self.pinA = None\n",
    "        self.pinB = None\n",
    "    def getPinA(self):\n",
    "        return int(input(\"ENTER PIN A FOR GATE \" + \\\n",
    "                         self.getLabel() + \"-->\"))\n",
    "\n",
    "    def getPinB(self):\n",
    "        return int(input(\"ENTER PIN B FOR GATE \" + \\\n",
    "                         self.getLabel() + \"-->\"))\n",
    "                         "
   ]
  },
  {
   "cell_type": "code",
   "execution_count": null,
   "id": "974835c6",
   "metadata": {
    "collapsed": true
   },
   "outputs": [],
   "source": [
    "class UnaryGate(LogicGate):\n",
    "    def __init__(self, n) -> None:\n",
    "        super().__init__(n)\n",
    "        self.pin = None\n",
    "    def getPin(self):\n",
    "        return int(input(\"ENTER PIN FOR GATE \" + \\\n",
    "                         self.getLabel() + \"-->\"))\n",
    "                         "
   ]
  },
  {
   "cell_type": "code",
   "execution_count": null,
   "id": "97d37c1c",
   "metadata": {
    "collapsed": true
   },
   "outputs": [],
   "source": [
    "class AndGate(BinaryGate):\n",
    "    def __init__(self, n) -> None:\n",
    "        super().__init__(n)\n",
    "    def performGateLogic(self):\n",
    "        a = self.getPinA()\n",
    "        b = self.getPinB()\n",
    "        if a == 1 and b == 1:\n",
    "            return 1 \n",
    "        else:\n",
    "            return 0\n",
    "    def setNextPin(self,source):#source是连接器\n",
    "        if self.pinA == None:\n",
    "            self.pinA = source\n",
    "        else:\n",
    "            if self.pinB == None:\n",
    "                self.pinB = source\n",
    "            else:\n",
    "                raise RuntimeError(\"Error:no empty pins\")\n",
    "    def getPinA(self):\n",
    "        if self.pinA == None:\n",
    "            return int(input(\"ENTER PIN A FOR GATE \" + \\\n",
    "                         self.getLabel() + \"-->\"))\n",
    "        else:\n",
    "            return self.pinA.getFrom().getOutPut()# setNextPin将PinA设定为链接器source，所以可以调用getFrom()函数\n",
    "    def getPinB(self):\n",
    "        if self.pinB == None:\n",
    "            return int(input(\"ENTER PIN B FOR GATE \" + \\\n",
    "                         self.getLabel() + \"-->\"))\n",
    "        else:\n",
    "            return self.pinB.getFrom().getOutPut()"
   ]
  },
  {
   "cell_type": "code",
   "execution_count": null,
   "id": "c704f47b",
   "metadata": {},
   "outputs": [],
   "source": [
    "g1 = AndGate(\"G1\")#对象是g1，标签是G1\n",
    "g1.getOutPut()"
   ]
  },
  {
   "cell_type": "code",
   "execution_count": null,
   "id": "8e21cb71",
   "metadata": {
    "collapsed": true
   },
   "outputs": [],
   "source": [
    "class OrGate(BinaryGate):\n",
    "    def __init__(self, n) -> None:\n",
    "        super().__init__(n)\n",
    "    def performGateLogic(self):\n",
    "        a = self.getPinA()\n",
    "        b = self.getPinB()\n",
    "        if a == 1 or b == 1:\n",
    "            return 1 \n",
    "        else:\n",
    "            return 0\n",
    "    def setNextPin(self,source):\n",
    "        if self.pinA == None:\n",
    "            self.pinA = source\n",
    "        else:\n",
    "            if self.pinB == None:\n",
    "                self.pinB = source\n",
    "            else:\n",
    "                raise RuntimeError(\"Error:no empty pins\")\n",
    "    def getPinA(self):\n",
    "        if self.pinA == None:\n",
    "            return int(input(\"ENTER PIN A FOR GATE \" + \\\n",
    "                         self.getLabel() + \"-->\"))\n",
    "        else:\n",
    "            return self.pinA.getFrom().getOutPut()\n",
    "    def getPinB(self):\n",
    "        if self.pinB == None:\n",
    "            return int(input(\"ENTER PIN B FOR GATE \" + \\\n",
    "                         self.getLabel() + \"-->\"))\n",
    "        else:\n",
    "            return self.pinB.getFrom().getOutPut()"
   ]
  },
  {
   "cell_type": "code",
   "execution_count": null,
   "id": "d72296ed",
   "metadata": {},
   "outputs": [],
   "source": [
    "g2 = OrGate(\"G2\")\n",
    "g2.getOutPut()"
   ]
  },
  {
   "cell_type": "code",
   "execution_count": null,
   "id": "5e5f1e99",
   "metadata": {
    "collapsed": true
   },
   "outputs": [],
   "source": [
    "class NotGate(UnaryGate):\n",
    "    def __init__(self, n) -> None:\n",
    "        super().__init__(n)\n",
    "    def performGateLogic(self):\n",
    "        a = self.getPin()\n",
    "        if a == 1 :\n",
    "            return 0 \n",
    "        else:\n",
    "            return 1\n",
    "    def setNextPin(self,source):\n",
    "        if self.pin == None:\n",
    "            self.pin = source#设定链接器\n",
    "        else:\n",
    "            raise RuntimeError(\"Error:no empty pins\")\n",
    "    def getPin(self):\n",
    "        if self.pin == None:\n",
    "            return int(input(\"ENTER PIN FOR GATE\" + \\\n",
    "                         self.getLabel() + \"-->\"))\n",
    "        else:\n",
    "            return self.pin.getFrom().getOutPut()"
   ]
  },
  {
   "cell_type": "code",
   "execution_count": null,
   "id": "d53d8b59",
   "metadata": {},
   "outputs": [],
   "source": [
    "g3 = NotGate(\"G3\")\n",
    "g3.getOutPut()"
   ]
  },
  {
   "cell_type": "markdown",
   "id": "17e227ca",
   "metadata": {},
   "source": [
    "将逻辑门链接在一起，使用Connector的新类。这个类并不在逻辑门的继承层次结构中，但会使用该结构，从而使得Connector的实例两端都有一个逻辑门。这种Connector-LogicGate的关系被称为HAS-A（是一个）。区分需要继承的IS-A和无须继承的HAS-A关系非常重要。"
   ]
  },
  {
   "cell_type": "code",
   "execution_count": null,
   "id": "e20915b9",
   "metadata": {
    "collapsed": true
   },
   "outputs": [],
   "source": [
    "class Connector:\n",
    "    def __init__(self,fgate,tgate) -> None:\n",
    "        self.fromgate = fgate\n",
    "        self.togate = tgate\n",
    "        tgate.setNextPin(self)# 这个地方是找上一个的，没找下一个\n",
    "    def getFrom(self):\n",
    "        return self.fromgate# 这才是逻辑门\n",
    "    def getTo(self):\n",
    "        return self.togate\n"
   ]
  },
  {
   "cell_type": "code",
   "execution_count": null,
   "id": "10dc8f38",
   "metadata": {
    "collapsed": true
   },
   "outputs": [],
   "source": [
    "g1 = AndGate(\"G1\")#规定各个逻辑门是啥\n",
    "g2 = AndGate(\"G2\")\n",
    "g3 = OrGate(\"G3\")\n",
    "g4 = NotGate(\"G4\")\n",
    "c1 = Connector(g1,g3)\n",
    "c2 = Connector(g2,g3)# 3.发现g3和g2,g1相关\n",
    "c3 = Connector(g3,g4)# 2.发现g4和g3相关"
   ]
  },
  {
   "cell_type": "code",
   "execution_count": null,
   "id": "33e6cb32",
   "metadata": {},
   "outputs": [],
   "source": [
    "g4.getOutPut()# 1.要求g4的输出"
   ]
  },
  {
   "cell_type": "markdown",
   "id": "89e55970",
   "metadata": {},
   "source": [
    "这个电路就是图1-10。"
   ]
  }
 ],
 "metadata": {
  "kernelspec": {
   "display_name": "base",
   "language": "python",
   "name": "python3"
  },
  "language_info": {
   "codemirror_mode": {
    "name": "ipython",
    "version": 3
   },
   "file_extension": ".py",
   "mimetype": "text/x-python",
   "name": "python",
   "nbconvert_exporter": "python",
   "pygments_lexer": "ipython3",
   "version": "3.12.7"
  },
  "toc": {
   "base_numbering": 1,
   "nav_menu": {},
   "number_sections": false,
   "sideBar": true,
   "skip_h1_title": false,
   "title_cell": "Table of Contents",
   "title_sidebar": "Contents",
   "toc_cell": true,
   "toc_position": {
    "height": "843.2px",
    "left": "210px",
    "top": "149px",
    "width": "409.6px"
   },
   "toc_section_display": true,
   "toc_window_display": true
  }
 },
 "nbformat": 4,
 "nbformat_minor": 5
}
