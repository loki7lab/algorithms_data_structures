{
 "cells": [
  {
   "cell_type": "markdown",
   "metadata": {},
   "source": [
    "【本周思路】\n",
    "本周和下周课程都是学习递归的，下周课程会涉及到部分的动态规划。以下是本周大纲：\n",
    "* 401 什么是递归\n",
    "* 402 递归的应用\n",
    "* 403 递归的实现\n",
    "* 404-405 递归的可视化\n",
    "* 406-407 递归的应用 "
   ]
  },
  {
   "cell_type": "markdown",
   "metadata": {},
   "source": [
    "**Table of contents**<a id='toc0_'></a>    \n",
    "- [401 什么是递归](#toc1_)    \n",
    "  - [1. 案例](#toc1_1_)    \n",
    "  - [2. 递归三定律【重点】](#toc1_2_)    \n",
    "- [402 递归的应用：任意进制转换](#toc2_)    \n",
    "  - [1. 问题](#toc2_1_)    \n",
    "  - [2. 算法](#toc2_2_)    \n",
    "- [403 递归调用的实现](#toc3_)    \n",
    "  - [1. 递归和栈的关系](#toc3_1_)    \n",
    "- [404 递归可视化：分形树](#toc4_)    \n",
    "  - [分形树：自相似递归图形](#toc4_1_)    \n",
    "- [405 递归可视化：谢尔宾斯基三角形](#toc5_)    \n",
    "  - [1. 题目](#toc5_1_)    \n",
    "  - [2. 算法](#toc5_2_)    \n",
    "- [ 406 递归的应用：汉诺塔](#toc6_)    \n",
    "  - [1. 问题](#toc6_1_)    \n",
    "  - [2. 算法](#toc6_2_)    \n",
    "- [407 递归的应用：探索迷宫](#toc7_)    \n",
    "  - [1. 问题](#toc7_1_)    \n",
    "  - [算法](#toc7_2_)    \n",
    "- [作业](#toc8_)    \n",
    "\n",
    "<!-- vscode-jupyter-toc-config\n",
    "\tnumbering=false\n",
    "\tanchor=true\n",
    "\tflat=false\n",
    "\tminLevel=1\n",
    "\tmaxLevel=6\n",
    "\t/vscode-jupyter-toc-config -->\n",
    "<!-- THIS CELL WILL BE REPLACED ON TOC UPDATE. DO NOT WRITE YOUR TEXT IN THIS CELL -->"
   ]
  },
  {
   "cell_type": "markdown",
   "metadata": {},
   "source": [
    "# <a id='toc1_'></a>[401 什么是递归](#toc0_)\n",
    "\n",
    "精髓：把问题分解为规模更小的【相同】问题\n",
    "* 持续分解：知道问题规模小到可以用非常简单的方式来解决\n",
    "* 递归的特征：在算法流程中【调用自身】\n",
    "\n",
    "请注意，最后的顺序是和栈一样，会颠倒。请参考下面的案例"
   ]
  },
  {
   "cell_type": "markdown",
   "metadata": {},
   "source": [
    "## <a id='toc1_1_'></a>[1. 案例](#toc0_)\n",
    "\n",
    "给定一个列表，返回所有数的和\n",
    "\n",
    "条件是列表中个数不确定，不能使用循环语句\n",
    "\n",
    "分析有：\n",
    "每一步执行的都是加法，加法恰好有2个操作数\n",
    "\n",
    "$\\implies$ 将问题规模较大的列表求和，分解为规模较小而且固定的2个数求和\n",
    "也就是\n",
    "$$数列的和 = 首个数 + 余下数列的和$$\n",
    "\n",
    "如果数列包含的数少到只有1个的话，它的和就是这个数了\n",
    "\n",
    "$\\implies$ 递归"
   ]
  },
  {
   "cell_type": "code",
   "execution_count": null,
   "metadata": {},
   "outputs": [],
   "source": [
    "#数列求和\n",
    "def listSum(numList):\n",
    "    if len(numList) == 1:\n",
    "        return numList[0]\n",
    "    else:\n",
    "        return numList[0]+listSum(numList[1:])#通过这句，每次递归都会实质上更新numList；可以参考try.py中的调试过程\n",
    "print(listSum([1,3,5,7,9]))"
   ]
  },
  {
   "cell_type": "markdown",
   "metadata": {},
   "source": [
    "参考解说有\n",
    "\n",
    "![递归求和](./img/401.PNG)"
   ]
  },
  {
   "cell_type": "markdown",
   "metadata": {},
   "source": [
    "## <a id='toc1_2_'></a>[2. 递归三定律【重点】](#toc0_)\n",
    "* 递归算法必须有一个基本结束条件$\\implies$最小规模问题的直接解决\n",
    "* 递归算法必须能改变状态向基本结束条件演进$\\implies$减小问题规模\n",
    "* 递归算法必须调用自身$\\implies$解决减小了规模的相同问题\n",
    "\n",
    "调用自身比较难理解，不妨理解为：\n",
    "\n",
    "问题分解成规模更小的相同问题【套娃】"
   ]
  },
  {
   "cell_type": "markdown",
   "metadata": {},
   "source": [
    "结合数列求和算法对照递归条件，有：\n",
    "* 具备基本结束条件：当列表长度为1，直接输出所包含的唯一数\n",
    "* 该递归算法是：改变列表并向长度为1的状态演进\n",
    "* 调用自身：解决更短数列的求和问题"
   ]
  },
  {
   "cell_type": "markdown",
   "metadata": {},
   "source": [
    "# <a id='toc2_'></a>[402 递归的应用：任意进制转换](#toc0_)"
   ]
  },
  {
   "cell_type": "markdown",
   "metadata": {},
   "source": [
    "## <a id='toc2_1_'></a>[1. 问题](#toc0_)\n"
   ]
  },
  {
   "cell_type": "markdown",
   "metadata": {},
   "source": [
    "## <a id='toc2_2_'></a>[2. 算法](#toc0_)\n",
    "以转换到十进制为例，思考这个问题：\n",
    "1. 比十小的整数，直接查表：```convString[n]```\n",
    "2. 比十大的整数，对照基，拆成一系列比十小的整数，再逐个查表\n",
    "\n",
    "$\\implies$\n",
    "\n",
    "* 找到基本结束条件：小于十的整数，进行查表转化\n",
    "* 向“基本结束条件”演进：通过基拆解大于十的过程\n",
    "\n",
    "算法需要调用自身，也就是辗转相除：\n",
    "\n",
    "* 除以“进制基base”（//base）\n",
    "* 对“进制基”求余数，找出对应的（% base）\n",
    "\n",
    "参考下图，不妨将“769”视为十进制下的，检验转为十进制是否有误\n",
    "\n",
    "![进制转换](./img/402.PNG)\n",
    "\n"
   ]
  },
  {
   "cell_type": "code",
   "execution_count": null,
   "metadata": {},
   "outputs": [],
   "source": [
    "def toStr(n,base):\n",
    "    convertString = \"0123456789ABCDEF\"\n",
    "    if n < base:\n",
    "        return convertString[n]#查表\n",
    "    else:\n",
    "        return toStr(n//base,base) + convertString[n%base]#前者继续递归，后者查表确定对应的符号\n",
    "print(toStr(1453,16))\n",
    "#print(type(toStr(1453,16)))\n",
    "#print(int(toStr(1453,16)))"
   ]
  },
  {
   "cell_type": "markdown",
   "metadata": {},
   "source": [
    "过程为：\n",
    "\n",
    "1453 ÷ 16 = 90 余 13 → 'D'\n",
    "\n",
    "90 ÷ 16 = 5 余 10 → 'A'\n",
    "\n",
    "5 ÷ 16 = 0 余 5 → '5'\n",
    "\n",
    "递归拼接结果为\"5\" + \"A\" + \"D\" = \"5AD\"（十六进制）\n",
    "\n",
    "$\\implies$\n",
    "\n",
    "**请注意顺序反过来了！**"
   ]
  },
  {
   "cell_type": "markdown",
   "metadata": {},
   "source": [
    "# <a id='toc3_'></a>[403 递归调用的实现](#toc0_)\n",
    "\n",
    "## <a id='toc3_1_'></a>[1. 递归和栈的关系](#toc0_)\n",
    "\n",
    "当一个函数被调用时，系统会把调用时的现场数据压入到系统调用栈。其中现场数据包括：\n",
    "    * 函数的参数值\n",
    "    * 函数内的局部变量值\n",
    "    * 函数的返回地址（调用结束后应返回的代码位置）\n",
    "    * 寄存器的当前状态\n",
    "    * 函数的返回值（如果有\n",
    "\n",
    "* 当发生递归调用时，系统会自动将这些现场数据压入内存中的调用栈（call stack），形成栈帧(stack frame)\n",
    "* 每个递归调用都会创建新的栈帧\n",
    "* 当递归返回（达成最基本结束条件）时，系统会按照后进先出(LIFO)的顺序弹出栈帧，恢复之前的执行现场"
   ]
  },
  {
   "cell_type": "markdown",
   "metadata": {},
   "source": [
    "参考1\n",
    "\n",
    "![403](./img/403.PNG)\n",
    "\n",
    "在$1 < 2$的时候触发基本结束条件，即可以返回"
   ]
  },
  {
   "cell_type": "code",
   "execution_count": null,
   "metadata": {},
   "outputs": [],
   "source": [
    "#参考2\n",
    "def factorial(n):\n",
    "    if n == 0:\n",
    "        return 1\n",
    "    else:\n",
    "        return n * factorial(n-1)\n",
    "    \n",
    "factorial(3)"
   ]
  },
  {
   "cell_type": "markdown",
   "metadata": {},
   "source": [
    "当调用factorial(3)时：\n",
    "\n",
    "* 首次调用压入参数n=3\n",
    "* 递归调用n=2时，保存n=3的当前值到栈中\n",
    "* 继续递归调用n=1，保存n=2的状态\n",
    "* 最后n=0时开始逐层返回，每次弹出栈帧恢复之前的n值\n",
    "\n",
    "这种机制保证了递归调用可以正确回溯到之前的执行状态，但需要注意Python默认的递归深度限制（可通过```sys.setrecursionlimit()```调整）"
   ]
  },
  {
   "cell_type": "markdown",
   "metadata": {},
   "source": [
    "python中的递归深度限制：\n",
    "\n",
    "* RecursionError：通常是递归层数太多，系统调用占容量有限。可以从以下方面检查：\n",
    "    * 没有停止条件\n",
    "    * 递归演进太慢，导致递归层数太多，调用栈溢出"
   ]
  },
  {
   "cell_type": "code",
   "execution_count": null,
   "metadata": {},
   "outputs": [],
   "source": [
    "# 没有停止条件\n",
    "def tell_story():\n",
    "    print(\"从前有座山，山上有座庙，庙里有个老和尚，他在讲\")\n",
    "    tell_story()\n",
    "\n",
    "print(\"给你讲个故事\")\n",
    "tell_story()"
   ]
  },
  {
   "cell_type": "markdown",
   "metadata": {},
   "source": [
    "在Python内置的sys模块可以获取和调整最大递归深度"
   ]
  },
  {
   "cell_type": "code",
   "execution_count": null,
   "metadata": {},
   "outputs": [],
   "source": [
    "import sys\n",
    "sys.getrecursionlimit()\n",
    "sys.setrecursionlimit(3000)"
   ]
  },
  {
   "cell_type": "markdown",
   "metadata": {},
   "source": [
    "# <a id='toc4_'></a>[404 递归可视化：分形树](#toc0_)"
   ]
  },
  {
   "cell_type": "markdown",
   "metadata": {},
   "source": [
    "海龟作图系统turtle module，简单示例如下"
   ]
  },
  {
   "cell_type": "code",
   "execution_count": null,
   "metadata": {},
   "outputs": [],
   "source": [
    "import turtle\n",
    "t = turtle.Turtle()\n",
    "\n",
    "t.forward(100)\n",
    "\n",
    "#作图结束\n",
    "turtle.done()"
   ]
  },
  {
   "cell_type": "markdown",
   "metadata": {},
   "source": [
    "现在开始进行递归作图，思路是\n",
    "* 最小规模 ：```if linelen > 0```\n",
    "* 减少规模 & 调用自身： ```drawSpiral(t,linelen - 5)```"
   ]
  },
  {
   "cell_type": "code",
   "execution_count": null,
   "metadata": {},
   "outputs": [],
   "source": [
    "# 递归可视化\n",
    "import turtle\n",
    "t = turtle.Turtle()\n",
    "\n",
    "def drawSpiral(t,lineLen):\n",
    "    if lineLen > 0:\n",
    "        t.forward(lineLen)\n",
    "        t.right(90)\n",
    "        drawSpiral(t,lineLen - 5)\n",
    "\n",
    "drawSpiral(t,100)\n",
    "\n",
    "turtle.done()"
   ]
  },
  {
   "cell_type": "code",
   "execution_count": null,
   "metadata": {},
   "outputs": [],
   "source": [
    "import turtle\n",
    "t = turtle.Turtle()\n",
    "\n",
    "def drawSpiral(t, lineLen):\n",
    "    if lineLen > 0:\n",
    "        t.forward(lineLen)\n",
    "        t.right(90)\n",
    "        drawSpiral(t, lineLen - 5)\n",
    "    t.hideturtle()\n",
    "  \n",
    "\n",
    "drawSpiral(t, 100)\n",
    "turtle.bye()   # 强制关闭Turtle图形窗口\n",
    "#turtle.clearscreen()  # 可选：清空画布"
   ]
  },
  {
   "cell_type": "markdown",
   "metadata": {},
   "source": [
    "## <a id='toc4_1_'></a>[分形树：自相似递归图形](#toc0_)\n",
    " \n",
    "什么是分形？\n",
    "\n",
    "定义：分形是一种具有**自相似性**和**无限细节**的几何结构或数学模型【整体与部分相似】\n",
    "\n",
    "核心特征包括：  \n",
    "\n",
    "1. **自相似性**  \n",
    "   分形的局部结构与整体形态在任意尺度下具有统计或精确的相似性。例如：  \n",
    "   - **科赫雪花**：每条边的细分部分均生成与原边相似的小三角形。  \n",
    "   - **曼德博集合**：其边界在放大后仍呈现与整体相似的复杂图案。  \n",
    "\n",
    "2. **非整数维度**  \n",
    "   分形的维度（分形维数）可以是分数，例如：  \n",
    "   - 科赫曲线的维数为 $ \\frac{\\log 4}{\\log 3} \\approx 1.26 $ \n",
    "   - 谢尔宾斯基地毯的维数为 $\\frac{\\log 8}{\\log 3} \\approx 1.89 $  \n",
    "\n",
    "3. **迭代生成**  \n",
    "   分形通常通过递归规则生成。例如，曼德博集合（Mandelbrot set）由复数平面上的迭代公式定义，计算发散性而产生无限复制的边界\n",
    "$$\n",
    "   z_{n+1} = z_n^2 + c  \\quad\n",
    "$$"
   ]
  },
  {
   "cell_type": "markdown",
   "metadata": {},
   "source": [
    "* 自然现象中所具备的分形特征，使得计算机可以通过分形算法生成非常逼真的自然场景\n",
    "* 分形是在不同尺度上都具有相似性的事物\n",
    "* 因为具有自相似特征，所以使用递归算法来处理"
   ]
  },
  {
   "cell_type": "markdown",
   "metadata": {},
   "source": [
    "递归算法如何处理分形树？\n",
    "  \n",
    "![404](./img/404.PNG)"
   ]
  },
  {
   "cell_type": "markdown",
   "metadata": {},
   "source": [
    "\n",
    "* 基本结束条件：树干长度太短就停止\n",
    "* 减小问题规模：每次递归调用必须使问题规模更接近基本结束条件，也就是每次递归时缩短树枝长度，并减少递归深度\n",
    "* 调用自身：把树分解为三个部分：树干，左边的小树，右边的小树；形成自相似结构"
   ]
  },
  {
   "cell_type": "markdown",
   "metadata": {},
   "source": [
    "理论完成，开始实现"
   ]
  },
  {
   "cell_type": "code",
   "execution_count": null,
   "metadata": {},
   "outputs": [],
   "source": [
    "import turtle\n",
    "\n",
    "t = turtle.Turtle()\n",
    "t.left(90)#调整方向竖直向上\n",
    "\n",
    "def tree(branch_len):\n",
    "    if branch_len > 5:\n",
    "        t.forward(branch_len)\n",
    "        #右分支\n",
    "        t.right(20)\n",
    "        tree(branch_len - 15)#假设每个过程都会回到原处\n",
    "        #左分支\n",
    "        t.left(40)#需向左转双倍角度（抵消右转20°并新增左转20°\n",
    "        tree(branch_len - 15)\n",
    "        #返回原点\n",
    "        t.right(20)#回正方向（与左转20°抵消）\n",
    "        t.backward(branch_len)#退回出发点\n",
    "\n",
    "tree(75)\n",
    "turtle.bye()"
   ]
  },
  {
   "cell_type": "markdown",
   "metadata": {},
   "source": [
    "进一步优化如下："
   ]
  },
  {
   "cell_type": "code",
   "execution_count": null,
   "metadata": {},
   "outputs": [],
   "source": [
    "import turtle\n",
    "\n",
    "def tree(branch_len):\n",
    "    if branch_len > 5:\n",
    "        t.forward(branch_len)\n",
    "        t.right(20)\n",
    "        tree(branch_len - 15)\n",
    "        t.left(40)\n",
    "        tree(branch_len - 15)\n",
    "        t.right(20)\n",
    "        t.backward(branch_len)#attention there is always the EndPlot where no matter turn left/right/backward\n",
    "        #on the endplot,it always return back to the fork point and turn left\n",
    "\n",
    "t = turtle.Turtle()\n",
    "t.left(90)\n",
    "t.penup()\n",
    "t.backward(100)#不留痕迹退回100步\n",
    "t.pendown()\n",
    "t.pencolor('green')\n",
    "t.pensize(2)\n",
    "tree(75)\n",
    "t.hideturtle()\n",
    "turtle.done()"
   ]
  },
  {
   "cell_type": "markdown",
   "metadata": {},
   "source": [
    "补充代码中全局变量t的说明\n",
    "\n",
    "$\\implies$\n",
    "\n",
    "这段代码中t能被tree函数直接调用的原因是作用域规则：\n",
    "\n",
    "* 全局作用域：变量```t = turtle.Turtle()```是在模块级作用域（全局作用域）中定义的\n",
    "\n",
    "* 函数访问规则：Python函数可以直接读取外层作用域的变量。```tree()```函数虽然是在t之后定义的，但由于：\n",
    "    * 没有对t进行赋值操作（即没有t = ...语句）\n",
    "    * 仅调用t的方法（如t.right()/t.forward()）\n",
    "    \n",
    "    $\\implies$ 因此不需要使用 ```global t```声明\n",
    "\n",
    "* 对象可变性：t是Turtle对象实例，所有方向/位置变化都是通过修改对象属性实现的。虽然函数内改变了乌龟的状态，但这属于合法操作"
   ]
  },
  {
   "cell_type": "markdown",
   "metadata": {},
   "source": [
    "# <a id='toc5_'></a>[405 递归可视化：谢尔宾斯基三角形](#toc0_)"
   ]
  },
  {
   "cell_type": "markdown",
   "metadata": {},
   "source": [
    "## <a id='toc5_1_'></a>[1. 题目](#toc0_)"
   ]
  },
  {
   "cell_type": "markdown",
   "metadata": {},
   "source": [
    "这是典型的分形构造\n",
    "* 平面的叫谢尔宾斯基三角形\n",
    "* 立体的叫谢尔宾斯基金字塔\n",
    "\n",
    "\n",
    "\n",
    "构造方法：\n",
    "\n",
    "* 递归分割：从一个实心等边三角形开始，将其分割为4个相同的小三角形，移除中心的三角形，再对剩下的3个小三角形重复此过程，无限迭代后形成最终图案\n",
    "* 随机迭代法（混沌游戏）：随机选择一个起始点，再反复选择三角形的顶点之一，将当前点移动到与所选顶点之间的一半距离处，最终生成谢尔宾斯基三角形\n",
    "\n",
    "\n",
    "实际上，真正的谢尔宾斯基三角形是完全不可见的，其面积为0但周长无穷，是介于一维和二维中间的分数维（约1.585维）构造"
   ]
  },
  {
   "cell_type": "markdown",
   "metadata": {},
   "source": [
    "* 根据自相似性特征，谢尔宾斯基三角形是由3个尺寸减半的谢尔宾斯基三角形按”品“字形拼叠而成\n",
    "* 实际只能做出degree有限的近似图形"
   ]
  },
  {
   "cell_type": "markdown",
   "metadata": {},
   "source": [
    "## <a id='toc5_2_'></a>[2. 算法](#toc0_)\n",
    "在degree有限的情况下，$degree = n$的三角形，是由3个$degree = n-1$的三角形按照品拼叠而成\n",
    "* 这3个$degree = n-1$的三角形边长均为$degree = n$的三角形的一半【规模减小】\n",
    "* 当$degree = 0$时，就是一个普通的等边三角形【递归基本结束条件】\n",
    "* 自相似性【调用自身】\n",
    "\n",
    "理论完成，开始实现【使用turtle】"
   ]
  },
  {
   "cell_type": "code",
   "execution_count": 1,
   "metadata": {},
   "outputs": [],
   "source": [
    "# 这里的比较难，先把轮子写好\n",
    "# 导入turtle绘图库\n",
    "import turtle\n",
    "\n",
    "def drawTriangle(points, color):\n",
    "    \"\"\"绘制并填充一个三角形\n",
    "    参数:\n",
    "        points (dict): 包含三个顶点坐标的字典，需要包含以下键:\n",
    "            - top: 顶点坐标 (x,y)\n",
    "            - left: 左下角坐标 (x,y) \n",
    "            - right: 右下角坐标 (x,y)\n",
    "        color (str): 填充颜色名称或十六进制颜色码\"\"\"\n",
    "    \n",
    "    # 设置填充颜色\n",
    "    t.fillcolor(color)\n",
    "    \n",
    "    # 抬起画笔移动到顶点\n",
    "    t.penup()\n",
    "    t.goto(points['top'])\n",
    "    \n",
    "    # 开始绘制路径\n",
    "    t.pendown()\n",
    "    t.begin_fill()\n",
    "    \"\"\"\n",
    "    t.begin_fill() 是填充颜色的起始标记，与 t.end_fill() 配合使用。它的作用是：\n",
    "\n",
    "    1. 标记填充起点：在调用 begin_fill() 后，海龟移动形成的闭合路径会作为待填充区域\n",
    "    2. 它与画出线条无关：实际绘制线条由 goto() 或 forward() 等移动方法实现\n",
    "    3. 颜色生效规则：需提前通过 t.fillcolor() 设置填充颜色\n",
    "\n",
    "    \"\"\"\n",
    "    \n",
    "    # 依次连接三个顶点形成闭合三角形\n",
    "    # 请注意是上左右上的顺序【回到原点】\n",
    "    t.goto(points['left'])\n",
    "    t.goto(points['right'])\n",
    "    t.goto(points['top'])  # 回到起点闭合路径\n",
    "    \n",
    "    # 结束填充\n",
    "    t.end_fill()\n",
    "\n",
    "def getMid(p1,p2):\n",
    "    return ((p1[0]+p2[0])/2,(p1[1]+p2[1])/2)\n",
    "\n",
    "\n",
    "points = {'left':(-200,-100),\n",
    "            'top':(0,200),\n",
    "            'right':(200,-100)}\n"
   ]
  },
  {
   "cell_type": "code",
   "execution_count": null,
   "metadata": {},
   "outputs": [],
   "source": [
    "def sierpinski(degree,points):\n",
    "    colormap = ['blue','red','green','white','yellow','orange']\n",
    "    drawTriangle(points,colormap[degree])\n",
    "    if degree > 0:#这里重新建构points\n",
    "        #每个degree画3个就够了\n",
    "        #画左边的三角形\n",
    "        sierpinski(degree - 1,{\n",
    "            'left':points['left'],\n",
    "            'top':getMid(points['left'],points['top']),\n",
    "            'right':getMid(points['left'],points['right'])\n",
    "        })\n",
    "        #画顶端的三角形\n",
    "        sierpinski(degree - 1,{\n",
    "            'top':points['top'],\n",
    "            'left':getMid(points['top'],points['left']),\n",
    "            'right':getMid(points['right'],points['top'])\n",
    "        })\n",
    "        #画右边的三角形\n",
    "        sierpinski(degree - 1,{\n",
    "            'right':points['right'],\n",
    "            'top':getMid(points['right'],points['top']),\n",
    "            'left':getMid(points['right'],points['left'])\n",
    "        })\n",
    "\n",
    "# 创建海龟画笔对象\n",
    "t = turtle.Turtle()\n",
    "sierpinski(5,points)\n",
    "turtle.done()"
   ]
  },
  {
   "cell_type": "markdown",
   "metadata": {},
   "source": [
    "# <a id='toc6_'></a>[ 406 递归的应用：汉诺塔](#toc0_)\n",
    "\n",
    "## <a id='toc6_1_'></a>[1. 问题](#toc0_)\n",
    "法国数学家Edouard Lucas于1883年根据传说提出这个复杂递归问题：汉诺塔。\n",
    "* 有3根柱子\n",
    "* 其中一根套着64个由小到大的黄金盘片\n",
    "\n",
    "$\\implies$僧侣们需要把这一叠黄金盘片从一根柱子搬到另一根柱子上，但需要遵循2个规则：\n",
    "* 一次只能搬一个\n",
    "* 大盘子不能叠在小盘子上\n",
    "\n",
    "请问要多久才能完成迁移？"
   ]
  },
  {
   "cell_type": "markdown",
   "metadata": {},
   "source": [
    "## <a id='toc6_2_'></a>[2. 算法](#toc0_)\n",
    "按照递归三定律进行拆解 \n",
    "* 基本结束条件【最小规模问题】\n",
    "* 减小规模\n",
    "* 调用自身\n",
    "\n",
    "关键的地方是：在挪动大盘子之前，需要空出一个柱子给它做准备\n",
    "\n",
    "$\\implies$ 因为有3根柱子，一根正在给大盘子使用（开始柱），一根是空的（准备给大盘子使用，也就是目标柱），另一根必然垒好了前面那些小的盘子（也叫中间柱）\n"
   ]
  },
  {
   "cell_type": "markdown",
   "metadata": {},
   "source": [
    "对应递归三定律，解析有\n",
    "* 基本结束条件：只用移动最小的盘子即可结束\n",
    "* 减小规模：上一个cell中分析的关键的部分\n",
    "* 调用自身：$n$个盘子的挪动思路跟前面$n-1$个盘子的挪动思路一致\n",
    "\n",
    "也就是可以从$n$个盘子缩减到3个，到2个，再到1个\n"
   ]
  },
  {
   "cell_type": "markdown",
   "metadata": {},
   "source": [
    "总结如何将将盘片塔从开始柱，经由中间柱，移动到目标柱\n",
    "* 将上层的$n-1$个盘片的盘片塔，从开始柱，经过目标柱，移到**中间柱**\n",
    "* 将最大的盘片，从开始柱，移动到目标柱\n",
    "* 最后将放置在中间柱的$n-1$个盘片，**经过开始柱**，移动到目标柱\n",
    "\n",
    "一直递归到：1个盘片的移动问题为止\n",
    "\n",
    "理论完成，开始实现！"
   ]
  },
  {
   "cell_type": "code",
   "execution_count": null,
   "metadata": {},
   "outputs": [
    {
     "name": "stdout",
     "output_type": "stream",
     "text": [
      "Moving disk[1] from #1 to #3\n",
      "Moving disk[2] from #1 to #2\n",
      "Moving disk[1] from #3 to #2\n",
      "Moving disk[3] from #1 to #3\n",
      "Moving disk[1] from #2 to #1\n",
      "Moving disk[2] from #2 to #3\n",
      "Moving disk[1] from #1 to #3\n",
      "Moving disk[4] from #1 to #2\n",
      "Moving disk[1] from #3 to #2\n",
      "Moving disk[2] from #3 to #1\n",
      "Moving disk[1] from #2 to #1\n",
      "Moving disk[3] from #3 to #2\n",
      "Moving disk[1] from #1 to #3\n",
      "Moving disk[2] from #1 to #2\n",
      "Moving disk[1] from #3 to #2\n",
      "Moving disk[5] from #1 to #3\n",
      "Moving disk[1] from #2 to #1\n",
      "Moving disk[2] from #2 to #3\n",
      "Moving disk[1] from #1 to #3\n",
      "Moving disk[3] from #2 to #1\n",
      "Moving disk[1] from #3 to #2\n",
      "Moving disk[2] from #3 to #1\n",
      "Moving disk[1] from #2 to #1\n",
      "Moving disk[4] from #2 to #3\n",
      "Moving disk[1] from #1 to #3\n",
      "Moving disk[2] from #1 to #2\n",
      "Moving disk[1] from #3 to #2\n",
      "Moving disk[3] from #1 to #3\n",
      "Moving disk[1] from #2 to #1\n",
      "Moving disk[2] from #2 to #3\n",
      "Moving disk[1] from #1 to #3\n"
     ]
    }
   ],
   "source": [
    "#先把每一个步骤的轮廓实现出来\n",
    "def moveTower(height,fromPole,withPole,toPole):\n",
    "    if height >= 1:#基本结束条件\n",
    "        moveTower(height - 1,fromPole,toPole,withPole)\n",
    "        moveDisk(height,fromPole,toPole)\n",
    "        moveTower(height - 1,withPole,fromPole,toPole)\n",
    "\n",
    "def moveDisk(disk,fromPole,toPole):\n",
    "    print(f\"Moving disk[{disk}] from {fromPole} to {toPole}\")\n",
    "\n",
    "moveTower(5,\"#1\",\"#2\",\"#3\")"
   ]
  },
  {
   "cell_type": "code",
   "execution_count": null,
   "metadata": {},
   "outputs": [],
   "source": [
    "def moveTower(height,fromPole,withPole,toPole):\n",
    "    if height >= 1:\n",
    "        moveTower(height - 1,fromPole,toPole,withPole)#从1到n-1个盘\n",
    "        moveDisk(height,fromPole,toPole)#第n个盘子\n",
    "        moveTower(height - 1,withPole,fromPole,toPole)\n",
    "\n",
    "def moveDisk(disk,fromPole,toPole):\n",
    "    print(f\"Moving disk[{disk}] from {fromPole} to {toPole}\")\n",
    "\n",
    "moveTower(3,\"#1\",\"#2\",\"#3\")"
   ]
  },
  {
   "cell_type": "markdown",
   "metadata": {},
   "source": [
    "# <a id='toc7_'></a>[407 递归的应用：探索迷宫](#toc0_)"
   ]
  },
  {
   "cell_type": "markdown",
   "metadata": {},
   "source": [
    "## <a id='toc7_1_'></a>[1. 问题](#toc0_)\n",
    "迷宫是矩形空间，分为行列整齐的方格，区分出墙壁和通道：即每个方格具有行列位置，且被赋予“墙壁”“通道”属性。那么，如何找到出口？\n",
    "\n",
    "\n",
    "迷宫数据结构的实现：\n",
    "* 采用列表（列表的数据项为字符列表）的方式来保存方格内容$\\implies$也就是两级列表\n",
    "* 采用不同字符分别代表：墙壁（“+”），通道（“ ”）,海龟投放点（“S”）\n",
    "* 从一个文本文件逐行读入迷宫数据\n",
    "\n",
    "$\\implies$可以使用文本编辑器编辑迷宫"
   ]
  },
  {
   "cell_type": "code",
   "execution_count": null,
   "metadata": {},
   "outputs": [],
   "source": [
    "#**********Maze*******************\n",
    "\n",
    "class Maze:\n",
    "    def __init__(self,mazeFileName):\n",
    "        rowsInMaze = 0\n",
    "        columnsInMaze = 0\n",
    "        self.mazelist = []\n",
    "        mazeFile = open(mazeFileName,'r')\n",
    "        rowsInMaze = 0\n",
    "        for line in mazeFile:\n",
    "            rowList = []\n",
    "            col = 0\n",
    "            for ch in line[:-1]:\n",
    "                rowList.append(ch)\n",
    "                if ch == 'S':\n",
    "                    self.startRow = rowsInMaze\n",
    "                    self.startCol = col\n",
    "                col = col + 1\n",
    "            rowsInMaze = rowsInMaze + 1\n",
    "            self.mazelist.append(rowList)\n",
    "            columnsInMaze = len(rowList)"
   ]
  },
  {
   "cell_type": "code",
   "execution_count": 1,
   "metadata": {},
   "outputs": [],
   "source": [
    "# 常量定义\n",
    "OBSTACLE = '+'\n",
    "TRIED = '.'\n",
    "DEAD_END = '-'\n",
    "PART_OF_PATH = 'O'\n",
    "\n",
    "class Maze:\n",
    "    def __init__(self, mazeFileName):\n",
    "        with open(mazeFileName, 'r') as mazeFile:\n",
    "            self.mazelist = []\n",
    "            for row, line in enumerate(mazeFile):\n",
    "                line = line.rstrip('\\n')  # 处理换行符\n",
    "                rowList = []\n",
    "                for col, ch in enumerate(line):\n",
    "                    rowList.append(ch)\n",
    "                    if ch == 'S':\n",
    "                        self.startRow = row\n",
    "                        self.startCol = col\n",
    "                self.mazelist.append(rowList)\n",
    "        self.rows = len(self.mazelist)\n",
    "        self.columns = len(self.mazelist[0]) if self.rows > 0 else 0\n",
    "\n",
    "    def __getitem__(self, index):\n",
    "        return self.mazelist[index]\n",
    "\n",
    "    def isExit(self, row, col):\n",
    "        # 出口需为边界且是空格\n",
    "        return (row == 0 or row == self.rows-1 or \n",
    "                col == 0 or col == self.columns-1) and self.mazelist[row][col] == ' '\n",
    "\n",
    "    def updatePosition(self, row, col, status=None):\n",
    "        # 更新路径状态（此处需集成海龟绘图逻辑）\n",
    "        if status:\n",
    "            self.mazelist[row][col] = status"
   ]
  },
  {
   "cell_type": "markdown",
   "metadata": {},
   "source": [
    "确定迷宫的数据结构后，思考海龟的情况：\n",
    "* 必然身处某个方格之中\n",
    "* 它所能移动的方向，必须顺着通道\n",
    "* 如果某个方向事墙壁，就要换一个方向移动"
   ]
  },
  {
   "cell_type": "markdown",
   "metadata": {},
   "source": [
    "## <a id='toc7_2_'></a>[2. 算法](#toc0_)\n",
    "探索迷宫的递归算法思路草稿如下:  \n",
    "* 将海龟从原位置向北移动一步,以新位置【递归】调用探索迷宫寻找出口\n",
    "* 如果上面的步骤找不到出口,那么将海龟从原位置向南移动一步,以新位置【递归】调用探索迷宫\n",
    "* 如果向南还找不到出口,那么将海龟从原位置向西移动一步,以新位置【递归】调用探索迷宫\n",
    "* 如果向西还找不到出口,那么将海龟从原位置向东移动一步,以新位置【递归】调用探索迷宫\n",
    "* 如果上面四个方向都找不到出口,那么这个迷宫就没有出口"
   ]
  },
  {
   "cell_type": "markdown",
   "metadata": {},
   "source": [
    "但是：\n",
    "* 如果我们向某个方向(如北)移动了海龟，如果新位置的北正好是一堵墙壁,那么在新位置上的递归调用就会让海龟向南尝试\n",
    "* 可是新位置的南边一格,正好就是递归调用之前的原位置\n",
    "\n",
    "$\\implies$ 这样就陷入了无限递归的死循环之中\n",
    "\n",
    "$\\implies$面包屑机制（记录海龟所走过的路径）"
   ]
  },
  {
   "cell_type": "markdown",
   "metadata": {},
   "source": [
    "也就是：沿途洒“面包屑”\n",
    "* 一旦前进方向发现“面包屑”，就不再踩上去\n",
    "* 而是必须换下一个方向尝试 \n",
    "\n",
    "$\\implies$ 对于递归调用来说，就是某方向的方格上发现“面包屑”，就立即从递归调用返回上一级"
   ]
  },
  {
   "cell_type": "markdown",
   "metadata": {},
   "source": [
    "优化递归调用的“基本结束条件”如下:\n",
    "* 海龟碰到“墙壁”方格,递归调用结束,返回失败\n",
    "* 海龟碰到“面包屑”方格,表示此方格已访问过,递归调用结束,返回失败\n",
    "* 海龟在四个方向上探索都失败,递归调用结束,  返回失败\n",
    "* 海龟碰到“出口”方格,即“位于边缘的通道”方格,递归调用结束,返回成功\n",
    "\n",
    "\n",
    "理论完成，开始实现！"
   ]
  },
  {
   "cell_type": "code",
   "execution_count": null,
   "metadata": {},
   "outputs": [],
   "source": [
    "def searchFrom(maze, startRow, startColumn):\n",
    "    # 边界检查\n",
    "    if (startRow < 0 or startRow >= maze.rows or \n",
    "        startColumn < 0 or startColumn >= maze.columns):\n",
    "        return False\n",
    "    \n",
    "    maze.updatePosition(startRow, startColumn)\n",
    "    \n",
    "    # 1. 遇到障碍物\n",
    "    if maze[startRow][startColumn] == OBSTACLE:\n",
    "        return False\n",
    "    # 2. 已尝试过或死胡同\n",
    "    if (maze[startRow][startColumn] == TRIED or \n",
    "        maze[startRow][startColumn] == DEAD_END):\n",
    "        return False\n",
    "    # 3. 找到出口\n",
    "    if maze.isExit(startRow, startColumn):\n",
    "        maze.updatePosition(startRow, startColumn, PART_OF_PATH)\n",
    "        return True\n",
    "    \n",
    "    # 4. 标记为尝试路径\n",
    "    maze.updatePosition(startRow, startColumn, TRIED)\n",
    "    \n",
    "    # 按北→西→南→东顺序探索（使用括号替代反斜杠）\n",
    "    found = (\n",
    "        searchFrom(maze, startRow - 1, startColumn)  # 北\n",
    "        or searchFrom(maze, startRow, startColumn - 1)  # 西\n",
    "        or searchFrom(maze, startRow + 1, startColumn)  # 南\n",
    "        or searchFrom(maze, startRow, startColumn + 1)  # 东\n",
    "    )\n",
    "    \n",
    "    # 回溯标记\n",
    "    if found:\n",
    "        maze.updatePosition(startRow, startColumn, PART_OF_PATH)\n",
    "    else:\n",
    "        maze.updatePosition(startRow, startColumn, DEAD_END)\n",
    "        \n",
    "    return found"
   ]
  },
  {
   "cell_type": "code",
   "execution_count": 2,
   "metadata": {},
   "outputs": [],
   "source": [
    "def searchFrom(maze, startRow, startCol):\n",
    "    # 边界检查\n",
    "    if (startRow < 0 or startRow >= maze.rows or \n",
    "        startCol < 0 or startCol >= maze.columns):\n",
    "        return False\n",
    "\n",
    "    # 遇到障碍物或已探索路径\n",
    "    if maze[startRow][startCol] == OBSTACLE or \\\n",
    "       maze[startRow][startCol] in (TRIED, DEAD_END):\n",
    "        return False\n",
    "\n",
    "    # 找到出口（必须是边界空格）\n",
    "    if maze.isExit(startRow, startCol):\n",
    "        maze.updatePosition(startRow, startCol, PART_OF_PATH)\n",
    "        return True\n",
    "\n",
    "    # 标记当前为尝试路径\n",
    "    maze.updatePosition(startRow, startCol, TRIED)\n",
    "\n",
    "    # 按北→西→南→东顺序探索\n",
    "    found = (\n",
    "        searchFrom(maze, startRow-1, startCol) or  # 北\n",
    "        searchFrom(maze, startRow, startCol-1) or  # 西\n",
    "        searchFrom(maze, startRow+1, startCol) or  # 南\n",
    "        searchFrom(maze, startRow, startCol+1)     # 东\n",
    "    )\n",
    "\n",
    "    # 回溯标记最终路径或死胡同\n",
    "    maze.updatePosition(startRow, startCol, \n",
    "                       PART_OF_PATH if found else DEAD_END)\n",
    "    return found"
   ]
  },
  {
   "cell_type": "code",
   "execution_count": 3,
   "metadata": {},
   "outputs": [
    {
     "name": "stdout",
     "output_type": "stream",
     "text": [
      "+++++++++++++\n",
      "+-----------+\n",
      "+-++++++++-++\n",
      "+-+-------+ +\n",
      "+-+-+++-+-+ +\n",
      "+---+---+-+ +\n",
      "+++++-+++++ +\n",
      "+-----+     +\n",
      "+++++++++++++\n"
     ]
    }
   ],
   "source": [
    "maze = Maze(\"maze.txt\")\n",
    "searchFrom(maze, maze.startRow, maze.startCol)\n",
    "\n",
    "# 打印最终路径结果\n",
    "for row in maze.mazelist:\n",
    "    print(''.join(row))"
   ]
  },
  {
   "cell_type": "code",
   "execution_count": 1,
   "metadata": {},
   "outputs": [
    {
     "name": "stdout",
     "output_type": "stream",
     "text": [
      "-\n"
     ]
    }
   ],
   "source": [
    "import turtle\n",
    "import time\n",
    "\n",
    "# 符号常量\n",
    "OBSTACLE = '+'\n",
    "TRIED = '.'\n",
    "DEAD_END = '-'\n",
    "PART_OF_PATH = 'O'\n",
    "\n",
    "class Maze:\n",
    "    def __init__(self, mazeFileName):\n",
    "        self.t = turtle.Turtle()\n",
    "        self.t.speed(0)\n",
    "        self.t.hideturtle()\n",
    "        self.screen = turtle.Screen()\n",
    "        self.screen.setup(800, 600)\n",
    "        self.screen.tracer(0)\n",
    "        \n",
    "        with open(mazeFileName, 'r') as f:\n",
    "            self.mazelist = []\n",
    "            for row, line in enumerate(f.read().splitlines()):\n",
    "                row_data = []\n",
    "                for col, ch in enumerate(line):\n",
    "                    row_data.append(ch)\n",
    "                    if ch == 'S':\n",
    "                        self.startRow, self.startCol = row, col\n",
    "                self.mazelist.append(row_data)\n",
    "        \n",
    "        self.rows = len(self.mazelist)\n",
    "        self.columns = len(self.mazelist[0]) if self.rows > 0 else 0\n",
    "        self.cell_size = 20\n",
    "        self._draw_maze()\n",
    "\n",
    "    def _draw_maze(self):\n",
    "        self.t.penup()\n",
    "        for y in range(self.rows):\n",
    "            for x in range(self.columns):\n",
    "                screen_x = -self.columns*self.cell_size/2 + x*self.cell_size\n",
    "                screen_y = self.rows*self.cell_size/2 - y*self.cell_size\n",
    "                \n",
    "                if self.mazelist[y][x] == OBSTACLE:\n",
    "                    self.t.goto(screen_x, screen_y)\n",
    "                    self.t.color('blue')\n",
    "                    self.t.dot(self.cell_size-2)\n",
    "                elif self.mazelist[y][x] == 'S':\n",
    "                    self.t.goto(screen_x, screen_y)\n",
    "                    self.t.color('orange')\n",
    "                    self.t.dot(self.cell_size-2)\n",
    "                elif self.mazelist[y][x] == 'E':\n",
    "                    self.t.goto(screen_x, screen_y)\n",
    "                    self.t.color('purple')\n",
    "                    self.t.dot(self.cell_size-2)\n",
    "\n",
    "    def __getitem__(self, index):\n",
    "        return self.mazelist[index]\n",
    "\n",
    "    def isExit(self, row, col):\n",
    "        return (row == 0 or row == self.rows-1 or \n",
    "                col == 0 or col == self.columns-1) and self.mazelist[row][col] == ' '\n",
    "\n",
    "    def updatePosition(self, row, col, status=None):\n",
    "        if status:\n",
    "            self.mazelist[row][col] = status\n",
    "            \n",
    "            screen_x = -self.columns*self.cell_size/2 + col*self.cell_size\n",
    "            screen_y = self.rows*self.cell_size/2 - row*self.cell_size\n",
    "            self.t.goto(screen_x, screen_y)\n",
    "            \n",
    "            if status == TRIED:\n",
    "                self.t.color('gray')\n",
    "            elif status == DEAD_END:\n",
    "                self.t.color('red')\n",
    "            elif status == PART_OF_PATH:\n",
    "                self.t.color('green')\n",
    "            \n",
    "            self.t.dot(self.cell_size-2)\n",
    "            self.screen.update()\n",
    "            time.sleep(0.05)\n",
    "\n",
    "def searchFrom(maze, startRow, startCol):\n",
    "    if (startRow < 0 or startRow >= maze.rows or \n",
    "        startCol < 0 or startCol >= maze.columns):\n",
    "        return False\n",
    "\n",
    "    if maze[startRow][startCol] == OBSTACLE or \\\n",
    "       maze[startRow][startCol] in (TRIED, DEAD_END):\n",
    "        return False\n",
    "\n",
    "    if maze.isExit(startRow, startCol):\n",
    "        maze.updatePosition(startRow, startCol, PART_OF_PATH)\n",
    "        return True\n",
    "\n",
    "    maze.updatePosition(startRow, startCol, TRIED)\n",
    "\n",
    "    found = (searchFrom(maze, startRow-1, startCol) or\n",
    "             searchFrom(maze, startRow, startCol-1) or\n",
    "             searchFrom(maze, startRow+1, startCol) or\n",
    "             searchFrom(maze, startRow, startCol+1))\n",
    "\n",
    "    maze.updatePosition(startRow, startCol, \n",
    "                       PART_OF_PATH if found else DEAD_END)\n",
    "    return found\n",
    "\n",
    "# 使用示例\n",
    "maze = Maze(\"maze.txt\")\n",
    "searchFrom(maze, maze.startRow, maze.startCol)\n",
    "# 在最终打印时查看起点状态\n",
    "print(maze[maze.startRow][maze.startCol])  # 应输出'O'（有效路径）\n",
    "turtle.done()"
   ]
  },
  {
   "cell_type": "markdown",
   "metadata": {},
   "source": [
    "请注意这个会回到起点。因为：\n",
    "* 递归回溯的必然路径\n",
    "* 递归算法在找到出口后，会沿着调用栈回溯并标记有效路径\n",
    "* 起点作为第一个递归调用点，必然是路径标记的终点"
   ]
  },
  {
   "cell_type": "markdown",
   "metadata": {},
   "source": [
    "这个算法可以用来安排扫地机器人的运动轨迹"
   ]
  },
  {
   "cell_type": "markdown",
   "metadata": {},
   "source": [
    "********************************************************************\n",
    "# <a id='toc8_'></a>[作业](#toc0_)"
   ]
  },
  {
   "cell_type": "code",
   "execution_count": null,
   "metadata": {},
   "outputs": [],
   "source": [
    "#homework1\n",
    "# m进制转十进制\n",
    "def c_m_10(num, m):\n",
    "    # 公式 num = an * m**(n-1) + an-1 * m**(n-2).....+ a0 * m**0\n",
    "    # 直接利用int的自带功能\n",
    "    num = int(str(num), base=m)\n",
    "    return num\n",
    " \n",
    "# 十进制转m进制\n",
    "def c_10_m(num, n):\n",
    "    res = \"\"\n",
    "    while num:\n",
    "        res = \"0123456789ABCDEFGHIGKLMNOPQRSTUVWXYZ\"[num % n] + res\n",
    "        num = num // n\n",
    "    return res\n",
    "# m进制转n进制\n",
    "def m_10_n(num, m, n):\n",
    "    return c_10_m(c_m_10(num, m), n)\n",
    " \n",
    "m, n = map(int, input().split())\n",
    "num = input()\n",
    "print(m_10_n(num, m, n))"
   ]
  },
  {
   "cell_type": "code",
   "execution_count": null,
   "metadata": {},
   "outputs": [],
   "source": [
    "#homework2\n",
    "def hanoi4(n):\n",
    "    h_list = [0] * (n + 1)\n",
    " \n",
    "    def f(m):\n",
    "        if h_list[m]:#when h_list[m] = 1.because there is only one time for 1 pan.\n",
    "            return h_list[m]\n",
    "        result = 2 ** m - 1#3 hanoi\n",
    "        for x in range(1, m):\n",
    "            result = min(result, 2 * f(x) + 2 ** (m - x) - 1)#record the times when #pans <= m.x less than m for 37th row is calculating.\n",
    "        h_list[m] = result\n",
    "        return result\n",
    " \n",
    "    return f(n)\n",
    "print(hanoi4(int(input())))"
   ]
  },
  {
   "cell_type": "code",
   "execution_count": null,
   "metadata": {},
   "outputs": [],
   "source": [
    "# homework3\n",
    "def carpet(N, C):\n",
    "    def check(n, x, y):\n",
    "        if n <= 1:\n",
    "            return True\n",
    "        n2 = n // 3\n",
    "        if n2 <= x < n2 * 2 and n2 <= y < n2 * 2:\n",
    "            return False\n",
    "        return check(n2, x%n2, y%n2)\n",
    " \n",
    "    for y in range(N):\n",
    "        for x in range(N):\n",
    "            if check(N, x, y):\n",
    "                print(C, end='')\n",
    "            else:\n",
    "                print(' ' * len(C), end='')\n",
    "        print('')\n",
    " \n",
    "N = int(input())\n",
    "C = input()\n",
    "carpet(N,C)"
   ]
  }
 ],
 "metadata": {
  "kernelspec": {
   "display_name": "base",
   "language": "python",
   "name": "python3"
  },
  "language_info": {
   "codemirror_mode": {
    "name": "ipython",
    "version": 3
   },
   "file_extension": ".py",
   "mimetype": "text/x-python",
   "name": "python",
   "nbconvert_exporter": "python",
   "pygments_lexer": "ipython3",
   "version": "3.12.7"
  },
  "orig_nbformat": 2
 },
 "nbformat": 4,
 "nbformat_minor": 2
}
