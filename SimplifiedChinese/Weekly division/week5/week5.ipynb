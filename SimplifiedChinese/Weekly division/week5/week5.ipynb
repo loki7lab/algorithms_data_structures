{
 "cells": [
  {
   "cell_type": "markdown",
   "metadata": {},
   "source": [
    "【本周思路】\n",
    "本周和下周课程都是学习递归的，下周课程会涉及到部分的动态规划。以下是本周大纲：\n",
    "* 401 什么是递归\n",
    "* 402 递归的应用\n",
    "* 403 递归的实现\n",
    "* 404-405 递归的可视化\n",
    "* 406-407 递归的应用 "
   ]
  },
  {
   "cell_type": "markdown",
   "metadata": {},
   "source": [
    "# 401 什么是递归\n",
    "\n",
    "精髓：把问题分解为规模更小的【相同】问题\n",
    "* 持续分解：知道问题规模小到可以用非常简单的方式来解决\n",
    "* 递归的特征：在算法流程中【调用自身】\n",
    "\n",
    "请注意，最后的顺序是和栈一样，会颠倒。请参考下面的案例"
   ]
  },
  {
   "cell_type": "markdown",
   "metadata": {},
   "source": [
    "## 1. 案例\n",
    "\n",
    "给定一个列表，返回所有数的和\n",
    "\n",
    "条件是列表中个数不确定，不能使用循环语句\n",
    "\n",
    "分析有：\n",
    "每一步执行的都是加法，加法恰好有2个操作数\n",
    "\n",
    "$\\implies$ 将问题规模较大的列表求和，分解为规模较小而且固定的2个数求和\n",
    "也就是\n",
    "$$数列的和 = 首个数 + 余下数列的和$$\n",
    "\n",
    "如果数列包含的数少到只有1个的话，它的和就是这个数了\n",
    "\n",
    "$\\implies$ 递归"
   ]
  },
  {
   "cell_type": "code",
   "execution_count": null,
   "metadata": {},
   "outputs": [],
   "source": [
    "#数列求和\n",
    "def listSum(numList):\n",
    "    if len(numList) == 1:\n",
    "        return numList[0]\n",
    "    else:\n",
    "        return numList[0]+listSum(numList[1:])#通过这句，每次递归都会实质上更新numList；可以参考try.py中的调试过程\n",
    "print(listSum([1,3,5,7,9]))"
   ]
  },
  {
   "cell_type": "markdown",
   "metadata": {},
   "source": [
    "参考解说有\n",
    "\n",
    "![递归求和](./img/401.PNG)"
   ]
  },
  {
   "cell_type": "markdown",
   "metadata": {},
   "source": [
    "## 2. 递归三定律【重点】\n",
    "* 递归算法必须有一个基本结束条件$\\implies$最小规模问题的直接解决\n",
    "* 递归算法必须能改变状态向基本结束条件演进$\\implies$减小问题规模\n",
    "* 递归算法必须调用自身$\\implies$解决减小了规模的相同问题\n",
    "\n",
    "调用自身比较难理解，不妨理解为：\n",
    "\n",
    "问题分解成规模更小的相同问题【套娃】"
   ]
  },
  {
   "cell_type": "markdown",
   "metadata": {},
   "source": [
    "结合数列求和算法对照递归条件，有：\n",
    "* 具备基本结束条件：当列表长度为1，直接输出所包含的唯一数\n",
    "* 该递归算法是：改变列表并向长度为1的状态演进\n",
    "* 调用自身：解决更短数列的求和问题"
   ]
  },
  {
   "cell_type": "markdown",
   "metadata": {},
   "source": [
    "# 402 递归的应用：任意进制转换\n",
    "以转换到十进制为例，思考这个问题：\n",
    "1. 比十小的整数，直接查表：```convString[n]```\n",
    "2. 比十大的整数，对照基，拆成一系列比十小的整数，再逐个查表\n",
    "\n",
    "$\\implies$\n",
    "\n",
    "* 找到基本结束条件：小于十的整数，进行查表转化\n",
    "* 向“基本结束条件”演进：通过基拆解大于十的过程\n",
    "\n",
    "算法需要调用自身，也就是辗转相除：\n",
    "\n",
    "* 除以“进制基base”（//base）\n",
    "* 对“进制基”求余数，找出对应的（% base）\n",
    "\n",
    "参考下图，不妨将“769”视为十进制下的，检验转为十进制是否有误\n",
    "\n",
    "![进制转换](./img/402.PNG)\n",
    "\n"
   ]
  },
  {
   "cell_type": "code",
   "execution_count": null,
   "metadata": {},
   "outputs": [],
   "source": [
    "def toStr(n,base):\n",
    "    convertString = \"0123456789ABCDEF\"\n",
    "    if n < base:\n",
    "        return convertString[n]#查表\n",
    "    else:\n",
    "        return toStr(n//base,base) + convertString[n%base]#前者继续递归，后者查表确定对应的符号\n",
    "print(toStr(1453,16))\n",
    "#print(type(toStr(1453,16)))\n",
    "#print(int(toStr(1453,16)))"
   ]
  },
  {
   "cell_type": "markdown",
   "metadata": {},
   "source": [
    "过程为：\n",
    "\n",
    "1453 ÷ 16 = 90 余 13 → 'D'\n",
    "\n",
    "90 ÷ 16 = 5 余 10 → 'A'\n",
    "\n",
    "5 ÷ 16 = 0 余 5 → '5'\n",
    "\n",
    "递归拼接结果为\"5\" + \"A\" + \"D\" = \"5AD\"（十六进制）\n",
    "\n",
    "$\\implies$\n",
    "\n",
    "**请注意顺序反过来了！**"
   ]
  },
  {
   "cell_type": "markdown",
   "metadata": {},
   "source": [
    "# 403 递归调用的实现\n",
    "\n",
    "* 递归和栈的关系：当一个函数被调用时，系统会把调用时的现场数据压入到系统调用栈。其中现场数据包括：\n",
    "    * 函数的参数值\n",
    "    * 函数内的局部变量值\n",
    "    * 函数的返回地址（调用结束后应返回的代码位置）\n",
    "    * 寄存器的当前状态\n",
    "    * 函数的返回值（如果有\n",
    "\n",
    "* 当发生递归调用时，系统会自动将这些现场数据压入内存中的调用栈（call stack），形成栈帧(stack frame)\n",
    "* 每个递归调用都会创建新的栈帧\n",
    "* 当递归返回（达成最基本结束条件）时，系统会按照后进先出(LIFO)的顺序弹出栈帧，恢复之前的执行现场\n",
    "\n",
    "参考1\n",
    "\n",
    "![403](./img/403.PNG)\n",
    "\n",
    "在$1 < 2$的时候触发基本结束条件，即可以返回"
   ]
  },
  {
   "cell_type": "code",
   "execution_count": null,
   "metadata": {},
   "outputs": [],
   "source": [
    "#参考2\n",
    "def factorial(n):\n",
    "    if n == 0:\n",
    "        return 1\n",
    "    else:\n",
    "        return n * factorial(n-1)\n",
    "    \n",
    "factorial(3)"
   ]
  },
  {
   "cell_type": "markdown",
   "metadata": {},
   "source": [
    "当调用factorial(3)时：\n",
    "\n",
    "* 首次调用压入参数n=3\n",
    "* 递归调用n=2时，保存n=3的当前值到栈中\n",
    "* 继续递归调用n=1，保存n=2的状态\n",
    "* 最后n=0时开始逐层返回，每次弹出栈帧恢复之前的n值\n",
    "\n",
    "这种机制保证了递归调用可以正确回溯到之前的执行状态，但需要注意Python默认的递归深度限制（可通过```sys.setrecursionlimit()```调整）"
   ]
  },
  {
   "cell_type": "markdown",
   "metadata": {},
   "source": [
    "python中的递归深度限制：\n",
    "\n",
    "* RecursionError：通常是递归层数太多，系统调用占容量有限。可以从以下方面检查：\n",
    "    * 没有停止条件\n",
    "    * 递归演进太慢，导致递归层数太多，调用栈溢出"
   ]
  },
  {
   "cell_type": "code",
   "execution_count": null,
   "metadata": {},
   "outputs": [],
   "source": [
    "# 没有停止条件\n",
    "def tell_story():\n",
    "    print(\"从前有座山，山上有座庙，庙里有个老和尚，他在讲\")\n",
    "    tell_story()\n",
    "\n",
    "print(\"给你讲个故事\")\n",
    "tell_story()"
   ]
  },
  {
   "cell_type": "markdown",
   "metadata": {},
   "source": [
    "在Python内置的sys模块可以获取和调整最大递归深度"
   ]
  },
  {
   "cell_type": "code",
   "execution_count": null,
   "metadata": {},
   "outputs": [],
   "source": [
    "import sys\n",
    "sys.getrecursionlimit()\n",
    "sys.setrecursionlimit(3000)"
   ]
  },
  {
   "cell_type": "markdown",
   "metadata": {},
   "source": [
    "# 404 递归可视化：分形树"
   ]
  },
  {
   "cell_type": "markdown",
   "metadata": {},
   "source": [
    "海龟作图系统turtle module，简单示例如下"
   ]
  },
  {
   "cell_type": "code",
   "execution_count": null,
   "metadata": {},
   "outputs": [],
   "source": [
    "import turtle\n",
    "t = turtle.Turtle()\n",
    "\n",
    "t.forward(100)\n",
    "\n",
    "#作图结束\n",
    "turtle.done()"
   ]
  },
  {
   "cell_type": "markdown",
   "metadata": {},
   "source": [
    "现在开始进行递归作图，思路是\n",
    "* 最小规模 ：```if linelen > 0```\n",
    "* 减少规模 & 调用自身： ```drawSpiral(t,linelen - 5)```"
   ]
  },
  {
   "cell_type": "code",
   "execution_count": null,
   "metadata": {},
   "outputs": [],
   "source": [
    "# 递归可视化\n",
    "import turtle\n",
    "t = turtle.Turtle()\n",
    "\n",
    "def drawSpiral(t,lineLen):\n",
    "    if lineLen > 0:\n",
    "        t.forward(lineLen)\n",
    "        t.right(90)\n",
    "        drawSpiral(t,lineLen - 5)\n",
    "\n",
    "drawSpiral(t,100)\n",
    "\n",
    "turtle.done()"
   ]
  },
  {
   "cell_type": "code",
   "execution_count": null,
   "metadata": {},
   "outputs": [],
   "source": [
    "import turtle\n",
    "t = turtle.Turtle()\n",
    "\n",
    "def drawSpiral(t, lineLen):\n",
    "    if lineLen > 0:\n",
    "        t.forward(lineLen)\n",
    "        t.right(90)\n",
    "        drawSpiral(t, lineLen - 5)\n",
    "    t.hideturtle()\n",
    "  \n",
    "\n",
    "drawSpiral(t, 100)\n",
    "turtle.bye()   # 强制关闭Turtle图形窗口\n",
    "#turtle.clearscreen()  # 可选：清空画布"
   ]
  },
  {
   "cell_type": "markdown",
   "metadata": {},
   "source": [
    "## 2. 分形树：自相似递归图形\n",
    " \n",
    "什么是分形？\n",
    "\n",
    "定义：分形是一种具有**自相似性**和**无限细节**的几何结构或数学模型【整体与部分相似】\n",
    "\n",
    "核心特征包括：  \n",
    "\n",
    "1. **自相似性**  \n",
    "   分形的局部结构与整体形态在任意尺度下具有统计或精确的相似性。例如：  \n",
    "   - **科赫雪花**：每条边的细分部分均生成与原边相似的小三角形。  \n",
    "   - **曼德博集合**：其边界在放大后仍呈现与整体相似的复杂图案。  \n",
    "\n",
    "2. **非整数维度**  \n",
    "   分形的维度（分形维数）可以是分数，例如：  \n",
    "   - 科赫曲线的维数为 $ \\frac{\\log 4}{\\log 3} \\approx 1.26 $ \n",
    "   - 谢尔宾斯基地毯的维数为 $\\frac{\\log 8}{\\log 3} \\approx 1.89 $  \n",
    "\n",
    "3. **迭代生成**  \n",
    "   分形通常通过递归规则生成。例如，曼德博集合（Mandelbrot set）由复数平面上的迭代公式定义，计算发散性而产生无限复制的边界\n",
    "$$\n",
    "   z_{n+1} = z_n^2 + c  \\quad\n",
    "$$"
   ]
  },
  {
   "cell_type": "markdown",
   "metadata": {},
   "source": [
    "* 自然现象中所具备的分形特征，使得计算机可以通过分形算法生成非常逼真的自然场景\n",
    "* 分形是在不同尺度上都具有相似性的事物\n",
    "* 因为具有自相似特征，所以使用递归算法来处理"
   ]
  },
  {
   "cell_type": "markdown",
   "metadata": {},
   "source": [
    "递归算法如何处理分形树？\n",
    "  \n",
    "![404](./img/404.PNG)"
   ]
  },
  {
   "cell_type": "markdown",
   "metadata": {},
   "source": [
    "\n",
    "* 基本结束条件：树干长度太短就停止\n",
    "* 减小问题规模：每次递归调用必须使问题规模更接近基本结束条件，也就是每次递归时缩短树枝长度，并减少递归深度\n",
    "* 调用自身：把树分解为三个部分：树干，左边的小树，右边的小树；形成自相似结构"
   ]
  },
  {
   "cell_type": "markdown",
   "metadata": {},
   "source": [
    "理论完成，开始实现"
   ]
  },
  {
   "cell_type": "code",
   "execution_count": null,
   "metadata": {},
   "outputs": [],
   "source": [
    "import turtle\n",
    "\n",
    "t = turtle.Turtle()\n",
    "t.left(90)#调整方向竖直向上\n",
    "\n",
    "def tree(branch_len):\n",
    "    if branch_len > 5:\n",
    "        t.forward(branch_len)\n",
    "        #右分支\n",
    "        t.right(20)\n",
    "        tree(branch_len - 15)#假设每个过程都会回到原处\n",
    "        #左分支\n",
    "        t.left(40)#需向左转双倍角度（抵消右转20°并新增左转20°\n",
    "        tree(branch_len - 15)\n",
    "        #返回原点\n",
    "        t.right(20)#回正方向（与左转20°抵消）\n",
    "        t.backward(branch_len)#退回出发点\n",
    "\n",
    "tree(75)\n",
    "turtle.bye()"
   ]
  },
  {
   "cell_type": "markdown",
   "metadata": {},
   "source": [
    "进一步优化如下："
   ]
  },
  {
   "cell_type": "code",
   "execution_count": null,
   "metadata": {},
   "outputs": [],
   "source": [
    "import turtle\n",
    "\n",
    "def tree(branch_len):\n",
    "    if branch_len > 5:\n",
    "        t.forward(branch_len)\n",
    "        t.right(20)\n",
    "        tree(branch_len - 15)\n",
    "        t.left(40)\n",
    "        tree(branch_len - 15)\n",
    "        t.right(20)\n",
    "        t.backward(branch_len)#attention there is always the EndPlot where no matter turn left/right/backward\n",
    "        #on the endplot,it always return back to the fork point and turn left\n",
    "\n",
    "t = turtle.Turtle()\n",
    "t.left(90)\n",
    "t.penup()\n",
    "t.backward(100)#不留痕迹退回100步\n",
    "t.pendown()\n",
    "t.pencolor('green')\n",
    "t.pensize(2)\n",
    "tree(75)\n",
    "t.hideturtle()\n",
    "turtle.done()"
   ]
  },
  {
   "cell_type": "markdown",
   "metadata": {},
   "source": [
    "补充代码中全局变量t的说明\n",
    "\n",
    "$\\implies$\n",
    "\n",
    "这段代码中t能被tree函数直接调用的原因是作用域规则：\n",
    "\n",
    "* 全局作用域：变量```t = turtle.Turtle()```是在模块级作用域（全局作用域）中定义的\n",
    "\n",
    "* 函数访问规则：Python函数可以直接读取外层作用域的变量。```tree()```函数虽然是在t之后定义的，但由于：\n",
    "    * 没有对t进行赋值操作（即没有t = ...语句）\n",
    "    * 仅调用t的方法（如t.right()/t.forward()）\n",
    "    \n",
    "    $\\implies$ 因此不需要使用 ```global t```声明\n",
    "\n",
    "* 对象可变性：t是Turtle对象实例，所有方向/位置变化都是通过修改对象属性实现的。虽然函数内改变了乌龟的状态，但这属于合法操作"
   ]
  },
  {
   "cell_type": "markdown",
   "metadata": {},
   "source": [
    "# 405 递归可视化：谢尔宾斯基三角形"
   ]
  },
  {
   "cell_type": "markdown",
   "metadata": {},
   "source": [
    "## 1. 题目"
   ]
  },
  {
   "cell_type": "markdown",
   "metadata": {},
   "source": [
    "这是典型的分形构造\n",
    "* 平面的叫谢尔宾斯基三角形\n",
    "* 立体的叫谢尔宾斯基金字塔\n",
    "\n",
    "\n",
    "\n",
    "构造方法：\n",
    "\n",
    "* 递归分割：从一个实心等边三角形开始，将其分割为4个相同的小三角形，移除中心的三角形，再对剩下的3个小三角形重复此过程，无限迭代后形成最终图案\n",
    "* 随机迭代法（混沌游戏）：随机选择一个起始点，再反复选择三角形的顶点之一，将当前点移动到与所选顶点之间的一半距离处，最终生成谢尔宾斯基三角形\n",
    "\n",
    "\n",
    "实际上，真正的谢尔宾斯基三角形是完全不可见的，其面积为0但周长无穷，是介于一维和二维中间的分数维（约1.585维）构造"
   ]
  },
  {
   "cell_type": "markdown",
   "metadata": {},
   "source": [
    "* 根据自相似性特征，谢尔宾斯基三角形是由3个尺寸减半的谢尔宾斯基三角形按”品“字形拼叠而成\n",
    "* 实际只能做出degree有限的近似图形"
   ]
  },
  {
   "cell_type": "markdown",
   "metadata": {},
   "source": [
    "## 2. 算法\n",
    "在degree有限的情况下，$degree = n$的三角形，是由3个$degree = n-1$的三角形按照品拼叠而成\n",
    "* 这3个$degree = n-1$的三角形边长均为$degree = n$的三角形的一半【规模减小】\n",
    "* 当$degree = 0$时，就是一个普通的等边三角形【递归基本结束条件】\n",
    "* 自相似性【调用自身】\n",
    "\n",
    "理论完成，开始实现【使用turtle】"
   ]
  },
  {
   "cell_type": "code",
   "execution_count": 1,
   "metadata": {},
   "outputs": [],
   "source": [
    "# 这里的比较难，先把轮子写好\n",
    "# 导入turtle绘图库\n",
    "import turtle\n",
    "\n",
    "def drawTriangle(points, color):\n",
    "    \"\"\"绘制并填充一个三角形\n",
    "    参数:\n",
    "        points (dict): 包含三个顶点坐标的字典，需要包含以下键:\n",
    "            - top: 顶点坐标 (x,y)\n",
    "            - left: 左下角坐标 (x,y) \n",
    "            - right: 右下角坐标 (x,y)\n",
    "        color (str): 填充颜色名称或十六进制颜色码\"\"\"\n",
    "    \n",
    "    # 设置填充颜色\n",
    "    t.fillcolor(color)\n",
    "    \n",
    "    # 抬起画笔移动到顶点\n",
    "    t.penup()\n",
    "    t.goto(points['top'])\n",
    "    \n",
    "    # 开始绘制路径\n",
    "    t.pendown()\n",
    "    t.begin_fill()\n",
    "    \"\"\"\n",
    "    t.begin_fill() 是填充颜色的起始标记，与 t.end_fill() 配合使用。它的作用是：\n",
    "\n",
    "    1. 标记填充起点：在调用 begin_fill() 后，海龟移动形成的闭合路径会作为待填充区域\n",
    "    2. 它与画出线条无关：实际绘制线条由 goto() 或 forward() 等移动方法实现\n",
    "    3. 颜色生效规则：需提前通过 t.fillcolor() 设置填充颜色\n",
    "\n",
    "    \"\"\"\n",
    "    \n",
    "    # 依次连接三个顶点形成闭合三角形\n",
    "    # 请注意是上左右上的顺序【回到原点】\n",
    "    t.goto(points['left'])\n",
    "    t.goto(points['right'])\n",
    "    t.goto(points['top'])  # 回到起点闭合路径\n",
    "    \n",
    "    # 结束填充\n",
    "    t.end_fill()\n",
    "\n",
    "def getMid(p1,p2):\n",
    "    return ((p1[0]+p2[0])/2,(p1[1]+p2[1])/2)\n",
    "\n",
    "\n",
    "points = {'left':(-200,-100),\n",
    "            'top':(0,200),\n",
    "            'right':(200,-100)}\n"
   ]
  },
  {
   "cell_type": "code",
   "execution_count": 2,
   "metadata": {},
   "outputs": [],
   "source": [
    "def sierpinski(degree,points):\n",
    "    colormap = ['blue','red','green','white','yellow','orange']\n",
    "    drawTriangle(points,colormap[degree])\n",
    "    if degree > 0:#这里重新建构points\n",
    "        #每个degree画3个就够了\n",
    "        #画左边的三角形\n",
    "        sierpinski(degree - 1,{\n",
    "            'left':points['left'],\n",
    "            'top':getMid(points['left'],points['top']),\n",
    "            'right':getMid(points['left'],points['right'])\n",
    "        })\n",
    "        #画顶端的三角形\n",
    "        sierpinski(degree - 1,{\n",
    "            'top':points['top'],\n",
    "            'left':getMid(points['top'],points['left']),\n",
    "            'right':getMid(points['right'],points['top'])\n",
    "        })\n",
    "        #画右边的三角形\n",
    "        sierpinski(degree - 1,{\n",
    "            'right':points['right'],\n",
    "            'top':getMid(points['right'],points['top']),\n",
    "            'left':getMid(points['right'],points['left'])\n",
    "        })\n",
    "\n",
    "# 创建海龟画笔对象\n",
    "t = turtle.Turtle()\n",
    "sierpinski(5,points)\n",
    "turtle.done()"
   ]
  },
  {
   "cell_type": "markdown",
   "metadata": {},
   "source": [
    "#  406 递归的应用：汉诺塔\n",
    "\n",
    "## 1. 问题\n",
    "法国数学家Edouard Lucas于1883年根据传说提出这个复杂递归问题：汉诺塔。\n",
    "* 有3根柱子\n",
    "* 其中一根套着64个由小到大的黄金盘片\n",
    "\n",
    "$\\implies$僧侣们需要把这一叠黄金盘片从一根柱子搬到另一根柱子上，但需要遵循2个规则：\n",
    "* 一次只能搬一个\n",
    "* 大盘子不能叠在小盘子上\n",
    "\n",
    "请问要多久才能完成迁移？"
   ]
  },
  {
   "cell_type": "markdown",
   "metadata": {},
   "source": [
    "## 2. 算法\n",
    "按照递归三定律进行拆解 \n",
    "* 基本结束条件【最小规模问题】\n",
    "* 减小规模\n",
    "* 调用自身"
   ]
  },
  {
   "cell_type": "code",
   "execution_count": null,
   "metadata": {},
   "outputs": [],
   "source": [
    "def moveTower(height,fromPole,withPole,toPole):\n",
    "    if height >= 1:\n",
    "        moveTower(height - 1,fromPole,toPole,withPole)#从1到n-1个盘\n",
    "        moveDisk(height,fromPole,toPole)#第n个盘子\n",
    "        moveTower(height - 1,withPole,fromPole,toPole)\n",
    "\n",
    "def moveDisk(disk,fromPole,toPole):\n",
    "    print(f\"Moving disk[{disk}] from {fromPole} to {toPole}\")\n",
    "\n",
    "moveTower(3,\"#1\",\"#2\",\"#3\")"
   ]
  },
  {
   "cell_type": "code",
   "execution_count": null,
   "metadata": {},
   "outputs": [],
   "source": [
    "#**********Maze*******************\n",
    "\n",
    "class Maze:\n",
    "    def __init__(self,mazeFileName):\n",
    "        rowsInMaze = 0\n",
    "        columnsInMaze = 0\n",
    "        self.mazelist = []\n",
    "        mazeFile = open(mazeFileName,'r')\n",
    "        rowsInMaze = 0\n",
    "        for line in mazeFile:\n",
    "            rowList = []\n",
    "            col = 0\n",
    "            for ch in line[:-1]:\n",
    "                rowList.append(ch)\n",
    "                if ch == 'S':\n",
    "                    self.startRow = rowsInMaze\n",
    "                    self.startCol = col\n",
    "                col = col + 1\n",
    "            rowsInMaze = rowsInMaze + 1\n",
    "            self.mazelist.append(rowList)\n",
    "            columnsInMaze = len(rowList)"
   ]
  },
  {
   "cell_type": "code",
   "execution_count": null,
   "metadata": {},
   "outputs": [],
   "source": [
    "#homework1\n",
    "# m进制转十进制\n",
    "def c_m_10(num, m):\n",
    "    # 公式 num = an * m**(n-1) + an-1 * m**(n-2).....+ a0 * m**0\n",
    "    # 直接利用int的自带功能\n",
    "    num = int(str(num), base=m)\n",
    "    return num\n",
    " \n",
    "# 十进制转m进制\n",
    "def c_10_m(num, n):\n",
    "    res = \"\"\n",
    "    while num:\n",
    "        res = \"0123456789ABCDEFGHIGKLMNOPQRSTUVWXYZ\"[num % n] + res\n",
    "        num = num // n\n",
    "    return res\n",
    "# m进制转n进制\n",
    "def m_10_n(num, m, n):\n",
    "    return c_10_m(c_m_10(num, m), n)\n",
    " \n",
    "m, n = map(int, input().split())\n",
    "num = input()\n",
    "print(m_10_n(num, m, n))"
   ]
  },
  {
   "cell_type": "code",
   "execution_count": null,
   "metadata": {},
   "outputs": [],
   "source": [
    "#homework2\n",
    "def hanoi4(n):\n",
    "    h_list = [0] * (n + 1)\n",
    " \n",
    "    def f(m):\n",
    "        if h_list[m]:#when h_list[m] = 1.because there is only one time for 1 pan.\n",
    "            return h_list[m]\n",
    "        result = 2 ** m - 1#3 hanoi\n",
    "        for x in range(1, m):\n",
    "            result = min(result, 2 * f(x) + 2 ** (m - x) - 1)#record the times when #pans <= m.x less than m for 37th row is calculating.\n",
    "        h_list[m] = result\n",
    "        return result\n",
    " \n",
    "    return f(n)\n",
    "print(hanoi4(int(input())))"
   ]
  },
  {
   "cell_type": "code",
   "execution_count": null,
   "metadata": {},
   "outputs": [],
   "source": [
    "# homework3\n",
    "def carpet(N, C):\n",
    "    def check(n, x, y):\n",
    "        if n <= 1:\n",
    "            return True\n",
    "        n2 = n // 3\n",
    "        if n2 <= x < n2 * 2 and n2 <= y < n2 * 2:\n",
    "            return False\n",
    "        return check(n2, x%n2, y%n2)\n",
    " \n",
    "    for y in range(N):\n",
    "        for x in range(N):\n",
    "            if check(N, x, y):\n",
    "                print(C, end='')\n",
    "            else:\n",
    "                print(' ' * len(C), end='')\n",
    "        print('')\n",
    " \n",
    "N = int(input())\n",
    "C = input()\n",
    "carpet(N,C)"
   ]
  }
 ],
 "metadata": {
  "kernelspec": {
   "display_name": "base",
   "language": "python",
   "name": "python3"
  },
  "language_info": {
   "codemirror_mode": {
    "name": "ipython",
    "version": 3
   },
   "file_extension": ".py",
   "mimetype": "text/x-python",
   "name": "python",
   "nbconvert_exporter": "python",
   "pygments_lexer": "ipython3",
   "version": "3.12.7"
  },
  "orig_nbformat": 2
 },
 "nbformat": 4,
 "nbformat_minor": 2
}
