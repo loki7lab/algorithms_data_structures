{
 "cells": [
  {
   "cell_type": "markdown",
   "metadata": {},
   "source": [
    "【本周思路】\n",
    "\n",
    "本周和下周的课程都是学习线性结构。其中本周学习栈结构，介绍如下：\n",
    "\n",
    "* 301 什么是线性结构\n",
    "\n",
    "* 302 栈结构介绍\n",
    "\n",
    "* 303-307 栈结构的应用\n",
    "   * 303 简单括号匹配\n",
    "   * 304 十进制转二进制\n",
    "   * 305-306 表达式转换\n",
    "   * 后缀表达式求值"
   ]
  },
  {
   "cell_type": "markdown",
   "metadata": {},
   "source": [
    "**Table of contents**<a id='toc0_'></a>    \n",
    "- [什么是线性结构](#toc1_)    \n",
    "- [栈抽象数据类型](#toc2_)    \n",
    "- [栈的应用：简单括号匹配](#toc3_)    \n",
    "- [十进制转换为二进制](#toc4_)    \n",
    "- [表达式转换](#toc5_)    \n",
    "\n",
    "<!-- vscode-jupyter-toc-config\n",
    "\tnumbering=false\n",
    "\tanchor=true\n",
    "\tflat=false\n",
    "\tminLevel=1\n",
    "\tmaxLevel=6\n",
    "\t/vscode-jupyter-toc-config -->\n",
    "<!-- THIS CELL WILL BE REPLACED ON TOC UPDATE. DO NOT WRITE YOUR TEXT IN THIS CELL -->"
   ]
  },
  {
   "cell_type": "markdown",
   "metadata": {},
   "source": [
    "# <a id='toc1_'></a>[什么是线性结构](#toc0_)\n",
    "1. 线性结构是一种有序数据项的集合，其中\n",
    "每个数据项都有唯一的前驱和后继\n",
    "* 除了第一个没有前驱，最后一个没有后继\n",
    "* 新的数据项加入到数据集中时，只会加入到原有某个数据项之前或之后\n",
    "* 具有这种性质的数据集，就称为线性结构\n",
    "2. 线性结构总有两端，在不同的情况下，两\n",
    "端的称呼也不同\n",
    "* 有时候称为“左”“右”端、“前”“后”端、\n",
    "“顶”“底”端\n",
    "3. 两端的称呼并不是关键，不同线性结构的\n",
    "关键区别在于数据项增减的方式\n",
    "* 有的结构只允许数据项从一端添加，而有的结构\n",
    "则允许数据项从两端移除。有些可以从中间插入，仍然保持【加入到原有某个数据项之前或之后】的特点\n",
    "4. 典型：\n",
    "* 栈Stack\n",
    "* 队列Queue\n",
    "* 双端队列Deque\n",
    "* 列表List\n",
    "5. 虽然简单，但是应用广泛，用来解决大量重要的问题\n"
   ]
  },
  {
   "cell_type": "markdown",
   "metadata": {},
   "source": [
    "# <a id='toc2_'></a>[栈抽象数据类型](#toc0_)\n",
    "1. 什么是栈\n",
    "* 一种有次序的数据项集合，在栈中，数据\n",
    "项的加入和移除都仅发生在同一端\n",
    "* Last In First Out\n",
    "==>抽象数据类型“栈”是一个有次序的数据\n",
    "集，每个数据项仅从“栈顶”一端加入到\n",
    "数据集中、从数据集中移除，栈具有后进\n",
    "先出LIFO的特性\n",
    "2. 比如浏览器的后退按钮\n",
    "3. 栈的操作\n",
    "* Stack()【创建栈】\n",
    "* push(item)\n",
    "* pop()\n",
    "* peek()\n",
    "* isEmpty()\n",
    "* size()\n",
    "会写之后，只用调用接口就能用栈的数据结构了\n",
    "4. Python的面向对象机制，可以用来实现\n",
    "用户自定义类型。用List来写"
   ]
  },
  {
   "cell_type": "code",
   "execution_count": 1,
   "metadata": {},
   "outputs": [],
   "source": [
    "class Stack:\n",
    "    def __init__(self):#attention list&items\n",
    "        self.items = []\n",
    "    def push(self,item):\n",
    "        self.items.append(item)\n",
    "    def pop(self):#attention return\n",
    "        return self.items.pop()\n",
    "    def peek(self):\n",
    "        return self.items[-1]\n",
    "    def isEmpty(self):\n",
    "        return self.items == []# attention list\n",
    "    def size(self):\n",
    "        return len(self.items)"
   ]
  },
  {
   "cell_type": "code",
   "execution_count": null,
   "metadata": {},
   "outputs": [
    {
     "name": "stdout",
     "output_type": "stream",
     "text": [
      "True\n",
      "dog\n",
      "3\n",
      "False\n",
      "8.4\n",
      "True\n",
      "2\n"
     ]
    }
   ],
   "source": [
    "s = Stack()\n",
    "print(s.isEmpty())\n",
    "s.push(4)\n",
    "s.push('dog')\n",
    "print(s.peek())\n",
    "s.push(True)\n",
    "print(s.size())\n",
    "print(s.isEmpty())\n",
    "s.push(8.4)\n",
    "print(s.pop())\n",
    "print(s.pop())\n",
    "print(s.size())"
   ]
  },
  {
   "cell_type": "markdown",
   "metadata": {},
   "source": [
    "# <a id='toc3_'></a>[栈的应用：简单括号匹配](#toc0_)\n",
    "1. 如何构造：\n",
    "从左到右扫描括号串，最新打开的左括号，应该\n",
    "匹配最先遇到的右括号\n",
    "这样，第一个左括号（最早打开），就应该匹配\n",
    "最后一个右括号（最后遇到）\n",
    "==>就是使用栈"
   ]
  },
  {
   "cell_type": "code",
   "execution_count": 3,
   "metadata": {},
   "outputs": [],
   "source": [
    "# common check\n",
    "def parChecker(symbolString):\n",
    "    s = Stack()\n",
    "    balanced = True\n",
    "    index = 0\n",
    "    while balanced and index < len(symbolString):\n",
    "        symbol = symbolString[index]\n",
    "        if symbol in \"([{\":\n",
    "            s.push(symbol)\n",
    "        else:\n",
    "            if s.isEmpty():\n",
    "                balanced = False\n",
    "            else:\n",
    "                top = s.pop()\n",
    "                if not matches(top,symbol):\n",
    "                    balanced = False\n",
    "        index += 1\n",
    "    if balanced and s.isEmpty():\n",
    "        return True\n",
    "    else:\n",
    "        return False\n",
    "\n",
    "def matches(open,close):\n",
    "    opens = \"([{\"\n",
    "    closes = \")]}\"\n",
    "    return opens.index(open) == closes.index(close)"
   ]
  },
  {
   "cell_type": "code",
   "execution_count": null,
   "metadata": {},
   "outputs": [
    {
     "name": "stdout",
     "output_type": "stream",
     "text": [
      "False\n",
      "True\n",
      "False\n"
     ]
    }
   ],
   "source": [
    "print(parChecker('[{()]'))\n",
    "print(parChecker('{{([][])}()}'))\n",
    "print(parChecker('([()[]{]}<>)'))"
   ]
  },
  {
   "cell_type": "markdown",
   "metadata": {},
   "source": [
    "# <a id='toc4_'></a>[十进制转换为二进制](#toc0_)\n",
    "1. “除以2”的过程，得到的余数是从低到高的次序，而输出则是从高到低，所以需要一个栈来反转次序\n",
    "2. 十进制转换为十六以下任意进制"
   ]
  },
  {
   "cell_type": "code",
   "execution_count": 20,
   "metadata": {},
   "outputs": [
    {
     "name": "stdout",
     "output_type": "stream",
     "text": [
      "111\n"
     ]
    }
   ],
   "source": [
    "def baseConverter(decNumber,base):\n",
    "    digits = \"0123456789ABCDEF\"\n",
    "\n",
    "    remstack = Stack()\n",
    "    while decNumber > 0:\n",
    "        rem = decNumber % base\n",
    "        remstack.push(rem)\n",
    "        decNumber = decNumber // base\n",
    "    \n",
    "    newString = ''\n",
    "    while not remstack.isEmpty():\n",
    "        newString = newString + digits[remstack.pop()]\n",
    "    \n",
    "    return newString\n",
    "print(baseConverter(7,2))"
   ]
  },
  {
   "cell_type": "code",
   "execution_count": null,
   "metadata": {},
   "outputs": [],
   "source": []
  },
  {
   "cell_type": "markdown",
   "metadata": {},
   "source": [
    "# <a id='toc5_'></a>[表达式转换](#toc0_)\n",
    "1. 把中缀表达式转换为前缀表达式或后缀表达式。\n",
    "2. 在前缀和后缀表达式中，操作符的次序完全决定了运算的次序，不再有混淆。离操作数越近的操作符越先运算。\n",
    "3. 中缀表达式改成全括号。操作符之后移动到左括号的地方：前缀表达式。右括号的地方：后缀表达式。"
   ]
  },
  {
   "cell_type": "code",
   "execution_count": null,
   "metadata": {},
   "outputs": [],
   "source": [
    "def infixToPostfix(infixexpr):\n",
    "    prec = {\"*\":3,\"/\":3,\"-\":2,\"+\":2,\"(\":1,}\n",
    "    opStack = Stack()\n",
    "    postfixList = []\n",
    "    tokenList = infixexpr.split()\n",
    "\n",
    "    for token in tokenList:\n",
    "        if token in \"ABCDEFGHIJKLMNOPQRSTUVWXYZ\" or token in \"0123456789\":\n",
    "            postfixList.append(token)\n",
    "        elif token == \"(\":\n",
    "            opStack.push(token)\n",
    "        elif token == \")\":\n",
    "            topToken = opStack.pop()\n",
    "            while topToken != \"(\":\n",
    "                postfixList.append(topToken)\n",
    "                topToken = opStack.pop()\n",
    "        else:\n",
    "            while (not opStack.isEmpty()) and (prec[opStack.peek()] >= prec[token]):\n",
    "                postfixList.append(opStack.pop())\n",
    "            opStack.push(token)\n",
    "    while not opStack.isEmpty():\n",
    "        postfixList.append(opStack.pop())\n",
    "    return \" \".join(postfixList)\n",
    "\n",
    "print(infixToPostfix(\" ( A * B ) + C\"))"
   ]
  },
  {
   "cell_type": "code",
   "execution_count": null,
   "metadata": {},
   "outputs": [],
   "source": [
    "#homework 1\n",
    "def isValid(s) -> bool:\n",
    "        dic = {'{': '}',  '[': ']', '(': ')', '?': '?'}\n",
    "        stack = ['?']\n",
    "        for c in s:\n",
    "            if c in dic: \n",
    "                stack.append(c)\n",
    "            elif dic[stack.pop()] != c:\n",
    "                return False \n",
    "        return len(stack) == 1\n",
    "s = input()\n",
    "print(isValid(s))"
   ]
  },
  {
   "cell_type": "code",
   "execution_count": null,
   "metadata": {},
   "outputs": [],
   "source": [
    "# homework2\n",
    "class Stack:\n",
    "    def __init__(self):#attention list&items\n",
    "        self.items = []\n",
    "    def push(self,item):\n",
    "        self.items.append(item)\n",
    "    def pop(self):#attention return\n",
    "        return self.items.pop()\n",
    "    def peek(self):\n",
    "        return self.items[-1]\n",
    "    def isEmpty(self):\n",
    "        return self.items == []# attention list\n",
    "    def size(self):\n",
    "        return len(self.items)\n",
    "\n",
    "def xiaoxiaole(Newstring):\n",
    "    c = Stack()\n",
    "    c.push('?')\n",
    "    for i in Newstring:\n",
    "        if i != c.peek():\n",
    "            c.push(i)\n",
    "        else:\n",
    "            c.pop()\n",
    "    if c.size() == 1:\n",
    "        return None\n",
    "    else:\n",
    "        clist = []\n",
    "        for m in range(1,c.size()):\n",
    "            clist.append(c.pop())\n",
    "        return clist\n",
    "\n",
    "\n",
    "Newstring = input()\n",
    "clists = xiaoxiaole(Newstring)\n",
    "clists = clists[::-1]\n",
    "print(\"\".join(clists))"
   ]
  },
  {
   "cell_type": "code",
   "execution_count": null,
   "metadata": {},
   "outputs": [],
   "source": [
    "# homework3\n",
    "def OCDBoss(NewString):\n",
    "    leftList = []\n",
    "    popList = []\n",
    "    for i in NewString:\n",
    "        i = int(i)\n",
    "        for j in range(i+1):\n",
    "            if j not in popList:\n",
    "                if j not in leftList:\n",
    "                    leftList.append(j)\n",
    "            if leftList != []:\n",
    "                if i == leftList[-1]:\n",
    "                    popList.append(leftList.pop())\n",
    "    #print(len(leftList))\n",
    "    if len(leftList) > 0:\n",
    "        print('No')\n",
    "    else:\n",
    "        print('Yes')\n",
    "NewString = input()\n",
    "OCDBoss(NewString)"
   ]
  }
 ],
 "metadata": {
  "kernelspec": {
   "display_name": "Python 3",
   "language": "python",
   "name": "python3"
  },
  "language_info": {
   "codemirror_mode": {
    "name": "ipython",
    "version": 3
   },
   "file_extension": ".py",
   "mimetype": "text/x-python",
   "name": "python",
   "nbconvert_exporter": "python",
   "pygments_lexer": "ipython3",
   "version": "3.8.8"
  },
  "toc": {
   "base_numbering": 1,
   "nav_menu": {},
   "number_sections": true,
   "sideBar": true,
   "skip_h1_title": false,
   "title_cell": "Table of Contents",
   "title_sidebar": "Contents",
   "toc_cell": false,
   "toc_position": {},
   "toc_section_display": true,
   "toc_window_display": false
  }
 },
 "nbformat": 4,
 "nbformat_minor": 2
}
