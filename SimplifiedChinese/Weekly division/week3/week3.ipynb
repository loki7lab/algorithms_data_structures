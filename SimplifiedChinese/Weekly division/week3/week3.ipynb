{
 "cells": [
  {
   "cell_type": "markdown",
   "metadata": {},
   "source": [
    "【本周思路】\n",
    "\n",
    "本周和下周的课程都是学习线性结构。其中本周学习栈结构，介绍如下：\n",
    "\n",
    "* 301 什么是线性结构\n",
    "\n",
    "* 302 栈结构介绍\n",
    "\n",
    "* 303-307 栈结构的应用\n",
    "   * 303 简单括号匹配\n",
    "   * 304 十进制转二进制\n",
    "   * 305-306 表达式转换\n",
    "   * 后缀表达式求值"
   ]
  },
  {
   "cell_type": "markdown",
   "metadata": {},
   "source": [
    "**Table of contents**<a id='toc0_'></a>    \n",
    "- [301 什么是线性结构](#toc1_)    \n",
    "  - [1. 线性结构是一种有序数据项的集合](#toc1_1_)    \n",
    "  - [2. 线性结构总有两端](#toc1_2_)    \n",
    "  - [3. 典型线性结构](#toc1_3_)    \n",
    "- [302 栈抽象数据类型](#toc2_)    \n",
    "  - [1. 什么是栈](#toc2_1_)    \n",
    "  - [2. 栈的特性：反转次序](#toc2_2_)    \n",
    "  - [3. 抽象数据类型Stack](#toc2_3_)    \n",
    "- [栈的应用：简单括号匹配](#toc3_)    \n",
    "- [十进制转换为二进制](#toc4_)    \n",
    "- [表达式转换](#toc5_)    \n",
    "\n",
    "<!-- vscode-jupyter-toc-config\n",
    "\tnumbering=false\n",
    "\tanchor=true\n",
    "\tflat=false\n",
    "\tminLevel=1\n",
    "\tmaxLevel=6\n",
    "\t/vscode-jupyter-toc-config -->\n",
    "<!-- THIS CELL WILL BE REPLACED ON TOC UPDATE. DO NOT WRITE YOUR TEXT IN THIS CELL -->"
   ]
  },
  {
   "cell_type": "markdown",
   "metadata": {},
   "source": [
    "# <a id='toc1_'></a>[301 什么是线性结构](#toc0_)\n",
    "## <a id='toc1_1_'></a>[1. 线性结构是一种有序数据项的集合](#toc0_)\n",
    "其中每个数据项都有唯一的前驱和后继\n",
    "* 除了第一个没有前驱，最后一个没有后继\n",
    "* 新的数据项加入到数据集中时，只会加入到原有某个数据项之前或之后\n",
    "\n",
    "$\\implies$具有这种性质的数据集，就称为线性结构\n",
    "\n",
    "## <a id='toc1_2_'></a>[2. 线性结构总有两端](#toc0_)\n",
    "在不同的情况下，两端的称呼也不同\n",
    "* 有时候称为“左”“右”端、“前”“后”端、“顶”“底”端\n",
    "* 两端的称呼并不是关键，不同线性结构的关键区别在于数据项增减的方式：\n",
    "    * 有的结构只允许数据项从一端添加\n",
    "    * 而有的结构则允许数据项从两端移除\n",
    "    * 有些可以从中间插入\n",
    "  \n",
    "    $\\implies$ 请注意仍然保持【加入到原有某个数据项之前或之后】的特点\n",
    "## <a id='toc1_3_'></a>[3. 典型线性结构](#toc0_)\n",
    "虽然它们数据项的增减方式不同，但数据项之间只存在着先后的次序关系\n",
    "* 栈Stack\n",
    "* 队列Queue\n",
    "* 双端队列Deque\n",
    "* 列表List"
   ]
  },
  {
   "cell_type": "markdown",
   "metadata": {},
   "source": [
    "线性结构虽然简单，但是应用广泛，用来解决大量重要的问题"
   ]
  },
  {
   "cell_type": "markdown",
   "metadata": {},
   "source": [
    "# <a id='toc2_'></a>[302 栈抽象数据类型](#toc0_)\n",
    "## <a id='toc2_1_'></a>[1. 什么是栈](#toc0_)\n",
    "* 是一种线性结构\n",
    "* 是一种有次序的数据项集合\n",
    "* 在栈中，数据项的加入和移除都仅发生在同一端。这一端叫栈“顶top”，另一端没有操作，叫栈“底base”\n",
    "* 最新入栈的数据项最先被移除。这种次序被称为：后进先出LIFO，Last In First Out\n",
    "* 这是一种基于数据项保存时间的次序，时间越短的离栈顶越近\n",
    "\n",
    "## <a id='toc2_2_'></a>[2. 栈的特性：反转次序](#toc0_)\n",
    "* 也就是进栈和出栈的次序正好相反\n",
    "* 应用：浏览器的后退按钮；word里的undo\n"
   ]
  },
  {
   "cell_type": "markdown",
   "metadata": {},
   "source": [
    "## <a id='toc2_3_'></a>[3. 抽象数据类型Stack](#toc0_)\n",
    "* 定义：抽象数据类型“栈”是一个有次序的数据集，每个数据项仅从“栈顶”一端加入到数据集中、从数据集中移除，具有后进先出LIFO的特性\n",
    "* 定义操作：\n",
    "   * Stack()【创建栈】\n",
    "   * push(item)\n",
    "   * pop()移除栈顶数据项并返回，栈被修改\n",
    "   * peek()\n",
    "   * isEmpty()\n",
    "   * size()\n",
    "会写之后，只用调用接口就能用栈的数据结构了\n",
    "\n",
    "Python的面向对象机制，可以用来实现用户自定义类型。要求如下：\n",
    "* 将ADT Stack实现为python的一个class\n",
    "* 将ADT Stackd的操作实现为class的方法\n",
    "\n",
    "由于Stack是一个数据集，所以可以采用python的原生数据集来实现。面对字典和列表，选列表。其中列表也是线性结构\n",
    "* 可以把列表的任一端(index = 0或者-1)设置为栈顶\n",
    "* 实际选择列表末端为栈顶，这样可以对应list的append和pop操作"
   ]
  },
  {
   "cell_type": "code",
   "execution_count": 1,
   "metadata": {},
   "outputs": [],
   "source": [
    "class Stack:\n",
    "    def __init__(self):#attention list&items\n",
    "        self.items = []\n",
    "    def push(self,item):\n",
    "        self.items.append(item)\n",
    "    def pop(self):#attention return\n",
    "        return self.items.pop()#using pop\n",
    "    def peek(self):\n",
    "        return self.items[-1]#using -1\n",
    "    def isEmpty(self):\n",
    "        return self.items == []# attention list\n",
    "    def size(self):\n",
    "        return len(self.items)"
   ]
  },
  {
   "cell_type": "code",
   "execution_count": 5,
   "metadata": {},
   "outputs": [
    {
     "ename": "AttributeError",
     "evalue": "type object 'Stack' has no attribute '__file__'",
     "output_type": "error",
     "traceback": [
      "\u001b[1;31m---------------------------------------------------------------------------\u001b[0m",
      "\u001b[1;31mAttributeError\u001b[0m                            Traceback (most recent call last)",
      "Cell \u001b[1;32mIn[5], line 3\u001b[0m\n\u001b[0;32m      1\u001b[0m \u001b[38;5;66;03m#导入课程代码\u001b[39;00m\n\u001b[0;32m      2\u001b[0m \u001b[38;5;28;01mfrom\u001b[39;00m \u001b[38;5;21;01mpythonds\u001b[39;00m\u001b[38;5;21;01m.\u001b[39;00m\u001b[38;5;21;01mbasic\u001b[39;00m\u001b[38;5;21;01m.\u001b[39;00m\u001b[38;5;21;01mstack\u001b[39;00m \u001b[38;5;28;01mimport\u001b[39;00m Stack\n\u001b[1;32m----> 3\u001b[0m \u001b[38;5;28mprint\u001b[39m(Stack\u001b[38;5;241m.\u001b[39m\u001b[38;5;18m__file__\u001b[39m)\n",
      "\u001b[1;31mAttributeError\u001b[0m: type object 'Stack' has no attribute '__file__'"
     ]
    }
   ],
   "source": [
    "#导入课程代码\n",
    "from pythonds.basic.stack import Stack\n",
    "print(Stack.__file__)"
   ]
  },
  {
   "cell_type": "code",
   "execution_count": 4,
   "metadata": {},
   "outputs": [
    {
     "name": "stdout",
     "output_type": "stream",
     "text": [
      "True\n",
      "dog\n",
      "3\n",
      "False\n",
      "8.4\n",
      "True\n",
      "2\n"
     ]
    }
   ],
   "source": [
    "s = Stack()\n",
    "print(s.isEmpty())\n",
    "s.push(4)\n",
    "s.push('dog')\n",
    "print(s.peek())\n",
    "s.push(True)\n",
    "print(s.size())\n",
    "print(s.isEmpty())\n",
    "s.push(8.4)\n",
    "print(s.pop())\n",
    "print(s.pop())\n",
    "print(s.size())"
   ]
  },
  {
   "cell_type": "markdown",
   "metadata": {},
   "source": [
    "# <a id='toc3_'></a>[栈的应用：简单括号匹配](#toc0_)\n",
    "1. 如何构造：\n",
    "从左到右扫描括号串，最新打开的左括号，应该\n",
    "匹配最先遇到的右括号\n",
    "这样，第一个左括号（最早打开），就应该匹配\n",
    "最后一个右括号（最后遇到）\n",
    "==>就是使用栈"
   ]
  },
  {
   "cell_type": "code",
   "execution_count": 3,
   "metadata": {},
   "outputs": [],
   "source": [
    "# common check\n",
    "def parChecker(symbolString):\n",
    "    s = Stack()\n",
    "    balanced = True\n",
    "    index = 0\n",
    "    while balanced and index < len(symbolString):\n",
    "        symbol = symbolString[index]\n",
    "        if symbol in \"([{\":\n",
    "            s.push(symbol)\n",
    "        else:\n",
    "            if s.isEmpty():\n",
    "                balanced = False\n",
    "            else:\n",
    "                top = s.pop()\n",
    "                if not matches(top,symbol):\n",
    "                    balanced = False\n",
    "        index += 1\n",
    "    if balanced and s.isEmpty():\n",
    "        return True\n",
    "    else:\n",
    "        return False\n",
    "\n",
    "def matches(open,close):\n",
    "    opens = \"([{\"\n",
    "    closes = \")]}\"\n",
    "    return opens.index(open) == closes.index(close)"
   ]
  },
  {
   "cell_type": "code",
   "execution_count": null,
   "metadata": {},
   "outputs": [
    {
     "name": "stdout",
     "output_type": "stream",
     "text": [
      "False\n",
      "True\n",
      "False\n"
     ]
    }
   ],
   "source": [
    "print(parChecker('[{()]'))\n",
    "print(parChecker('{{([][])}()}'))\n",
    "print(parChecker('([()[]{]}<>)'))"
   ]
  },
  {
   "cell_type": "markdown",
   "metadata": {},
   "source": [
    "# <a id='toc4_'></a>[十进制转换为二进制](#toc0_)\n",
    "1. “除以2”的过程，得到的余数是从低到高的次序，而输出则是从高到低，所以需要一个栈来反转次序\n",
    "2. 十进制转换为十六以下任意进制"
   ]
  },
  {
   "cell_type": "code",
   "execution_count": 20,
   "metadata": {},
   "outputs": [
    {
     "name": "stdout",
     "output_type": "stream",
     "text": [
      "111\n"
     ]
    }
   ],
   "source": [
    "def baseConverter(decNumber,base):\n",
    "    digits = \"0123456789ABCDEF\"\n",
    "\n",
    "    remstack = Stack()\n",
    "    while decNumber > 0:\n",
    "        rem = decNumber % base\n",
    "        remstack.push(rem)\n",
    "        decNumber = decNumber // base\n",
    "    \n",
    "    newString = ''\n",
    "    while not remstack.isEmpty():\n",
    "        newString = newString + digits[remstack.pop()]\n",
    "    \n",
    "    return newString\n",
    "print(baseConverter(7,2))"
   ]
  },
  {
   "cell_type": "code",
   "execution_count": null,
   "metadata": {},
   "outputs": [],
   "source": []
  },
  {
   "cell_type": "markdown",
   "metadata": {},
   "source": [
    "# <a id='toc5_'></a>[表达式转换](#toc0_)\n",
    "1. 把中缀表达式转换为前缀表达式或后缀表达式。\n",
    "2. 在前缀和后缀表达式中，操作符的次序完全决定了运算的次序，不再有混淆。离操作数越近的操作符越先运算。\n",
    "3. 中缀表达式改成全括号。操作符之后移动到左括号的地方：前缀表达式。右括号的地方：后缀表达式。"
   ]
  },
  {
   "cell_type": "code",
   "execution_count": null,
   "metadata": {},
   "outputs": [],
   "source": [
    "def infixToPostfix(infixexpr):\n",
    "    prec = {\"*\":3,\"/\":3,\"-\":2,\"+\":2,\"(\":1,}\n",
    "    opStack = Stack()\n",
    "    postfixList = []\n",
    "    tokenList = infixexpr.split()\n",
    "\n",
    "    for token in tokenList:\n",
    "        if token in \"ABCDEFGHIJKLMNOPQRSTUVWXYZ\" or token in \"0123456789\":\n",
    "            postfixList.append(token)\n",
    "        elif token == \"(\":\n",
    "            opStack.push(token)\n",
    "        elif token == \")\":\n",
    "            topToken = opStack.pop()\n",
    "            while topToken != \"(\":\n",
    "                postfixList.append(topToken)\n",
    "                topToken = opStack.pop()\n",
    "        else:\n",
    "            while (not opStack.isEmpty()) and (prec[opStack.peek()] >= prec[token]):\n",
    "                postfixList.append(opStack.pop())\n",
    "            opStack.push(token)\n",
    "    while not opStack.isEmpty():\n",
    "        postfixList.append(opStack.pop())\n",
    "    return \" \".join(postfixList)\n",
    "\n",
    "print(infixToPostfix(\" ( A * B ) + C\"))"
   ]
  },
  {
   "cell_type": "code",
   "execution_count": null,
   "metadata": {},
   "outputs": [],
   "source": [
    "#homework 1\n",
    "def isValid(s) -> bool:\n",
    "        dic = {'{': '}',  '[': ']', '(': ')', '?': '?'}\n",
    "        stack = ['?']\n",
    "        for c in s:\n",
    "            if c in dic: \n",
    "                stack.append(c)\n",
    "            elif dic[stack.pop()] != c:\n",
    "                return False \n",
    "        return len(stack) == 1\n",
    "s = input()\n",
    "print(isValid(s))"
   ]
  },
  {
   "cell_type": "code",
   "execution_count": null,
   "metadata": {},
   "outputs": [],
   "source": [
    "# homework2\n",
    "class Stack:\n",
    "    def __init__(self):#attention list&items\n",
    "        self.items = []\n",
    "    def push(self,item):\n",
    "        self.items.append(item)\n",
    "    def pop(self):#attention return\n",
    "        return self.items.pop()\n",
    "    def peek(self):\n",
    "        return self.items[-1]\n",
    "    def isEmpty(self):\n",
    "        return self.items == []# attention list\n",
    "    def size(self):\n",
    "        return len(self.items)\n",
    "\n",
    "def xiaoxiaole(Newstring):\n",
    "    c = Stack()\n",
    "    c.push('?')\n",
    "    for i in Newstring:\n",
    "        if i != c.peek():\n",
    "            c.push(i)\n",
    "        else:\n",
    "            c.pop()\n",
    "    if c.size() == 1:\n",
    "        return None\n",
    "    else:\n",
    "        clist = []\n",
    "        for m in range(1,c.size()):\n",
    "            clist.append(c.pop())\n",
    "        return clist\n",
    "\n",
    "\n",
    "Newstring = input()\n",
    "clists = xiaoxiaole(Newstring)\n",
    "clists = clists[::-1]\n",
    "print(\"\".join(clists))"
   ]
  },
  {
   "cell_type": "code",
   "execution_count": null,
   "metadata": {},
   "outputs": [],
   "source": [
    "# homework3\n",
    "def OCDBoss(NewString):\n",
    "    leftList = []\n",
    "    popList = []\n",
    "    for i in NewString:\n",
    "        i = int(i)\n",
    "        for j in range(i+1):\n",
    "            if j not in popList:\n",
    "                if j not in leftList:\n",
    "                    leftList.append(j)\n",
    "            if leftList != []:\n",
    "                if i == leftList[-1]:\n",
    "                    popList.append(leftList.pop())\n",
    "    #print(len(leftList))\n",
    "    if len(leftList) > 0:\n",
    "        print('No')\n",
    "    else:\n",
    "        print('Yes')\n",
    "NewString = input()\n",
    "OCDBoss(NewString)"
   ]
  }
 ],
 "metadata": {
  "kernelspec": {
   "display_name": "base",
   "language": "python",
   "name": "python3"
  },
  "language_info": {
   "codemirror_mode": {
    "name": "ipython",
    "version": 3
   },
   "file_extension": ".py",
   "mimetype": "text/x-python",
   "name": "python",
   "nbconvert_exporter": "python",
   "pygments_lexer": "ipython3",
   "version": "3.12.7"
  },
  "toc": {
   "base_numbering": 1,
   "nav_menu": {},
   "number_sections": true,
   "sideBar": true,
   "skip_h1_title": false,
   "title_cell": "Table of Contents",
   "title_sidebar": "Contents",
   "toc_cell": false,
   "toc_position": {},
   "toc_section_display": true,
   "toc_window_display": false
  }
 },
 "nbformat": 4,
 "nbformat_minor": 2
}
