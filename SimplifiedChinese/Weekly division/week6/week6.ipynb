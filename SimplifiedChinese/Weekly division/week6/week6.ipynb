{
 "cells": [
  {
   "cell_type": "markdown",
   "metadata": {},
   "source": [
    "【本周思路】本周通过进一步学习递归算法，引入动态规划的知识\n",
    "* 408 引入分治策略的概念\n",
    "* 409 介绍优化问题，和解决优化问题的贪心策略\n",
    "* 410 找零问题【递归版本】\n",
    "* 411 找零问题【动态规划版本】\n",
    "* 412 动态规划的进一步案例\n",
    "* 413 这两周的总结"
   ]
  },
  {
   "cell_type": "markdown",
   "metadata": {},
   "source": [
    "**Table of contents**<a id='toc0_'></a>    \n",
    "- [408 分治策略](#toc1_)    \n",
    "- [优化问题和贪心策略](#toc2_)    \n",
    "- [递归解法解决找零问题](#toc3_)    \n",
    "- [动态规划](#toc4_)    \n",
    "- [博物馆大盗问题](#toc5_)    \n",
    "\n",
    "<!-- vscode-jupyter-toc-config\n",
    "\tnumbering=false\n",
    "\tanchor=true\n",
    "\tflat=false\n",
    "\tminLevel=1\n",
    "\tmaxLevel=6\n",
    "\t/vscode-jupyter-toc-config -->\n",
    "<!-- THIS CELL WILL BE REPLACED ON TOC UPDATE. DO NOT WRITE YOUR TEXT IN THIS CELL -->"
   ]
  },
  {
   "cell_type": "markdown",
   "metadata": {},
   "source": [
    "# <a id='toc1_'></a>[408 分治策略](#toc0_)\n",
    "## 1. 分治策略：分而治之\n",
    "当面临一个又大又复杂的问题，可以采用这个策略：\n",
    "* 将问题分为若干更小规模的部分\n",
    "* 通过解决每个小规模部分问题，并将结果汇总得到原问题的解\n",
    "\n",
    "即："
   ]
  },
  {
   "cell_type": "markdown",
   "metadata": {},
   "source": [
    "![分治策略](./img/408.PNG)"
   ]
  },
  {
   "cell_type": "markdown",
   "metadata": {},
   "source": [
    "## 2. 递归算法与分治策略\n",
    "\n",
    "* 递归算法是分治策略的一种【递归算法需要调用自身】，具体体现有：\n",
    "    * 问题解决依赖于若干缩小了规模的问题\n",
    "    * 汇总得到原问题的解\n",
    "* 分治策略有广泛的应用【而且大多都是用递归算法来解决的】：\n",
    "    * 排序\n",
    "    * 查找\n",
    "    * 遍历\n",
    "    * 求值等"
   ]
  },
  {
   "cell_type": "markdown",
   "metadata": {},
   "source": [
    "# <a id='toc2_'></a>[409 优化问题和贪心策略](#toc0_)\n",
    "这一节重点：\n",
    "* 什么是优化问题？\n",
    "* 什么是贪心策略？"
   ]
  },
  {
   "cell_type": "markdown",
   "metadata": {},
   "source": [
    "## 1. 优化问题\n",
    "计算机科学中许多算法都是为了找到某些问题的最优解，典型问题就是**兑换最少个数的硬币**:\n",
    "\n",
    "假设你为一家自动售货机厂家编程序，要求自动售货机要每次找给顾客最少数量硬币\n",
    "\n",
    "例如某次顾客投进$1纸币,买了ȼ37的东西,要找ȼ63,那么最少数量就是:2个quarter(ȼ25)，1个dime(ȼ10)和3个penny(ȼ1)，一共6枚\n",
    "\n",
    "怎么算出来的？"
   ]
  },
  {
   "cell_type": "markdown",
   "metadata": {},
   "source": [
    "$\\implies$\n",
    "\n",
    "## 2. 贪心策略【每次都试图解决问题的尽量大的一部分】\n",
    "\n",
    "* 从最大面值的硬币开始，用尽量多的最大面值\n",
    "* 有余额的，再到下一最大面值的硬币，还用尽量多的这一面值，一直到penny（ȼ1）为止\n",
    "\n",
    "也就是每次以**最**多数量的**最**大面值硬币来**最**快减少找零面值\n",
    "\n",
    "但是！！这一策略在特殊情况下会失效\n",
    "\n",
    "$\\implies$每一步都是最优的，并不代表结果是最优的"
   ]
  },
  {
   "cell_type": "markdown",
   "metadata": {},
   "source": [
    "补充：\n",
    "\n",
    "贪心策略能保证得到最优解的条件（需要同时满足）：\n",
    "* 贪心选择性质： 问题的全局最优解可以通过一系列局部最优（贪心）选择来达到。这意味着做出局部最优选择后，剩下的子问题可以独立求解，且这个选择不会被后面的选择推翻\n",
    "* 最优子结构： 问题的最优解包含了其子问题的最优解。也就是说，可以通过子问题的最优解来构造原问题的最优解（这是动态规划也需要的性质）\n",
    "\n",
    "如果一个问题只满足最优子结构，但不满足贪心选择性质，那么贪心策略不能保证得到最优解（可能得到次优解），通常需要使用动态规划等其他方法（例如经典的0-1背包问题）"
   ]
  },
  {
   "cell_type": "code",
   "execution_count": null,
   "metadata": {},
   "outputs": [
    {
     "name": "stdout",
     "output_type": "stream",
     "text": [
      "[1, 0, 2, 3]\n"
     ]
    }
   ],
   "source": [
    "lis = [1,5,20,50]\n",
    "def change(lis,num):\n",
    "    changelis = []\n",
    "    for i in lis[::-1]:\n",
    "        a = num // i\n",
    "        num = num % i\n",
    "        changelis.append(a)\n",
    "    return changelis\n",
    "print(change(lis,63))"
   ]
  },
  {
   "cell_type": "markdown",
   "metadata": {},
   "source": [
    "# <a id='toc3_'></a>[递归解法解决找零问题](#toc0_)\n",
    "1. 最小规模：只有一枚硬币\n",
    "2. 减小规模：找零减去对应的硬币零钱，求兑换数量【调用自身】\n"
   ]
  },
  {
   "cell_type": "code",
   "execution_count": 4,
   "metadata": {},
   "outputs": [
    {
     "name": "stdout",
     "output_type": "stream",
     "text": [
      "6\n"
     ]
    }
   ],
   "source": [
    "def recMC(coinValueList,change):#重复计算极其低效\n",
    "    minCoins = change\n",
    "    if change in coinValueList:\n",
    "        minCoins = 1\n",
    "    else:\n",
    "        for i in [c for c in coinValueList if c <= change]:\n",
    "            numCoins = 1+ recMC(coinValueList,change - i)\n",
    "            if numCoins < minCoins:\n",
    "                minCoins = numCoins\n",
    "    return minCoins\n",
    "print(recMC([1,5,10,25],63))"
   ]
  },
  {
   "cell_type": "code",
   "execution_count": null,
   "metadata": {},
   "outputs": [
    {
     "name": "stdout",
     "output_type": "stream",
     "text": [
      "4\n"
     ]
    }
   ],
   "source": [
    "# 递归改进\n",
    "def recMC(coinValueList,change,knownResult):\n",
    "    minCoins = change\n",
    "    if change in coinValueList:\n",
    "        knownResult[change] = 1#结果记录\n",
    "        return 1\n",
    "    elif knownResult[change] > 0:\n",
    "        return knownResult[change]\n",
    "    else:\n",
    "        for i in [c for c in coinValueList if c <= change]:\n",
    "            numCoins = 1+ recMC(coinValueList,change - i,knownResult)\n",
    "            if numCoins < minCoins:\n",
    "                minCoins = numCoins\n",
    "                knownResult[change] = minCoins\n",
    "    return minCoins\n",
    "print(recMC([1,5,10,25],65,[0]*66))"
   ]
  },
  {
   "cell_type": "markdown",
   "metadata": {},
   "source": [
    "# <a id='toc4_'></a>[动态规划](#toc0_)\n",
    "1. 动态规划算法采用了一种更有条理的方式来得到问题的解\n",
    "* 找零兑换的动态规划算法从最简单的“1分钱找零”的最优解开始，逐步递加上去，直到我们需要的找零钱数\n",
    "* 在找零递加的过程中，设法保持每一分钱的递加都是最优解，一直加到求解找零钱数，自然得到最优解\n",
    "* 递加的过程能保持最优解的关键是，其依赖于更少钱数最优解的简单计算，而更少钱数的最优解已经得到了。\n",
    "* 问题的最优解包含了更小规模子问题的最优解，这是一个最优化问题能够用动态规划策略解决的必要条件。\n",
    "2. 建立动态规划的表格\n",
    "![图片](./img/1.png)"
   ]
  },
  {
   "cell_type": "code",
   "execution_count": null,
   "metadata": {},
   "outputs": [
    {
     "name": "stdout",
     "output_type": "stream",
     "text": [
      "3\n"
     ]
    }
   ],
   "source": [
    "def dpMakeChange(coinValueList,change,minCoins):\n",
    "    for cents in range(1,change + 1):\n",
    "        coinCount = cents\n",
    "\n",
    "        for j in [c for c in coinValueList if c <= cents]:\n",
    "            if minCoins[cents - j] + 1 < coinCount:\n",
    "                coinCount = minCoins[cents -j] + 1\n",
    "        minCoins[cents] = coinCount\n",
    "    return minCoins[change]\n",
    "print(dpMakeChange([1,5,10,21,25],63,[0]*64))"
   ]
  },
  {
   "cell_type": "markdown",
   "metadata": {},
   "source": [
    "# <a id='toc5_'></a>[博物馆大盗问题](#toc0_)\n",
    "![图片](./img/2.png)"
   ]
  },
  {
   "cell_type": "markdown",
   "metadata": {},
   "source": [
    "1. 贪心策略明显不行了，只能使用动态规划\n",
    "![pic](./img/3.png)"
   ]
  },
  {
   "cell_type": "markdown",
   "metadata": {},
   "source": [
    "2.  列出来表格有\n",
    "![pic](./img/4.png)"
   ]
  },
  {
   "cell_type": "markdown",
   "metadata": {},
   "source": [
    "3. 每个格子的内容，都只依赖于上边和左边"
   ]
  },
  {
   "cell_type": "code",
   "execution_count": 10,
   "metadata": {},
   "outputs": [
    {
     "name": "stdout",
     "output_type": "stream",
     "text": [
      "29\n"
     ]
    }
   ],
   "source": [
    "#dp\n",
    "#without function\n",
    "tr = [None,{'w':2,'v':3},{'w':3,'v':4},{'w':4,'v':8},{'w':5,'v':8},{'w':9,'v':10}]\n",
    "\n",
    "max_w = 20\n",
    "\n",
    "m = {(i,w):0 for i in range(len(tr))\n",
    "                for w in range(max_w + 1)}\n",
    "#print(m)\n",
    "for i in range(1,len(tr)):\n",
    "    for w in range(1,max_w + 1):\n",
    "        if tr[i]['w'] > w:\n",
    "            m[(i,w)] = m[(i-1,w)]\n",
    "        else:\n",
    "            m[(i,w)] = max(\n",
    "                m[(i-1,w)],\n",
    "                m[(i-1,w-tr[i]['w'])] + tr[i]['v']\n",
    "            )\n",
    "\n",
    "print(m[(len(tr)-1,max_w)])"
   ]
  },
  {
   "cell_type": "code",
   "execution_count": null,
   "metadata": {},
   "outputs": [],
   "source": [
    "#recursive\n",
    "tr = {(2,3),(3,4),(4,8),(5,8),(9,10)}\n",
    "max_w = 20\n",
    "\n",
    "m = {}\n",
    "\n",
    "def thief(tr,w):\n",
    "    if tr == set() or w == 0:\n",
    "        m[(tuple(tr),w)] = 0\n",
    "        return 0\n",
    "    elif (tuple(tr),w) in m:\n",
    "        return m[(tuple(tr),w)]\n",
    "    else:\n",
    "        vmax = 0\n",
    "        for t in tr:\n",
    "            if t[0] <= w:\n",
    "                v = thief(tr - {t},w - t[0]) + t[1]\n",
    "                vmax = max(vmax,v)\n",
    "        m[(tuple(tr),w)] = vmax\n",
    "        return vmax\n",
    "print(thief(tr,max_w))"
   ]
  }
 ],
 "metadata": {
  "kernelspec": {
   "display_name": "Python 3.7.6 64-bit ('base': conda)",
   "name": "python376jvsc74a57bd06fa7eb87fad641fccb913dde0949628a99570c2b6fb04151f8687bc244aedd44"
  },
  "language_info": {
   "codemirror_mode": {
    "name": "ipython",
    "version": 3
   },
   "file_extension": ".py",
   "mimetype": "text/x-python",
   "name": "python",
   "nbconvert_exporter": "python",
   "pygments_lexer": "ipython3",
   "version": "3.7.6"
  },
  "orig_nbformat": 2
 },
 "nbformat": 4,
 "nbformat_minor": 2
}
