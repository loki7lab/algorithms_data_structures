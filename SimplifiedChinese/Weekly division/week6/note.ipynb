{
 "metadata": {
  "language_info": {
   "codemirror_mode": {
    "name": "ipython",
    "version": 3
   },
   "file_extension": ".py",
   "mimetype": "text/x-python",
   "name": "python",
   "nbconvert_exporter": "python",
   "pygments_lexer": "ipython3",
   "version": "3.7.6"
  },
  "orig_nbformat": 2,
  "kernelspec": {
   "name": "python376jvsc74a57bd06fa7eb87fad641fccb913dde0949628a99570c2b6fb04151f8687bc244aedd44",
   "display_name": "Python 3.7.6 64-bit ('base': conda)"
  }
 },
 "nbformat": 4,
 "nbformat_minor": 2,
 "cells": [
  {
   "source": [
    "# 分治策略\n",
    "1. 分而治之\n",
    "* 将问题分为若干更小规模的部分\n",
    "* 通过解决每个小规模部分问题，并将结果汇总得到原问题的解\n",
    "2. 递归算法与分治策略\n",
    "* 递归体现了分治策略\n"
   ],
   "cell_type": "markdown",
   "metadata": {}
  },
  {
   "source": [
    "# 优化问题和贪心策略\n",
    "1. 兑换最少个数的硬币问题\n",
    "* 贪心策略：从最大面值的硬币开始，用尽量多的最大面值。有余额的，再到下一最大面值的硬币，还用尽量多的这一面值，一直到penny（ȼ1）为止\n",
    "* 但是这一策略在特殊情况下会失效"
   ],
   "cell_type": "markdown",
   "metadata": {}
  },
  {
   "cell_type": "code",
   "execution_count": 2,
   "metadata": {},
   "outputs": [
    {
     "output_type": "stream",
     "name": "stdout",
     "text": [
      "[1, 0, 2, 3]\n"
     ]
    }
   ],
   "source": [
    "lis = [1,5,20,50]\n",
    "def change(lis,num):\n",
    "    changelis = []\n",
    "    for i in lis[::-1]:\n",
    "        a = num // i\n",
    "        num = num % i\n",
    "        changelis.append(a)\n",
    "    return changelis\n",
    "print(change(lis,63))"
   ]
  },
  {
   "source": [
    "# 递归解法解决找零问题\n",
    "1. 最小规模：只有一枚硬币\n",
    "2. 减小规模：找零减去对应的硬币零钱，求兑换数量【调用自身】\n"
   ],
   "cell_type": "markdown",
   "metadata": {}
  },
  {
   "cell_type": "code",
   "execution_count": 4,
   "metadata": {},
   "outputs": [
    {
     "output_type": "stream",
     "name": "stdout",
     "text": [
      "6\n"
     ]
    }
   ],
   "source": [
    "def recMC(coinValueList,change):#重复计算极其低效\n",
    "    minCoins = change\n",
    "    if change in coinValueList:\n",
    "        minCoins = 1\n",
    "    else:\n",
    "        for i in [c for c in coinValueList if c <= change]:\n",
    "            numCoins = 1+ recMC(coinValueList,change - i)\n",
    "            if numCoins < minCoins:\n",
    "                minCoins = numCoins\n",
    "    return minCoins\n",
    "print(recMC([1,5,10,25],63))"
   ]
  },
  {
   "cell_type": "code",
   "execution_count": 8,
   "metadata": {},
   "outputs": [
    {
     "output_type": "stream",
     "name": "stdout",
     "text": [
      "4\n"
     ]
    }
   ],
   "source": [
    "# 递归改进\n",
    "def recMC(coinValueList,change,knownResult):\n",
    "    minCoins = change\n",
    "    if change in coinValueList:\n",
    "        knownResult[change] = 1#结果记录\n",
    "        return 1\n",
    "    elif knownResult[change] > 0:\n",
    "        return knownResult[change]\n",
    "    else:\n",
    "        for i in [c for c in coinValueList if c <= change]:\n",
    "            numCoins = 1+ recMC(coinValueList,change - i,knownResult)\n",
    "            if numCoins < minCoins:\n",
    "                minCoins = numCoins\n",
    "                knownResult[change] = minCoins\n",
    "    return minCoins\n",
    "print(recMC([1,5,10,25],65,[0]*66))"
   ]
  },
  {
   "source": [
    "# 动态规划\n",
    "1. 动态规划算法采用了一种更有条理的方式来得到问题的解\n",
    "* 找零兑换的动态规划算法从最简单的“1分钱找零”的最优解开始，逐步递加上去，直到我们需要的找零钱数\n",
    "* 在找零递加的过程中，设法保持每一分钱的递加都是最优解，一直加到求解找零钱数，自然得到最优解\n",
    "* 递加的过程能保持最优解的关键是，其依赖于更少钱数最优解的简单计算，而更少钱数的最优解已经得到了。\n",
    "* 问题的最优解包含了更小规模子问题的最优解，这是一个最优化问题能够用动态规划策略解决的必要条件。\n",
    "2. 建立动态规划的表格\n",
    "![图片](./img/1.png)"
   ],
   "cell_type": "markdown",
   "metadata": {}
  },
  {
   "cell_type": "code",
   "execution_count": 9,
   "metadata": {},
   "outputs": [
    {
     "output_type": "stream",
     "name": "stdout",
     "text": [
      "3\n"
     ]
    }
   ],
   "source": [
    "def dpMakeChange(coinValueList,change,minCoins):\n",
    "    for cents in range(1,change + 1):\n",
    "        coinCount = cents\n",
    "\n",
    "        for j in [c for c in coinValueList if c <= cents]:\n",
    "            if minCoins[cents - j] + 1 < coinCount:\n",
    "                coinCount = minCoins[cents -j] + 1\n",
    "        minCoins[cents] = coinCount\n",
    "    return minCoins[change]\n",
    "print(dpMakeChange([1,5,10,21,25],63,[0]*64))"
   ]
  },
  {
   "source": [
    "# 博物馆大盗问题\n",
    "![图片](./img/2.png)"
   ],
   "cell_type": "markdown",
   "metadata": {}
  },
  {
   "source": [
    "1. 贪心策略明显不行了，只能使用动态规划\n",
    "![pic](./img/3.png)"
   ],
   "cell_type": "markdown",
   "metadata": {}
  },
  {
   "source": [
    "2.  列出来表格有\n",
    "![pic](./img/4.png)"
   ],
   "cell_type": "markdown",
   "metadata": {}
  },
  {
   "source": [
    "3. 每个格子的内容，都只依赖于上边和左边"
   ],
   "cell_type": "markdown",
   "metadata": {}
  },
  {
   "cell_type": "code",
   "execution_count": 10,
   "metadata": {},
   "outputs": [
    {
     "output_type": "stream",
     "name": "stdout",
     "text": [
      "29\n"
     ]
    }
   ],
   "source": [
    "#dp\n",
    "#without function\n",
    "tr = [None,{'w':2,'v':3},{'w':3,'v':4},{'w':4,'v':8},{'w':5,'v':8},{'w':9,'v':10}]\n",
    "\n",
    "max_w = 20\n",
    "\n",
    "m = {(i,w):0 for i in range(len(tr))\n",
    "                for w in range(max_w + 1)}\n",
    "#print(m)\n",
    "for i in range(1,len(tr)):\n",
    "    for w in range(1,max_w + 1):\n",
    "        if tr[i]['w'] > w:\n",
    "            m[(i,w)] = m[(i-1,w)]\n",
    "        else:\n",
    "            m[(i,w)] = max(\n",
    "                m[(i-1,w)],\n",
    "                m[(i-1,w-tr[i]['w'])] + tr[i]['v']\n",
    "            )\n",
    "\n",
    "print(m[(len(tr)-1,max_w)])"
   ]
  },
  {
   "cell_type": "code",
   "execution_count": null,
   "metadata": {},
   "outputs": [],
   "source": [
    "#recursive\n",
    "tr = {(2,3),(3,4),(4,8),(5,8),(9,10)}\n",
    "max_w = 20\n",
    "\n",
    "m = {}\n",
    "\n",
    "def thief(tr,w):\n",
    "    if tr == set() or w == 0:\n",
    "        m[(tuple(tr),w)] = 0\n",
    "        return 0\n",
    "    elif (tuple(tr),w) in m:\n",
    "        return m[(tuple(tr),w)]\n",
    "    else:\n",
    "        vmax = 0\n",
    "        for t in tr:\n",
    "            if t[0] <= w:\n",
    "                v = thief(tr - {t},w - t[0]) + t[1]\n",
    "                vmax = max(vmax,v)\n",
    "        m[(tuple(tr),w)] = vmax\n",
    "        return vmax\n",
    "print(thief(tr,max_w))"
   ]
  }
 ]
}