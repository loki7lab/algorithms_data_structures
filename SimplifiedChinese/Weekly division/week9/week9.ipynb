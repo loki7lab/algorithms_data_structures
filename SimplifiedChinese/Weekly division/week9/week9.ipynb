{
 "cells": [
  {
   "cell_type": "markdown",
   "id": "d59aae0b",
   "metadata": {},
   "source": [
    "【本周思路】这一周要学的东西比较多，因为是新的数据结构（非线性）【图】。本周介绍了树的入门知识，下周是树的进阶知识。以下是本周学习思路：\n",
    "* 601-602 树的基本介绍\n",
    "* 603-604 树的两种实现方式：嵌套，链表\n",
    "* 605-606 用树结构解析表达式\n",
    "* 607 遍历树\n",
    "*********\n",
    "以下是稍微的扩展\n",
    "* 608 优先队列和二叉堆\n",
    "* 609 python实现二叉堆\n"
   ]
  },
  {
   "cell_type": "markdown",
   "id": "070393b4",
   "metadata": {},
   "source": [
    "**Table of contents**<a id='toc0_'></a>    \n",
    "- [601 什么是树](#toc1_)    \n",
    "  - [树的应用领域](#toc1_1_)    \n",
    "  - [树的特点和层次化结构](#toc1_2_)    \n",
    "  - [树在文件系统和HTML文档中的应用](#toc1_3_)    \n",
    "  - [树在域名体系和日常生活中的应用](#toc1_4_)    \n",
    "- [602 树结构相关术语](#toc2_)    \n",
    "  - [树的基本术语](#toc2_1_)    \n",
    "  - [节点和边的关系](#toc2_2_)    \n",
    "  - [子节点和叶节点](#toc2_3_)    \n",
    "  - [路径、层级和高度](#toc2_4_)    \n",
    "  - [不同角度定义“树”](#toc2_5_)    \n",
    "    - [树的定义1【由604实现】](#toc2_5_1_)    \n",
    "    - [树的定义2【递归版】【由603实现】](#toc2_5_2_)    \n",
    "- [603 树的嵌套List实现【递归】](#toc3_)    \n",
    "\n",
    "<!-- vscode-jupyter-toc-config\n",
    "\tnumbering=false\n",
    "\tanchor=true\n",
    "\tflat=false\n",
    "\tminLevel=1\n",
    "\tmaxLevel=6\n",
    "\t/vscode-jupyter-toc-config -->\n",
    "<!-- THIS CELL WILL BE REPLACED ON TOC UPDATE. DO NOT WRITE YOUR TEXT IN THIS CELL -->"
   ]
  },
  {
   "cell_type": "markdown",
   "id": "a5cbf186",
   "metadata": {},
   "source": [
    "# <a id='toc1_'></a>[601 什么是树](#toc0_)\n",
    "* 树是一种非线性结构，在计算机科学的各个领域中被广泛应用：\n",
    "    * 操作系统\n",
    "    * 图形学\n",
    "    * 数据库系统\n",
    "    * 计算机网络\n",
    "* 参考自然界的树，数据结构树也分为：\n",
    "    * 根\n",
    "    * 枝\n",
    "    * 叶\n",
    "* 一般数据结构的图示把根放在上方，叶放在下方"
   ]
  },
  {
   "cell_type": "markdown",
   "id": "e93d8d24",
   "metadata": {},
   "source": [
    "## <a id='toc1_1_'></a>[1. 树的应用领域](#toc0_)\n",
    "下面列举三个例子，介绍树。首先从生物学分类树引入树的概念"
   ]
  },
  {
   "cell_type": "markdown",
   "id": "5a8a4d4d",
   "metadata": {},
   "source": [
    "## <a id='toc1_2_'></a>[2. 树的特点和层次化结构](#toc0_)\n",
    "参考生物学物种分类体系（分类树），结论如下：\n",
    "* 分类体系是层次化的  $\\implies$ 树是一种分层结构【越接近顶部的层越普遍。越接近底部的层越独特】\n",
    "* 一个节点的子节点与另一个节点的子节点相互之间是隔离，独立的。可以修改其中一个而不影响另一个\n",
    "* 每一个叶节点都具有唯一性"
   ]
  },
  {
   "cell_type": "markdown",
   "id": "797e79e8",
   "metadata": {},
   "source": [
    "## <a id='toc1_3_'></a>[3. 树在文件系统和HTML文档中的应用](#toc0_)\n",
    "* 文件系统根目录：来源文件系统树\n",
    "* HTML文档(嵌套标记)：通过层层嵌套可以看出"
   ]
  },
  {
   "cell_type": "markdown",
   "id": "21fe047e",
   "metadata": {},
   "source": [
    "## <a id='toc1_4_'></a>[4. 树在域名体系和日常生活中的应用](#toc0_)\n",
    "域名体系采用从右向左的层级划分，例如：\n",
    "\n",
    "\n",
    "```www.example.com ```可以拆解为\n",
    "\n",
    "* 根域（也就是根节点，通常隐含在完整域名的末尾，在DNS协议中默认存在）：如 www.example.com.中最后的```.```\n",
    "* 顶级域（TLD，根的直接子节点）：.com\n",
    "* 二级域（子节点，或者说子树根）：example\n",
    "* 子域（主机）：www\n",
    "\n",
    "也就是树形路径为：```. → com → example → www```\n",
    "\n",
    "从树结构的概念来看，有：\n",
    "\n",
    "```根节点（Root） → 父节点（如TLD） → 子节点（如二级域） → 叶节点（如主机名）```\n",
    "\n",
    "$\\implies$ 域名本质是树中从根到叶的路径（例如：./com/example/www）"
   ]
  },
  {
   "cell_type": "markdown",
   "id": "22154d81",
   "metadata": {},
   "source": [
    "# <a id='toc2_'></a>[602 树结构相关术语](#toc0_)"
   ]
  },
  {
   "cell_type": "markdown",
   "metadata": {},
   "source": [
    "## <a id='toc2_1_'></a>[1. 树的基本术语](#toc0_)\n",
    "树由以下两大部分组成：\n",
    "* **Node节点**：每个节点具有名称，或“键值”。节点还可以保存额外数据项，数据项根据不同的应用而变\n",
    "* **Edge边**：\n",
    "    * 每条边恰好连接2个节点，表示节点之间具有关联，边具有出入方向\n",
    "    * 每个节点（除根节点）恰有一条来自另一节点的入边【方向是进入这个节点】\n",
    "    * 每个节点（除了叶节点）都可以有多条边连到其他节点的出边【方向是离开这个节点】"
   ]
  },
  {
   "cell_type": "markdown",
   "id": "4dc3dd36",
   "metadata": {},
   "source": [
    "$\\implies$ \n",
    "判断**Root根节点**：树中唯一一个没有入边的节点"
   ]
  },
  {
   "cell_type": "markdown",
   "id": "d15364da",
   "metadata": {},
   "source": [
    "## <a id='toc2_2_'></a>[2. 节点和边的关系](#toc0_)\n",
    "* **Children子节点**：入边均来自同一个节点的若干节点。这些节点被称为是这个节点的子节点\n",
    "* **Parent父节点**：一个节点是其他所有出边所连接节点的父节点"
   ]
  },
  {
   "cell_type": "markdown",
   "id": "47a69d4a",
   "metadata": {},
   "source": [
    "## <a id='toc2_3_'></a>[3. 子节点和叶节点](#toc0_)\n",
    "* **Sibling姊妹节点**：具有同一个父节点的节点，它们之间称为兄弟节点\n",
    "* **Subtree子树**：一个节点和其所有后代节点，以及相关边的集合【子集合】\n",
    "* **Leaf叶节点**：没有子节点的节点；也是没有出边的节点"
   ]
  },
  {
   "cell_type": "markdown",
   "metadata": {},
   "source": [
    "## <a id='toc2_4_'></a>[4. 路径、层级和高度](#toc0_)\n",
    "\n",
    "**路径Path**:由边依次连接在一起的节点的有序列表。\n",
    "\n",
    "如：```HTML->BODY->UL->LI```是一条路径\n",
    "\n",
    "![path](./img/602_1.PNG)"
   ]
  },
  {
   "cell_type": "markdown",
   "id": "d96c1034",
   "metadata": {},
   "source": [
    "* **Level层级**：从根节点开始到达一个节点的路径，这个路径所包含的【边的数量】。下图中D的层级是2，根节点的层级是0\n",
    "* **Height高度**：有多种定义方法。在此处是树中所有节点的最大层级。下图中树的高度是2。另外的定义方法可以是数层数，那么就是3。需结合实际情况具体应用"
   ]
  },
  {
   "cell_type": "markdown",
   "id": "43ac66a6",
   "metadata": {},
   "source": [
    "![level](./img/602_2.PNG)"
   ]
  },
  {
   "cell_type": "markdown",
   "id": "d7b48460",
   "metadata": {},
   "source": [
    "## <a id='toc2_5_'></a>[5. 不同角度定义“树”](#toc0_)\n",
    "\n",
    "### <a id='toc2_5_1_'></a>[5.1. 树的定义1【由604实现】](#toc0_)\n",
    "\n",
    "树由若干节点，以及两两连接节点的边组成，并有如下性质：\n",
    "* 其中一个节点被设定成根\n",
    "* 除了根节点，每个节点n都恰连接一条来自节点P的边。这个节点p被称为节点n的父节点\n",
    "* 每个节点从根开始的路径，都是唯一的\n",
    "\n",
    "按上面的定义，并满足【性质】，有示意图如下\n",
    "\n",
    "![定义1](./img/602_3.PNG)\n",
    "\n",
    "$\\implies$ 如果每个节点【最多】有n个子节点，这样的树称为“n叉树”\n"
   ]
  },
  {
   "cell_type": "markdown",
   "metadata": {},
   "source": [
    "### <a id='toc2_5_2_'></a>[5.2. 树的定义2【递归版】【由603实现】](#toc0_)\n",
    "树是以下二者居其一：\n",
    "1) 空集\n",
    "2) 由根节点及0或者多个子树构成【递归==>子树也是树】：每个子树的根到根节点具有边相连\n",
    "\n",
    "按照定义的描述，对应的图示如下：\n",
    "\n",
    "![定义2](./img/602_4.PNG)"
   ]
  },
  {
   "cell_type": "markdown",
   "id": "63a3dd86",
   "metadata": {},
   "source": [
    "有了定义，现在开始构思实现"
   ]
  },
  {
   "cell_type": "markdown",
   "metadata": {},
   "source": [
    "# <a id='toc3_'></a>[603 树的嵌套List实现【递归】](#toc0_)\n",
    "\n",
    "首先思考二叉树的实现。需要借助这样的嵌套列表：\n",
    "\n",
    "* 具有3个元素，第1个元素是根节点的值（数据项），第2个元素是左子树，第3个元素是右子树\n",
    "* 左右子树都是列表\n",
    "\n",
    "可以简单看作```[root,left,right]```。优点是：\n",
    "\n",
    "* 子树的结构与树相同，是一种递归的数据结构\n",
    "* 很容易拓展到多叉树，仅需要增加列表元素\n",
    "\n",
    "下面插入图，可以试试描述。请注意**叶节点也要当子树的根节点写出来**，其左右节点为空集【满足递归的条件】\n",
    "\n",
    "![list4tree](./img/603_1.PNG)"
   ]
  },
  {
   "cell_type": "code",
   "execution_count": 7,
   "id": "c0a42047",
   "metadata": {},
   "outputs": [],
   "source": [
    "\"\"\"\"\n",
    "# 建议先把子树的写出来\n",
    "# 根节点为d的子树：['d',[],[]]\n",
    "# 根节点为e的子树：['e',[],[]]\n",
    "# 因此，根节点为b的子树:['b',['d',[],[]],['e',[],[]]]\n",
    "\n",
    "# 根节点为f的子树：['f',[],[]]\n",
    "# 因此，根节点为c的子树：['c',[],['f',[],[]]]\n",
    "\n",
    "\"\"\"\n",
    "myTree = ['a'# ROOT\n",
    "          ,['b',['d',[],[]],['e',[],[]]]# LEFT\n",
    "          ,['c',[],['f',[],[]]]# RIGHT\n",
    "          ]\n"
   ]
  },
  {
   "cell_type": "markdown",
   "id": "b001eb81",
   "metadata": {},
   "source": [
    "在熟悉以后，定义一系列函数辅助操作嵌套列表：\n",
    "\n",
    "* BinaryTree创建仅有根节点的二叉树\n",
    "* insertLeft/insertRight将新节点插入树中作为其直接的左/右子节点；也就是说，如果原来有左右子树，就当成新子树对应的左右子树【重点】\n",
    "* get/setRootVal则取得或返回根节点\n",
    "* getLeft/RightChild返回左/右子树"
   ]
  },
  {
   "cell_type": "markdown",
   "id": "0a66fa90",
   "metadata": {},
   "source": [
    "为避免想太复杂，首先参考例子代码以及输出，推测写到何种地步即可"
   ]
  },
  {
   "cell_type": "code",
   "execution_count": null,
   "id": "1673f875",
   "metadata": {},
   "outputs": [],
   "source": [
    "r = BinaryTree(3)\n",
    "insertLeft(4)\n",
    "insertLeft(5)\n",
    "insertRight(6)\n",
    "insertRight(7)\n",
    "left_child = getLeftChild(r) \n",
    "print(left_child)\n",
    "setRootVal(left_child, 9)\n",
    "print('r = ',r)\n",
    "insertLeft(left_child, 11)\n",
    "print('r = ',r)\n",
    "print('child : ',getRightChild(getRightChild(r)))"
   ]
  },
  {
   "cell_type": "markdown",
   "id": "fd5d3fdd",
   "metadata": {},
   "source": [
    "结合输出内容，即要求为：\n",
    "* 每次插入的都是单个数字\n",
    "* 输出的每个子树（请注意嵌套）都是完整的二叉树，需输出为空的叶节点\n",
    "* 可以截取一部分子树，重新处理\n",
    "* 注意插入节点对实际序列的顺序影响"
   ]
  },
  {
   "cell_type": "code",
   "execution_count": null,
   "id": "0bd63adb",
   "metadata": {},
   "outputs": [],
   "source": [
    "# 开头尝试自己书写\n",
    "# 不要想太复杂了！\n",
    "class BinaryTree:\n",
    "    def __init__(self,r):# 这里不能有返回值\n",
    "        self.root = [r,[],[]]#但通常类的实例属性应该直接赋值给self的属性，比如self.tree = r，然后左右子树可能作为其他属性，或者这里的结构可能是一个嵌套列表的表示方式\n",
    "       # return self.root\n",
    "       \n",
    "    def insertLeft(self,subTree):\n",
    "        self[1] = subTree#self是类的实例，不是一个列表或可索引对象，所以这里会抛出TypeError，因为实例对象不支持索引操作。正确的做法应该是操作实例的root属性\n",
    "        return self"
   ]
  },
  {
   "cell_type": "code",
   "execution_count": 1,
   "id": "5885dc44",
   "metadata": {},
   "outputs": [
    {
     "name": "stdout",
     "output_type": "stream",
     "text": [
      "3\n"
     ]
    }
   ],
   "source": [
    "r=3.6\n",
    "if type(r) == float or int:\n",
    "    print(\"3\")"
   ]
  },
  {
   "cell_type": "markdown",
   "id": "f3d4b61b",
   "metadata": {},
   "source": [
    "优化代码有"
   ]
  },
  {
   "cell_type": "code",
   "execution_count": null,
   "id": "cc6e038b",
   "metadata": {},
   "outputs": [],
   "source": [
    "class BinaryTree:\n",
    "    def __init__(self,root):\n",
    "        if type(root) == float or int:\n",
    "            self.tree = [root,[],[]]\n",
    "        else:\n",
    "            print(\"请输入数字！\")\n",
    "    def insertLeft(self,subNum):\n",
    "        if self.tree[1] == []:\n",
    "            self.tree[1] = [subNum,[],[]]\n",
    "        else:\n",
    "            left_tree = self.tree[1]\n",
    "            self.tree[1] = [subNum,left_tree,[]]\n",
    "    def insertRight(self,subNum):\n",
    "        if self.tree[2] == []:\n",
    "            self.tree[2] = [subNum,[],[]]\n",
    "        else:\n",
    "            right_tree = self.tree[2]\n",
    "            self.tree[2] = [subNum,[],right_tree]\n",
    "    def getRootVal(self):\n",
    "        return self.tree[0]\n",
    "    def setRootVal(self,num):\n",
    "        self.tree[0] = num\n",
    "    def getLeftChild(self):\n",
    "        return self.tree[1]\n",
    "    def getRightChild(self):\n",
    "        return self.tree[2]"
   ]
  },
  {
   "cell_type": "markdown",
   "id": "1f68c065",
   "metadata": {},
   "source": [
    "测试有"
   ]
  },
  {
   "cell_type": "code",
   "execution_count": null,
   "id": "1f7bd9f6",
   "metadata": {},
   "outputs": [
    {
     "name": "stdout",
     "output_type": "stream",
     "text": [
      "[5, [4, [], []], []]\n"
     ]
    }
   ],
   "source": [
    "r = BinaryTree(3)\n",
    "r.insertLeft(4)\n",
    "r.insertLeft(5)\n",
    "r.insertRight(6)\n",
    "r.insertRight(7)\n",
    "left_child = r.getLeftChild() \n",
    "print(left_child) "
   ]
  },
  {
   "cell_type": "markdown",
   "id": "0061dc56",
   "metadata": {},
   "source": [
    "但这里就不对了，```left_child```实际上是列表，无法使用定义的函数继续操作。在使用列表当子树而不是类当子树时，就很难正确完成后续操作"
   ]
  },
  {
   "cell_type": "code",
   "execution_count": 6,
   "id": "788bc240",
   "metadata": {},
   "outputs": [
    {
     "ename": "AttributeError",
     "evalue": "'list' object has no attribute 'setRootVal'",
     "output_type": "error",
     "traceback": [
      "\u001b[1;31m---------------------------------------------------------------------------\u001b[0m",
      "\u001b[1;31mAttributeError\u001b[0m                            Traceback (most recent call last)",
      "Cell \u001b[1;32mIn[6], line 1\u001b[0m\n\u001b[1;32m----> 1\u001b[0m left_child\u001b[38;5;241m.\u001b[39msetRootVal(\u001b[38;5;241m9\u001b[39m)\n\u001b[0;32m      2\u001b[0m \u001b[38;5;28mprint\u001b[39m(\u001b[38;5;124m'\u001b[39m\u001b[38;5;124mr = \u001b[39m\u001b[38;5;124m'\u001b[39m,r)\n",
      "\u001b[1;31mAttributeError\u001b[0m: 'list' object has no attribute 'setRootVal'"
     ]
    }
   ],
   "source": [
    "left_child.setRootVal(9)\n",
    "print('r = ',r)"
   ]
  },
  {
   "cell_type": "markdown",
   "id": "e921da00",
   "metadata": {},
   "source": [
    "暂时使用以下AI协助优化（非标准）"
   ]
  },
  {
   "cell_type": "code",
   "execution_count": 11,
   "id": "2d80e6f9",
   "metadata": {},
   "outputs": [],
   "source": [
    "class BinaryTree:\n",
    "    def __init__(self, root):\n",
    "        # 修正类型检查：使用 isinstance 并同时检查 int 和 float 类型\n",
    "        if isinstance(root, (int, float)):\n",
    "            self.tree = [root, [], []]  # 结构：[根节点值，左子树，右子树]\n",
    "        else:\n",
    "            raise ValueError(\"请输入数字（int 或 float 类型）！\")  # 用异常替代 print 更合理\n",
    "\n",
    "    def insertLeft(self, subNum):\n",
    "        # 左子树为空时，直接插入新节点\n",
    "        if self.tree[1] == []:\n",
    "            self.tree[1] = BinaryTree(subNum)\n",
    "        else:\n",
    "            # 左子树非空时，将原左子树作为新节点的左子树\n",
    "            # new_subTree 是 BinaryTree 类的实例对象，而 Python 中对象默认不支持通过 [索引] 直接赋值（需要类实现 __setitem__ 方法）\n",
    "            # 这里的本意是操作 BinaryTree 实例内部的 tree 列表属性（结构为 [根节点值, 左子树, 右子树]），而不是直接操作对象本身。 因此这个insertLeft 方法，需要通过访问实例的 tree 属性来操作子树\n",
    "            new_subTree = BinaryTree(subNum)# 实例\n",
    "            new_subTree.tree[1] = self.tree[1] # 操作属性\n",
    "            self.tree[1] = new_subTree  # 当前节点的左子树更新为新节点\n",
    "\n",
    "    def insertRight(self, new_val):\n",
    "        if self.tree[2] == []:\n",
    "            self.tree[2] = BinaryTree(new_val)\n",
    "        else:\n",
    "            new_node = BinaryTree(new_val)\n",
    "            new_node.tree[2] = self.tree[2]  # 正确访问内部列表\n",
    "            self.tree[2] = new_node\n",
    "\n",
    "    def getRootVal(self):\n",
    "        return self.tree[0]\n",
    "\n",
    "    def setRootVal(self, num):\n",
    "        self.tree[0] = num\n",
    "\n",
    "    def getLeftChild(self):\n",
    "        return self.tree[1]\n",
    "\n",
    "    def getRightChild(self):\n",
    "        return self.tree[2]\n",
    "    \n",
    "     # 重载打印函数，递归生成列表形式的树结构\n",
    "    def __str__(self):# 递归处理左子树和右子树：如果是 BinaryTree 实例则转字符串，否则保留空列表\n",
    "        # 左子树：如果是 BinaryTree 实例则转字符串，否则用 \"[]\" 表示空\n",
    "        left_str = str(self.tree[1]) if isinstance(self.tree[1], BinaryTree) else \"[]\"\n",
    "        right_str = str(self.tree[2]) if isinstance(self.tree[2], BinaryTree) else \"[]\"\n",
    "        return f\"[{self.tree[0]}, {left_str}, {right_str}]\"\n",
    "    \n",
    "    __repr__ = __str__  # 简化写法，确保交互式环境下的显示与 __str__ 一致"
   ]
  },
  {
   "cell_type": "code",
   "execution_count": 12,
   "id": "bbae5029",
   "metadata": {},
   "outputs": [
    {
     "name": "stdout",
     "output_type": "stream",
     "text": [
      "[5, [4, [], []], []]\n"
     ]
    }
   ],
   "source": [
    "r = BinaryTree(3)\n",
    "r.insertLeft(4)\n",
    "r.insertLeft(5)\n",
    "r.insertRight(6)\n",
    "r.insertRight(7)\n",
    "left_child = r.getLeftChild() \n",
    "print(left_child) "
   ]
  },
  {
   "cell_type": "code",
   "execution_count": null,
   "id": "28caf33e",
   "metadata": {},
   "outputs": [
    {
     "name": "stdout",
     "output_type": "stream",
     "text": [
      "r =  [3, [9, [11, [4, [], []], []], []], [7, [], [6, [], []]]]\n",
      "r =  [3, [9, [11, [11, [4, [], []], []], []], []], [7, [], [6, [], []]]]\n",
      "child :  [6, [], []]\n"
     ]
    }
   ],
   "source": [
    "left_child.setRootVal(9)\n",
    "print('r = ',r)# left_child 和 r.tree[1] 指向的是同一个对象，属于共享引用，该操作等价于r.getLeftChild().setRootVal(9)\n",
    "left_child.insertLeft(11)\n",
    "print('r = ',r)\n",
    "print('child : ',r.getRightChild().getRightChild())"
   ]
  },
  {
   "cell_type": "code",
   "execution_count": null,
   "id": "20a61604",
   "metadata": {},
   "outputs": [],
   "source": [
    "# 如果不想改变子树影响到树实例，那么有深拷贝\n",
    "import copy\n",
    "left = copy.deepcopy(r.getLeftChild())"
   ]
  },
  {
   "cell_type": "code",
   "execution_count": 15,
   "id": "4a8c8558",
   "metadata": {},
   "outputs": [
    {
     "name": "stdout",
     "output_type": "stream",
     "text": [
      "5\n",
      "4\n"
     ]
    }
   ],
   "source": [
    "# 测试代码\n",
    "r = BinaryTree(3)\n",
    "r.insertLeft(4)\n",
    "r.insertLeft(5)  # 插入左子树：5 -> 4 -> 原根节点3\n",
    "r.insertRight(6)\n",
    "r.insertRight(7)  # 插入右子树：7 -> 6 -> 原根节点3\n",
    "\n",
    "# 验证结构\n",
    "left_child = r.getLeftChild()\n",
    "print(left_child.getRootVal())  # 输出 5（新左子树的根节点）\n",
    "print(left_child.getLeftChild().getRootVal())  # 输出 4（原左子树的根节点）"
   ]
  },
  {
   "cell_type": "markdown",
   "id": "a107756f",
   "metadata": {},
   "source": [
    "****\n",
    "补充介绍类内部调用自身：\n",
    "\n",
    "类在定义过程中，其名称已经在类的作用域中“可见”，因此可以在类的内部方法中直接使用类名来创建该类的实例。换句话说，一个类的实例可以在其属性中包含该类的另一个实例。\n",
    "\n",
    "$\\implies$\n",
    "\n",
    "这是 Python 面向对象编程中的一个关键特性，被称为类的自引用（**self-reference**），也是实现递归式数据结构的常见手段之一：\n",
    "\n",
    "* 在 Python 中，类的定义是一个“可执行的语句块”。当 Python 执行语句 ```class BinaryTree:``` 时，就会开始逐行执行类体中的代码\n",
    "\n",
    "* 执行过程中，Python 会首先为该类创建一个新的命名空间，用于存放类内部的名字（包括方法、属性等）\n",
    "\n",
    "* 类体执行完毕后，Python 会将这个命名空间封装成一个类对象 ```BinaryTree```，并将该对象绑定到当前模块的全局作用域中的 ```BinaryTree``` 名称上\n",
    "\n",
    "* 类中定义的方法实际上是函数对象（带 ```self``` 参数），它们在类定义时就被加入到了类的命名空间中。$\\implies$ 因此，这些方法虽然是在类体中定义的，但不会被立即执行，而是被“注册”进类命名空间，等待被调用"
   ]
  },
  {
   "cell_type": "markdown",
   "id": "8a0ce88f",
   "metadata": {},
   "source": [
    "| 概念          | 定义                              | 与另一项的关系              |\n",
    "| ----------- | ------------------------------- | -------------------- |\n",
    "| **类的自引用**   | 在类中定义的属性，其类型是该类本身或包含该类          | 不一定构成递归结构（可能只引用一次）   |\n",
    "| **递归式数据建构** | 数据结构的定义中**递归地嵌套自身**，从而支持潜在的无限扩展 | 通常**依赖类的自引用**来实现递归特性 |\n",
    "\n",
    "总结：类的自引用是一种编程技术手段，而递归式数据结构是一种结构特征。递归结构通常通过类的自引用来实现，但二者不能等同"
   ]
  },
  {
   "cell_type": "markdown",
   "id": "3ef8bf1f",
   "metadata": {},
   "source": [
    "****\n",
    "类的命名空间（namespace）\n",
    "\n",
    "* 是一个存储类内部定义的名字（如方法、类变量、嵌套类等）的“字典空间”。 例如执行代码"
   ]
  },
  {
   "cell_type": "code",
   "execution_count": null,
   "id": "7e17b82e",
   "metadata": {},
   "outputs": [],
   "source": [
    "class MyClass:\n",
    "    x = 10\n",
    "    def method(self):\n",
    "        return self.x"
   ]
  },
  {
   "cell_type": "markdown",
   "id": "67668104",
   "metadata": {},
   "source": [
    "当 Python 解释器执行 class MyClass: 这一段时，它会做以下事情：\n",
    "\n",
    "1. 创建一个新的“类命名空间”（一个字典）；\n",
    "\n",
    "2. 把 x 和 method 这两个名字加进去，如下："
   ]
  },
  {
   "cell_type": "code",
   "execution_count": null,
   "id": "13f497e0",
   "metadata": {},
   "outputs": [],
   "source": [
    "{\n",
    "  'x': 10,\n",
    "  'method': <function MyClass.method>\n",
    "}"
   ]
  },
  {
   "cell_type": "markdown",
   "id": "5c661b05",
   "metadata": {},
   "source": [
    "3. 然后将这个字典封装成一个类对象 MyClass；\n",
    "\n",
    "4. 最后把这个类对象绑定到当前模块的全局命名空间中"
   ]
  },
  {
   "cell_type": "code",
   "execution_count": 1,
   "id": "8bb0e0d2",
   "metadata": {},
   "outputs": [
    {
     "name": "stdout",
     "output_type": "stream",
     "text": [
      "{'__module__': '__main__', 'x': 10, 'method': <function MyClass.method at 0x0000014AF0E55DA0>, '__dict__': <attribute '__dict__' of 'MyClass' objects>, '__weakref__': <attribute '__weakref__' of 'MyClass' objects>, '__doc__': None}\n"
     ]
    }
   ],
   "source": [
    "# 验证：类的命名空间就是它的 __dict__\n",
    "class MyClass:\n",
    "    x = 10\n",
    "    def method(self):\n",
    "        return self.x\n",
    "\n",
    "print(MyClass.__dict__)"
   ]
  },
  {
   "cell_type": "markdown",
   "id": "36c5383f",
   "metadata": {},
   "source": [
    "也就是：\n",
    "\n",
    "| 名称    | 内容                          |\n",
    "| ----- | --------------------------- |\n",
    "| 类命名空间 | 存放类体中定义的名字（变量/函数）           |\n",
    "| 类命名空间类型    | `dict`（只读映射：`mappingproxy`） |\n",
    "| 类命名空间访问方式  | `ClassName.__dict__`        |\n"
   ]
  },
  {
   "cell_type": "markdown",
   "id": "cad5071b",
   "metadata": {},
   "source": [
    "****\n",
    "类、类对象与实例对象\n",
    "🧱 三者概念对比\n",
    "| 名称       | 比喻        | Python 表达式                    | 说明                |\n",
    "| -------- | --------- | ----------------------------- | ----------------- |\n",
    "| 类（class） | 猫的“设计图纸”   | `class Cat:`                  | 定义猫应有的属性和行为，是一种语法结构，本身不占用实际内存空间，而是作为创建实例对象的“蓝图” |\n",
    "| 类对象（Class Object）    | 猫的“模具” | `Cat`                         | 当 Python 解释器执行 class 语句时，会自动创建一个类对象（属于 type 类型的实例），它是类定义的“实体化”结果；类对象存储了类的所有元信息（如类属性、方法、继承关系等），并作为创建实例对象的“模板”。类名即类对象的引用 |\n",
    "|实例对象（instance object） | 一只具体的猫   | `mimi = Cat(\"Mimi\", \"black\")` | 由类对象创建出的真实猫，拥有属性和行为 |\n",
    "\n",
    "\n",
    "🧠 概念厘清\n",
    "\n",
    "- **类** 是一段“死”的代码，是用于描述猫长什么样、能做什么的“图纸”\n",
    "- **类对象** 是解释器根据类定义生成的“模具”，是“活”的内存实体(可交互)，具有类的元信息（如方法、属性等），是元逻辑的一部分, 用于生产实例\n",
    "- **实例对象** 是通过类对象制造出的“真实的猫咪”，能叫、能吃鱼，是实际参与程序运行的个体"
   ]
  },
  {
   "cell_type": "code",
   "execution_count": null,
   "id": "4dff2701",
   "metadata": {},
   "outputs": [],
   "source": [
    "# 类（class）：猫的设计图纸\n",
    "class Cat:\n",
    "    def __init__(self, name, color):\n",
    "        self.name = name      # 属性1：名字\n",
    "        self.color = color    # 属性2：颜色\n",
    "\n",
    "    def meow(self):           # 行为：喵喵叫\n",
    "        print(f\"{self.name} says meow~\")\n"
   ]
  },
  {
   "cell_type": "code",
   "execution_count": null,
   "id": "6477033f",
   "metadata": {},
   "outputs": [
    {
     "name": "stdout",
     "output_type": "stream",
     "text": [
      "<class 'type'>\n",
      "{'__module__': '__main__', '__init__': <function Cat.__init__ at 0x0000014AF0F374C0>, 'meow': <function Cat.meow at 0x0000014AF0F37560>, '__dict__': <attribute '__dict__' of 'Cat' objects>, '__weakref__': <attribute '__weakref__' of 'Cat' objects>, '__doc__': None}\n"
     ]
    }
   ],
   "source": [
    "# 类对象：猫的模具，由 class 定义生成\n",
    "# Python 是“万物皆对象”的语言---类本身也是一个对象！\n",
    "# 当 Python 解释器运行上面这段 class Cat: 代码时，它会创建一个 类对象 Cat\n",
    "\n",
    "print(type(Cat))  # <class 'type'>\n",
    "print(Cat.__dict__)\n",
    "\n",
    "\n",
    "# Cat 也是一个对象，类型是 type。这就是所谓的\"类对象\"，它是 Python 创建出来、用来造实例对象的“工厂”或者说\"模具\"\n",
    "# Cat不只是“名字”而已，而是包含了所有\"类定义的内容\"的对象"
   ]
  },
  {
   "cell_type": "code",
   "execution_count": null,
   "id": "0de6c109",
   "metadata": {},
   "outputs": [],
   "source": [
    "# 实例对象（instance object）：具体的猫\n",
    "mimi = Cat(\"Mimi\", \"black\")\n",
    "# 这时候 mimi 就是一个实例对象（也叫“猫的个体”），它是通过类对象 Cat 创建出来的，拥有自己的 name 和 color。"
   ]
  },
  {
   "cell_type": "code",
   "execution_count": null,
   "id": "7fcde321",
   "metadata": {},
   "outputs": [],
   "source": [
    "\"\"\"\n",
    "┌───────────────────────────────┐\n",
    "│ class Cat │ ← 这是类定义代码（模板）\n",
    "│ ┌───────────────────────────┐ │\n",
    "│ │ 属性（name, color） │\n",
    "│ │ 行为（meow() 方法） │\n",
    "│ └───────────────────────────┘ │\n",
    "└─────────────┬─────────────────┘\n",
    "│ Python 运行 class 定义后\n",
    "▼\n",
    "┌───────────────────────────────┐\n",
    "│ 类对象 Cat │ ← Python 创建的“类对象”，类型是 type\n",
    "│ ┌───────────────────────────┐ │\n",
    "│ │ 包含属性和行为的描述（字典） │\n",
    "│ │ 是创建实例对象的“工厂” │\n",
    "│ └───────────────────────────┘ │\n",
    "└─────────────┬─────────────────┘\n",
    "│ 调用类对象创建实例\n",
    "▼\n",
    "┌───────────────────────────────┐\n",
    "│ 实例对象 mimi │ ← 具体的一只猫\n",
    "│ ┌───────────────────────────┐ │\n",
    "│ │ name = \"Mimi\" │\n",
    "│ │ color = \"black\" │\n",
    "│ │ 可以调用方法 meow() │\n",
    "│ └───────────────────────────┘ │\n",
    "└───────────────────────────────┘\n",
    "\"\"\""
   ]
  },
  {
   "cell_type": "markdown",
   "id": "41e6c061",
   "metadata": {},
   "source": [
    "🧠 为什么说类对象要强调“活体”？\n",
    "\n",
    "是为了强调**类对象是在内存中真实存在、可被操作、可动态修改、参与运行的对象**\n",
    "\n",
    "类对象具体有以下性质:"
   ]
  },
  {
   "cell_type": "code",
   "execution_count": null,
   "id": "66727018",
   "metadata": {},
   "outputs": [],
   "source": [
    "# 1. 类对象是运行时的实体\n",
    "class Cat:\n",
    "    pass\n",
    "\n",
    "print(type(Cat))  # <class 'type'>\n",
    "\n",
    "\"\"\"\n",
    "* Cat 不是一段死代码，它是运行时生成的一个对象。\n",
    "\n",
    "* 它是 type 类的一个实例，和其他对象一样活跃地存在于内存中，可以被操作、赋值、传递、修改属性等。\n",
    "\"\"\""
   ]
  },
  {
   "cell_type": "code",
   "execution_count": null,
   "id": "2275bf20",
   "metadata": {},
   "outputs": [],
   "source": [
    "# 2. 类对象是可交互的“第一类对象”\n",
    "# Python 是高度动态的语言，类对象就像函数、字符串一样，是“第一类对象（first-class object）”\n",
    "def say_hi(cls):\n",
    "    cls.hello = lambda self: print(\"Hi!\")\n",
    "\n",
    "say_hi(Cat)\n",
    "mimi = Cat()\n",
    "mimi.hello()  # 输出：Hi!\n",
    "\"\"\"\n",
    "* 我们可以在运行时动态地给 Cat（类对象）加方法、加属性。\n",
    "\n",
    "* 这说明类对象不仅存在，而且是可交互、可变、参与逻辑行为的“活体”。\n",
    "\n",
    "\"\"\""
   ]
  },
  {
   "cell_type": "code",
   "execution_count": null,
   "id": "46bfc05a",
   "metadata": {},
   "outputs": [],
   "source": [
    "#  3. 类对象与类定义不同：后者只是语法结构\n",
    "# 类定义是“死的”，它只是代码本身\n",
    "class Cat:\n",
    "    pass\n",
    "\n",
    "# 一旦解释器执行完这段定义，生成的 Cat 类对象才是“活的”"
   ]
  },
  {
   "cell_type": "markdown",
   "id": "7e8f7a88",
   "metadata": {},
   "source": [
    "也就是请注意,在python中有: \n",
    "\n",
    "* 类对象本身就是“对象”，是参与运行、可以赋值、可以动态修改的“活体对象”。之所以强调“类对象是活体”，是为了让学习者明白：\n",
    "\n",
    "$\\implies$\n",
    "\n",
    "```类对象``` 不是静态的抽象定义，而是程序运行时的真实存在，是可以被操作的实体对象。"
   ]
  },
  {
   "cell_type": "markdown",
   "id": "211c30dd",
   "metadata": {},
   "source": [
    "制作对比表格如下:\n",
    "\n",
    "| 名称                    | 比喻 | 状态             |\n",
    "| --------------------- | -- | -------------- |\n",
    "| 类（class 语法）           | 图纸 | 死的（静态代码结构）     |\n",
    "| 类对象（class object）     | 模具 | 活的（内存中的对象，可交互） |\n",
    "| 实例对象（instance object） | 汽车 | 活的（运行个体）       |\n"
   ]
  },
  {
   "cell_type": "markdown",
   "id": "674870a3",
   "metadata": {},
   "source": [
    "🔎 注意事项\n",
    "\n",
    "* 类定义本身不会创建任何对象，它只是描述“应该怎样创建”。\n",
    "\n",
    "* Python 在解释 class Cat: 语句时，会立即创建一个类对象 Cat。\n",
    "\n",
    "* 类对象是一个 type 类型的对象，它可以创建多个实例对象。\n",
    "\n",
    "* 实例对象是属于某个类的，它知道自己是由哪个类生成的（通过 __class__ 属性）"
   ]
  },
  {
   "cell_type": "markdown",
   "id": "807eb6c0",
   "metadata": {},
   "source": [
    "🧩 补充理解：口语中的混用\n",
    "\n",
    "虽然“类”和“类对象”在底层并不相同，但由于类对象是类定义的直接产物，且类名（如 Person）通常直接指向类对象，因此口语中常将“类”和“类对象”混用（例如“通过类创建实例”实际是“通过类对象创建实例”）。"
   ]
  },
  {
   "cell_type": "markdown",
   "id": "a1eee5a6",
   "metadata": {},
   "source": [
    "*****\n",
    "下面是课件原代码"
   ]
  },
  {
   "cell_type": "code",
   "execution_count": null,
   "id": "25bb31e5",
   "metadata": {},
   "outputs": [],
   "source": [
    "def BinaryTree(r):\n",
    "    return [[], []]\n",
    "\n",
    "def insertLeft(root, newBranch):#这里需要查看原来有没有左子树\n",
    "    t = root.pop(1)\n",
    "    if len(t) > 1:# 如果原来有左子树/叶节点，那么就把新的插入原来左子树的位置，左子树挂在新子树的左边\n",
    "        # 这里跟1比，是因为按照之前的写法，叶节点也是len([1,[],[]]) = 3，子树len([3,[1,2,5],[6,9,7]])也是3\n",
    "        root.insert(1, [newBranch, t, []])#列表嵌套的用法\n",
    "    else:#原来为空节点\n",
    "        root.insert(1, [newBranch, [], []])#newBranch可以是嵌套列表;但参考上面对树的书写,最好是数值\n",
    "    return root\n",
    "\n",
    "def insertRight(root, newBranch):\n",
    "    t = root.pop(2)\n",
    "    if len(t) > 1:\n",
    "        root.insert(2, [newBranch, [], t])\n",
    "    else:\n",
    "        root.insert(2, [newBranch, [], []])\n",
    "    return root\n",
    "\n",
    "def getRootVal(root):\n",
    "    return root[0]\n",
    "\n",
    "def setRootVal(root, newVal):\n",
    "    root[0] = newVal\n",
    "\n",
    "def getLeftChild(root):\n",
    "    return root[1]\n",
    "\n",
    "def getRightChild(root):\n",
    "    return root[2]"
   ]
  },
  {
   "cell_type": "code",
   "execution_count": null,
   "id": "81ed6b48",
   "metadata": {},
   "outputs": [
    {
     "name": "stdout",
     "output_type": "stream",
     "text": [
      "[5, [4, [], []], []]\n",
      "r =  [3, [9, [4, [], []], []], [7, [], [6, [], []]]]\n",
      "r =  [3, [9, [11, [4, [], []], []], []], [7, [], [6, [], []]]]\n",
      "child :  [6, [], []]\n"
     ]
    }
   ],
   "source": [
    "r = BinaryTree(3)\n",
    "insertLeft(4)\n",
    "insertLeft(5)\n",
    "insertRight(6)\n",
    "insertRight(7)\n",
    "left_child = getLeftChild(r) \n",
    "print(left_child)\n",
    "setRootVal(left_child, 9)\n",
    "print('r = ',r)\n",
    "insertLeft(left_child, 11)\n",
    "print('r = ',r)\n",
    "print('child : ',getRightChild(getRightChild(r)))"
   ]
  }
 ],
 "metadata": {
  "kernelspec": {
   "display_name": "base",
   "language": "python",
   "name": "python3"
  },
  "language_info": {
   "codemirror_mode": {
    "name": "ipython",
    "version": 3
   },
   "file_extension": ".py",
   "mimetype": "text/x-python",
   "name": "python",
   "nbconvert_exporter": "python",
   "pygments_lexer": "ipython3",
   "version": "3.12.7"
  }
 },
 "nbformat": 4,
 "nbformat_minor": 5
}
