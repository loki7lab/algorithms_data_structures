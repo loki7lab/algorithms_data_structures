{
 "cells": [
  {
   "cell_type": "markdown",
   "id": "d59aae0b",
   "metadata": {},
   "source": [
    "【本周思路】这一周要学的东西比较多，因为是新的数据结构（非线性）【图】。本周介绍了树的入门知识，下周是树的进阶知识。以下是本周学习思路：\n",
    "* 601-602 树的基本介绍\n",
    "* 603-604 树的两种实现方式：嵌套，链表\n",
    "* 605-606 用树结构解析表达式\n",
    "* 607 遍历树\n",
    "*********\n",
    "以下是稍微的扩展\n",
    "* 608 优先队列和二叉堆\n",
    "* 609 python实现二叉堆\n"
   ]
  },
  {
   "cell_type": "markdown",
   "id": "070393b4",
   "metadata": {},
   "source": [
    "**Table of contents**<a id='toc0_'></a>    \n",
    "- [601 什么是树](#toc1_)    \n",
    "  - [树的应用领域](#toc1_1_)    \n",
    "  - [树的特点和层次化结构](#toc1_2_)    \n",
    "  - [树在文件系统和HTML文档中的应用](#toc1_3_)    \n",
    "  - [树在域名体系和日常生活中的应用](#toc1_4_)    \n",
    "- [602 树结构相关术语](#toc2_)    \n",
    "  - [树的基本术语](#toc2_1_)    \n",
    "  - [节点和边的关系](#toc2_2_)    \n",
    "  - [子节点和叶节点](#toc2_3_)    \n",
    "  - [路径、层级和高度](#toc2_4_)    \n",
    "  - [不同角度定义“树”](#toc2_5_)    \n",
    "    - [树的定义1【由604实现】](#toc2_5_1_)    \n",
    "    - [树的定义2【递归版】【由603实现】](#toc2_5_2_)    \n",
    "- [603 树的嵌套List实现【递归】](#toc3_)    \n",
    "\n",
    "<!-- vscode-jupyter-toc-config\n",
    "\tnumbering=false\n",
    "\tanchor=true\n",
    "\tflat=false\n",
    "\tminLevel=1\n",
    "\tmaxLevel=6\n",
    "\t/vscode-jupyter-toc-config -->\n",
    "<!-- THIS CELL WILL BE REPLACED ON TOC UPDATE. DO NOT WRITE YOUR TEXT IN THIS CELL -->"
   ]
  },
  {
   "cell_type": "markdown",
   "id": "a5cbf186",
   "metadata": {},
   "source": [
    "# <a id='toc1_'></a>[601 什么是树](#toc0_)\n",
    "* 树是一种非线性结构，在计算机科学的各个领域中被广泛应用：\n",
    "    * 操作系统\n",
    "    * 图形学\n",
    "    * 数据库系统\n",
    "    * 计算机网络\n",
    "* 参考自然界的树，数据结构树也分为：\n",
    "    * 根\n",
    "    * 枝\n",
    "    * 叶\n",
    "* 一般数据结构的图示把根放在上方，叶放在下方"
   ]
  },
  {
   "cell_type": "markdown",
   "id": "e93d8d24",
   "metadata": {},
   "source": [
    "## <a id='toc1_1_'></a>[1. 树的应用领域](#toc0_)\n",
    "下面列举三个例子，介绍树。首先从生物学分类树引入树的概念"
   ]
  },
  {
   "cell_type": "markdown",
   "id": "5a8a4d4d",
   "metadata": {},
   "source": [
    "## <a id='toc1_2_'></a>[2. 树的特点和层次化结构](#toc0_)\n",
    "参考生物学物种分类体系（分类树），结论如下：\n",
    "* 分类体系是层次化的  $\\implies$ 树是一种分层结构【越接近顶部的层越普遍。越接近底部的层越独特】\n",
    "* 一个节点的子节点与另一个节点的子节点相互之间是隔离，独立的。可以修改其中一个而不影响另一个\n",
    "* 每一个叶节点都具有唯一性"
   ]
  },
  {
   "cell_type": "markdown",
   "id": "797e79e8",
   "metadata": {},
   "source": [
    "## <a id='toc1_3_'></a>[3. 树在文件系统和HTML文档中的应用](#toc0_)\n",
    "* 文件系统根目录：来源文件系统树\n",
    "* HTML文档(嵌套标记)：通过层层嵌套可以看出"
   ]
  },
  {
   "cell_type": "markdown",
   "id": "21fe047e",
   "metadata": {},
   "source": [
    "## <a id='toc1_4_'></a>[4. 树在域名体系和日常生活中的应用](#toc0_)\n",
    "域名体系采用从右向左的层级划分，例如：\n",
    "\n",
    "\n",
    "```www.example.com ```可以拆解为\n",
    "\n",
    "* 根域（也就是根节点，通常隐含在完整域名的末尾，在DNS协议中默认存在）：如 www.example.com.中最后的```.```\n",
    "* 顶级域（TLD，根的直接子节点）：.com\n",
    "* 二级域（子节点，或者说子树根）：example\n",
    "* 子域（主机）：www\n",
    "\n",
    "也就是树形路径为：```. → com → example → www```\n",
    "\n",
    "从树结构的概念来看，有：\n",
    "\n",
    "```根节点（Root） → 父节点（如TLD） → 子节点（如二级域） → 叶节点（如主机名）```\n",
    "\n",
    "$\\implies$ 域名本质是树中从根到叶的路径（例如：./com/example/www）"
   ]
  },
  {
   "cell_type": "markdown",
   "id": "22154d81",
   "metadata": {},
   "source": [
    "# <a id='toc2_'></a>[602 树结构相关术语](#toc0_)"
   ]
  },
  {
   "cell_type": "markdown",
   "metadata": {},
   "source": [
    "## <a id='toc2_1_'></a>[1. 树的基本术语](#toc0_)\n",
    "树由以下两大部分组成：\n",
    "* **Node节点**：每个节点具有名称，或“键值”。节点还可以保存额外数据项，数据项根据不同的应用而变\n",
    "* **Edge边**：\n",
    "    * 每条边恰好连接2个节点，表示节点之间具有关联，边具有出入方向\n",
    "    * 每个节点（除根节点）恰有一条来自另一节点的入边【方向是进入这个节点】\n",
    "    * 每个节点（除了叶节点）都可以有多条边连到其他节点的出边【方向是离开这个节点】"
   ]
  },
  {
   "cell_type": "markdown",
   "id": "4dc3dd36",
   "metadata": {},
   "source": [
    "$\\implies$ \n",
    "判断**Root根节点**：树中唯一一个没有入边的节点"
   ]
  },
  {
   "cell_type": "markdown",
   "id": "d15364da",
   "metadata": {},
   "source": [
    "## <a id='toc2_2_'></a>[2. 节点和边的关系](#toc0_)\n",
    "* **Children子节点**：入边均来自同一个节点的若干节点。这些节点被称为是这个节点的子节点\n",
    "* **Parent父节点**：一个节点是其他所有出边所连接节点的父节点"
   ]
  },
  {
   "cell_type": "markdown",
   "id": "47a69d4a",
   "metadata": {},
   "source": [
    "## <a id='toc2_3_'></a>[3. 子节点和叶节点](#toc0_)\n",
    "* **Sibling姊妹节点**：具有同一个父节点的节点，它们之间称为兄弟节点\n",
    "* **Subtree子树**：一个节点和其所有后代节点，以及相关边的集合【子集合】\n",
    "* **Leaf叶节点**：没有子节点的节点；也是没有出边的节点"
   ]
  },
  {
   "cell_type": "markdown",
   "metadata": {},
   "source": [
    "## <a id='toc2_4_'></a>[4. 路径、层级和高度](#toc0_)\n",
    "\n",
    "**路径Path**:由边依次连接在一起的节点的有序列表。\n",
    "\n",
    "如：```HTML->BODY->UL->LI```是一条路径\n",
    "\n",
    "![path](./img/602_1.PNG)"
   ]
  },
  {
   "cell_type": "markdown",
   "id": "d96c1034",
   "metadata": {},
   "source": [
    "* **Level层级**：从根节点开始到达一个节点的路径，这个路径所包含的【边的数量】。下图中D的层级是2，根节点的层级是0\n",
    "* **Height高度**：有多种定义方法。在此处是树中所有节点的最大层级。下图中树的高度是2。另外的定义方法可以是数层数，那么就是3。需结合实际情况具体应用"
   ]
  },
  {
   "cell_type": "markdown",
   "id": "43ac66a6",
   "metadata": {},
   "source": [
    "![level](./img/602_2.PNG)"
   ]
  },
  {
   "cell_type": "markdown",
   "id": "d7b48460",
   "metadata": {},
   "source": [
    "## <a id='toc2_5_'></a>[5. 不同角度定义“树”](#toc0_)\n",
    "\n",
    "### <a id='toc2_5_1_'></a>[5.1. 树的定义1【由604实现】](#toc0_)\n",
    "\n",
    "树由若干节点，以及两两连接节点的边组成，并有如下性质：\n",
    "* 其中一个节点被设定成根\n",
    "* 除了根节点，每个节点n都恰连接一条来自节点P的边。这个节点p被称为节点n的父节点\n",
    "* 每个节点从根开始的路径，都是唯一的\n",
    "\n",
    "按上面的定义，并满足【性质】，有示意图如下\n",
    "\n",
    "![定义1](./img/602_3.PNG)\n",
    "\n",
    "$\\implies$ 如果每个节点【最多】有n个子节点，这样的树称为“n叉树”\n"
   ]
  },
  {
   "cell_type": "markdown",
   "metadata": {},
   "source": [
    "### <a id='toc2_5_2_'></a>[5.2. 树的定义2【递归版】【由603实现】](#toc0_)\n",
    "树是以下二者居其一：\n",
    "1) 空集\n",
    "2) 由根节点及0或者多个子树构成【递归==>子树也是树】：每个子树的根到根节点具有边相连\n",
    "\n",
    "按照定义的描述，对应的图示如下：\n",
    "\n",
    "![定义2](./img/602_4.PNG)"
   ]
  },
  {
   "cell_type": "markdown",
   "id": "63a3dd86",
   "metadata": {},
   "source": [
    "有了定义，现在开始构思实现"
   ]
  },
  {
   "cell_type": "markdown",
   "metadata": {},
   "source": [
    "# <a id='toc3_'></a>[603 树的嵌套List实现【递归】](#toc0_)\n",
    "\n",
    "首先思考二叉树的实现。需要借助这样的嵌套列表：\n",
    "\n",
    "* 具有3个元素，第1个元素是根节点的值（数据项），第2个元素是左子树，第3个元素是右子树\n",
    "* 左右子树都是列表\n",
    "\n",
    "可以简单看作```[root,left,right]```。优点是：\n",
    "\n",
    "* 子树的结构与树相同，是一种递归的数据结构\n",
    "* 很容易拓展到多叉树，仅需要增加列表元素\n",
    "\n",
    "下面插入图，可以试试描述。请注意**叶节点也要当子树的根节点写出来**，其左右节点为空集【满足递归的条件】\n",
    "\n",
    "![list4tree](./img/603_1.PNG)"
   ]
  },
  {
   "cell_type": "code",
   "execution_count": 7,
   "id": "c0a42047",
   "metadata": {},
   "outputs": [],
   "source": [
    "\"\"\"\"\n",
    "# 建议先把子树的写出来\n",
    "# 根节点为d的子树：['d',[],[]]\n",
    "# 根节点为e的子树：['e',[],[]]\n",
    "# 因此，根节点为b的子树:['b',['d',[],[]],['e',[],[]]]\n",
    "\n",
    "# 根节点为f的子树：['f',[],[]]\n",
    "# 因此，根节点为c的子树：['c',[],['f',[],[]]]\n",
    "\n",
    "\"\"\"\n",
    "myTree = ['a'# ROOT\n",
    "          ,['b',['d',[],[]],['e',[],[]]]# LEFT\n",
    "          ,['c',[],['f',[],[]]]# RIGHT\n",
    "          ]\n"
   ]
  },
  {
   "cell_type": "markdown",
   "id": "b001eb81",
   "metadata": {},
   "source": [
    "在熟悉以后，定义一系列函数辅助操作嵌套列表：\n",
    "\n",
    "* BinaryTree创建仅有根节点的二叉树\n",
    "* insertLeft/insertRight将新节点插入树中作为其直接的左/右子节点；也就是说，如果原来有左右子树，就当成新子树对应的左右子树【重点】\n",
    "* get/setRootVal则取得或返回根节点\n",
    "* getLeft/RightChild返回左/右子树"
   ]
  },
  {
   "cell_type": "markdown",
   "id": "0a66fa90",
   "metadata": {},
   "source": [
    "为避免想太复杂，首先参考例子代码以及输出，推测写到何种地步即可"
   ]
  },
  {
   "cell_type": "code",
   "execution_count": null,
   "id": "1673f875",
   "metadata": {},
   "outputs": [],
   "source": [
    "r = BinaryTree(3)\n",
    "insertLeft(4)\n",
    "insertLeft(5)\n",
    "insertRight(6)\n",
    "insertRight(7)\n",
    "left_child = getLeftChild(r) \n",
    "print(left_child)\n",
    "setRootVal(left_child, 9)\n",
    "print('r = ',r)\n",
    "insertLeft(left_child, 11)\n",
    "print('r = ',r)\n",
    "print('child : ',getRightChild(getRightChild(r)))"
   ]
  },
  {
   "cell_type": "markdown",
   "id": "fd5d3fdd",
   "metadata": {},
   "source": [
    "结合输出内容，即要求为：\n",
    "* 每次插入的都是单个数字\n",
    "* 输出的每个子树（请注意嵌套）都是完整的二叉树，需输出为空的叶节点\n",
    "* 可以截取一部分子树，重新处理\n",
    "* 注意插入节点对实际序列的顺序影响"
   ]
  },
  {
   "cell_type": "code",
   "execution_count": null,
   "id": "0bd63adb",
   "metadata": {},
   "outputs": [],
   "source": [
    "# 开头尝试自己书写\n",
    "# 不要想太复杂了！\n",
    "class BinaryTree:\n",
    "    def __init__(self,r):# 这里不能有返回值\n",
    "        self.root = [r,[],[]]#但通常类的实例属性应该直接赋值给self的属性，比如self.tree = r，然后左右子树可能作为其他属性，或者这里的结构可能是一个嵌套列表的表示方式\n",
    "       # return self.root\n",
    "       \n",
    "    def insertLeft(self,subTree):\n",
    "        self[1] = subTree#self是类的实例，不是一个列表或可索引对象，所以这里会抛出TypeError，因为实例对象不支持索引操作。正确的做法应该是操作实例的root属性\n",
    "        return self"
   ]
  },
  {
   "cell_type": "code",
   "execution_count": 1,
   "id": "5885dc44",
   "metadata": {},
   "outputs": [
    {
     "name": "stdout",
     "output_type": "stream",
     "text": [
      "3\n"
     ]
    }
   ],
   "source": [
    "r=3.6\n",
    "if type(r) == float or int:\n",
    "    print(\"3\")"
   ]
  },
  {
   "cell_type": "markdown",
   "id": "f3d4b61b",
   "metadata": {},
   "source": [
    "优化代码有"
   ]
  },
  {
   "cell_type": "code",
   "execution_count": null,
   "id": "cc6e038b",
   "metadata": {},
   "outputs": [],
   "source": [
    "class BinaryTree:\n",
    "    def __init__(self,root):\n",
    "        if type(root) == float or int:\n",
    "            self.tree = [root,[],[]]\n",
    "        else:\n",
    "            print(\"请输入数字！\")\n",
    "    def insertLeft(self,subNum):\n",
    "        if self.tree[1] == []:\n",
    "            self.tree[1] = [subNum,[],[]]\n",
    "        else:\n",
    "            left_tree = self.tree[1]\n",
    "            self.tree[1] = [subNum,left_tree,[]]\n",
    "    def insertRight(self,subNum):\n",
    "        if self.tree[2] == []:\n",
    "            self.tree[2] = [subNum,[],[]]\n",
    "        else:\n",
    "            right_tree = self.tree[2]\n",
    "            self.tree[2] = [subNum,[],right_tree]\n",
    "    def getRootVal(self):\n",
    "        return self.tree[0]\n",
    "    def setRootVal(self,num):\n",
    "        self.tree[0] = num\n",
    "    def getLeftChild(self):\n",
    "        return self.tree[1]\n",
    "    def getRightChild(self):\n",
    "        return self.tree[2]"
   ]
  },
  {
   "cell_type": "markdown",
   "id": "1f68c065",
   "metadata": {},
   "source": [
    "测试有"
   ]
  },
  {
   "cell_type": "code",
   "execution_count": null,
   "id": "1f7bd9f6",
   "metadata": {},
   "outputs": [
    {
     "name": "stdout",
     "output_type": "stream",
     "text": [
      "[5, [4, [], []], []]\n"
     ]
    }
   ],
   "source": [
    "r = BinaryTree(3)\n",
    "r.insertLeft(4)\n",
    "r.insertLeft(5)\n",
    "r.insertRight(6)\n",
    "r.insertRight(7)\n",
    "left_child = r.getLeftChild() \n",
    "print(left_child) "
   ]
  },
  {
   "cell_type": "markdown",
   "id": "0061dc56",
   "metadata": {},
   "source": [
    "但这里就不对了，```left_child```实际上是列表，无法使用定义的函数继续操作。在使用列表当子树而不是类当子树时，就很难正确完成后续操作"
   ]
  },
  {
   "cell_type": "code",
   "execution_count": 6,
   "id": "788bc240",
   "metadata": {},
   "outputs": [
    {
     "ename": "AttributeError",
     "evalue": "'list' object has no attribute 'setRootVal'",
     "output_type": "error",
     "traceback": [
      "\u001b[1;31m---------------------------------------------------------------------------\u001b[0m",
      "\u001b[1;31mAttributeError\u001b[0m                            Traceback (most recent call last)",
      "Cell \u001b[1;32mIn[6], line 1\u001b[0m\n\u001b[1;32m----> 1\u001b[0m left_child\u001b[38;5;241m.\u001b[39msetRootVal(\u001b[38;5;241m9\u001b[39m)\n\u001b[0;32m      2\u001b[0m \u001b[38;5;28mprint\u001b[39m(\u001b[38;5;124m'\u001b[39m\u001b[38;5;124mr = \u001b[39m\u001b[38;5;124m'\u001b[39m,r)\n",
      "\u001b[1;31mAttributeError\u001b[0m: 'list' object has no attribute 'setRootVal'"
     ]
    }
   ],
   "source": [
    "left_child.setRootVal(9)\n",
    "print('r = ',r)"
   ]
  },
  {
   "cell_type": "markdown",
   "id": "e921da00",
   "metadata": {},
   "source": [
    "暂时使用以下AI协助优化（非标准）"
   ]
  },
  {
   "cell_type": "code",
   "execution_count": 11,
   "id": "2d80e6f9",
   "metadata": {},
   "outputs": [],
   "source": [
    "class BinaryTree:\n",
    "    def __init__(self, root):\n",
    "        # 修正类型检查：使用 isinstance 并同时检查 int 和 float 类型\n",
    "        if isinstance(root, (int, float)):\n",
    "            self.tree = [root, [], []]  # 结构：[根节点值，左子树，右子树]\n",
    "        else:\n",
    "            raise ValueError(\"请输入数字（int 或 float 类型）！\")  # 用异常替代 print 更合理\n",
    "\n",
    "    def insertLeft(self, subNum):\n",
    "        # 左子树为空时，直接插入新节点\n",
    "        if self.tree[1] == []:\n",
    "            self.tree[1] = BinaryTree(subNum)\n",
    "        else:\n",
    "            # 左子树非空时，将原左子树作为新节点的左子树\n",
    "            # new_subTree 是 BinaryTree 类的实例对象，而 Python 中对象默认不支持通过 [索引] 直接赋值（需要类实现 __setitem__ 方法）\n",
    "            # 这里的本意是操作 BinaryTree 实例内部的 tree 列表属性（结构为 [根节点值, 左子树, 右子树]），而不是直接操作对象本身。 因此这个insertLeft 方法，需要通过访问实例的 tree 属性来操作子树\n",
    "            new_subTree = BinaryTree(subNum)# 实例\n",
    "            new_subTree.tree[1] = self.tree[1] # 操作属性\n",
    "            self.tree[1] = new_subTree  # 当前节点的左子树更新为新节点\n",
    "\n",
    "    def insertRight(self, new_val):\n",
    "        if self.tree[2] == []:\n",
    "            self.tree[2] = BinaryTree(new_val)\n",
    "        else:\n",
    "            new_node = BinaryTree(new_val)\n",
    "            new_node.tree[2] = self.tree[2]  # 正确访问内部列表\n",
    "            self.tree[2] = new_node\n",
    "\n",
    "    def getRootVal(self):\n",
    "        return self.tree[0]\n",
    "\n",
    "    def setRootVal(self, num):\n",
    "        self.tree[0] = num\n",
    "\n",
    "    def getLeftChild(self):\n",
    "        return self.tree[1]\n",
    "\n",
    "    def getRightChild(self):\n",
    "        return self.tree[2]\n",
    "    \n",
    "     # 重载打印函数，递归生成列表形式的树结构\n",
    "    def __str__(self):# 递归处理左子树和右子树：如果是 BinaryTree 实例则转字符串，否则保留空列表\n",
    "        # 左子树：如果是 BinaryTree 实例则转字符串，否则用 \"[]\" 表示空\n",
    "        left_str = str(self.tree[1]) if isinstance(self.tree[1], BinaryTree) else \"[]\"\n",
    "        right_str = str(self.tree[2]) if isinstance(self.tree[2], BinaryTree) else \"[]\"\n",
    "        return f\"[{self.tree[0]}, {left_str}, {right_str}]\"\n",
    "    \n",
    "    __repr__ = __str__  # 简化写法，确保交互式环境下的显示与 __str__ 一致"
   ]
  },
  {
   "cell_type": "code",
   "execution_count": 12,
   "id": "bbae5029",
   "metadata": {},
   "outputs": [
    {
     "name": "stdout",
     "output_type": "stream",
     "text": [
      "[5, [4, [], []], []]\n"
     ]
    }
   ],
   "source": [
    "r = BinaryTree(3)\n",
    "r.insertLeft(4)\n",
    "r.insertLeft(5)\n",
    "r.insertRight(6)\n",
    "r.insertRight(7)\n",
    "left_child = r.getLeftChild() \n",
    "print(left_child) "
   ]
  },
  {
   "cell_type": "code",
   "execution_count": null,
   "id": "28caf33e",
   "metadata": {},
   "outputs": [
    {
     "name": "stdout",
     "output_type": "stream",
     "text": [
      "r =  [3, [9, [11, [4, [], []], []], []], [7, [], [6, [], []]]]\n",
      "r =  [3, [9, [11, [11, [4, [], []], []], []], []], [7, [], [6, [], []]]]\n",
      "child :  [6, [], []]\n"
     ]
    }
   ],
   "source": [
    "left_child.setRootVal(9)\n",
    "print('r = ',r)# left_child 和 r.tree[1] 指向的是同一个对象，属于共享引用，该操作等价于r.getLeftChild().setRootVal(9)\n",
    "left_child.insertLeft(11)\n",
    "print('r = ',r)\n",
    "print('child : ',r.getRightChild().getRightChild())"
   ]
  },
  {
   "cell_type": "code",
   "execution_count": null,
   "id": "20a61604",
   "metadata": {},
   "outputs": [],
   "source": [
    "# 如果不想改变子树影响到实例，那么有深拷贝\n",
    "import copy\n",
    "left = copy.deepcopy(r.getLeftChild())"
   ]
  },
  {
   "cell_type": "code",
   "execution_count": 15,
   "id": "4a8c8558",
   "metadata": {},
   "outputs": [
    {
     "name": "stdout",
     "output_type": "stream",
     "text": [
      "5\n",
      "4\n"
     ]
    }
   ],
   "source": [
    "# 测试代码\n",
    "r = BinaryTree(3)\n",
    "r.insertLeft(4)\n",
    "r.insertLeft(5)  # 插入左子树：5 -> 4 -> 原根节点3\n",
    "r.insertRight(6)\n",
    "r.insertRight(7)  # 插入右子树：7 -> 6 -> 原根节点3\n",
    "\n",
    "# 验证结构\n",
    "left_child = r.getLeftChild()\n",
    "print(left_child.getRootVal())  # 输出 5（新左子树的根节点）\n",
    "print(left_child.getLeftChild().getRootVal())  # 输出 4（原左子树的根节点）"
   ]
  },
  {
   "cell_type": "markdown",
   "id": "cc2b4635",
   "metadata": {},
   "source": [
    "下面是课件原代码"
   ]
  },
  {
   "cell_type": "code",
   "execution_count": null,
   "id": "25bb31e5",
   "metadata": {},
   "outputs": [],
   "source": [
    "def BinaryTree(r):\n",
    "    return [[], []]\n",
    "\n",
    "def insertLeft(root, newBranch):#这里需要查看原来有没有左子树\n",
    "    t = root.pop(1)\n",
    "    if len(t) > 1:# 如果原来有左子树/叶节点，那么就把新的插入原来左子树的位置，左子树挂在新子树的左边\n",
    "        # 这里跟1比，是因为按照之前的写法，叶节点也是len([1,[],[]]) = 3，子树len([3,[1,2,5],[6,9,7]])也是3\n",
    "        root.insert(1, [newBranch, t, []])#列表嵌套的用法\n",
    "    else:#原来为空节点\n",
    "        root.insert(1, [newBranch, [], []])#newBranch可以是嵌套列表;但参考上面对树的书写,最好是数值\n",
    "    return root\n",
    "\n",
    "def insertRight(root, newBranch):\n",
    "    t = root.pop(2)\n",
    "    if len(t) > 1:\n",
    "        root.insert(2, [newBranch, [], t])\n",
    "    else:\n",
    "        root.insert(2, [newBranch, [], []])\n",
    "    return root\n",
    "\n",
    "def getRootVal(root):\n",
    "    return root[0]\n",
    "\n",
    "def setRootVal(root, newVal):\n",
    "    root[0] = newVal\n",
    "\n",
    "def getLeftChild(root):\n",
    "    return root[1]\n",
    "\n",
    "def getRightChild(root):\n",
    "    return root[2]"
   ]
  },
  {
   "cell_type": "code",
   "execution_count": null,
   "id": "81ed6b48",
   "metadata": {},
   "outputs": [
    {
     "name": "stdout",
     "output_type": "stream",
     "text": [
      "[5, [4, [], []], []]\n",
      "r =  [3, [9, [4, [], []], []], [7, [], [6, [], []]]]\n",
      "r =  [3, [9, [11, [4, [], []], []], []], [7, [], [6, [], []]]]\n",
      "child :  [6, [], []]\n"
     ]
    }
   ],
   "source": [
    "r = BinaryTree(3)\n",
    "insertLeft(4)\n",
    "insertLeft(5)\n",
    "insertRight(6)\n",
    "insertRight(7)\n",
    "left_child = getLeftChild(r) \n",
    "print(left_child)\n",
    "setRootVal(left_child, 9)\n",
    "print('r = ',r)\n",
    "insertLeft(left_child, 11)\n",
    "print('r = ',r)\n",
    "print('child : ',getRightChild(getRightChild(r)))"
   ]
  },
  {
   "cell_type": "code",
   "execution_count": null,
   "id": "a2498894",
   "metadata": {},
   "outputs": [
    {
     "data": {
      "text/plain": [
       "[3,\n",
       " [[10, [11, [], []], [12, [], []]], [9, [11, [4, [], []], []], []], []],\n",
       " [7, [], [6, [], []]]]"
      ]
     },
     "execution_count": 14,
     "metadata": {},
     "output_type": "execute_result"
    }
   ],
   "source": [
    "# 定义一个嵌套的子树（根值为10，左子节点[11, [], []]，右子节点[12, [], []]）\n",
    "nested_branch = [10, [11, [], []], [12, [], []]]\n",
    "\n",
    "# 将嵌套子树插入到主树r的左子节点位置\n",
    "insertLeft(nested_branch)"
   ]
  },
  {
   "cell_type": "markdown",
   "id": "4e28708f",
   "metadata": {},
   "source": [
    "分析代码有：\n",
    "* init只处理输入为值的\n",
    "* 输出为嵌套列表的，而不是上一堆带格式的\n",
    "* 可以进行链式处理\n",
    "\n",
    "那么，对应的代码有"
   ]
  },
  {
   "cell_type": "code",
   "execution_count": null,
   "id": "1c605075",
   "metadata": {},
   "outputs": [],
   "source": [
    "class BinaryTree:\n",
    "    def __init__(self,r):\n",
    "        self.tree = [r,[],[]]\n",
    "    \n",
    "    def insertLeft(root, newBranch):#newBranch必须为数值"
   ]
  },
  {
   "cell_type": "code",
   "execution_count": null,
   "id": "48ebabcd",
   "metadata": {},
   "outputs": [],
   "source": [
    "import copy\n",
    "\n",
    "class BinaryTree:\n",
    "    def __init__(self, root_val):\n",
    "        self.tree = [root_val, None, None]  # [value, left, right]\n",
    "\n",
    "    def insertLeft(self, subTree, copy_subtree=True):\n",
    "        if not isinstance(subTree, BinaryTree):\n",
    "            subTree = BinaryTree(subTree)\n",
    "             \n",
    "        elif copy_subtree:\n",
    "            subTree = copy.deepcopy(subTree)\n",
    "\n",
    "        if self.tree[1] is not None:\n",
    "            new_left = subTree\n",
    "            new_left.tree[1] = self.tree[1]\n",
    "            self.tree[1] = new_left\n",
    "        else:\n",
    "            self.tree[1] = subTree\n",
    "        return self\n",
    "\n",
    "    def insertRight(self, subTree, copy_subtree=True):\n",
    "        if not isinstance(subTree, BinaryTree):\n",
    "            subTree = BinaryTree(subTree)\n",
    "        elif copy_subtree:\n",
    "            subTree = copy.deepcopy(subTree)\n",
    "\n",
    "        if self.tree[2] is not None:\n",
    "            new_right = subTree\n",
    "            new_right.tree[2] = self.tree[2]\n",
    "            self.tree[2] = new_right\n",
    "        else:\n",
    "            self.tree[2] = subTree\n",
    "        return self\n",
    "\n",
    "    def getRootVal(self):\n",
    "        return self.tree[0]\n",
    "\n",
    "    def setRootVal(self, val):\n",
    "        self.tree[0] = val\n",
    "        return self\n",
    "\n",
    "    def getLeftChild(self):\n",
    "        return self.tree[1]\n",
    "\n",
    "    def getRightChild(self):\n",
    "        return self.tree[2]\n",
    "\n",
    "    def __repr__(self, level=0):\n",
    "        indent = \"  \" * level\n",
    "        root = f\"{indent}{self.tree[0]}\"\n",
    "        left = self.tree[1].__repr__(level + 1) if self.tree[1] else f\"{indent}  None\"\n",
    "        right = self.tree[2].__repr__(level + 1) if self.tree[2] else f\"{indent}  None \"\n",
    "        return f\"{root}\\n{left}\\n{right}\"\n"
   ]
  }
 ],
 "metadata": {
  "kernelspec": {
   "display_name": "base",
   "language": "python",
   "name": "python3"
  },
  "language_info": {
   "codemirror_mode": {
    "name": "ipython",
    "version": 3
   },
   "file_extension": ".py",
   "mimetype": "text/x-python",
   "name": "python",
   "nbconvert_exporter": "python",
   "pygments_lexer": "ipython3",
   "version": "3.12.7"
  }
 },
 "nbformat": 4,
 "nbformat_minor": 5
}
