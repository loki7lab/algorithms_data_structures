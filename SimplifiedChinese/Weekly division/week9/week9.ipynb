{
  "cells": [
    {
      "cell_type": "markdown",
      "id": "d59aae0b",
      "metadata": {
        "id": "d59aae0b"
      },
      "source": [
        "【本周思路】这一周要学的东西比较多，因为是新的数据结构（非线性）【图】。本周介绍了树的入门知识，下周是树的进阶知识。以下是本周学习思路：\n",
        "* 601-602 树的基本介绍\n",
        "* 603-604 树的两种实现方式：嵌套，链表\n",
        "* 605-606 用树结构解析表达式\n",
        "* 607 遍历树\n",
        "*********\n",
        "以下是稍微的扩展\n",
        "* 608 优先队列和二叉堆\n",
        "* 609 python实现二叉堆\n"
      ]
    },
    {
      "cell_type": "markdown",
      "id": "62345832",
      "metadata": {
        "id": "62345832"
      },
      "source": [
        "**Table of contents**<a id='toc0_'></a>    \n",
        "- [601 什么是树](#toc1_)    \n",
        "  - [1. 树的应用领域](#toc1_1_)    \n",
        "  - [2. 树的特点和层次化结构](#toc1_2_)    \n",
        "  - [3. 树在文件系统和HTML文档中的应用](#toc1_3_)    \n",
        "  - [4. 树在域名体系和日常生活中的应用](#toc1_4_)    \n",
        "- [602 树结构相关术语](#toc2_)    \n",
        "  - [1. 树的基本术语](#toc2_1_)    \n",
        "  - [2. 节点和边的关系](#toc2_2_)    \n",
        "  - [3. 子节点和叶节点](#toc2_3_)    \n",
        "  - [4. 路径、层级和高度](#toc2_4_)    \n",
        "  - [5. 不同角度定义“树”](#toc2_5_)    \n",
        "    - [5.1. 树的定义1【由604实现】](#toc2_5_1_)    \n",
        "    - [5.2. 树的定义2【递归版】【由603实现】](#toc2_5_2_)    \n",
        "- [603 树的嵌套List实现【递归】](#toc3_)    \n",
        "  - [二叉树数据结构的基础设计思路](#toc3_1_)    \n",
        "  - [二叉树应有的简单操作](#toc3_2_)    \n",
        "  - [【补充知识】类内部调用自身](#toc3_3_)    \n",
        "  - [【补充知识】类的命名空间](#toc3_4_)    \n",
        "  - [【补充知识】类、类对象与实例对象](#toc3_5_)    \n",
        "\n",
        "<!-- vscode-jupyter-toc-config\n",
        "\tnumbering=false\n",
        "\tanchor=true\n",
        "\tflat=false\n",
        "\tminLevel=1\n",
        "\tmaxLevel=6\n",
        "\t/vscode-jupyter-toc-config -->\n",
        "<!-- THIS CELL WILL BE REPLACED ON TOC UPDATE. DO NOT WRITE YOUR TEXT IN THIS CELL -->"
      ]
    },
    {
      "cell_type": "markdown",
      "id": "a009c3f5",
      "metadata": {
        "id": "a009c3f5"
      },
      "source": [
        "# <a id='toc1_'></a>[601 什么是树](#toc0_)\n",
        "* 树是一种非线性结构，在计算机科学的各个领域中被广泛应用：\n",
        "    * 操作系统\n",
        "    * 图形学\n",
        "    * 数据库系统\n",
        "    * 计算机网络\n",
        "* 参考自然界的树，数据结构树也分为：\n",
        "    * 根\n",
        "    * 枝\n",
        "    * 叶\n",
        "* 一般数据结构的图示把根放在上方，叶放在下方"
      ]
    },
    {
      "cell_type": "markdown",
      "id": "f0abe4d9",
      "metadata": {
        "id": "f0abe4d9"
      },
      "source": [
        "## <a id='toc1_1_'></a>[1. 树的应用领域](#toc0_)\n",
        "下面列举三个例子，介绍树。首先从生物学分类树引入树的概念"
      ]
    },
    {
      "cell_type": "markdown",
      "id": "83649c37",
      "metadata": {
        "id": "83649c37"
      },
      "source": [
        "## <a id='toc1_2_'></a>[2. 树的特点和层次化结构](#toc0_)\n",
        "参考生物学物种分类体系（分类树），结论如下：\n",
        "* 分类体系是层次化的  $\\implies$ 树是一种分层结构【越接近顶部的层越普遍。越接近底部的层越独特】\n",
        "* 一个节点的子节点与另一个节点的子节点相互之间是隔离，独立的。可以修改其中一个而不影响另一个\n",
        "* 每一个叶节点都具有唯一性"
      ]
    },
    {
      "cell_type": "markdown",
      "id": "ffb10a10",
      "metadata": {
        "id": "ffb10a10"
      },
      "source": [
        "## <a id='toc1_3_'></a>[3. 树在文件系统和HTML文档中的应用](#toc0_)\n",
        "* 文件系统根目录：来源文件系统树\n",
        "* HTML文档(嵌套标记)：通过层层嵌套可以看出"
      ]
    },
    {
      "cell_type": "markdown",
      "id": "7b61b1ae",
      "metadata": {
        "id": "7b61b1ae"
      },
      "source": [
        "## <a id='toc1_4_'></a>[4. 树在域名体系和日常生活中的应用](#toc0_)\n",
        "域名体系采用从右向左的层级划分，例如：\n",
        "\n",
        "\n",
        "```www.example.com ```可以拆解为\n",
        "\n",
        "* 根域（也就是根节点，通常隐含在完整域名的末尾，在DNS协议中默认存在）：如 www.example.com.中最后的```.```\n",
        "* 顶级域（TLD，根的直接子节点）：.com\n",
        "* 二级域（子节点，或者说子树根）：example\n",
        "* 子域（主机）：www\n",
        "\n",
        "也就是树形路径为：```. → com → example → www```\n",
        "\n",
        "从树结构的概念来看，有：\n",
        "\n",
        "```根节点（Root） → 父节点（如TLD） → 子节点（如二级域） → 叶节点（如主机名）```\n",
        "\n",
        "$\\implies$ 域名本质是树中从根到叶的路径（例如：./com/example/www）"
      ]
    },
    {
      "cell_type": "markdown",
      "id": "cae2e3fa",
      "metadata": {
        "id": "cae2e3fa"
      },
      "source": [
        "# <a id='toc2_'></a>[602 树结构相关术语](#toc0_)"
      ]
    },
    {
      "cell_type": "markdown",
      "id": "80d4a113",
      "metadata": {
        "id": "80d4a113"
      },
      "source": [
        "## <a id='toc2_1_'></a>[1. 树的基本术语](#toc0_)\n",
        "树由以下两大部分组成：\n",
        "* **Node节点**：每个节点具有名称，或“键值”。节点还可以保存额外数据项，数据项根据不同的应用而变\n",
        "* **Edge边**：\n",
        "    * 每条边恰好连接2个节点，表示节点之间具有关联，边具有出入方向\n",
        "    * 每个节点（除根节点）恰有一条来自另一节点的入边【方向是进入这个节点】\n",
        "    * 每个节点（除了叶节点）都可以有多条边连到其他节点的出边【方向是离开这个节点】"
      ]
    },
    {
      "cell_type": "markdown",
      "id": "4dc3dd36",
      "metadata": {
        "id": "4dc3dd36"
      },
      "source": [
        "$\\implies$\n",
        "判断**Root根节点**：树中唯一一个没有入边的节点"
      ]
    },
    {
      "cell_type": "markdown",
      "id": "9fd2b94c",
      "metadata": {
        "id": "9fd2b94c"
      },
      "source": [
        "## <a id='toc2_2_'></a>[2. 节点和边的关系](#toc0_)\n",
        "* **Children子节点**：入边均来自同一个节点的若干节点。这些节点被称为是这个节点的子节点\n",
        "* **Parent父节点**：一个节点是其他所有出边所连接节点的父节点"
      ]
    },
    {
      "cell_type": "markdown",
      "id": "b22ddaf0",
      "metadata": {
        "id": "b22ddaf0"
      },
      "source": [
        "## <a id='toc2_3_'></a>[3. 子节点和叶节点](#toc0_)\n",
        "* **Sibling姊妹节点**：具有同一个父节点的节点，它们之间称为兄弟节点\n",
        "* **Subtree子树**：一个节点和其所有后代节点，以及相关边的集合【子集合】\n",
        "* **Leaf叶节点**：没有子节点的节点；也是没有出边的节点"
      ]
    },
    {
      "cell_type": "markdown",
      "id": "27f12c15",
      "metadata": {
        "id": "27f12c15"
      },
      "source": [
        "## <a id='toc2_4_'></a>[4. 路径、层级和高度](#toc0_)\n",
        "\n",
        "**路径Path**:由边依次连接在一起的节点的有序列表。\n",
        "\n",
        "如：```HTML->BODY->UL->LI```是一条路径\n",
        "\n",
        "<img src=\"./img//602_1.PNG\">"
      ]
    },
    {
      "cell_type": "markdown",
      "id": "d96c1034",
      "metadata": {
        "id": "d96c1034"
      },
      "source": [
        "* **Level层级**：从根节点开始到达一个节点的路径，这个路径所包含的【边的数量】。下图中D的层级是2，根节点的层级是0\n",
        "* **Height高度**：有多种定义方法。在此处是树中所有节点的最大层级。下图中树的高度是2。另外的定义方法可以是数层数，那么就是3。需结合实际情况具体应用"
      ]
    },
    {
      "cell_type": "markdown",
      "id": "43ac66a6",
      "metadata": {
        "id": "43ac66a6"
      },
      "source": [
        "<img src=\"./img/602_2.PNG\" >"
      ]
    },
    {
      "cell_type": "markdown",
      "id": "c85516b0",
      "metadata": {
        "id": "c85516b0"
      },
      "source": [
        "## <a id='toc2_5_'></a>[5. 不同角度定义“树”  ](#toc0_)\n",
        "\n",
        "### <a id='toc2_5_1_'></a>[5.1. 🌳 树的定义1【结构性质角度】](#toc0_)\n",
        "\n",
        "**树**是一种由若干**节点**（node）和连接节点之间的**边**（edge）组成的结构，并满足以下性质：\n",
        "\n",
        "- 存在一个被指定的特殊节点，称为**根节点（root）**\n",
        "- 除了根节点之外的每个节点，都**恰好有一条边连接到其唯一的父节点**\n",
        "- 从根节点到任一节点，**都存在唯一的一条路径**\n",
        "\n",
        "只要满足上述性质的结构，就可以称为一棵树。\n",
        "\n",
        "\n",
        "<img src=\"./img/602_3.PNG\" >\n",
        "\n",
        "$\\implies$ 如果树中每个节点的子节点数量**最多为 $n$ 个**，则这种树被称为$n$ 叉树（$n$-ary tree）\n"
      ]
    },
    {
      "cell_type": "code",
      "execution_count": 3,
      "id": "a17f415c",
      "metadata": {
        "id": "a17f415c"
      },
      "outputs": [],
      "source": [
        "# 后面两个都是针对定义2实现的，定义1的就先展示这个\n",
        "class Tree:\n",
        "    def __init__(self):\n",
        "        self.nodes = {}   # 节点字典：key是节点，value是其子节点列表\n",
        "        self.root = None  # 根节点\n",
        "\n",
        "    def add_node(self, node):\n",
        "        if node not in self.nodes:\n",
        "            self.nodes[node] = []\n",
        "\n",
        "    def add_edge(self, parent, child):\n",
        "        if parent not in self.nodes:\n",
        "            self.add_node(parent)\n",
        "        if child not in self.nodes:\n",
        "            self.add_node(child)\n",
        "        self.nodes[parent].append(child)\n",
        "\n",
        "    def set_root(self, root):\n",
        "        self.root = root\n",
        "        self.add_node(root)\n",
        "\n",
        "    def is_tree(self):\n",
        "        if self.root is None:\n",
        "            return False\n",
        "\n",
        "        visited = set()\n",
        "        parent_map = {}\n",
        "\n",
        "        # 用DFS检查是否每个节点只有一个父亲、路径唯一\n",
        "        def dfs(node):\n",
        "            if node in visited:\n",
        "                return False  # 有环，不是树\n",
        "            visited.add(node)\n",
        "            for child in self.nodes.get(node, []):\n",
        "                if child in parent_map:\n",
        "                    return False  # 多个父节点\n",
        "                parent_map[child] = node\n",
        "                if not dfs(child):\n",
        "                    return False\n",
        "            return True\n",
        "\n",
        "        if not dfs(self.root):\n",
        "            return False\n",
        "\n",
        "        # 检查是否所有节点都连通（可达）\n",
        "        all_nodes = set(self.nodes.keys())\n",
        "        all_children = set(child for children in self.nodes.values() for child in children)\n",
        "        all_vertices = all_nodes | all_children\n",
        "        return visited == all_vertices\n",
        "\n",
        "    def print_tree(self):\n",
        "        def dfs_print(node, indent=\"\"):\n",
        "            print(indent + str(node))\n",
        "            for child in self.nodes.get(node, []):\n",
        "                dfs_print(child, indent + \"  \")\n",
        "\n",
        "        if self.root:\n",
        "            dfs_print(self.root)"
      ]
    },
    {
      "cell_type": "code",
      "execution_count": 4,
      "id": "b38191d5",
      "metadata": {},
      "outputs": [
        {
          "name": "stdout",
          "output_type": "stream",
          "text": [
            "是否为树结构？ True\n",
            "A\n",
            "  B\n",
            "    D\n",
            "    E\n",
            "  C\n",
            "    F\n"
          ]
        }
      ],
      "source": [
        "tree = Tree()\n",
        "tree.set_root(\"A\")\n",
        "tree.add_edge(\"A\", \"B\")\n",
        "tree.add_edge(\"A\", \"C\")\n",
        "tree.add_edge(\"B\", \"D\")\n",
        "tree.add_edge(\"B\", \"E\")\n",
        "tree.add_edge(\"C\", \"F\")\n",
        "\n",
        "print(\"是否为树结构？\", tree.is_tree())\n",
        "tree.print_tree()\n"
      ]
    },
    {
      "cell_type": "markdown",
      "id": "e9cc2277",
      "metadata": {},
      "source": [
        "这里需要通过遍历验证是否满足：\n",
        "\n",
        "* 唯一路径\n",
        "\n",
        "* 无环\n",
        "\n",
        "* 每个非根节点只有一个父节点\n",
        "\n",
        "本结构设计强调的是图结构满足树性质，而不是通过递归类构建的子树结构。比较复杂，在学习遍历和图以前不做要求"
      ]
    },
    {
      "cell_type": "markdown",
      "id": "4ddc89b1",
      "metadata": {
        "id": "4ddc89b1"
      },
      "source": [
        "### <a id='toc2_5_2_'></a>[5.2. 🌳 树的定义2【递归性质角度】](#toc0_)\n",
        "树是以下二者居其一：\n",
        "1) **空集**\n",
        "2) 由**根节点**及**0或者多个子树**组成的集合。每棵子树的根节点通过一条边与该根节点相连。\n",
        "\n",
        "✅ 这是一个递归定义：\n",
        "> 子树本身也是一棵树\n",
        "> \n",
        "> 树和节点是同一个东西【重点】\n",
        "\n",
        "按照定义的描述，对应的图示如下：\n",
        "\n",
        "<img src=\"./img/602_4.PNG\" >\n",
        "\n",
        "该角度由603和604实现"
      ]
    },
    {
      "cell_type": "markdown",
      "id": "a46d274a",
      "metadata": {
        "id": "a46d274a"
      },
      "source": [
        "🌳 常见的特殊树结构的定义\n",
        "\n",
        "- **二叉树（Binary Tree）**  \n",
        "  如果一棵树是 $2$ 叉树，即**每个节点最多有两个子节点**，则称为**二叉树**。这两个子节点通常被称为**左子节点**和**右子节点**。\n",
        "\n",
        "- **满二叉树（Full Binary Tree）**  \n",
        "  一棵二叉树中，**每个非叶节点都有且仅有两个子节点**，称为**满二叉树**。换言之，**所有非叶节点的左右子树都存在**。即：\n",
        "\n",
        "  ```mathematica\n",
        "          A\n",
        "        /   \\\n",
        "      B       C\n",
        "     / \\     / \\\n",
        "    D   E   F   G\n",
        "  ```\n",
        "\n",
        "- **完全二叉树（Complete Binary Tree）**  \n",
        "  一棵具有 $n$ 个节点的二叉树，如果其节点从上到下、从左到右依次排列，**中间没有空缺**，则称为**完全二叉树**。  \n",
        "  即：最后一层的节点集中在左侧连续排列，不允许在某节点左子树为空而右子树非空。也就是说，若某节点缺少右子节点，它必须是最后一层中最右侧的节点。\n",
        "  ```mathematica\n",
        "          A\n",
        "        /   \\\n",
        "      B       C\n",
        "     / \\     /\n",
        "    D   E   F\n",
        "  ```\n",
        "\n",
        "\n",
        "\n",
        "🔁 包含关系：\n",
        "\n",
        "* 所有满二叉树【每一层都填满（节点数为 1, 2, 4, 8...）】都是完全二叉树 ✅\n",
        "\n",
        "* 但并非所有完全二叉树【除最后一层外都填满，最后一层从左往右紧密排列，不中断】都是满二叉树 ❌\n"
      ]
    },
    {
      "cell_type": "markdown",
      "id": "63a3dd86",
      "metadata": {
        "id": "63a3dd86"
      },
      "source": [
        "有了定义，现在开始构思实现。即进入下一节"
      ]
    },
    {
      "cell_type": "markdown",
      "id": "f8f35f29",
      "metadata": {
        "id": "f8f35f29"
      },
      "source": [
        "# <a id='toc3_'></a>[603 树的嵌套List实现【递归】](#toc0_)\n",
        "\n",
        "## <a id='toc3_1_'></a>[1. 二叉树数据结构的基础设计思路](#toc0_)\n",
        "首先思考二叉树的实现。需要借助这样的嵌套列表：\n",
        "\n",
        "* 具有3个元素，第1个元素是根节点的值（数据项），第2个元素是左子树，第3个元素是右子树\n",
        "* 左右子树都是列表\n",
        "\n",
        "可以简单看作```[root,left,right]```。优点是：\n",
        "\n",
        "* 子树的结构与树相同，是一种递归的数据结构\n",
        "* 很容易拓展到多叉树，仅需要增加列表元素\n",
        "\n",
        "下面插入图，可以试试描述。请注意**叶节点也要当子树的根节点写出来**，其左右节点为空集【满足递归的条件】\n",
        "\n",
        "![list4tree](./img/603_1.PNG?raw=1)"
      ]
    },
    {
      "cell_type": "code",
      "execution_count": null,
      "id": "c0a42047",
      "metadata": {
        "id": "c0a42047"
      },
      "outputs": [],
      "source": [
        "\"\"\"\"\n",
        "# 建议先把子树的写出来\n",
        "# 根节点为d的子树：['d',[],[]]\n",
        "# 根节点为e的子树：['e',[],[]]\n",
        "# 因此，根节点为b的子树:['b',['d',[],[]],['e',[],[]]]\n",
        "\n",
        "# 根节点为f的子树：['f',[],[]]\n",
        "# 因此，根节点为c的子树：['c',[],['f',[],[]]]\n",
        "\n",
        "\"\"\"\n",
        "myTree = ['a'# ROOT\n",
        "          ,['b',['d',[],[]],['e',[],[]]]# LEFT\n",
        "          ,['c',[],['f',[],[]]]# RIGHT\n",
        "          ]\n"
      ]
    },
    {
      "cell_type": "markdown",
      "id": "d568b980",
      "metadata": {
        "id": "d568b980"
      },
      "source": [
        "## <a id='toc3_2_'></a>[2. 二叉树应有的简单操作](#toc0_)\n",
        "在熟悉以后，定义一系列函数辅助操作嵌套列表：\n",
        "\n",
        "* BinaryTree创建仅有根节点的二叉树\n",
        "* insertLeft/insertRight将新节点插入树中作为其直接的左/右子节点；也就是说，如果原来有左右子树，就当成新子树对应的左右子树【重点】\n",
        "* get/setRootVal则取得或返回根节点\n",
        "* getLeft/RightChild返回左/右子树"
      ]
    },
    {
      "cell_type": "markdown",
      "id": "0a66fa90",
      "metadata": {
        "id": "0a66fa90"
      },
      "source": [
        "为避免想太复杂，首先参考例子代码以及输出，推测写到何种地步即可"
      ]
    },
    {
      "cell_type": "code",
      "execution_count": null,
      "id": "df3d709d",
      "metadata": {
        "id": "df3d709d"
      },
      "outputs": [],
      "source": [
        "r = BinaryTree(3)\n",
        "insertLeft(4)\n",
        "insertLeft(5)\n",
        "insertRight(6)\n",
        "insertRight(7)\n",
        "left_child = getLeftChild(r)\n",
        "print(left_child)\n",
        "setRootVal(left_child, 9)\n",
        "print('r = ',r)\n",
        "insertLeft(left_child, 11)\n",
        "print('r = ',r)\n",
        "print('child : ',getRightChild(getRightChild(r)))"
      ]
    },
    {
      "cell_type": "markdown",
      "id": "fd5d3fdd",
      "metadata": {
        "id": "fd5d3fdd"
      },
      "source": [
        "结合输出内容，即要求为：\n",
        "* 每次插入的都是单个数字\n",
        "* 输出的每个子树（请注意嵌套）都是完整的二叉树，需输出为空的叶节点\n",
        "* 可以截取一部分子树，重新处理\n",
        "* 注意插入节点对实际序列的顺序影响"
      ]
    },
    {
      "cell_type": "code",
      "execution_count": null,
      "id": "0bd63adb",
      "metadata": {
        "id": "0bd63adb"
      },
      "outputs": [],
      "source": [
        "# 开头尝试自己书写\n",
        "# 不要想太复杂了！\n",
        "class BinaryTree:\n",
        "    def __init__(self,r):# 这里不能有返回值\n",
        "        self.root = [r,[],[]]#但通常类的实例属性应该直接赋值给self的属性，比如self.tree = r，然后左右子树可能作为其他属性，或者这里的结构可能是一个嵌套列表的表示方式\n",
        "       # return self.root\n",
        "\n",
        "    def insertLeft(self,subTree):\n",
        "        self[1] = subTree#self是类的实例，不是一个列表或可索引对象，所以这里会抛出TypeError，因为实例对象不支持索引操作。正确的做法应该是操作实例的root属性\n",
        "        return self"
      ]
    },
    {
      "cell_type": "code",
      "execution_count": null,
      "id": "5885dc44",
      "metadata": {
        "id": "5885dc44"
      },
      "outputs": [],
      "source": [
        "r=3.6\n",
        "if type(r) == float or int:\n",
        "    print(\"3\")"
      ]
    },
    {
      "cell_type": "markdown",
      "id": "f3d4b61b",
      "metadata": {
        "id": "f3d4b61b"
      },
      "source": [
        "优化代码有"
      ]
    },
    {
      "cell_type": "code",
      "execution_count": null,
      "id": "cc6e038b",
      "metadata": {
        "id": "cc6e038b"
      },
      "outputs": [],
      "source": [
        "class BinaryTree:\n",
        "    def __init__(self,root):\n",
        "        if type(root) == float or int:\n",
        "            self.tree = [root,[],[]]\n",
        "        else:\n",
        "            print(\"请输入数字！\")\n",
        "    def insertLeft(self,subNum):\n",
        "        if self.tree[1] == []:\n",
        "            self.tree[1] = [subNum,[],[]]\n",
        "        else:\n",
        "            left_tree = self.tree[1]\n",
        "            self.tree[1] = [subNum,left_tree,[]]\n",
        "    def insertRight(self,subNum):\n",
        "        if self.tree[2] == []:\n",
        "            self.tree[2] = [subNum,[],[]]\n",
        "        else:\n",
        "            right_tree = self.tree[2]\n",
        "            self.tree[2] = [subNum,[],right_tree]\n",
        "    def getRootVal(self):\n",
        "        return self.tree[0]\n",
        "    def setRootVal(self,num):\n",
        "        self.tree[0] = num\n",
        "    def getLeftChild(self):\n",
        "        return self.tree[1]\n",
        "    def getRightChild(self):\n",
        "        return self.tree[2]"
      ]
    },
    {
      "cell_type": "markdown",
      "id": "1f68c065",
      "metadata": {
        "id": "1f68c065"
      },
      "source": [
        "测试有"
      ]
    },
    {
      "cell_type": "code",
      "execution_count": null,
      "id": "1f7bd9f6",
      "metadata": {
        "id": "1f7bd9f6"
      },
      "outputs": [],
      "source": [
        "r = BinaryTree(3)\n",
        "r.insertLeft(4)\n",
        "r.insertLeft(5)\n",
        "r.insertRight(6)\n",
        "r.insertRight(7)\n",
        "left_child = r.getLeftChild()\n",
        "print(left_child)"
      ]
    },
    {
      "cell_type": "markdown",
      "id": "0061dc56",
      "metadata": {
        "id": "0061dc56"
      },
      "source": [
        "但这里就不对了，```left_child```实际上是列表，无法使用定义的函数继续操作。在使用列表当子树而不是类当子树时，就很难正确完成后续操作"
      ]
    },
    {
      "cell_type": "code",
      "execution_count": null,
      "id": "788bc240",
      "metadata": {
        "id": "788bc240"
      },
      "outputs": [],
      "source": [
        "left_child.setRootVal(9)\n",
        "print('r = ',r)"
      ]
    },
    {
      "cell_type": "markdown",
      "id": "e921da00",
      "metadata": {
        "id": "e921da00"
      },
      "source": [
        "暂时使用以下AI协助优化（非标准答案）"
      ]
    },
    {
      "cell_type": "code",
      "execution_count": null,
      "id": "2d80e6f9",
      "metadata": {
        "id": "2d80e6f9"
      },
      "outputs": [],
      "source": [
        "class BinaryTree:\n",
        "    def __init__(self, root):\n",
        "        # 修正类型检查：使用 isinstance 并同时检查 int 和 float 类型\n",
        "        if isinstance(root, (int, float)):\n",
        "            self.tree = [root, [], []]  # 结构：[根节点值，左子树，右子树]\n",
        "        else:\n",
        "            raise ValueError(\"请输入数字（int 或 float 类型）！\")  # 用异常替代 print 更合理\n",
        "\n",
        "    def insertLeft(self, subNum):\n",
        "        # 左子树为空时，直接插入新节点\n",
        "        if self.tree[1] == []:\n",
        "            self.tree[1] = BinaryTree(subNum)\n",
        "        else:\n",
        "            # 左子树非空时，将原左子树作为新节点的左子树\n",
        "            # new_subTree 是 BinaryTree 类的实例对象，而 Python 中对象默认不支持通过 [索引] 直接赋值（需要类实现 __setitem__ 方法）\n",
        "            # 这里的本意是操作 BinaryTree 实例内部的 tree 列表属性（结构为 [根节点值, 左子树, 右子树]），而不是直接操作对象本身。\n",
        "            # 因此这个insertLeft 方法，需要通过访问实例的 tree 属性来操作子树\n",
        "            new_subTree = BinaryTree(subNum)# 实例\n",
        "            new_subTree.tree[1] = self.tree[1] # 操作属性\n",
        "            self.tree[1] = new_subTree  # 当前节点的左子树更新为新节点\n",
        "\n",
        "    def insertRight(self, new_val):\n",
        "        if self.tree[2] == []:\n",
        "            self.tree[2] = BinaryTree(new_val)\n",
        "        else:\n",
        "            new_node = BinaryTree(new_val)\n",
        "            new_node.tree[2] = self.tree[2]  # 正确访问内部列表\n",
        "            self.tree[2] = new_node\n",
        "\n",
        "    def getRootVal(self):\n",
        "        return self.tree[0]\n",
        "\n",
        "    def setRootVal(self, num):\n",
        "        self.tree[0] = num\n",
        "\n",
        "    def getLeftChild(self):\n",
        "        return self.tree[1]\n",
        "\n",
        "    def getRightChild(self):\n",
        "        return self.tree[2]\n",
        "\n",
        "     # 重载打印函数，递归生成列表形式的树结构\n",
        "    def __str__(self):# 递归处理左子树和右子树：如果是 BinaryTree 实例则转字符串，否则保留空列表\n",
        "        # 左子树：如果是 BinaryTree 实例则转字符串，否则用 \"[]\" 表示空\n",
        "        left_str = str(self.tree[1]) if isinstance(self.tree[1], BinaryTree) else \"[]\"\n",
        "        right_str = str(self.tree[2]) if isinstance(self.tree[2], BinaryTree) else \"[]\"\n",
        "        return f\"[{self.tree[0]}, {left_str}, {right_str}]\"\n",
        "\n",
        "    __repr__ = __str__  # 简化写法，确保交互式环境下的显示与 __str__ 一致"
      ]
    },
    {
      "cell_type": "code",
      "execution_count": null,
      "id": "bbae5029",
      "metadata": {
        "id": "bbae5029"
      },
      "outputs": [],
      "source": [
        "r = BinaryTree(3)\n",
        "r.insertLeft(4)\n",
        "r.insertLeft(5)\n",
        "r.insertRight(6)\n",
        "r.insertRight(7)\n",
        "left_child = r.getLeftChild()\n",
        "print(left_child)"
      ]
    },
    {
      "cell_type": "code",
      "execution_count": null,
      "id": "28caf33e",
      "metadata": {
        "id": "28caf33e"
      },
      "outputs": [],
      "source": [
        "left_child.setRootVal(9)\n",
        "print('r = ',r)# left_child 和 r.tree[1] 指向的是同一个对象，属于共享引用，该操作等价于r.getLeftChild().setRootVal(9)\n",
        "left_child.insertLeft(11)\n",
        "print('r = ',r)\n",
        "print('child : ',r.getRightChild().getRightChild())"
      ]
    },
    {
      "cell_type": "code",
      "execution_count": null,
      "id": "20a61604",
      "metadata": {
        "id": "20a61604"
      },
      "outputs": [],
      "source": [
        "# 如果不想改变子树影响到树实例，那么有深拷贝\n",
        "import copy\n",
        "left = copy.deepcopy(r.getLeftChild())"
      ]
    },
    {
      "cell_type": "code",
      "execution_count": null,
      "id": "4a8c8558",
      "metadata": {
        "id": "4a8c8558"
      },
      "outputs": [],
      "source": [
        "# 测试代码\n",
        "r = BinaryTree(3)\n",
        "r.insertLeft(4)\n",
        "r.insertLeft(5)  # 插入左子树：5 -> 4 -> 原根节点3\n",
        "r.insertRight(6)\n",
        "r.insertRight(7)  # 插入右子树：7 -> 6 -> 原根节点3\n",
        "\n",
        "# 验证结构\n",
        "left_child = r.getLeftChild()\n",
        "print(left_child.getRootVal())  # 输出 5（新左子树的根节点）\n",
        "print(left_child.getLeftChild().getRootVal())  # 输出 4（原左子树的根节点）"
      ]
    },
    {
      "cell_type": "markdown",
      "id": "bcd83ec9",
      "metadata": {
        "id": "bcd83ec9"
      },
      "source": [
        "****"
      ]
    },
    {
      "cell_type": "markdown",
      "id": "bce426b1",
      "metadata": {
        "id": "bce426b1"
      },
      "source": [
        "## <a id='toc3_3_'></a>[3. 【补充知识】类内部调用自身](#toc0_)\n",
        "\n",
        "补充介绍类内部调用自身：\n",
        "\n",
        "类在定义过程中，其名称已经在类的作用域中“可见”，因此可以在类的内部方法中直接使用类名来创建该类的实例。换句话说，一个类的实例可以在其属性中包含该类的另一个实例。\n",
        "\n",
        "$\\implies$\n",
        "\n",
        "这是 Python 面向对象编程中的一个关键特性，被称为类的自引用（**self-reference**），也是实现递归式数据结构的常见手段之一：\n",
        "\n",
        "* 在 Python 中，类的定义是一个“可执行的语句块”。当 Python 执行语句 ```class BinaryTree:``` 时，就会开始逐行执行类体中的代码\n",
        "\n",
        "* 执行过程中，Python 会首先为该类创建一个新的命名空间，用于存放类内部的名字（包括方法、属性等）\n",
        "\n",
        "* 类体执行完毕后，Python 会将这个命名空间封装成一个类对象 ```BinaryTree```，并将该对象绑定到当前模块的全局作用域中的 ```BinaryTree``` 名称上\n",
        "\n",
        "* 类中定义的方法实际上是函数对象（带 ```self``` 参数），它们在类定义时就被加入到了类的命名空间中。$\\implies$ 因此，这些方法虽然是在类体中定义的，但不会被立即执行，而是被“注册”进类命名空间，等待被调用"
      ]
    },
    {
      "cell_type": "markdown",
      "id": "8a0ce88f",
      "metadata": {
        "id": "8a0ce88f"
      },
      "source": [
        "| 概念          | 定义                              | 与另一项的关系              |\n",
        "| ----------- | ------------------------------- | -------------------- |\n",
        "| **类的自引用**   | 在类中定义的属性，其类型是该类本身或包含该类          | 不一定构成递归结构（可能只引用一次）   |\n",
        "| **递归式数据建构** | 数据结构的定义中**递归地嵌套自身**，从而支持潜在的无限扩展 | 通常**依赖类的自引用**来实现递归特性 |\n",
        "\n",
        "总结：类的自引用是一种编程技术手段，而递归式数据结构是一种结构特征。递归结构通常通过类的自引用来实现，但二者不能等同"
      ]
    },
    {
      "cell_type": "markdown",
      "id": "72fb3e8c",
      "metadata": {
        "id": "72fb3e8c"
      },
      "source": [
        "****\n",
        "## <a id='toc3_4_'></a>[4. 【补充知识】类的命名空间](#toc0_)\n",
        "\n",
        "类的命名空间（namespace）\n",
        "\n",
        "* 是一个存储类内部定义的名字（如方法、类变量、嵌套类等）的“字典空间”。 例如执行代码"
      ]
    },
    {
      "cell_type": "code",
      "execution_count": null,
      "id": "7e17b82e",
      "metadata": {
        "id": "7e17b82e"
      },
      "outputs": [],
      "source": [
        "class MyClass:\n",
        "    x = 10\n",
        "    def method(self):\n",
        "        return self.x"
      ]
    },
    {
      "cell_type": "markdown",
      "id": "67668104",
      "metadata": {
        "id": "67668104"
      },
      "source": [
        "当 Python 解释器执行 class MyClass: 这一段时，它会做以下事情：\n",
        "\n",
        "1. 创建一个新的“类命名空间”（一个字典）；\n",
        "\n",
        "2. 把 x 和 method 这两个名字加进去，得出如下："
      ]
    },
    {
      "cell_type": "code",
      "execution_count": null,
      "id": "13f497e0",
      "metadata": {
        "id": "13f497e0",
        "outputId": "afe47f91-18fc-4d14-dc36-fecf22f39441"
      },
      "outputs": [
        {
          "name": "stdout",
          "output_type": "stream",
          "text": [
            "{'__module__': '__main__', 'x': 10, 'method': <function MyClass.method at 0x0000016239A25E40>, '__dict__': <attribute '__dict__' of 'MyClass' objects>, '__weakref__': <attribute '__weakref__' of 'MyClass' objects>, '__doc__': None}\n"
          ]
        },
        {
          "data": {
            "text/plain": [
              "\"\\n{\\n  'x': 10,\\n  'method': <function MyClass.method>\\n}\""
            ]
          },
          "execution_count": 3,
          "metadata": {},
          "output_type": "execute_result"
        }
      ],
      "source": [
        "print(MyClass.__dict__)\n",
        "\"\"\"\n",
        "{\n",
        "  'x': 10,\n",
        "  'method': <function MyClass.method>\n",
        "}\"\"\""
      ]
    },
    {
      "cell_type": "markdown",
      "id": "5c661b05",
      "metadata": {
        "id": "5c661b05"
      },
      "source": [
        "3. 然后将这个字典封装成一个类对象 MyClass；\n",
        "\n",
        "4. 最后把这个类对象绑定到当前模块的全局命名空间中"
      ]
    },
    {
      "cell_type": "code",
      "execution_count": null,
      "id": "8bb0e0d2",
      "metadata": {
        "id": "8bb0e0d2"
      },
      "outputs": [],
      "source": [
        "# 验证：类的命名空间就是它的 __dict__\n",
        "class MyClass:\n",
        "    x = 10\n",
        "    def method(self):\n",
        "        return self.x\n",
        "\n",
        "print(MyClass.__dict__)"
      ]
    },
    {
      "cell_type": "markdown",
      "id": "1d8b8984",
      "metadata": {
        "id": "1d8b8984"
      },
      "source": [
        "💡补充：查看实例的命名空间"
      ]
    },
    {
      "cell_type": "code",
      "execution_count": null,
      "id": "4dc14728",
      "metadata": {
        "id": "4dc14728",
        "outputId": "1fdb6c25-d862-4765-bfa0-f8012bb62fb2"
      },
      "outputs": [
        {
          "name": "stdout",
          "output_type": "stream",
          "text": [
            "{}\n"
          ]
        }
      ],
      "source": [
        "# 如果需要查看类实例的命名空间（而非类本身），可以创建实例后访问其 __dict__：\n",
        "obj = MyClass()\n",
        "print(obj.__dict__)  # 初始为空，添加实例属性后会显示"
      ]
    },
    {
      "cell_type": "markdown",
      "id": "36c5383f",
      "metadata": {
        "id": "36c5383f"
      },
      "source": [
        "也就是：\n",
        "\n",
        "| 名称    | 内容                          |\n",
        "| ----- | --------------------------- |\n",
        "| 类命名空间 | 存放类体中定义的名字（变量/函数）           |\n",
        "| 类命名空间类型    | `dict`（只读映射：`mappingproxy`） |\n",
        "| 类命名空间访问方式  | `ClassName.__dict__`        |\n"
      ]
    },
    {
      "cell_type": "markdown",
      "id": "708cbf86",
      "metadata": {
        "id": "708cbf86"
      },
      "source": [
        "****\n",
        "## <a id='toc3_5_'></a>[5. 【补充知识】类、类对象与实例对象](#toc0_)\n",
        "\n",
        "✨ 口语中的混用\n",
        "\n",
        "虽然“类”和“类对象”在底层并不是一个意思，但由于类对象是类定义的直接产物，且类名（如 Cat）通常直接指向类对象\n",
        "\n",
        "$\\implies$ 口语中常将“类”和“类对象”混用（例如“通过类创建实例”，实际是“通过类对象创建实例”）。"
      ]
    },
    {
      "cell_type": "markdown",
      "id": "4d6255dc",
      "metadata": {
        "id": "4d6255dc"
      },
      "source": [
        "[ Creating a new class creates a new type of object, allowing new instances of that type to be made.](https://docs.python.org/3/tutorial/classes.html)\n",
        "重点参考python官方文档的9.3节\n",
        "\n",
        "🧱 三者概念对比\n",
        "| 名称       | 比喻        | Python 表达式                    | 说明                |\n",
        "| -------- | --------- | ----------------------------- | ----------------- |\n",
        "| 类（Class；是语法） | 猫的“设计图纸” (实质是语法结构,不占内存)  | `class Cat:`                  | 定义猫应有的属性和行为，是一种```语法结构```，本身不占用实际内存空间， 是创建实例对象的“蓝图”,是静态的 |\n",
        "| 类对象（Class Object 或 Type Object）    | 猫的“模具”(占内存) | `Cat`                         | 当 Python 解释器执行 class 语句时，会自动创建一个类对象（属于 type 类型的实例），它是类定义的“实体化”结果；类对象存储了类的所有元信息（如类属性、方法、继承关系等），并作为创建实例对象的“模板”。类名即类对象的引用 |\n",
        "|实例对象（Instance Object 或简称 Instance） | 一只具体的猫   | `mimi = Cat(\"Mimi\", \"black\")` | 由类对象创建出的真实猫，拥有属性和行为 |\n",
        "\n",
        "\n",
        "🧠 概念厘清\n",
        "\n",
        "- **类** 是代码语法，用于描述$\\implies$猫长什么样、能做什么\n",
        "- **类对象** 是解释器根据类定义生成的“模具”，是“活”的内存实体(可交互)，具有类的元信息（如方法、属性等），是元逻辑的一部分, 用于生产实例\n",
        "- **实例对象** 是通过类对象制造出的“真实的猫咪”，能叫、能吃鱼，是实际参与程序运行的个体\n",
        "\n",
        "📚 参考官方文档9.3的目录\n",
        "\n",
        "* 9.3.1是介绍语法 Class Definition Syntax，即```类（Class） ```是语法\n",
        "* 9.3.2到9.3.4是介绍对象，包括 Class Objects 和 Instance Objects\n",
        "\n",
        "下面使用代码进行说明"
      ]
    },
    {
      "cell_type": "code",
      "execution_count": null,
      "id": "4dff2701",
      "metadata": {
        "id": "4dff2701"
      },
      "outputs": [],
      "source": [
        "# 定义\"类（class）\"：猫的设计图纸;是python语法\n",
        "class Cat:\n",
        "    def __init__(self, name, color):\n",
        "        self.name = name      # 属性1：名字\n",
        "        self.color = color    # 属性2：颜色\n",
        "\n",
        "    def meow(self):           # 行为：喵喵叫\n",
        "        print(f\"{self.name} says meow~\")\n",
        "# 一旦运行就生成了类对象"
      ]
    },
    {
      "cell_type": "code",
      "execution_count": null,
      "id": "6477033f",
      "metadata": {
        "id": "6477033f"
      },
      "outputs": [],
      "source": [
        "# 类对象：猫的模具，由 class 定义生成\n",
        "# Python 是“万物皆对象”的语言---类本身也是一个对象！\n",
        "# 当 Python 解释器运行上面这段 ```class Cat:``` 代码时，它会创建一个 类对象 Cat\n",
        "# 本质是 type类型的实例\n",
        "\n",
        "print(type(Cat))  # <class 'type'>\n",
        "print(Cat.__dict__)\n",
        "\n",
        "\n",
        "# Cat 也是一个对象，类型是 type。这就是所谓的\"类对象\"，它是 Python 创建出来、用来造实例对象的“工厂”或者说\"模具\"\n",
        "# Cat 不只是“名字”而已, 它是对象"
      ]
    },
    {
      "cell_type": "code",
      "execution_count": null,
      "id": "0de6c109",
      "metadata": {
        "id": "0de6c109"
      },
      "outputs": [],
      "source": [
        "# 实例对象（instance object）：具体的猫\n",
        "mimi = Cat(\"Mimi\", \"black\")\n",
        "# 这时候 mimi 就是一个实例对象（也叫“猫的个体”），它是通过类对象 Cat 创建出来的，拥有自己的 name 和 color。"
      ]
    },
    {
      "cell_type": "code",
      "execution_count": null,
      "id": "7fcde321",
      "metadata": {
        "id": "7fcde321"
      },
      "outputs": [],
      "source": [
        "\"\"\"\n",
        "┌───────────────────────────────┐\n",
        "│ class Cat │ ← 这是类定义语法（设计图）\n",
        "│ ┌───────────────────────────┐ │\n",
        "│ │ 属性（name, color） │\n",
        "│ │ 行为（meow() 方法） │\n",
        "│ └───────────────────────────┘ │\n",
        "└─────────────┬─────────────────┘\n",
        "│ Python 执行 class 定义后,生成\n",
        "▼\n",
        "┌───────────────────────────────┐\n",
        "│ 类对象 Cat │ ← Python 创建的“类对象”，类型是 type\n",
        "│ ┌───────────────────────────┐ │\n",
        "│ │ 包含属性和行为的描述（用字典类型储存） │\n",
        "│ │ 是创建实例对象的“工厂” │\n",
        "│ └───────────────────────────┘ │\n",
        "└─────────────┬─────────────────┘\n",
        "│ 调用类对象创建实例\n",
        "▼\n",
        "┌───────────────────────────────┐\n",
        "│ 实例对象 mimi │ ← 具体的一只猫\n",
        "│ ┌───────────────────────────┐ │\n",
        "│ │ name = \"Mimi\" │\n",
        "│ │ color = \"black\" │\n",
        "│ │ 可以调用方法 meow() │\n",
        "│ └───────────────────────────┘ │\n",
        "└───────────────────────────────┘\n",
        "\"\"\""
      ]
    },
    {
      "cell_type": "markdown",
      "id": "41e6c061",
      "metadata": {
        "id": "41e6c061"
      },
      "source": [
        "🧠 为什么类对象要用“活体”来描述？\n",
        "\n",
        "是为了强调**类对象是在内存中真实存在、可被操作、可动态修改、参与运行的对象**\n",
        "\n",
        "类对象具体有以下性质:"
      ]
    },
    {
      "cell_type": "code",
      "execution_count": null,
      "id": "66727018",
      "metadata": {
        "id": "66727018"
      },
      "outputs": [],
      "source": [
        "# 1. 类对象是运行时的实体\n",
        "class Cat:\n",
        "    pass\n",
        "\n",
        "print(type(Cat))  # <class 'type'>\n",
        "\n",
        "\"\"\"\n",
        "* Cat 不是一段死代码，而是运行时生成的一个对象\n",
        "\n",
        "* 它是 type 类的一个实例，和其他对象一样活跃地存在于内存中，可以被操作、赋值、传递、修改属性等\n",
        "\"\"\""
      ]
    },
    {
      "cell_type": "code",
      "execution_count": null,
      "id": "2275bf20",
      "metadata": {
        "id": "2275bf20"
      },
      "outputs": [],
      "source": [
        "# 2. 类对象是可交互的“第一类对象”\n",
        "# Python 是高度动态的语言，类对象就像函数、字符串一样，是“第一类对象（first-class object）”\n",
        "def say_hi(cls):\n",
        "    cls.hello = lambda self: print(\"Hi!\")\n",
        "\n",
        "say_hi(Cat)\n",
        "mimi = Cat()\n",
        "mimi.hello()  # 输出：Hi!\n",
        "\"\"\"\n",
        "* 我们可以在运行时动态地给 Cat（类对象）加方法、加属性。\n",
        "\n",
        "* 这说明类对象不仅存在，而且是可交互、可变、参与逻辑行为的“活体”。\n",
        "\n",
        "\"\"\""
      ]
    },
    {
      "cell_type": "code",
      "execution_count": null,
      "id": "46bfc05a",
      "metadata": {
        "id": "46bfc05a"
      },
      "outputs": [],
      "source": [
        "#  3. 类对象与类定义不同：后者只是语法结构\n",
        "# 类定义是“死的”，它只是代码本身,是静态的\n",
        "class Cat:\n",
        "    pass\n",
        "\n",
        "# 一旦解释器执行完这段定义，生成的 Cat 类对象才是“活的”"
      ]
    },
    {
      "cell_type": "markdown",
      "id": "7e8f7a88",
      "metadata": {
        "id": "7e8f7a88"
      },
      "source": [
        "也就是请注意,在python中有:\n",
        "\n",
        "* 类对象本身就是“对象”，是参与运行、可以赋值、可以动态修改的“活体对象”。之所以强调“类对象是活体”，是为了让学习者明白：\n",
        "\n",
        "$\\implies$\n",
        "\n",
        "```类对象``` 不是静态的抽象定义，而是程序运行时的真实存在，是可以被操作的实体对象。"
      ]
    },
    {
      "cell_type": "markdown",
      "id": "674870a3",
      "metadata": {
        "id": "674870a3"
      },
      "source": [
        "🔎 注意事项\n",
        "\n",
        "* 类定义本身不会创建任何对象，它只是描述“应该怎样创建”。\n",
        "\n",
        "* Python 在解释 class Cat: 语句时，会立即创建一个类对象 Cat。\n",
        "\n",
        "* 类对象是一个 type 类型的对象，它可以创建多个实例对象。\n",
        "\n",
        "* 实例对象是属于某个类的，它知道自己是由哪个类生成的（通过 __class__ 属性）"
      ]
    },
    {
      "cell_type": "markdown",
      "id": "a1eee5a6",
      "metadata": {
        "id": "a1eee5a6"
      },
      "source": [
        "*****\n",
        "## 6. 课堂代码\n",
        "知识补充完毕,下面是课件原代码"
      ]
    },
    {
      "cell_type": "code",
      "execution_count": null,
      "id": "25bb31e5",
      "metadata": {
        "id": "25bb31e5"
      },
      "outputs": [],
      "source": [
        "def BinaryTree(r):\n",
        "    return [[], []]\n",
        "\n",
        "def insertLeft(root, newBranch):#这里需要查看原来有没有左子树\n",
        "    t = root.pop(1)\n",
        "    if len(t) > 1:# 如果原来有左子树/叶节点，那么就把新的插入原来左子树的位置，左子树挂在新子树的左边\n",
        "        # 这里跟1比，是因为按照之前的写法，叶节点也是len([1,[],[]]) = 3，子树len([3,[1,2,5],[6,9,7]])也是3\n",
        "        root.insert(1, [newBranch, t, []])#列表嵌套的用法\n",
        "    else:#原来为空节点\n",
        "        root.insert(1, [newBranch, [], []])#newBranch可以是嵌套列表;但参考上面对树的书写,最好是数值\n",
        "    return root\n",
        "\n",
        "def insertRight(root, newBranch):\n",
        "    t = root.pop(2)\n",
        "    if len(t) > 1:\n",
        "        root.insert(2, [newBranch, [], t])\n",
        "    else:\n",
        "        root.insert(2, [newBranch, [], []])\n",
        "    return root\n",
        "\n",
        "def getRootVal(root):\n",
        "    return root[0]\n",
        "\n",
        "def setRootVal(root, newVal):\n",
        "    root[0] = newVal\n",
        "\n",
        "def getLeftChild(root):\n",
        "    return root[1]\n",
        "\n",
        "def getRightChild(root):\n",
        "    return root[2]"
      ]
    },
    {
      "cell_type": "code",
      "execution_count": null,
      "id": "81ed6b48",
      "metadata": {
        "id": "81ed6b48"
      },
      "outputs": [],
      "source": [
        "r = BinaryTree(3)\n",
        "insertLeft(4)\n",
        "insertLeft(5)\n",
        "insertRight(6)\n",
        "insertRight(7)\n",
        "left_child = getLeftChild(r)\n",
        "print(left_child)\n",
        "setRootVal(left_child, 9)\n",
        "print('r = ',r)\n",
        "insertLeft(left_child, 11)\n",
        "print('r = ',r)\n",
        "print('child : ',getRightChild(getRightChild(r)))"
      ]
    },
    {
      "cell_type": "markdown",
      "id": "96aed7bb",
      "metadata": {
        "id": "96aed7bb"
      },
      "source": [
        "# 604 树的链表实现\n",
        "\n",
        "对应的思路为 602 的 5.2 节，即使也是使用递归实现。依据如下：\n",
        "\n",
        "📕 Explanation\n",
        "\n",
        "The key lies in how the BinaryTree class is defined and used.\n",
        " * **Recursive Structure**: The BinaryTree class defines a node that contains a key (the root value) and two attributes, leftChild and rightChild. These attributes are designed **to hold other instances of the BinaryTree class**,like ```self.leftChild = BinaryTree(newNode)```. This creates a structure where a tree is defined as a root node connected to smaller, self-contained subtrees, which is the exact idea of Definition 2. When insertLeft is called, it creates a new BinaryTree object, making it a subtree.\n",
        " * **Contrast with Definition 1**: Definition 1 describes a tree from a more abstract, **graph-theory** perspective, focusing on properties like unique parents and paths. While the structure created by the code has these properties, the code's implementation doesn't explicitly manage parent pointers or enforce these rules directly. Instead, these properties emerge from the recursive construction described in Definition 2. The code defines a tree in terms of itself: a BinaryTree is a root with a left BinaryTree and a right BinaryTree.\n",
        "\n",
        "因此，可以看作是对上一节以链表为基础的代码的优化"
      ]
    },
    {
      "cell_type": "markdown",
      "id": "07e32dd8",
      "metadata": {
        "id": "07e32dd8"
      },
      "source": [
        "🌳现在通过节点链接法来实现树\n",
        "\n",
        "图例如下"
      ]
    },
    {
      "cell_type": "markdown",
      "id": "2f3b1b5f",
      "metadata": {
        "id": "2f3b1b5f"
      },
      "source": [
        "<img src=\"./img/604_1.PNG\" >"
      ]
    },
    {
      "cell_type": "markdown",
      "id": "8a09e455",
      "metadata": {
        "id": "8a09e455"
      },
      "source": [
        "## 1. 树结构思路与实现\n",
        "\n",
        "由图可知，每个节点需要保存根节点的数据项，以及指向左右子树的链接\n",
        "\n",
        "$\\implies$\n",
        "\n",
        "* 成员key保存根节点数据项\n",
        "* 成员left/rightChild保存指向左/右子树的引用（同样是BinaryTree对象）\n",
        "\n",
        "⚠️ 请注意：\n",
        "\n",
        "* 这里出现类的自引用\n",
        "* 没有设计节点newNode类【实际使用的是普通的数值类型，也就是上图的`abcdef`】，而是直接设计二叉树BinaryTree类【类里包含了`left` 和 `right`】"
      ]
    },
    {
      "cell_type": "code",
      "execution_count": null,
      "id": "05e99bae",
      "metadata": {},
      "outputs": [],
      "source": [
        "class BinaryTree:\n",
        "    def __init__(self, rootObj): # 这个其实就是node；但因为递归，所以看作是二叉树类型\n",
        "        self.key = rootObj            # 当前节点的值\n",
        "        self.leftChild = None         # 左子节点\n",
        "        self.rightChild = None        # 右子节点\n",
        "\n",
        "    def insertLeft(self, newNode):#对比列表实现用的subNum，这里使用了类newNode\n",
        "        if self.leftChild is None:\n",
        "            self.leftChild = BinaryTree(newNode)\n",
        "        else:\n",
        "            t = BinaryTree(newNode)\n",
        "            t.leftChild = self.leftChild\n",
        "            self.leftChild = t\n",
        "\n",
        "    def insertRight(self, newNode):\n",
        "        if self.rightChild is None:\n",
        "            self.rightChild = BinaryTree(newNode)\n",
        "        else:\n",
        "            t = BinaryTree(newNode)\n",
        "            t.rightChild = self.rightChild\n",
        "            self.rightChild = t\n",
        "\n",
        "    def getRightChild(self):\n",
        "        return self.rightChild\n",
        "\n",
        "    def getLeftChild(self):\n",
        "        return self.leftChild\n",
        "\n",
        "    def setRootVal(self, obj):\n",
        "        self.key = obj\n",
        "\n",
        "    def getRootVal(self):\n",
        "        return self.key\n",
        "\n",
        "    def __str__(self):\n",
        "        # 简单递归转字符串：格式 [值, 左子树, 右子树]\n",
        "        left_str = str(self.leftChild) if self.leftChild else \"[]\"\n",
        "        right_str = str(self.rightChild) if self.rightChild else \"[]\"\n",
        "        return f\"[{self.key}, {left_str}, {right_str}]\"\n",
        "\n",
        "    __repr__ = __str__\n",
        "\n",
        "\n",
        "def print_tree(node, level=0, prefix=\"Root: \"):\n",
        "    \"\"\"递归打印二叉树结构（层级缩进）\"\"\"\n",
        "    if node is not None:\n",
        "        print(\" \" * level + prefix + str(node.getRootVal()))\n",
        "        if node.getLeftChild() or node.getRightChild():\n",
        "            print_tree(node.getLeftChild(), level + 1, \"L--- \")\n",
        "            print_tree(node.getRightChild(), level + 1, \"R--- \")\n"
      ]
    },
    {
      "cell_type": "markdown",
      "id": "6f096d7e",
      "metadata": {},
      "source": [
        "这段代码可以看作是603的AI协助代码的优化，是典型的面向对象的节点方式。对比如下：\n",
        "\n",
        "| 比较维度        | 代码1（列表结构）                   | 代码2（节点结构）                                     |\n",
        "| ----------- | --------------------------- | --------------------------------------------- |\n",
        "| **存储结构**    | 使用列表 `[根值, 左子树, 右子树]` 表示整棵树 | 使用类属性 `key`, `leftChild`, `rightChild` 表示每个节点 |\n",
        "| **插入方式**    | 操作列表元素（内部调用 `.tree`）        | 使用类属性直接构造左右子节点                                |\n",
        "| **结构灵活性**   | 实现方式更“非典型”，手动管理列表结构         | 更符合常规“树节点”数据结构                                |\n",
        "| **操作清晰度**   | 需要通过 `.tree[i]` 访问子树，不够直观   | 直接通过 `.leftChild` / `.rightChild` 访问，直观清晰     |\n",
        "| **易读性与维护性** | 稍显晦涩，需要理解 `.tree` 的结构       | 更清晰，直观体现树的递归结构                                |\n",
        "| **异常处理**    | 有基本的类型检查（如只接受数字）            | 无任何检查                                         |\n"
      ]
    },
    {
      "cell_type": "markdown",
      "id": "b02ce698",
      "metadata": {},
      "source": [
        "🧠 为什么节点类型可以代表整棵树？\n",
        "\n",
        "因为每一个 `BinaryTree` 实例为：\n",
        "\n",
        "* 一个根节点值（`self.key`）\n",
        "* 一个左子树（`self.leftChild`，类型也是 `BinaryTree`）\n",
        "* 一个右子树（`self.rightChild`，类型也是 `BinaryTree`）\n",
        "\n",
        "所以：\n",
        "\n",
        "* 它既是一个节点，也可以递归地代表一整棵树。\n",
        "\n",
        "* 本质上是【“以节点为中心”的树结构】。\n",
        "\n",
        "* 每一个节点都是一个“小树”，只不过规模可能小到只包含一个点。\n",
        "\n",
        "$\\implies$ 可以说：“我不是在建一棵树，而是在不停地建立一个个【根+左右子树】的‘递归小树’。”\n"
      ]
    },
    {
      "cell_type": "markdown",
      "id": "a51331bf",
      "metadata": {},
      "source": [
        "🧠 为什么这种设计是合理的？\n",
        "\n",
        "因为它符合递归结构的三要素：\n",
        "\n",
        "| 要素         | 表现                                |\n",
        "| ---------- | --------------------------------- |\n",
        "| **定义自身**   | 每个 `BinaryTree` 中又包含 `BinaryTree` |\n",
        "| **基本情况**   | 左右子树为 `None`                      |\n",
        "| **递归组合方式** | 左右子树都是 BinaryTree 构成的子树           |\n"
      ]
    },
    {
      "cell_type": "markdown",
      "id": "5f1b31ea",
      "metadata": {},
      "source": [
        "🧠 左右子树是如何与根节点“链接”的？\n",
        "\n",
        "节点（即 BinaryTree 实例）通过属性：\n",
        "\n",
        "```\n",
        "self.leftChild\n",
        "self.rightChild\n",
        "```\n",
        "来保存对左右子树的**引用**。也就是：\n",
        "\n",
        "* `root.leftChild` 保存的是 `left` 这个对象的“引用”\n",
        "\n",
        "* Python 中一切都是对象，`=` 并不复制对象，而是建立引用关系\n",
        "\n",
        "💡 请注意！Python 没有裸指针概念，一切都是对象引用\n",
        "\n"
      ]
    },
    {
      "cell_type": "markdown",
      "id": "67276be3",
      "metadata": {},
      "source": [
        "🧠 普通数值类型是如何“转化为树”的？\n",
        "\n",
        "当你写\n",
        "\n",
        "`root.insertLeft(2)`\n",
        "\n",
        "实质等于\n",
        "\n",
        "``` python\n",
        "newNode = BinaryTree(2)  # ← 把数值“包裹”为树节点（子树）\n",
        "root.leftChild = newNode\n",
        "```\n",
        "\n",
        "$\\implies$ \n",
        "\n",
        "也就是说：\n",
        "\n",
        "* 数值 → 构造成 `BinaryTree(2)` → 就变成了一个树结构\n",
        "\n",
        "* 然后挂在 `root` 的 `leftChild` 上\n",
        "\n",
        "* 形成父子结构\n"
      ]
    },
    {
      "cell_type": "markdown",
      "id": "09695059",
      "metadata": {},
      "source": [
        "使用案例如下"
      ]
    },
    {
      "cell_type": "code",
      "execution_count": null,
      "id": "a91b742b",
      "metadata": {},
      "outputs": [],
      "source": [
        "root = BinaryTree(3)\n",
        "root.insertLeft(2)\n",
        "root.insertRight(5)"
      ]
    },
    {
      "cell_type": "markdown",
      "id": "7008f4ee",
      "metadata": {},
      "source": [
        "实际得到树结构： \n",
        "```text\n",
        "         [3]\n",
        "        /   \\\n",
        "     [2]     [5]\n",
        "```\n",
        "\n",
        "在内存里：\n",
        "\n",
        "* `root` 是一个对象，它的 `.leftChild` 指向 `BinaryTree(2)`\n",
        "\n",
        "* `root.leftChild.leftChild` 是 `None`\n",
        "\n",
        "因此内存引用结构有：\n",
        "```text\n",
        "root ──┬──> key: 3\n",
        "       ├──> leftChild ──> BinaryTree(2)\n",
        "       └──> rightChild ──> BinaryTree(5)\n",
        "```"
      ]
    },
    {
      "cell_type": "markdown",
      "id": "411b3bf8",
      "metadata": {},
      "source": [
        "******\n",
        "根据课件测试的用例，增加日志功能"
      ]
    },
    {
      "cell_type": "code",
      "execution_count": 1,
      "id": "b93f63c3",
      "metadata": {},
      "outputs": [],
      "source": [
        "class BinaryTree:\n",
        "    def __init__(self, rootObj):\n",
        "        self.key = rootObj  # 当前节点值\n",
        "        self.leftChild = None  # 左子节点\n",
        "        self.rightChild = None  # 右子节点\n",
        "        self.modify_log = []  # 【关键】初始化修改日志列表\n",
        "\n",
        "    def insertLeft(self, newNode):\n",
        "        if self.leftChild is None:\n",
        "            self.leftChild = BinaryTree(newNode)\n",
        "        else:\n",
        "            t = BinaryTree(newNode)\n",
        "            t.leftChild = self.leftChild\n",
        "            self.leftChild = t\n",
        "\n",
        "    def insertRight(self, newNode):\n",
        "        if self.rightChild is None:\n",
        "            self.rightChild = BinaryTree(newNode)\n",
        "        else:\n",
        "            t = BinaryTree(newNode)\n",
        "            t.rightChild = self.rightChild\n",
        "            self.rightChild = t\n",
        "\n",
        "    def getRightChild(self):\n",
        "        return self.rightChild\n",
        "\n",
        "    def getLeftChild(self):\n",
        "        return self.leftChild\n",
        "\n",
        "    def setRootVal(self, obj):\n",
        "        \"\"\"修改节点值时自动记录日志\"\"\"\n",
        "        old_val = self.key\n",
        "        self.key = obj\n",
        "        self.modify_log.append((old_val, obj))  # 记录修改历史\n",
        "\n",
        "    def getRootVal(self):\n",
        "        return self.key\n",
        "\n",
        "    def print_modify_history(self):\n",
        "        \"\"\"打印当前节点的修改历史\"\"\"\n",
        "        if not self.modify_log:  # 检查日志是否为空\n",
        "            print(f\"节点 '{self.key}' 无修改记录\")\n",
        "            return\n",
        "        print(f\"节点 '{self.key}' 的修改历史 ({len(self.modify_log)} 次):\")\n",
        "        for i, (old, new) in enumerate(self.modify_log, 1):\n",
        "            print(f\"  第 {i} 次: {old} -> {new}\")\n",
        "\n",
        "\n",
        "def print_tree(node, level=0, prefix=\"Root: \"):\n",
        "    \"\"\"递归打印二叉树结构\"\"\"\n",
        "    if node is not None:\n",
        "        print(\" \" * level + prefix + str(node.getRootVal()))\n",
        "        if node.getLeftChild() or node.getRightChild():\n",
        "            print_tree(node.getLeftChild(), level + 1, \"L--- \")\n",
        "            print_tree(node.getRightChild(), level + 1, \"R--- \")\n"
      ]
    },
    {
      "cell_type": "code",
      "execution_count": 2,
      "id": "1a0cbf50",
      "metadata": {},
      "outputs": [
        {
          "name": "stdout",
          "output_type": "stream",
          "text": [
            "=== 初始树结构 ===\n",
            "Root: a\n",
            " L--- b\n",
            "  R--- d\n",
            " R--- c\n",
            "\n",
            "\n",
            "=== 多次修改后的树结构 ===\n",
            "Root: root\n",
            " L--- b\n",
            "  R--- python\n",
            " R--- world\n",
            "\n",
            "=== 节点修改历史记录 ===\n",
            "节点 'root' 的修改历史 (1 次):\n",
            "  第 1 次: a -> root\n",
            "节点 'b' 无修改记录\n",
            "节点 'world' 的修改历史 (2 次):\n",
            "  第 1 次: c -> hello\n",
            "  第 2 次: hello -> world\n",
            "节点 'python' 的修改历史 (1 次):\n",
            "  第 1 次: d -> python\n"
          ]
        }
      ],
      "source": [
        "# ---------------------- 测试代码 ----------------------\n",
        "if __name__ == \"__main__\":\n",
        "    # 1. 创建初始二叉树\n",
        "    r = BinaryTree('a')\n",
        "    r.insertLeft('b')\n",
        "    r.insertRight('c')\n",
        "    r.getLeftChild().insertRight('d')  # 给节点b添加右子节点d\n",
        "\n",
        "    print(\"=== 初始树结构 ===\")\n",
        "    print_tree(r)\n",
        "    print()\n",
        "\n",
        "    # 2. 执行多次修改操作\n",
        "    r.getRightChild().setRootVal('hello')  # 修改右子节点 (c→hello)\n",
        "    r.getLeftChild().getRightChild().setRootVal('python')  # 修改d→python\n",
        "    r.setRootVal('root')  # 修改根节点 (a→root)\n",
        "    r.getRightChild().setRootVal('world')  # 再次修改右子节点 (hello→world)\n",
        "\n",
        "    # 3. 打印修改后的树结构\n",
        "    print(\"\\n=== 多次修改后的树结构 ===\")\n",
        "    print_tree(r)\n",
        "\n",
        "    # 4. 打印各节点的修改日志\n",
        "    print(\"\\n=== 节点修改历史记录 ===\")\n",
        "    r.print_modify_history()  # 根节点日志\n",
        "    r.getLeftChild().print_modify_history()  # 左子节点b（无修改）\n",
        "    r.getRightChild().print_modify_history()  # 右子节点（2次修改）\n",
        "    r.getLeftChild().getRightChild().print_modify_history()  # 节点d（1次修改）"
      ]
    },
    {
      "cell_type": "markdown",
      "id": "xncH9S5tSxK6",
      "metadata": {
        "id": "xncH9S5tSxK6"
      },
      "source": [
        "## 2. 二叉树两种定义的对比\n",
        "\n",
        "回顾两个定义，分别为\n",
        "\n",
        "* 定义1（**边+图论性质**）的树实现（用邻接表管理节点+边）\n",
        "* 定义2（**递归+自包含结构**）的树实现（类中包含子树）"
      ]
    },
    {
      "cell_type": "markdown",
      "id": "ded604ef",
      "metadata": {},
      "source": [
        "🔑 关键差异概览\n",
        "\n",
        "| 比较维度    | 定义1：图结构实现树（邻接表）                         | 定义2：递归式树（类包含子树）          |\n",
        "| ------- | --------------------------------------- | ------------------------ |\n",
        "| ✅ 基本结构  | 节点 + 边，用图的视角描述                          | 每个节点是一个类对象，递归地嵌套成树       |\n",
        "| ✅ 构造方式  | 先设置根节点，再用 `add_edge(parent, child)` 添加边 | 通过创建子树对象，挂接到左/右子节点上      |\n",
        "| ✅ 表达能力  | 更通用，适用于任意形状的树（n叉树、多叉树）                  | 多用于二叉树结构，适合结构清晰的二叉树设计    |\n",
        "| ✅ 遍历和验证 | 需手动实现DFS/BFS来遍历和验证树性质                   | 通过递归结构天然表达“包含”和遍历        |\n",
        "| ✅ 数据管理  | 节点和值通常分开维护，访问路径依赖父子关系                   | 每个节点自带值和结构，天然递归地存储和操作    |\n",
        "| ✅ 拓展性   | 适合拓展为图、森林结构                             | 拓展性差，限制为固定的左/右子结构（适合二叉树） |\n",
        "| ✅ 实现复杂度 | 高，需要额外维护结构一致性（如无环、唯一路径）                 | 低，结构自然、递归性强              |\n",
        "| ✅ 适合用途  | 更适合通用树/图算法、路径分析、验证结构等                   | 更适合表达结构明确的树，如表达式树、决策树等   |\n"
      ]
    },
    {
      "cell_type": "markdown",
      "id": "8ff16ebf",
      "metadata": {},
      "source": [
        "🌳 适用场景对比\n",
        "\n",
        "| 场景类型                  | 建议使用  | 理由                 |\n",
        "| --------------------- | ----- | ------------------ |\n",
        "| **图论或验证结构**（如“是否为树？”） | ✅ 定义1 | 可遍历、验证路径唯一性、父节点唯一性 |\n",
        "| **表达式树 / 语法树（AST）**   | ✅ 定义2 | 递归结构适合表达式的嵌套       |\n",
        "| **机器学习中的决策树/回归树**     | ✅ 定义2 | 二叉结构、属性划分明确        |\n",
        "| **复杂层级结构的组织图/知识图谱**   | ✅ 定义1 | 节点之间关系灵活，支持多叉树     |\n",
        "| **序列化 / 存储 / 传输结构**   | ✅ 定义2 | 结构自包含，便于保存与重建      |\n",
        "| **数据库建模中的层级结构**       | ✅ 定义1 | 节点分离，便于与表结构对应      |\n",
        "| **链式结构、简单递归练习**       | ✅ 定义2 | 学习递归、类结构嵌套很直观      |\n",
        "| **需要频繁插入/删除节点并重构树**   | ✅ 定义1 | 结构灵活，修改边即可，解耦度高    |"
      ]
    },
    {
      "cell_type": "markdown",
      "id": "8696507b",
      "metadata": {},
      "source": [
        "🎓 教学角度总结\n",
        "\n",
        "| 教学目标              | 推荐使用  | 理由                 |\n",
        "| ----------------- | ----- | ------------------ |\n",
        "| 学习 **树的定义和图结构性质** | ✅ 定义1 | 更贴近“图 + 约束 = 树”的本质 |\n",
        "| 学习 **递归、类的自引用**   | ✅ 定义2 | 类中嵌套类，天然体现递归       |\n",
        "| 强调 **每个子树也是一棵树**  | ✅ 定义2 | 结构递归定义更直观          |"
      ]
    },
    {
      "cell_type": "markdown",
      "id": "6fb9f92e",
      "metadata": {},
      "source": [
        "🧠 一句话总结：\n",
        "\n",
        "* 定义1 实现更通用、灵活、贴近图论，适用于结构分析、算法实现\n",
        "\n",
        "* 定义2 实现更简洁、递归、自然建树，适用于结构清晰的应用，如表达式树"
      ]
    }
  ],
  "metadata": {
    "colab": {
      "provenance": []
    },
    "kernelspec": {
      "display_name": "base",
      "language": "python",
      "name": "python3"
    },
    "language_info": {
      "codemirror_mode": {
        "name": "ipython",
        "version": 3
      },
      "file_extension": ".py",
      "mimetype": "text/x-python",
      "name": "python",
      "nbconvert_exporter": "python",
      "pygments_lexer": "ipython3",
      "version": "3.12.7"
    }
  },
  "nbformat": 4,
  "nbformat_minor": 5
}
