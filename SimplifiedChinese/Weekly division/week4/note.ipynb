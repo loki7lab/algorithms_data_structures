{
 "metadata": {
  "language_info": {
   "codemirror_mode": {
    "name": "ipython",
    "version": 3
   },
   "file_extension": ".py",
   "mimetype": "text/x-python",
   "name": "python",
   "nbconvert_exporter": "python",
   "pygments_lexer": "ipython3",
   "version": "3.7.6"
  },
  "orig_nbformat": 2,
  "kernelspec": {
   "name": "python376jvsc74a57bd06fa7eb87fad641fccb913dde0949628a99570c2b6fb04151f8687bc244aedd44",
   "display_name": "Python 3.7.6 64-bit ('base': conda)"
  }
 },
 "nbformat": 4,
 "nbformat_minor": 2,
 "cells": [
  {
   "source": [
    "# 队列抽象数据类型\n",
    "1. First In First Out\n",
    "2. 仅有一个入口和出口\n",
    "3. 操作定义：\n",
    "* Queue()：创建一个空队列对象，返回值为Queue对象；\n",
    "* enqueue(item)：将数据项item添加到队尾，无返回值；\n",
    "* dequeue()：从队首移除数据项，返回值为队首数据项，队列被修改；\n",
    "* isEmpty()：测试是否空队列，返回值为布尔值\n",
    "* size()：返回队列中数据项的个数\n"
   ],
   "cell_type": "markdown",
   "metadata": {}
  },
  {
   "cell_type": "code",
   "execution_count": 1,
   "metadata": {},
   "outputs": [],
   "source": [
    "class Queue:\n",
    "    def __init__(self):\n",
    "        self.items = []\n",
    "    def isEmpty(self):\n",
    "        return len(self.items) == 0\n",
    "    def size(self):\n",
    "        return len(self.items)\n",
    "    def enqueue(self,item):\n",
    "        self.items.insert(0,item)\n",
    "    def dequeue(self):\n",
    "        return self.items.pop()"
   ]
  },
  {
   "source": [
    "# 热土豆问题\n",
    "40人。报数1到7。报到7的被杀死。为了活下来应该选初始几号位？\n"
   ],
   "cell_type": "markdown",
   "metadata": {}
  },
  {
   "cell_type": "code",
   "execution_count": 12,
   "metadata": {},
   "outputs": [
    {
     "output_type": "stream",
     "name": "stdout",
     "text": [
      "5\n"
     ]
    }
   ],
   "source": [
    "from pythonds.basic.queue import Queue\n",
    "def hotPotato(namlist,num):\n",
    "    simqueue = Queue()\n",
    "    for name in namelist:\n",
    "        simqueue.enqueue(name)\n",
    "    while simqueue.size() > 1:\n",
    "        for i in range(num):\n",
    "            simqueue.enqueue(simqueue.dequeue())\n",
    "        simqueue.dequeue()\n",
    "    return simqueue.dequeue()\n",
    "namelist = list(range(40))\n",
    "print(hotPotato(namelist,7))"
   ]
  },
  {
   "source": [
    "# 打印任务\n",
    "1. 多人共享一台打印机，采取“先到先服务”的队列策略来执行打印任务\n",
    "2. 在这种设定下，一个首要的问题就是：\n",
    "* 这种打印作业系统的容量有多大？\n",
    "* 在能够接受的等待时间内，系统能容纳多少用户以多高频率提交多少打印任务？\n",
    "3. 如何建模？\n",
    "a. 对象：打印任务、打印队列、打印机\n",
    "* 打印任务的属性：提交时间、打印页数\n",
    "* 打印队列的属性：具有FIFO性质的打印任务队列\n",
    "* 打印机的属性：打印速度、是否忙\n",
    "b. 过程\n",
    "* 实施打印\n",
    "c. 时间框架\n",
    "* 统一\n",
    "* 同步"
   ],
   "cell_type": "markdown",
   "metadata": {}
  },
  {
   "cell_type": "code",
   "execution_count": 59,
   "metadata": {},
   "outputs": [],
   "source": [
    "# printer\n",
    "from pythonds.basic.queue import Queue\n",
    "import random\n",
    "\n",
    "class Printer:\n",
    "    def __init__(self,ppm):\n",
    "        self.pagerate = ppm\n",
    "        self.currentTask = None\n",
    "        self.timeRemaining = 0\n",
    "\n",
    "    def tick(self):\n",
    "        if self.currentTask != None:\n",
    "            self.timeRemaining -= 1\n",
    "            if self.timeRemaining <= 0:\n",
    "                self.currentTask = None\n",
    "    \n",
    "    def busy(self):\n",
    "        return self.currentTask != None\n",
    "            \n",
    "    def startNext(self,newtask):\n",
    "        self.currentTask = newtask\n",
    "        self.timeRemaining = newtask.getPages() * 60/self.pagerate"
   ]
  },
  {
   "cell_type": "code",
   "execution_count": 60,
   "metadata": {},
   "outputs": [],
   "source": [
    "# Task\n",
    "class Task:\n",
    "    def __init__(self,time):\n",
    "        self.timestamp = time\n",
    "        self.pages = random.randrange(1,21)\n",
    "    \n",
    "    def getStamp(self):\n",
    "        return self.timestamp\n",
    "    \n",
    "    def getPages(self):\n",
    "        return self.pages\n",
    "    \n",
    "    def waitTime(self,currenttime):\n",
    "        return currenttime - self.timestamp\n",
    "    \n",
    "def newPrintTask():\n",
    "    num = random.randrange(1,181)\n",
    "    return num == 180"
   ]
  },
  {
   "cell_type": "code",
   "execution_count": 61,
   "metadata": {},
   "outputs": [],
   "source": [
    "# simulation\n",
    "\n",
    "def simulation(numSeconds,pagesPerMinute):\n",
    "    labprinter = Printer(pagesPerMinute)\n",
    "    printQueue = Queue()\n",
    "    waitingtimes = []\n",
    "\n",
    "    for currentSecond in range(numSeconds):\n",
    "        \n",
    "        if newPrintTask():\n",
    "            task = Task(currentSecond)\n",
    "            printQueue.enqueue(task)\n",
    "\n",
    "        if (not labprinter.busy()) and (not printQueue.isEmpty()):\n",
    "            nexttask = printQueue.dequeue()\n",
    "            waitingtimes.append(nexttask.waitTime(currentSecond))\n",
    "            labprinter.startNext(nexttask)\n",
    "        \n",
    "        labprinter.tick()\n",
    "    \n",
    "    averageWait = sum(waitingtimes)/len(waitingtimes)\n",
    "    print(\"Average Wait %6.2f secs %3d tasks remaining.\"%(averageWait,printQueue.size()))"
   ]
  },
  {
   "cell_type": "code",
   "execution_count": 62,
   "metadata": {},
   "outputs": [
    {
     "output_type": "stream",
     "name": "stdout",
     "text": [
      "Average Wait 102.35 secs   0 tasks remaining.\nAverage Wait  55.35 secs   3 tasks remaining.\nAverage Wait 222.63 secs   3 tasks remaining.\nAverage Wait 193.20 secs   2 tasks remaining.\nAverage Wait  99.05 secs   0 tasks remaining.\nAverage Wait 151.52 secs   1 tasks remaining.\nAverage Wait  78.57 secs   0 tasks remaining.\nAverage Wait 188.61 secs   1 tasks remaining.\nAverage Wait 150.89 secs   2 tasks remaining.\nAverage Wait  10.67 secs   0 tasks remaining.\n"
     ]
    }
   ],
   "source": [
    "for i in range(10):\n",
    "    simulation(3600,5)"
   ]
  },
  {
   "source": [
    "# 双端队列deque抽象数据类型\n",
    "1. 数据项可以从两端加入或者移除\n",
    "2. 可以用来模拟栈或者队列，但是需要使用者自行维护操作的一致性\n",
    "3. 操作定义如下\n",
    "* Deque()：创建一个空双端队列\n",
    "* addFront(item)：将item加入队首\n",
    "* addRear(item)：将item加入队尾\n",
    "* removeFront()：从队首移除数据项，返回值为移除的数据项\n",
    "* removeRear()：从队尾移除数据项，返回值为移除的数据项\n",
    "* isEmpty()：返回deque是否为空\n",
    "* size()：返回deque中包含数据项的个数\n"
   ],
   "cell_type": "markdown",
   "metadata": {}
  },
  {
   "cell_type": "code",
   "execution_count": 63,
   "metadata": {},
   "outputs": [],
   "source": [
    "class Deque:\n",
    "\n",
    "    def __init__(self):\n",
    "        self.items = []\n",
    "    \n",
    "    def isEmpty(self):\n",
    "        return self.items == []\n",
    "    \n",
    "    def size(self):\n",
    "        return len(self.items)\n",
    "    \n",
    "    def addFront(self,item):\n",
    "        self.items.append(item)\n",
    "    \n",
    "    def addRear(self,item):\n",
    "        self.items.insert(0,item)\n",
    "    \n",
    "    def removeFront(self):\n",
    "        self.items.pop()\n",
    "    \n",
    "    def removeRear(self):\n",
    "        self.items.pop(0)\n",
    "    "
   ]
  },
  {
   "cell_type": "code",
   "execution_count": 67,
   "metadata": {},
   "outputs": [
    {
     "output_type": "stream",
     "name": "stdout",
     "text": [
      "False\nTrue\n"
     ]
    }
   ],
   "source": [
    "from pythonds.basic.deque import Deque\n",
    "def palchecker(aString):\n",
    "    chardeque = Deque()\n",
    "    for ch in aString:\n",
    "        chardeque.addRear(ch)\n",
    "    stillEqual = True\n",
    "    \n",
    "    while chardeque.size() > 1 and stillEqual:\n",
    "        first = chardeque.removeFront()\n",
    "        last = chardeque.removeRear()\n",
    "        \n",
    "        if first != last:\n",
    "            stillEqual = False\n",
    "    return stillEqual\n",
    "    \n",
    "print(palchecker(\"lsdkjfskf\"))\n",
    "print(palchecker(\"radar\"))"
   ]
  },
  {
   "source": [
    "# 无序表抽象数据结构\n",
    "1. 列表List是一种简单强大的数据集结构，提供了丰富的操作接口。但并不是所有的编程语言都提供了List数据类型，有时候需要程序员自己实现\n",
    "2. 什么是列表，或者说是无序表？\n",
    "* 一种数据项按照相对位置存放的数据集。特别的，被称为“无序表unordered list”，其中数据项只按照存放位置来索引，如第1个、第2个……、最后一个等。\n",
    "3. 无序表List的操作如下：\n",
    "* List()：创建一个空列表\n",
    "* add(item)：添加一个数据项到列表中，假设item原先不存在于列表中\n",
    "* remove(item)：从列表中移除item，列表被修改，item原先应存在于表中\n",
    "* search(item)：在列表中查找item，返回布尔类型值\n",
    "* isEmpty()：返回列表是否为空\n",
    "* size()：返回列表包含了多少数据\n",
    "4. 为了实现无序表数据结构，可以采用链接表的方案：\n",
    "* 虽然列表数据结构要求保持数据项的前后相对位置，但这种前后位置的保持，并不要求数据项依次存放在连续的存储空间\n",
    "* 数据项存放位置并没有规则，但如果在数据项之间建立链接指向，就可以保持其前后相对位置\n",
    "* 第一个和最后一个数据项需要**显式**标记出来，一个是队首（head不和第一个一起标注），一个是队尾（和最后一个数据一起标注end），后面再无数据了。\n",
    "5. 链表实现的最基本元素是节点Node\n",
    "* 每个节点至少要包含2个信息：数据项本身，以及指向下一个节点的**引用**信息\n",
    "* 注意next为None的意义是没有下一个节点了，这个很重要\n",
    "* 可以采用链接节点的方式构建数据集来实现无序表\n",
    "* 链表的第一个和最后一个节点最重要。如果想访问到链表中的所有节点，就必须从第一个节点开始沿着链接遍历下去\n",
    "6. 随着数据项的加入，无序表的head始终指向链条中的第一个节点\n",
    "* 注意！无序表mylist对象本身并不包含数据项（数据项在节点中）\n",
    "* 其中包含的head只是对首个节点Node的引用\n",
    "* 判断空表的isEmpty()很容易实现"
   ],
   "cell_type": "markdown",
   "metadata": {}
  },
  {
   "cell_type": "code",
   "execution_count": 1,
   "metadata": {},
   "outputs": [
    {
     "output_type": "execute_result",
     "data": {
      "text/plain": [
       "93"
      ]
     },
     "metadata": {},
     "execution_count": 1
    }
   ],
   "source": [
    "class Node:\n",
    "    def __init__(self,initdata):\n",
    "        self.data = initdata\n",
    "        self.next = None\n",
    "    \n",
    "    def getData(self):\n",
    "        return self.data\n",
    "    \n",
    "    def getNext(self):\n",
    "        return self.next\n",
    "    \n",
    "    def setData(self,newdata):\n",
    "        self.data = newdata\n",
    "    \n",
    "    def setNext(self,newnext):\n",
    "        self.next = newnext\n",
    "\n",
    "temp = Node(93)\n",
    "temp.getData()"
   ]
  },
  {
   "source": [
    "# 链表实现：无序表\n",
    "1. add方法：表头添加最方便！添加次序很重要\n",
    "2. size方法\n",
    "3. search方法\n",
    "4. remove方法：2个指针\n",
    "5. 这个图可以说很贴切了。 无序表mylist对象本身包含的head只是链表首个节点Node的引用，不包含数据项。但是从head这个引用，引出来的一长条链表。在这些节点内部才包含了数据项。\n",
    "* \n",
    "![fig](./img/1.png)"
   ],
   "cell_type": "markdown",
   "metadata": {}
  },
  {
   "cell_type": "code",
   "execution_count": null,
   "metadata": {},
   "outputs": [],
   "source": [
    "用不带头结点的单链表存储队列时，其队头指针指向队头结点，其队尾指针指向队尾结点，则在进行删除操作时"
   ]
  },
  {
   "cell_type": "code",
   "execution_count": null,
   "metadata": {},
   "outputs": [],
   "source": [
    "class UnorderedList:\n",
    "# 这一列表类本身不包含任何节点。取而代之的是，它包含对链式存储结构的第一个节点的引用。\n",
    "# 每个 UnorderedList 对象将保持列表的头一个节点的引用。\n",
    "    def __init__(self):\n",
    "        self.head = None# 标注队首\n",
    "        #设立一个属性head，保存对第一个节点的引用。空表的head为None\n",
    "    \n",
    "    def isEmpty(self):\n",
    "        return self.head == None\n",
    "    \n",
    "    def add(self,item):\n",
    "        temp = Node(item)\n",
    "        temp.setNext(self.head)\n",
    "        self.head = temp#head 指向新的node\n",
    "       # 随着数据项的加入，无序表的head始终指向链条中的第一个节点\n",
    "       # 注意！无序表mylist对象本身并不包含数据项（数据项在节点中）\n",
    "       # 其中包含的head只是对首个节点Node的引用\n",
    "    \n",
    "    def size(self):\n",
    "        current = self.head\n",
    "        count = 0\n",
    "        while current != None:\n",
    "            count += 1\n",
    "            current = current.getNext()\n",
    "        return count\n",
    "    \n",
    "    def search(self,item):\n",
    "        current = self.head\n",
    "        found = False\n",
    "        while current != None and not found:\n",
    "            if current.getData() == item:\n",
    "                found = True\n",
    "            else:\n",
    "                current = current.getNext()\n",
    "        return found\n",
    "    \n",
    "    def remove(self,item):\n",
    "        current = self.head\n",
    "        previous = None\n",
    "        found = False\n",
    "        while not found:\n",
    "            if current.getData() == item:\n",
    "                found = True\n",
    "            else:\n",
    "                previous = current\n",
    "                current = current.getNext()\n",
    "        if previous == None:\n",
    "            self.head = current.getNext()\n",
    "        else:\n",
    "            previous.setNext(current.getNext())\n"
   ]
  },
  {
   "source": [
    "# 有序表抽象数据类型的实现\n",
    "1. 操作\n",
    "* OrderedList()：创建一个空的有序表\n",
    "* add(item)：在表中添加一个数据项，并保持整体顺序，此项原不存在\n",
    "* remove(item)：从有序表中移除一个数据项，此项应存在，有序表被修改\n",
    "* search(item)：在有序表中查找数据项，返回是否存在\n",
    "* isEmpty()：是否空表\n",
    "* size()：返回表中数据项的个数\n",
    "* index(item)：返回数据项在表中的位置，此项应存在\n",
    "* pop()：移除并返回有序表中最后一项，表中应至少存在一项\n",
    "* pop(pos)：移除并返回有序表中指定位置的数据项，此位置应存在"
   ],
   "cell_type": "markdown",
   "metadata": {}
  },
  {
   "cell_type": "code",
   "execution_count": null,
   "metadata": {},
   "outputs": [],
   "source": [
    "class OrderedList:\n",
    "    def __init__(self):\n",
    "        self.head = None# 标注队首\n",
    "        #设立一个属性head，保存对第一个节点的引用。空表的head为None\n",
    "    \n",
    "    def isEmpty(self):\n",
    "        return self.head == None\n",
    "    \n",
    "    def add(self,item):\n",
    "        current = self.head#同样也是引用，视为指针\n",
    "        previous = None# 同样也是引用，视为指针\n",
    "        stop = False\n",
    "        while current != None and not stop:\n",
    "            if current.getData() > item:\n",
    "                stop = True\n",
    "            else:\n",
    "                previous = current\n",
    "                current = current.getNext() \n",
    "        temp = Node(item)\n",
    "        if previous == None:\n",
    "            temp.setNext(self.head)\n",
    "            self.head = temp#head 指向新的node\n",
    "       # 随着数据项的加入，无序表的head始终指向链条中的第一个节点\n",
    "       # 注意！无序表mylist对象本身并不包含数据项（数据项在节点中）\n",
    "       # 其中包含的head只是对首个节点Node的引用\n",
    "       else:\n",
    "           temp.setNext(current)\n",
    "           previous.setNext(temp)\n",
    "    \n",
    "    def size(self):\n",
    "        current = self.head\n",
    "        count = 0\n",
    "        while current != None:\n",
    "            count += 1\n",
    "            current = current.getNext()\n",
    "        return count\n",
    "    \n",
    "    def search(self,item):\n",
    "        current = self.head\n",
    "        found = False\n",
    "        stop = False\n",
    "        while current != None and not found and not stop:\n",
    "            if current.getData() == item:\n",
    "                found = True\n",
    "            else:\n",
    "                if current.getData() > item:\n",
    "                    stop = True\n",
    "                else:\n",
    "                    current = current.getNext()\n",
    "        return found\n",
    "    \n",
    "    def remove(self,item):\n",
    "        current = self.head\n",
    "        previous = None\n",
    "        found = False\n",
    "        while not found:\n",
    "            if current.getData() == item:\n",
    "                found = True\n",
    "            else:\n",
    "                previous = current\n",
    "                current = current.getNext()\n",
    "        if previous == None:\n",
    "            self.head = current.getNext()\n",
    "        else:\n",
    "            previous.setNext(current.getNext())\n",
    "\n",
    "    "
   ]
  },
  {
   "cell_type": "code",
   "execution_count": null,
   "metadata": {},
   "outputs": [],
   "source": [
    "# homework 1\n",
    "def func(S):\n",
    "    output = S\n",
    "    simqueue = S\n",
    "\n",
    "    for i in range(len(S)):\n",
    "        simqueue = simqueue[1:] + simqueue[0]\n",
    "        if  simqueue < output:\n",
    "            output = simqueue\n",
    "    return output\n",
    "    \n",
    "S = eval(input())#\"cba\"\n",
    "print(func(S))"
   ]
  },
  {
   "cell_type": "code",
   "execution_count": null,
   "metadata": {},
   "outputs": [],
   "source": [
    "#homework2,me done\n",
    "def func(mylist):\n",
    "    dict = {}\n",
    "    for key in mylist:\n",
    "        dict[key] = dict.get(key, 0) + 1\n",
    "    lis = sorted(dict.keys())\n",
    "\n",
    "    output = [dict[lis[0]]]\n",
    "    for i in range(1,len(lis)):\n",
    "        c = i - 1\n",
    "        count = dict[lis[i]]\n",
    "        while c >= 0 and lis[c] >= lis[i] - 10000:\n",
    "            count += dict[lis[c]]\n",
    "            c -= 1\n",
    "        output.append(count)\n",
    "    return output\n",
    "    \n",
    "mylist = eval(input())\n",
    "print(func(mylist))\n",
    "# 特殊值无法处理，还有超出运算时间"
   ]
  },
  {
   "cell_type": "code",
   "execution_count": null,
   "metadata": {},
   "outputs": [],
   "source": [
    "# homework2\n",
    "def func(mylist):\n",
    "    output = []\n",
    "    new_list = [] # 用列表来模拟队列\n",
    "    for i in range(len(mylist)):\n",
    "        new_list.append(mylist[i])\n",
    "        while new_list[-1] - new_list[0] > 10000:#看前面\n",
    "            new_list.pop(0)\n",
    "        count = 0\n",
    "        for j in range(i+1, len(mylist)):#看后面\n",
    "            if mylist[j] == mylist[i]:\n",
    "                count += 1\n",
    "            else:\n",
    "                break\n",
    "        output.append(len(new_list)+count)\n",
    "    return output\n",
    "\n",
    "\n",
    "mylist = eval(input())\n",
    "print(func(mylist))\n"
   ]
  },
  {
   "cell_type": "code",
   "execution_count": null,
   "metadata": {},
   "outputs": [],
   "source": [
    "# HOMEWORK3\n",
    "# https://blog.csdn.net/suxiaorui/article/details/102102096\n",
    "def RadixSort(mylist):\n",
    "    i = 0                                             #初始为个位排序\n",
    "    n = 1                                           #最小的位数置为1（包含0）\n",
    "    max_num = max(mylist)                       #得到带排序数组中最大数\n",
    "    while max_num >= 10**n:              #得到最大数是几位数\n",
    "        n += 1\n",
    "    while i < n:\n",
    "        bucket = {}                             #用字典构建桶\n",
    "        for x in range(10):\n",
    "            bucket.setdefault(x, [])    #将每个桶置空\n",
    "        for x in mylist:                               #对每一位进行排序\n",
    "            radix =int((x / (10**i)) % 10)   #得到每位的基数\n",
    "            bucket[radix].append(x) #将对应的数组元素加入到相应位基数的桶中\n",
    "        j = 0\n",
    "        for k in range(10):\n",
    "            if len(bucket[k]) != 0:       #若桶不为空\n",
    "                for y in bucket[k]:         #将该桶中每个元素\n",
    "                    mylist[j] = y                       #放回到数组中\n",
    "                    j += 1\n",
    "        i += 1\n",
    " \n",
    "if __name__ == '__main__':\n",
    "    mylist = eval(input())\n",
    "    RadixSort(mylist)\n",
    "    print(mylist)\n"
   ]
  }
 ]
}