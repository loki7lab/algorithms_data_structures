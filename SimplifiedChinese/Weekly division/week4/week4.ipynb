{
 "cells": [
  {
   "cell_type": "markdown",
   "metadata": {},
   "source": [
    "【本周思路】\n",
    "  本周继续线性结构之旅，学习队列及其应用与拓展，在研究列表的基础上用链表实现无序表和有序表，并总结线性结构，具体介绍如下：\n",
    "  * 308 队列ADT及python实现\n",
    "  * 309 队列的应用：热土豆\n",
    "  * 310-311 队列的应用：打印任务【这个比较难，是仿真问题】\n",
    "  * 312 结合队列与栈的特点，提出双端队列ADT及python实现和实际案例\n",
    "  * 313-314 前面学的都是列表，现在基于链表实现无序表ADT\n",
    "  * 315 基于链表实现有序表ADT\n",
    "  * 316 线性结构小结"
   ]
  },
  {
   "cell_type": "markdown",
   "metadata": {},
   "source": [
    "**Table of contents**<a id='toc0_'></a>    \n",
    "- [308 队列ADT及python实现](#toc1_)    \n",
    "  - [1. 什么是队列【first in first out】](#toc1_1_)    \n",
    "  - [2. 队列Queue ADT](#toc1_2_)    \n",
    "  - [3. python 实现队列 Queue ADT](#toc1_3_)    \n",
    "- [309 队列的应用：热土豆问题](#toc2_)    \n",
    "  - [1. 题目](#toc2_1_)    \n",
    "  - [2. 算法](#toc2_2_)    \n",
    "- [310 队列的应用：打印任务 【分析并建模】](#toc3_)    \n",
    "  - [1. 题目](#toc3_1_)    \n",
    "  - [2. 前置知识](#toc3_2_)    \n",
    "- [311 队列的应用：打印任务 【实际实现】](#toc4_)    \n",
    "  - [1. 算法](#toc4_1_)    \n",
    "- [312 双端队列deque抽象数据类型](#toc5_)    \n",
    "- [无序表抽象数据结构](#toc6_)    \n",
    "- [链表实现：无序表](#toc7_)    \n",
    "- [有序表抽象数据类型的实现](#toc8_)    \n",
    "\n",
    "<!-- vscode-jupyter-toc-config\n",
    "\tnumbering=false\n",
    "\tanchor=true\n",
    "\tflat=false\n",
    "\tminLevel=1\n",
    "\tmaxLevel=6\n",
    "\t/vscode-jupyter-toc-config -->\n",
    "<!-- THIS CELL WILL BE REPLACED ON TOC UPDATE. DO NOT WRITE YOUR TEXT IN THIS CELL -->"
   ]
  },
  {
   "cell_type": "markdown",
   "metadata": {},
   "source": [
    "# <a id='toc1_'></a>[308 队列ADT及python实现](#toc0_)\n",
    "\n",
    "## <a id='toc1_1_'></a>[1. 什么是队列【first in first out】](#toc0_)\n",
    "* 一种有次序的数据集合\n",
    "* 其特征是：**First In First Out**\n",
    "* 仅有一个入口和出口\n",
    "\n",
    "应用案例有：\n",
    "* 打印队列：一台打印机面向多个用户/程序提供服务\n",
    "* 进程调度：操作系统核心采用多个队列来对系统中同时运行的进程进行调度。调度原则综合了2个出发点\n",
    "    * 先到先服务\n",
    "    * 资源充分利用\n",
    "* 键盘缓冲：键盘敲击并不是马上显示再屏幕上，而是有个队列性质的缓冲区，将尚未显示的敲击字符暂存其中"
   ]
  },
  {
   "cell_type": "markdown",
   "metadata": {},
   "source": [
    "## <a id='toc1_2_'></a>[2. 队列Queue ADT](#toc0_)\n",
    "基于队列的结构特征描述，需要实现：\n",
    "* 数据项仅添加到尾rear端\n",
    "* 数据项仅从首front端移除\n",
    "\n",
    "$\\implies$ FIFO\n",
    "\n",
    "细化操作定义有：\n",
    "* Queue()：创建一个空队列对象，返回值为Queue对象；\n",
    "* enqueue(item)：将数据项item添加到队尾，无返回值；\n",
    "* dequeue()：从队首移除数据项，返回值为队首数据项，队列被修改；\n",
    "* isEmpty()：测试是否空队列，返回值为布尔值\n",
    "* size()：返回队列中数据项的个数\n",
    "\n",
    "提示：仍然使用list创建queue ADT"
   ]
  },
  {
   "cell_type": "markdown",
   "metadata": {},
   "source": [
    "## <a id='toc1_3_'></a>[3. python 实现队列 Queue ADT](#toc0_)"
   ]
  },
  {
   "cell_type": "code",
   "execution_count": null,
   "metadata": {},
   "outputs": [],
   "source": [
    "class Queue:\n",
    "    def __init__(self):\n",
    "        self.items = []\n",
    "    def enqueue(self,item):\n",
    "        self.items.append(item)#复杂度O(1)\n",
    "    def dequeue(self):\n",
    "        return self.items.pop(0)#复杂度O(n)\n",
    "    def isEmpty(self):\n",
    "        return self.items == []\n",
    "    def size(self):\n",
    "        return len(self.items)"
   ]
  },
  {
   "cell_type": "code",
   "execution_count": null,
   "metadata": {},
   "outputs": [],
   "source": [
    "#倒过来，入队出队的复杂度发生交换。跟栈不一样，栈没选好哪个当头，复杂度就可能很高\n",
    "class Queue:\n",
    "    def __init__(self):\n",
    "        self.items = []\n",
    "    def isEmpty(self):\n",
    "        return len(self.items) == 0\n",
    "    def size(self):\n",
    "        return len(self.items)\n",
    "    def enqueue(self,item):\n",
    "        self.items.insert(0,item)\n",
    "    def dequeue(self):\n",
    "        return self.items.pop()"
   ]
  },
  {
   "cell_type": "markdown",
   "metadata": {},
   "source": [
    "# <a id='toc2_'></a>[309 队列的应用：热土豆问题](#toc0_)\n",
    "## <a id='toc2_1_'></a>[1. 题目](#toc0_)\n",
    "来到了一个神奇的问题。现在有40人，需要从报数1到7，报到7的被旁边的人杀死。在这轮最后一个人报数完毕后，下一个人又从1号开始报。为了活下来，应该选初始几号位？\n",
    "\n",
    "这个问题太血腥了，正常点的版本就是热土豆问题。"
   ]
  },
  {
   "cell_type": "markdown",
   "metadata": {},
   "source": [
    "## <a id='toc2_2_'></a>[2. 算法](#toc0_)\n",
    "* 使用队列来实现模拟热土豆传递\n",
    "* 需要参加游戏的人名列表，以及传土豆的次数num\n",
    "* 返回最后剩下的人名"
   ]
  },
  {
   "cell_type": "markdown",
   "metadata": {},
   "source": [
    "![pic](./img/hotpo.PNG)"
   ]
  },
  {
   "cell_type": "markdown",
   "metadata": {},
   "source": [
    "进一步细化，有：\n",
    "* 采用队列存放所有游戏者\n",
    "* 按照传递土豆的方向从队首到队尾\n",
    "* 队首就是那个持有土豆的人\n",
    "* 队首不断出队，再从队尾入队\n",
    "\n",
    "$\\implies$ 传递了num次后，队首的人出队后就不再入队\n",
    "\n",
    "重复操作，直到队列中仅剩1人\n",
    "\n",
    "重点是：\n",
    "* 使用循环\n",
    "* 喊到那个数的人出队\n",
    "* 计算机是从0开始，喊数是从1开始"
   ]
  },
  {
   "cell_type": "code",
   "execution_count": null,
   "metadata": {},
   "outputs": [],
   "source": [
    "from pythonds.basic.queue import Queue\n",
    "def hotPotato(namlist,num):\n",
    "    simqueue = Queue()\n",
    "    for name in namlist:\n",
    "        simqueue.enqueue(name)#先排队\n",
    "    \n",
    "    while simqueue.size() > 1:\n",
    "        for i in range(num):#1到num个人解决了\n",
    "            simqueue.enqueue(simqueue.dequeue())\n",
    "        simqueue.dequeue()\n",
    "    \n",
    "    return simqueue.dequeue()#返回最后剩谁"
   ]
  },
  {
   "cell_type": "code",
   "execution_count": null,
   "metadata": {},
   "outputs": [],
   "source": [
    "namelist = list(range(40))\n",
    "print(hotPotato(namelist,7))"
   ]
  },
  {
   "cell_type": "markdown",
   "metadata": {},
   "source": [
    "但是这里有点小问题，使用下面例子调试时发现，第一轮弹出的是david，而正确的应该是bill。因为python表里面的是从0开始，而计数是从1开始"
   ]
  },
  {
   "cell_type": "code",
   "execution_count": null,
   "metadata": {},
   "outputs": [],
   "source": [
    "print(hotPotato([\"bill\",\"david\",\"susan\",\"jane\",\"kent\",\"brad\"],7))"
   ]
  },
  {
   "cell_type": "code",
   "execution_count": null,
   "metadata": {},
   "outputs": [],
   "source": [
    "#不妨改进如下\n",
    "from pythonds.basic.queue import Queue\n",
    "def hotPotato(namlist,num):\n",
    "    simqueue = Queue()\n",
    "    for name in namlist:\n",
    "        simqueue.enqueue(name)#先排队；6个人这里的话，是从0号到5号\n",
    "    \n",
    "    while simqueue.size() > 1:\n",
    "        for i in range(num-1):#这0到num-2个人保住了,合计num-1个人;num可以比namlist的size大\n",
    "            simqueue.enqueue(simqueue.dequeue())#出队入队\n",
    "        print(simqueue.dequeue())#弹出标号为num-1的人，这人实际喊的是num，令其永不入队\n",
    "    \n",
    "    return simqueue.dequeue()#返回最后剩谁\n",
    "\n",
    "print(hotPotato([\"bill\",\"david\",\"susan\",\"jane\",\"kent\",\"brad\"],7))"
   ]
  },
  {
   "cell_type": "code",
   "execution_count": null,
   "metadata": {},
   "outputs": [],
   "source": [
    "namelist = list(range(40))\n",
    "print(hotPotato(namelist,7))#请注意实际喊的数字需要在打印的基础上+1"
   ]
  },
  {
   "cell_type": "markdown",
   "metadata": {},
   "source": [
    "这样代码测试案例为“41人，喊到3的人死去”，最后活下来的是16和31号位是符合的"
   ]
  },
  {
   "cell_type": "markdown",
   "metadata": {},
   "source": [
    "# <a id='toc3_'></a>[310 队列的应用：打印任务 【分析并建模】](#toc0_)\n",
    "\n",
    "## <a id='toc3_1_'></a>[1. 题目](#toc0_)\n",
    "多人共享一台打印机，采取“先到先服务”的队列策略来执行打印任务。在这种设定下，需要确定的前提条件是：\n",
    "1. 这种打印作业系统的容量有多大？\n",
    "2. 在能够接受的等待时间内，系统能容纳多少用户以多高频率提交多少打印任务？\n",
    "\n",
    "打印机的性能是：\n",
    "* 草稿模式，每分钟10页\n",
    "* 正常模式，每分钟5页\n",
    "\n",
    "在确定之后，列出问题：\n",
    "\n",
    "$\\implies$ 怎么设定打印机模式，让大家都不会等太久的前提下尽量提高打印质量？\n",
    "\n",
    "这是一个典型的决策支持问题，但无法通过规则直接计算。\n",
    "\n",
    "$\\implies$ 可以用一段程序来模拟这种场景，然后对结果分析，以支持对打印机模式设定的决策"
   ]
  },
  {
   "cell_type": "markdown",
   "metadata": {},
   "source": [
    "## <a id='toc3_2_'></a>[2. 前置知识](#toc0_)\n",
    "要用算法解决的话，首先需要抽象出来问题的对象和过程，对问题建模：\n",
    "\n",
    "* 对象？\n",
    "    * 打印任务的属性：提交时间、打印页数【需要创建类】\n",
    "    * 打印队列的属性：具有FIFO性质的打印任务队列【这是队列】\n",
    "    * 打印机的属性：打印速度、是否忙【需要创建类】\n",
    "\n",
    "* 过程？\n",
    "    1. 生成和提交打印任务的过程：\n",
    "       * 确定生成概率：例如多久会有一个作业生成\n",
    "       * 确定打印页数：实例为20页以内，不妨设置为等概率\n",
    "    2. 具体实施打印的过程：\n",
    "       * 当前打印作业\n",
    "       * 打印结束倒计时：新作业开始打印就开始倒计时。回0表示打印完毕，已经可以处理下一个作业\n",
    "\n",
    "* 时间框架？\n",
    "    * 这是为了建立统一的仿真世界\n",
    "    * 统一的时间框架：以最小单位秒均匀流逝，设定最大模拟时间，例如看看1小时内的情况\n",
    "    * 同步所有过程：在一个时间单位里，生成打印任务和实施打印都要进行一次"
   ]
  },
  {
   "cell_type": "markdown",
   "metadata": {},
   "source": [
    "# <a id='toc4_'></a>[311 队列的应用：打印任务 【实际实现】](#toc0_)"
   ]
  },
  {
   "cell_type": "markdown",
   "metadata": {},
   "source": [
    "## <a id='toc4_1_'></a>[1. 算法](#toc0_)\n",
    "请注意，这个算法是为了模拟流程\n",
    "1. 创建打印队列对象\n",
    "2. 模拟时间按照秒流逝\n",
    "3. 时间用尽，开始统计平均等待时间\n",
    "\n",
    "如何计算时间？\n",
    "* 作业的等待时间：\n",
    "    * 生成作业时，记录对应时间戳\n",
    "    * 开始打印时，当前时间减去生成时间即可\n",
    "* 作业打印时间：\n",
    "    * 生成作业时，记录作业页数\n",
    "    * 开始打印时，页数除以速度即可 "
   ]
  },
  {
   "cell_type": "markdown",
   "metadata": {},
   "source": [
    "进一步细化步骤2，有\n",
    "* 按照概率生成打印作业，加入打印队列\n",
    "* 如果打印机空闲，且队列不空，就取出队首作业打印\n",
    "* 如果打印机忙，则按照打印速度打印。\n",
    "* 若当前作业打印完成，则打印机进入空闲状态\n",
    "\n",
    "$\\implies$请注意打印机的类还需要加上倒计时器"
   ]
  },
  {
   "cell_type": "markdown",
   "metadata": {},
   "source": [
    "总结一下，该仿真任务需要按照如下方式模拟：\n",
    "* 打印机有本身特性，例如打印速度\n",
    "* 打印任务按照队列收纳\n",
    "* 可以判断忙不忙；不忙就从队列取出\n",
    "* 需要计时：打印用时，等待用时，以及总时间\n",
    "\n",
    "参考课程内容，不妨拆分，写出类和函数：\n",
    "* 打印机的类\n",
    "* 任务性质的类\n",
    "\n",
    "生成函数：\n",
    "* 是否生成任务\n",
    "* 模拟仿真（总的函数）\n",
    "\n",
    "简便起见，忠实于描述每秒的情况：是否新生成任务，是否接受新任务，以及是否在打印。不然不好写\n",
    "\n",
    "构思完成，开始实现！"
   ]
  },
  {
   "cell_type": "code",
   "execution_count": 5,
   "metadata": {},
   "outputs": [
    {
     "name": "stdout",
     "output_type": "stream",
     "text": [
      "Average Wait  67.76 secs   0 tasks remaining.\n",
      "Average Wait 218.36 secs   1 tasks remaining.\n",
      "Average Wait  21.31 secs   0 tasks remaining.\n",
      "Average Wait  76.62 secs   0 tasks remaining.\n",
      "Average Wait  68.40 secs   0 tasks remaining.\n",
      "Average Wait  39.75 secs   0 tasks remaining.\n",
      "Average Wait 100.79 secs   0 tasks remaining.\n",
      "Average Wait 102.73 secs   4 tasks remaining.\n",
      "Average Wait  80.42 secs   2 tasks remaining.\n",
      "Average Wait  66.33 secs   0 tasks remaining.\n"
     ]
    }
   ],
   "source": [
    "#先把咋调用的写了\n",
    "\n",
    "from pythonds.basic.queue import Queue\n",
    "import random\n",
    "for i in range(10):\n",
    "    simulation(3600,5)#打印机每分钟打印5页，模拟3600秒内的情况\n",
    "# 需要有任务生成概率，任务页数，还要能算这里面需要的等待时间（生成任务后不一定能立马打印，还要看看打印机忙不忙）\n",
    "# 重点是要模拟时间流逝，要体现按秒来"
   ]
  },
  {
   "cell_type": "code",
   "execution_count": 3,
   "metadata": {},
   "outputs": [],
   "source": [
    "#写框架\n",
    "\n",
    "def simulation(numSeconds,pagesPerMinute):\n",
    "    labPrinter = Printer(pagesPerMinute)#这里打印机类还没写，先占上位置\n",
    "    printerQueue = Queue()\n",
    "    waitingTimes = []#计时\n",
    "\n",
    "    for currentSecond in range(numSeconds):#这3项都是在这1秒内并行的\n",
    "# 参考上面的细化步骤2\n",
    "        if newPrintTask():#生成了新任务；这个使用函数即可，无须用类\n",
    "            task = Task(currentSecond)#Task要有；加随机函数，不然页数不会变；另外还要能加时间戳\n",
    "            printerQueue.enqueue(task)#入队\n",
    "       \n",
    "        #打印机不忙且队列不空的话再取      \n",
    "        if (not labPrinter.busy()) and (not printerQueue.isEmpty()):#打印机类要有busy的判断\n",
    "            nextTask = printerQueue.dequeue()\n",
    "            #再用列表计时\n",
    "            waitingTimes.append(nextTask.waitTimes(currentSecond))#Task类要有；记下在开始打印前等了多久\n",
    "\n",
    "            labPrinter.startNext(nextTask)#打印机类要有；开始新任务；这要涉及两个类\n",
    "        \n",
    "        #写在这里，这样新的作业也可以开始\n",
    "        #这1秒的打印情况\n",
    "        labPrinter.tick()#打印机类要有；模拟1秒的情况\n",
    "\n",
    "    #模拟时间结束，计算等待时间\n",
    "    averageWait = sum(waitingTimes)/len(waitingTimes)#总时间/总任务数\n",
    "    print(\"Average Wait %6.2f secs %3d tasks remaining.\" %(averageWait,printerQueue.size()))#看剩了多少没干完"
   ]
  },
  {
   "cell_type": "code",
   "execution_count": 1,
   "metadata": {},
   "outputs": [],
   "source": [
    "#根据框架的实例task和printerQueue出队的nextTask，写出任务需要的类\n",
    "class Task:\n",
    "    def __init__(self,time):\n",
    "        self.timestamp = time\n",
    "        self.pages = random.randrange(1,21)\n",
    "    def getStamp(self):\n",
    "        return self.timestamp\n",
    "    def getPages(self):\n",
    "        return self.pages\n",
    "    def waitTimes(self,currentTime):\n",
    "        return currentTime - self.timestamp\n",
    "    \n",
    "########################################\n",
    "\n",
    "def newPrintTask():\n",
    "    npt = random.randrange(0,181)\n",
    "    if npt == 100:#随便选个数就行\n",
    "        return True\n",
    "    else:\n",
    "        return False"
   ]
  },
  {
   "cell_type": "code",
   "execution_count": 2,
   "metadata": {},
   "outputs": [],
   "source": [
    "#根据框架的实例labPrinter写出打印机的类\n",
    "class Printer:\n",
    "    def __init__(self,ppm):\n",
    "        self.pageRate = ppm\n",
    "        self.currentTask = None\n",
    "        self.timeRemaining = 0\n",
    "\n",
    "    def busy(self):\n",
    "        if self.currentTask != None:\n",
    "            return True\n",
    "        else:\n",
    "            return False\n",
    "        \n",
    "    def startNext(self,newTask):#newTask来自Task类\n",
    "        self.currentTask = newTask#看看上面咋定义打印机属性的\n",
    "        self.timeRemaining = newTask.getPages()/self.pageRate * 60#任务计时\n",
    "\n",
    "    \n",
    "    def tick(self):\n",
    "        if self.currentTask != None:\n",
    "            self.timeRemaining -= 1\n",
    "            if self.timeRemaining <= 0:\n",
    "                self.currentTask = None"
   ]
  },
  {
   "cell_type": "code",
   "execution_count": 4,
   "metadata": {},
   "outputs": [
    {
     "name": "stdout",
     "output_type": "stream",
     "text": [
      "Average Wait   9.59 secs   0 tasks remaining.\n",
      "Average Wait  29.87 secs   0 tasks remaining.\n",
      "Average Wait   8.21 secs   0 tasks remaining.\n",
      "Average Wait   5.80 secs   0 tasks remaining.\n",
      "Average Wait  37.91 secs   0 tasks remaining.\n",
      "Average Wait  43.27 secs   0 tasks remaining.\n",
      "Average Wait  16.89 secs   0 tasks remaining.\n",
      "Average Wait  16.57 secs   0 tasks remaining.\n",
      "Average Wait  50.33 secs   0 tasks remaining.\n",
      "Average Wait   8.48 secs   0 tasks remaining.\n"
     ]
    }
   ],
   "source": [
    "from pythonds.basic.queue import Queue\n",
    "import random\n",
    "for i in range(10):\n",
    "    simulation(3600,10)"
   ]
  },
  {
   "cell_type": "markdown",
   "metadata": {},
   "source": [
    "对比两种方案，分析模拟仿真结果，进一步讨论有：\n",
    "* 对打印模式设置进行决策，可以用模拟程序来评估任务等待时间\n",
    "* 模拟系统对现实的仿真很有用处：\n",
    "    * 可以在不耗费现实资源的情况下，可以用不同设定，反复多次模拟帮助决策\n",
    "* 打印任务模拟程序可以加进不同设定，进行更丰富的模拟（模拟实验的改进）\n",
    "* 更真实的模拟，来自对问题更精细建模，以及以真实数据进行设定和运行 \n",
    "* 也可以扩展到其他类似决策支持问题"
   ]
  },
  {
   "cell_type": "markdown",
   "metadata": {},
   "source": [
    "这个案例的代码很精妙，可以多次学习"
   ]
  },
  {
   "cell_type": "markdown",
   "metadata": {},
   "source": [
    "# <a id='toc5_'></a>[312 双端队列deque抽象数据类型](#toc0_)\n",
    "\n",
    "## 1. Deque ADT\n",
    "现在**集成队列和栈的特点**，推演出双端队列：\n",
    "* 数据项可以从两端加入或者移除\n",
    "* 可以用来模拟栈或者队列\n",
    "* 但双端队列本身不具有内在的FIFO或者FILO的特性\n",
    "* 需要使用者自行维护操作的一致性"
   ]
  },
  {
   "cell_type": "markdown",
   "metadata": {},
   "source": [
    "## 2. 双端队列的操作定义\n",
    "dequeue的操作定义如下\n",
    "* Deque()：创建一个空双端队列\n",
    "* addFront(item)：将item加入队首\n",
    "* addRear(item)：将item加入队尾\n",
    "* removeFront()：从队首移除数据项，返回值为移除的数据项\n",
    "* removeRear()：从队尾移除数据项，返回值为移除的数据项\n",
    "* isEmpty()：返回deque是否为空\n",
    "* size()：返回deque中包含数据项的个数\n",
    "\n",
    "采用List实现，List[-1]是deque的首端\n",
    "\n",
    "构思完成，开始实现"
   ]
  },
  {
   "cell_type": "code",
   "execution_count": 17,
   "metadata": {},
   "outputs": [],
   "source": [
    "class Deque:\n",
    "    def __init__(self):\n",
    "        self.items = []\n",
    "    \n",
    "    def addFront(self,item):#O(1)\n",
    "        self.items.append(item)\n",
    "    \n",
    "    def removeFront(self):#O(1)\n",
    "        return self.items.pop()\n",
    "\n",
    "    def addRear(self,item):#O(n)\n",
    "        self.items.insert(0,item)\n",
    "    \n",
    "    def removeRear(self):#O(n)\n",
    "        return self.items.pop(0)\n",
    "    \n",
    "    def isEmpty(self):\n",
    "        return self.items == []\n",
    "    def size(self):\n",
    "        return len(self.items)"
   ]
  },
  {
   "cell_type": "markdown",
   "metadata": {},
   "source": [
    "## 3. 双端队列案例——回文词判定\n",
    "\n",
    "回文词是指那些正读和反读都一样的词语，例如：radar，山东落花生花落东山\n",
    "\n",
    "算法：\n",
    "\n",
    "1. 将需要判定的词从队尾加入deque\n",
    "2. 从两端同时移除字符判定是否相同，直到最后deque就剩下0或者1个字符\n",
    "\n",
    "构思完成，开始实现"
   ]
  },
  {
   "cell_type": "code",
   "execution_count": 18,
   "metadata": {},
   "outputs": [],
   "source": [
    "#from pythonds.basic.deque import Deque\n",
    "def palchecker(aString):\n",
    "    chardeque = Deque()\n",
    "    for ch in aString:\n",
    "        chardeque.addRear(ch)\n",
    "    stillEqual = True\n",
    "    while chardeque.size() > 1 and stillEqual:\n",
    "        first = chardeque.removeFront()\n",
    "        last = chardeque.removeRear()\n",
    "        stillEqual = (first == last)\n",
    "    return stillEqual"
   ]
  },
  {
   "cell_type": "code",
   "execution_count": 19,
   "metadata": {},
   "outputs": [
    {
     "name": "stdout",
     "output_type": "stream",
     "text": [
      "False\n",
      "True\n"
     ]
    }
   ],
   "source": [
    "print(palchecker(\"lsdkjfskf\"))\n",
    "print(palchecker(\"radar\"))"
   ]
  },
  {
   "cell_type": "code",
   "execution_count": null,
   "metadata": {},
   "outputs": [],
   "source": [
    "from pythonds.basic.deque import Deque\n",
    "def palchecker(aString):\n",
    "    chardeque = Deque()\n",
    "    for ch in aString:\n",
    "        chardeque.addRear(ch)\n",
    "    stillEqual = True\n",
    "    \n",
    "    while chardeque.size() > 1 and stillEqual:\n",
    "        first = chardeque.removeFront()\n",
    "        last = chardeque.removeRear()\n",
    "        \n",
    "        if first != last:\n",
    "            stillEqual = False\n",
    "    return stillEqual\n",
    "    \n",
    "print(palchecker(\"lsdkjfskf\"))\n",
    "print(palchecker(\"radar\"))"
   ]
  },
  {
   "cell_type": "markdown",
   "metadata": {},
   "source": [
    "# <a id='toc6_'></a>[无序表抽象数据结构](#toc0_)\n",
    "1. 列表List是一种简单强大的数据集结构，提供了丰富的操作接口。但并不是所有的编程语言都提供了List数据类型，有时候需要程序员自己实现\n",
    "2. 什么是列表，或者说是无序表？\n",
    "* 一种数据项按照相对位置存放的数据集。特别的，被称为“无序表unordered list”，其中数据项只按照存放位置来索引，如第1个、第2个……、最后一个等。\n",
    "3. 无序表List的操作如下：\n",
    "* List()：创建一个空列表\n",
    "* add(item)：添加一个数据项到列表中，假设item原先不存在于列表中\n",
    "* remove(item)：从列表中移除item，列表被修改，item原先应存在于表中\n",
    "* search(item)：在列表中查找item，返回布尔类型值\n",
    "* isEmpty()：返回列表是否为空\n",
    "* size()：返回列表包含了多少数据\n",
    "4. 为了实现无序表数据结构，可以采用链接表的方案：\n",
    "* 虽然列表数据结构要求保持数据项的前后相对位置，但这种前后位置的保持，并不要求数据项依次存放在连续的存储空间\n",
    "* 数据项存放位置并没有规则，但如果在数据项之间建立链接指向，就可以保持其前后相对位置\n",
    "* 第一个和最后一个数据项需要**显式**标记出来，一个是队首（head不和第一个一起标注），一个是队尾（和最后一个数据一起标注end），后面再无数据了。\n",
    "5. 链表实现的最基本元素是节点Node\n",
    "* 每个节点至少要包含2个信息：数据项本身，以及指向下一个节点的**引用**信息\n",
    "* 注意next为None的意义是没有下一个节点了，这个很重要\n",
    "* 可以采用链接节点的方式构建数据集来实现无序表\n",
    "* 链表的第一个和最后一个节点最重要。如果想访问到链表中的所有节点，就必须从第一个节点开始沿着链接遍历下去\n",
    "6. 随着数据项的加入，无序表的head始终指向链条中的第一个节点\n",
    "* 注意！无序表mylist对象本身并不包含数据项（数据项在节点中）\n",
    "* 其中包含的head只是对首个节点Node的引用\n",
    "* 判断空表的isEmpty()很容易实现"
   ]
  },
  {
   "cell_type": "code",
   "execution_count": null,
   "metadata": {},
   "outputs": [],
   "source": [
    "class Node:\n",
    "    def __init__(self,initdata):\n",
    "        self.data = initdata\n",
    "        self.next = None\n",
    "    \n",
    "    def getData(self):\n",
    "        return self.data\n",
    "    \n",
    "    def getNext(self):\n",
    "        return self.next\n",
    "    \n",
    "    def setData(self,newdata):\n",
    "        self.data = newdata\n",
    "    \n",
    "    def setNext(self,newnext):\n",
    "        self.next = newnext\n",
    "\n",
    "temp = Node(93)\n",
    "temp.getData()"
   ]
  },
  {
   "cell_type": "markdown",
   "metadata": {},
   "source": [
    "# <a id='toc7_'></a>[链表实现：无序表](#toc0_)\n",
    "1. add方法：表头添加最方便！添加次序很重要\n",
    "2. size方法\n",
    "3. search方法\n",
    "4. remove方法：2个指针\n",
    "5. 这个图可以说很贴切了。 无序表mylist对象本身包含的head只是链表首个节点Node的引用，不包含数据项。但是从head这个引用，引出来的一长条链表。在这些节点内部才包含了数据项。\n",
    "* \n",
    "![fig](./img/1.png)"
   ]
  },
  {
   "cell_type": "code",
   "execution_count": null,
   "metadata": {},
   "outputs": [],
   "source": [
    "用不带头结点的单链表存储队列时，其队头指针指向队头结点，其队尾指针指向队尾结点，则在进行删除操作时"
   ]
  },
  {
   "cell_type": "code",
   "execution_count": null,
   "metadata": {},
   "outputs": [],
   "source": [
    "class UnorderedList:\n",
    "# 这一列表类本身不包含任何节点。取而代之的是，它包含对链式存储结构的第一个节点的引用。\n",
    "# 每个 UnorderedList 对象将保持列表的头一个节点的引用。\n",
    "    def __init__(self):\n",
    "        self.head = None# 标注队首\n",
    "        #设立一个属性head，保存对第一个节点的引用。空表的head为None\n",
    "    \n",
    "    def isEmpty(self):\n",
    "        return self.head == None\n",
    "    \n",
    "    def add(self,item):\n",
    "        temp = Node(item)\n",
    "        temp.setNext(self.head)\n",
    "        self.head = temp#head 指向新的node\n",
    "       # 随着数据项的加入，无序表的head始终指向链条中的第一个节点\n",
    "       # 注意！无序表mylist对象本身并不包含数据项（数据项在节点中）\n",
    "       # 其中包含的head只是对首个节点Node的引用\n",
    "    \n",
    "    def size(self):\n",
    "        current = self.head\n",
    "        count = 0\n",
    "        while current != None:\n",
    "            count += 1\n",
    "            current = current.getNext()\n",
    "        return count\n",
    "    \n",
    "    def search(self,item):\n",
    "        current = self.head\n",
    "        found = False\n",
    "        while current != None and not found:\n",
    "            if current.getData() == item:\n",
    "                found = True\n",
    "            else:\n",
    "                current = current.getNext()\n",
    "        return found\n",
    "    \n",
    "    def remove(self,item):\n",
    "        current = self.head\n",
    "        previous = None\n",
    "        found = False\n",
    "        while not found:\n",
    "            if current.getData() == item:\n",
    "                found = True\n",
    "            else:\n",
    "                previous = current\n",
    "                current = current.getNext()\n",
    "        if previous == None:\n",
    "            self.head = current.getNext()\n",
    "        else:\n",
    "            previous.setNext(current.getNext())\n"
   ]
  },
  {
   "cell_type": "markdown",
   "metadata": {},
   "source": [
    "# <a id='toc8_'></a>[有序表抽象数据类型的实现](#toc0_)\n",
    "1. 操作\n",
    "* OrderedList()：创建一个空的有序表\n",
    "* add(item)：在表中添加一个数据项，并保持整体顺序，此项原不存在\n",
    "* remove(item)：从有序表中移除一个数据项，此项应存在，有序表被修改\n",
    "* search(item)：在有序表中查找数据项，返回是否存在\n",
    "* isEmpty()：是否空表\n",
    "* size()：返回表中数据项的个数\n",
    "* index(item)：返回数据项在表中的位置，此项应存在\n",
    "* pop()：移除并返回有序表中最后一项，表中应至少存在一项\n",
    "* pop(pos)：移除并返回有序表中指定位置的数据项，此位置应存在"
   ]
  },
  {
   "cell_type": "code",
   "execution_count": null,
   "metadata": {},
   "outputs": [],
   "source": [
    "class OrderedList:\n",
    "    def __init__(self):\n",
    "        self.head = None# 标注队首\n",
    "        #设立一个属性head，保存对第一个节点的引用。空表的head为None\n",
    "    \n",
    "    def isEmpty(self):\n",
    "        return self.head == None\n",
    "    \n",
    "    def add(self,item):\n",
    "        current = self.head#同样也是引用，视为指针\n",
    "        previous = None# 同样也是引用，视为指针\n",
    "        stop = False\n",
    "        while current != None and not stop:\n",
    "            if current.getData() > item:\n",
    "                stop = True\n",
    "            else:\n",
    "                previous = current\n",
    "                current = current.getNext() \n",
    "        temp = Node(item)\n",
    "        if previous == None:\n",
    "            temp.setNext(self.head)\n",
    "            self.head = temp#head 指向新的node\n",
    "       # 随着数据项的加入，无序表的head始终指向链条中的第一个节点\n",
    "       # 注意！无序表mylist对象本身并不包含数据项（数据项在节点中）\n",
    "       # 其中包含的head只是对首个节点Node的引用\n",
    "       else:\n",
    "           temp.setNext(current)\n",
    "           previous.setNext(temp)\n",
    "    \n",
    "    def size(self):\n",
    "        current = self.head\n",
    "        count = 0\n",
    "        while current != None:\n",
    "            count += 1\n",
    "            current = current.getNext()\n",
    "        return count\n",
    "    \n",
    "    def search(self,item):\n",
    "        current = self.head\n",
    "        found = False\n",
    "        stop = False\n",
    "        while current != None and not found and not stop:\n",
    "            if current.getData() == item:\n",
    "                found = True\n",
    "            else:\n",
    "                if current.getData() > item:\n",
    "                    stop = True\n",
    "                else:\n",
    "                    current = current.getNext()\n",
    "        return found\n",
    "    \n",
    "    def remove(self,item):\n",
    "        current = self.head\n",
    "        previous = None\n",
    "        found = False\n",
    "        while not found:\n",
    "            if current.getData() == item:\n",
    "                found = True\n",
    "            else:\n",
    "                previous = current\n",
    "                current = current.getNext()\n",
    "        if previous == None:\n",
    "            self.head = current.getNext()\n",
    "        else:\n",
    "            previous.setNext(current.getNext())\n",
    "\n",
    "    "
   ]
  },
  {
   "cell_type": "code",
   "execution_count": null,
   "metadata": {},
   "outputs": [],
   "source": [
    "# homework 1\n",
    "def func(S):\n",
    "    output = S\n",
    "    simqueue = S\n",
    "\n",
    "    for i in range(len(S)):\n",
    "        simqueue = simqueue[1:] + simqueue[0]\n",
    "        if  simqueue < output:\n",
    "            output = simqueue\n",
    "    return output\n",
    "    \n",
    "S = eval(input())#\"cba\"\n",
    "print(func(S))"
   ]
  },
  {
   "cell_type": "code",
   "execution_count": null,
   "metadata": {},
   "outputs": [],
   "source": [
    "#homework2,me done\n",
    "def func(mylist):\n",
    "    dict = {}\n",
    "    for key in mylist:\n",
    "        dict[key] = dict.get(key, 0) + 1\n",
    "    lis = sorted(dict.keys())\n",
    "\n",
    "    output = [dict[lis[0]]]\n",
    "    for i in range(1,len(lis)):\n",
    "        c = i - 1\n",
    "        count = dict[lis[i]]\n",
    "        while c >= 0 and lis[c] >= lis[i] - 10000:\n",
    "            count += dict[lis[c]]\n",
    "            c -= 1\n",
    "        output.append(count)\n",
    "    return output\n",
    "    \n",
    "mylist = eval(input())\n",
    "print(func(mylist))\n",
    "# 特殊值无法处理，还有超出运算时间"
   ]
  },
  {
   "cell_type": "code",
   "execution_count": null,
   "metadata": {},
   "outputs": [],
   "source": [
    "# homework2\n",
    "def func(mylist):\n",
    "    output = []\n",
    "    new_list = [] # 用列表来模拟队列\n",
    "    for i in range(len(mylist)):\n",
    "        new_list.append(mylist[i])\n",
    "        while new_list[-1] - new_list[0] > 10000:#看前面\n",
    "            new_list.pop(0)\n",
    "        count = 0\n",
    "        for j in range(i+1, len(mylist)):#看后面\n",
    "            if mylist[j] == mylist[i]:\n",
    "                count += 1\n",
    "            else:\n",
    "                break\n",
    "        output.append(len(new_list)+count)\n",
    "    return output\n",
    "\n",
    "\n",
    "mylist = eval(input())\n",
    "print(func(mylist))\n"
   ]
  },
  {
   "cell_type": "code",
   "execution_count": null,
   "metadata": {},
   "outputs": [],
   "source": [
    "# HOMEWORK3\n",
    "# https://blog.csdn.net/suxiaorui/article/details/102102096\n",
    "def RadixSort(mylist):\n",
    "    i = 0                                             #初始为个位排序\n",
    "    n = 1                                           #最小的位数置为1（包含0）\n",
    "    max_num = max(mylist)                       #得到带排序数组中最大数\n",
    "    while max_num >= 10**n:              #得到最大数是几位数\n",
    "        n += 1\n",
    "    while i < n:\n",
    "        bucket = {}                             #用字典构建桶\n",
    "        for x in range(10):\n",
    "            bucket.setdefault(x, [])    #将每个桶置空\n",
    "        for x in mylist:                               #对每一位进行排序\n",
    "            radix =int((x / (10**i)) % 10)   #得到每位的基数\n",
    "            bucket[radix].append(x) #将对应的数组元素加入到相应位基数的桶中\n",
    "        j = 0\n",
    "        for k in range(10):\n",
    "            if len(bucket[k]) != 0:       #若桶不为空\n",
    "                for y in bucket[k]:         #将该桶中每个元素\n",
    "                    mylist[j] = y                       #放回到数组中\n",
    "                    j += 1\n",
    "        i += 1\n",
    " \n",
    "if __name__ == '__main__':\n",
    "    mylist = eval(input())\n",
    "    RadixSort(mylist)  + \n",
    "    print(mylist)\n"
   ]
  }
 ],
 "metadata": {
  "kernelspec": {
   "display_name": "base",
   "language": "python",
   "name": "python3"
  },
  "language_info": {
   "codemirror_mode": {
    "name": "ipython",
    "version": 3
   },
   "file_extension": ".py",
   "mimetype": "text/x-python",
   "name": "python",
   "nbconvert_exporter": "python",
   "pygments_lexer": "ipython3",
   "version": "3.12.7"
  },
  "orig_nbformat": 2
 },
 "nbformat": 4,
 "nbformat_minor": 2
}
